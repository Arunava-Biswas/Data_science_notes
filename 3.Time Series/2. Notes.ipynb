{
 "cells": [
  {
   "cell_type": "raw",
   "id": "823c1028",
   "metadata": {},
   "source": [
    "Superscript = $x^{2}$\n",
    "Subscript = $x_{2}$"
   ]
  },
  {
   "cell_type": "markdown",
   "id": "3c4e5f74",
   "metadata": {},
   "source": [
    "### Auto Regression\n",
    "\n",
    "- **Regression** used to predict continuous value of an item based on certain parameters.\n",
    "- **Auto** uses it's own past values to predict future values.\n",
    "  - $y_{t}$ = $C_{1}$$y_{t-1}$ + $C_{2}$\n",
    "  - This is **AR(I): 1st order Auto Regression** where **C** is constant.\n",
    "  - $y_{t}$ =  $C_{1}$ + $C_{2}$$y_{t-1}$ + $C_{3}$$y_{t-2}$\n",
    "  - This is **AR(II): 2nd order Auto Regression** where **C** is constant."
   ]
  },
  {
   "cell_type": "markdown",
   "id": "6cbf61d0",
   "metadata": {},
   "source": [
    "### ACF and PACF\n",
    "\n",
    "- **Correlation:** An indicator of relationship between two variables.\n",
    "- **Auto Correlation:** Relationship of a variable with it's previous time period values **(Lags)**\n",
    "- **Pearson's Correlation Coefficient:`[-1,1]`**  It is use to quantify the **Auto Correlation** where `1` means strong correlation and `-1` means negative correlation.\n",
    "- **Auto-Correlation Function(ACF):** Direct and Indirect effect of Values in Previous time Lags.\n",
    "- **Partial Auto-Correlation Function(PACF):** Only Direct effect of Values in Previous time Lags.\n",
    "\n",
    "- For **Auto Regression model** we use **Partial Auto-Correlation Function(PACF)** because we only want to check only whether the present value is directly correlated with a previous time value.\n",
    "- The sample plot of a **PACF** is like the following:\n",
    "\n",
    "<img src=\"images/pacf.png\" width=600>\n",
    "\n",
    "- Here on the **y** axis we have the **Correlation Coefficient** which varies from `-1` to `1`\n",
    "- On the **x** axis we have the values of the previous time period i.e. `1` means **(t-1)**, `2` means **(t-2)** and so on.\n",
    "- Here we can see the present value is highly correlated upto the time period **(t-2)** so we use the **2nd Order Auto Regression** formula. "
   ]
  },
  {
   "cell_type": "markdown",
   "id": "a2973410",
   "metadata": {},
   "source": [
    "### Moving Average\n",
    "\n",
    "- This model predict future values of a time series **using the past errors**.\n",
    "- In **Auto Regression** we used the previous value i.e. $y_{t-1}$ to get the current prediction i.e. $y_{t}$.\n",
    "- In **Moving Average** we use the error that we did in the last time period to make the prediction.\n",
    "- As the **Average** of the **Moving Average Graph** gets constantly changed, so to keep up we need to keep noticing the **errors** in the previous time period to make better predictions.\n",
    "- We can also use errors from previous two time periods or three time periods.\n",
    "- The Formula is:\n",
    "  - $y_{t}$ = $\\mu$ + $C_{1}$ $ϵ_{t-1}$ + $ϵ_{t}$ \n",
    "    - This is **Ma(1)** model. \n",
    "  - $y_{t}$ = $\\mu$ + $C_{1}$ $ϵ_{t-1}$ + $C_{2}$ $ϵ_{t-2}$ + $ϵ_{t}$ \n",
    "    - This is **Ma(2)** model.\n",
    "  - $y_{t}$ = $\\mu$ + $C_{1}$ $ϵ_{t-1}$ + $C_{q}$ $ϵ_{t-q}$ + $ϵ_{t}$ \n",
    "    - This is **Ma(q)** model.\n",
    "    - Where **μ** is the mean, and **ϵ** is the error and **q** is time periods back.\n",
    "    \n",
    "- To know which model to use we use the **Auto-Correlation Function**. "
   ]
  },
  {
   "cell_type": "markdown",
   "id": "9bcb7007",
   "metadata": {},
   "source": [
    "### ARMA (Auto Regression Moving Average) and ARIMA (Auto Regression Integrated Moving Average)\n",
    "\n",
    "- **ARMA** is a simple combination of **Auto Regression** and **Moving Average** models.\n",
    "- **Auto Regression** uses **past values** to make a prediction.\n",
    "  - $y_{t}$ = $β_{0}$ + $β_{1}$ $y_{t-1}$ + $ϵ_{t}$\n",
    "  - This is **AR(1)** model.\n",
    "- **Moving Average** uses **past errors** to make a prediction.\n",
    "  - $y_{t}$ = $β_{0}$ + $θ_{1}$ $ϵ_{t-1}$ + $ϵ_{t}$\n",
    "  - This is **MA(1)** model.\n",
    "- So formula of **ARMA** model will be:\n",
    "  - $y_{t}$ = $B_{0}$ + $B_{1}$ $y_{t-1}$ + $θ_{1}$ $ϵ_{t-1}$ + $ϵ_{t}$\n",
    "  - This is **ARMA(1,1)** model. It means we uses **Auto Regression first order** and **Moving Average first order**.\n",
    "  - We can also use different orders.\n",
    "- **ARIMA** is almost same as **ARMA** with only one difference where it just does one simple operation of converting Non stationary series to stationary series.\n",
    "- So here first it transform the non stationary time series to stationary time series using **differencing** technique.\n",
    "- In **ARIMA** the order is selected as **ARIMA(p,d,q)**\n",
    "  - Where\n",
    "    - **p** is the Order of the **AR** model.\n",
    "    - **d** is the Order of the **differencing** to get the stationary series. \n",
    "    - **q** is the order of the **MA** model."
   ]
  },
  {
   "cell_type": "code",
   "execution_count": null,
   "id": "54507b93",
   "metadata": {},
   "outputs": [],
   "source": []
  }
 ],
 "metadata": {
  "kernelspec": {
   "display_name": "Python 3 (ipykernel)",
   "language": "python",
   "name": "python3"
  },
  "language_info": {
   "codemirror_mode": {
    "name": "ipython",
    "version": 3
   },
   "file_extension": ".py",
   "mimetype": "text/x-python",
   "name": "python",
   "nbconvert_exporter": "python",
   "pygments_lexer": "ipython3",
   "version": "3.9.15"
  }
 },
 "nbformat": 4,
 "nbformat_minor": 5
}
