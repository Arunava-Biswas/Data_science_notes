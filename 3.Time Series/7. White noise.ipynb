{
 "cells": [
  {
   "cell_type": "markdown",
   "id": "2f8a2b33",
   "metadata": {},
   "source": [
    "### White Noise\n",
    "\n",
    "- White Noise has following 3 characteristics:\n",
    "  - **Constant Mean**\n",
    "  - **Constant Variance**\n",
    "  - **No AutoCorrelation**: The values of the time series at a particular period has no relation with the values of the past time period.\n",
    "- So there is no pattern in the `White Noise` data.\n",
    "- **Whenever we find a `time series` data is `White Noise` we need to abandon the project, as it is impossible to forecast future values for that series**.\n",
    "\n",
    "\n",
    "- **Checking `White Noise` using visual inspection:**\n",
    "\n",
    "<img src="images/wn1.png" width=600>\n",
    "\n",
    "- Here it is a `White Noise` as the `mean` is constantly around `0`, and the variations are of similar kind.\n",
    "- However there is no `Auto-correlations` that can be visually identified.\n",
    "- So we cannot say that if we know the particular value at a particular time period we can estimate the next value, as there is no pattern.\n",
    "\n",
    "<img src=\"images/wn2.png\" width=600>\n",
    "\n",
    "- It doesnot have a `Constant Mean`, so we can directly disqualify it.\n",
    "- However there is a clear `Auto-correlation` as we can see the repeating peaks.\n",
    "- So in this case we can make a prediction for the future if we know the particular value at a peak, we can successfully predict that in the next time period there will also be a rise.\n",
    "\n",
    "<img src=\"images/wn3.png\" width=600>\n",
    "\n",
    "- It does have some `Constant Mean` but there is clear `Auto-correlation`.\n",
    "- So in this case if we know the particular value at a particular time stamp we may can estimate what the values are going to be in the next time period, as there are some patterns.\n",
    "\n",
    "\n",
    "\n",
    "- **So to identify the `White Noise` we need to use the following methods:**\n",
    "  - Visual Inspection\n",
    "  - Global and Local checks\n",
    "  - Auto Correlation plots\n",
    "  - Statistical Tests"
   ]
  },
  {
   "cell_type": "code",
   "execution_count": null,
   "id": "3092465e",
   "metadata": {},
   "outputs": [],
   "source": []
  }
 ],
 "metadata": {
  "kernelspec": {
   "display_name": "Python 3 (ipykernel)",
   "language": "python",
   "name": "python3"
  },
  "language_info": {
   "codemirror_mode": {
    "name": "ipython",
    "version": 3
   },
   "file_extension": ".py",
   "mimetype": "text/x-python",
   "name": "python",
   "nbconvert_exporter": "python",
   "pygments_lexer": "ipython3",
   "version": "3.9.15"
  }
 },
 "nbformat": 4,
 "nbformat_minor": 5
}
