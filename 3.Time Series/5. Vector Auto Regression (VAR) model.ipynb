{
 "cells": [
  {
   "cell_type": "markdown",
   "id": "63c581a3",
   "metadata": {},
   "source": [
    "### Vector Auto Regression (VAR)\n",
    "\n",
    "- It is a slight modification of the **Auto Regression** model.\n",
    "- **VAR** calculates future values of a variable based on the previous time lags\n",
    "- Suppose we want to predict car price today based on the car price day before yesterday:\n",
    "  - $Car Price_{Today}$ = Some Constant * $Car Price_{Yesterday}$ + Some Constant * $Car Price_{Day before Yesterday}$ + Some Error\n",
    "  - i.e.\n",
    "  - $y_{t}$ = $C_{1}$$y_{t-1}$ + $C_{2}$$y_{t-2}$ + $ϵ_{t}$\n",
    "  - This is the **AR(2)** model\n",
    " \n",
    " \n",
    "- **What VAR model does:** It calculates future values of a variable based on it's previous time lags and the previous lags of some other dependent variable."
   ]
  },
  {
   "cell_type": "markdown",
   "id": "1b6e3aee",
   "metadata": {},
   "source": [
    "#### `VAR` uses a related variable\n",
    "\n",
    "- As Public transport cost increases, demand for car also increases results in car price increase.\n",
    "- As Public transport cost decreases, demand for car also decreases results in car price decrease.\n",
    "- Let's say Public transport Price: `X`\n",
    "- **VAR(I)** Model:\n",
    "  - $y_{t}$ = $C_{11}$$y_{t-1}$ + $C_{12}$$X_{t-1}$ + $ϵ_{t_{1}}$\n",
    "  - $X_{t}$ = $C_{21}$$X_{t-1}$ + $C_{21}$$y_{t-1}$ + $ϵ_{t_{2}}$\n",
    "- Here instead of using the value of the previous time period we are also including the value of the other variable's previous time period.\n",
    "\n",
    "<img src=\"images/VAR.png\" width=800>"
   ]
  },
  {
   "cell_type": "markdown",
   "id": "832c658c",
   "metadata": {},
   "source": [
    "### Matrix Representation\n",
    "\n",
    "- This is same as Matrix multiplication\n",
    "\n",
    "<img src=\"images/mat.png\" width=800>\n",
    "\n"
   ]
  },
  {
   "cell_type": "code",
   "execution_count": null,
   "id": "efe3ead5",
   "metadata": {},
   "outputs": [],
   "source": []
  }
 ],
 "metadata": {
  "kernelspec": {
   "display_name": "Python 3 (ipykernel)",
   "language": "python",
   "name": "python3"
  },
  "language_info": {
   "codemirror_mode": {
    "name": "ipython",
    "version": 3
   },
   "file_extension": ".py",
   "mimetype": "text/x-python",
   "name": "python",
   "nbconvert_exporter": "python",
   "pygments_lexer": "ipython3",
   "version": "3.9.15"
  }
 },
 "nbformat": 4,
 "nbformat_minor": 5
}
