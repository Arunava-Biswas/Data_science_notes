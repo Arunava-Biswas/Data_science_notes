{
 "cells": [
  {
   "cell_type": "markdown",
   "metadata": {
    "id": "Xk9kpQFIwb4q"
   },
   "source": [
    "### Namespaces\n",
    "\n",
    "A namespace is a space that holds names(identifiers).Programmatically speaking, namespaces are dictionary of identifiers(keys) and their objects(values)\n",
    "\n",
    "There are 4 types of namespaces:\n",
    "- Builtin Namespace\n",
    "- Global Namespace\n",
    "- Enclosing Namespace\n",
    "- Local Namespace"
   ]
  },
  {
   "cell_type": "markdown",
   "metadata": {
    "id": "gwHLayLAz07u"
   },
   "source": [
    "### Scope and LEGB Rule\n",
    "\n",
    "- A scope is a textual region of a Python program where a namespace is directly accessible.\n",
    "- **LEGB** stands for **Local**, **Enclosing**, **Global**, and **Built-in** scopes.\n",
    "- The direction of search in scopes during program execution is:\n",
    "> **Local** ==> **Enclosing** ==> **Global** ==> **Built-in**\n",
    "- The interpreter searches for a name from the inside out, looking in the local, enclosing, global, and finally the built-in scope. If the interpreter doesn’t find the name in any of these locations, then Python raises a NameError exception."
   ]
  },
  {
   "cell_type": "code",
   "execution_count": 1,
   "metadata": {
    "colab": {
     "base_uri": "https://localhost:8080/"
    },
    "id": "je-pFfh12wH_",
    "outputId": "07ad3dca-cf87-4bf1-ce0a-5ec58cb17390"
   },
   "outputs": [
    {
     "name": "stdout",
     "output_type": "stream",
     "text": [
      "The local scope value inside the function:  3\n",
      "The global scope value inside the function:  2\n",
      "The global scope value outside the function:  2\n"
     ]
    }
   ],
   "source": [
    "# local and global\n",
    "# global var\n",
    "a = 2\n",
    "\n",
    "def temp():\n",
    "  # local var\n",
    "    b = 3\n",
    "    print(\"The local scope value inside the function: \", b)\n",
    "    print(\"The global scope value inside the function: \", a)\n",
    "\n",
    "temp()\n",
    "print(\"The global scope value outside the function: \", a)"
   ]
  },
  {
   "cell_type": "code",
   "execution_count": 2,
   "metadata": {
    "id": "j8yQ5lUr2yCq"
   },
   "outputs": [
    {
     "name": "stdout",
     "output_type": "stream",
     "text": [
      "The value inside the function:  3\n",
      "The value outside the function:  2\n"
     ]
    }
   ],
   "source": [
    "# local and global -> same name\n",
    "a = 2\n",
    "\n",
    "def temp():\n",
    "  # local var\n",
    "    a = 3\n",
    "    print(\"The value inside the function: \", a)\n",
    "\n",
    "temp()\n",
    "print(\"The value outside the function: \", a)"
   ]
  },
  {
   "cell_type": "code",
   "execution_count": 3,
   "metadata": {
    "colab": {
     "base_uri": "https://localhost:8080/"
    },
    "id": "KGxD7YQS3We_",
    "outputId": "8e329d2f-7a9b-4516-d43e-02d293e882b9"
   },
   "outputs": [
    {
     "name": "stdout",
     "output_type": "stream",
     "text": [
      "The value of global variable inside the function is:  2\n",
      "The value of global variable outside the function is:  2\n"
     ]
    }
   ],
   "source": [
    "# local and global -> local does not have but global has\n",
    "a = 2\n",
    "\n",
    "def temp(): \n",
    "  # local var\n",
    "    print(\"The value of global variable inside the function is: \", a)\n",
    "\n",
    "temp()\n",
    "print(\"The value of global variable outside the function is: \", a)"
   ]
  },
  {
   "cell_type": "code",
   "execution_count": 5,
   "metadata": {
    "colab": {
     "base_uri": "https://localhost:8080/",
     "height": 348
    },
    "id": "ey9-FHzM21P_",
    "outputId": "fee2d260-f6e5-4db1-f7d7-52c829a41e4a"
   },
   "outputs": [
    {
     "name": "stdout",
     "output_type": "stream",
     "text": [
      "The error type is: 'UnboundLocalError' and the error is: (\"local variable 'a' referenced before assignment\",).\n",
      "The value of a outside the function is:  2\n"
     ]
    }
   ],
   "source": [
    "# local and global -> editing global\n",
    "a = 2\n",
    "\n",
    "def temp():\n",
    "  # local var\n",
    "    a += 1\n",
    "    print(\"The value of a inside the function is: \", a)\n",
    "\n",
    "try:\n",
    "    temp()\n",
    "except Exception as err:\n",
    "    print(f\"The error type is: '{type(err).__name__}' and the error is: {err.args}.\")\n",
    "    \n",
    "try:\n",
    "    print(\"The value of a outside the function is: \", a)\n",
    "except Exception as err:\n",
    "    print(f\"The error type is: '{type(err).__name__}' and the error is: {err.args}.\")"
   ]
  },
  {
   "cell_type": "markdown",
   "metadata": {},
   "source": [
    "**Notes:**\n",
    "\n",
    "- So we can access(read) the values of Global variable inside local scope but we cannot make changes in them.\n",
    "- To make the changes in global variable's value inside a local scope we need to use the **global** keyword inside the local scope. But it is not a good practice, as there may be more functions in the main program which are dependent on the value of the global variable, so if we make changes in it may impact all the other functions as well."
   ]
  },
  {
   "cell_type": "code",
   "execution_count": 6,
   "metadata": {
    "colab": {
     "base_uri": "https://localhost:8080/"
    },
    "id": "F1FtV8ZLBNvy",
    "outputId": "4dd8a6e7-8cda-4652-c34c-f1b3b3b99f3b"
   },
   "outputs": [
    {
     "name": "stdout",
     "output_type": "stream",
     "text": [
      "The value of a inside the function is:  3\n",
      "The value of a outside the function is:  3\n"
     ]
    }
   ],
   "source": [
    "# using \"global\" keyword\n",
    "\n",
    "a = 2\n",
    "\n",
    "def temp():\n",
    "  # local var\n",
    "    global a\n",
    "    a += 1\n",
    "    print(\"The value of a inside the function is: \", a)\n",
    "\n",
    "try:\n",
    "    temp()\n",
    "except Exception as err:\n",
    "    print(f\"The error type is: '{type(err).__name__}' and the error is: {err.args}.\")\n",
    "    \n",
    "try:\n",
    "    print(\"The value of a outside the function is: \", a)\n",
    "except Exception as err:\n",
    "    print(f\"The error type is: '{type(err).__name__}' and the error is: {err.args}.\")"
   ]
  },
  {
   "cell_type": "code",
   "execution_count": 7,
   "metadata": {
    "id": "yDkgBLQu3JIw"
   },
   "outputs": [
    {
     "name": "stdout",
     "output_type": "stream",
     "text": [
      "The value of a inside the function is:  1\n",
      "The value of a outside the function is:  1\n"
     ]
    }
   ],
   "source": [
    "# local and global -> global created inside local\n",
    "\n",
    "def temp():\n",
    "  # local var\n",
    "    global a\n",
    "    a = 1\n",
    "    print(\"The value of a inside the function is: \", a)\n",
    "\n",
    "try:\n",
    "    temp()\n",
    "except Exception as err:\n",
    "    print(f\"The error type is: '{type(err).__name__}' and the error is: {err.args}.\")\n",
    "    \n",
    "try:\n",
    "    print(\"The value of a outside the function is: \", a)\n",
    "except Exception as err:\n",
    "    print(f\"The error type is: '{type(err).__name__}' and the error is: {err.args}.\")"
   ]
  },
  {
   "cell_type": "markdown",
   "metadata": {},
   "source": [
    "**Notes:**\n",
    "\n",
    "- Here the variable will be a variable with **global** scope.\n",
    "- So it is possible to add variables from **Local** namespace to **Global** namespace. Also it is not a good practice."
   ]
  },
  {
   "cell_type": "code",
   "execution_count": 8,
   "metadata": {
    "colab": {
     "base_uri": "https://localhost:8080/",
     "height": 241
    },
    "id": "gWLr0xi024Or",
    "outputId": "744dd057-68f4-46f1-8f44-522eb5cf3521"
   },
   "outputs": [
    {
     "name": "stdout",
     "output_type": "stream",
     "text": [
      "The value of z inside the function is:  5\n",
      "The value of a outside the function is:  5\n",
      "The error type is: 'NameError' and the error is: (\"name 'z' is not defined\",).\n"
     ]
    }
   ],
   "source": [
    "# local and global -> function parameter is local\n",
    "def temp(z):\n",
    "  # local var\n",
    "    print(\"The value of z inside the function is: \", z)\n",
    "\n",
    "a = 5\n",
    "\n",
    "try:\n",
    "    temp(5)\n",
    "except Exception as err:\n",
    "    print(f\"The error type is: '{type(err).__name__}' and the error is: {err.args}.\")\n",
    "    \n",
    "try:    \n",
    "    print(\"The value of a outside the function is: \", a)\n",
    "except Exception as err:\n",
    "    print(f\"The error type is: '{type(err).__name__}' and the error is: {err.args}.\")\n",
    "    \n",
    "try:    \n",
    "    print(\"The value of z outside the function is: \", z)\n",
    "except Exception as err:\n",
    "    print(f\"The error type is: '{type(err).__name__}' and the error is: {err.args}.\")"
   ]
  },
  {
   "cell_type": "markdown",
   "metadata": {},
   "source": [
    "**Notes:**\n",
    "\n",
    "- The parameters of a function is always **Local** variables."
   ]
  },
  {
   "cell_type": "markdown",
   "metadata": {},
   "source": [
    "### Built-in scopes:\n",
    "\n",
    "- There are certain functions like `print()` directly, this is an example of a `built in scope`.\n",
    "- This scope is already there with the program and it is the most outer shell in `LEGB` rule.\n",
    "- So during execution if Python cannot find the value anywhere inside the program it will go into this scope."
   ]
  },
  {
   "cell_type": "code",
   "execution_count": 9,
   "metadata": {
    "colab": {
     "base_uri": "https://localhost:8080/"
    },
    "id": "P7wHSji-3q-r",
    "outputId": "ff2f6d15-70a6-4972-b789-37eeac7082b1"
   },
   "outputs": [
    {
     "name": "stdout",
     "output_type": "stream",
     "text": [
      "['ArithmeticError', 'AssertionError', 'AttributeError', 'BaseException', 'BlockingIOError', 'BrokenPipeError', 'BufferError', 'BytesWarning', 'ChildProcessError', 'ConnectionAbortedError', 'ConnectionError', 'ConnectionRefusedError', 'ConnectionResetError', 'DeprecationWarning', 'EOFError', 'Ellipsis', 'EnvironmentError', 'Exception', 'False', 'FileExistsError', 'FileNotFoundError', 'FloatingPointError', 'FutureWarning', 'GeneratorExit', 'IOError', 'ImportError', 'ImportWarning', 'IndentationError', 'IndexError', 'InterruptedError', 'IsADirectoryError', 'KeyError', 'KeyboardInterrupt', 'LookupError', 'MemoryError', 'ModuleNotFoundError', 'NameError', 'None', 'NotADirectoryError', 'NotImplemented', 'NotImplementedError', 'OSError', 'OverflowError', 'PendingDeprecationWarning', 'PermissionError', 'ProcessLookupError', 'RecursionError', 'ReferenceError', 'ResourceWarning', 'RuntimeError', 'RuntimeWarning', 'StopAsyncIteration', 'StopIteration', 'SyntaxError', 'SyntaxWarning', 'SystemError', 'SystemExit', 'TabError', 'TimeoutError', 'True', 'TypeError', 'UnboundLocalError', 'UnicodeDecodeError', 'UnicodeEncodeError', 'UnicodeError', 'UnicodeTranslateError', 'UnicodeWarning', 'UserWarning', 'ValueError', 'Warning', 'WindowsError', 'ZeroDivisionError', '__IPYTHON__', '__build_class__', '__debug__', '__doc__', '__import__', '__loader__', '__name__', '__package__', '__spec__', 'abs', 'all', 'any', 'ascii', 'bin', 'bool', 'breakpoint', 'bytearray', 'bytes', 'callable', 'chr', 'classmethod', 'compile', 'complex', 'copyright', 'credits', 'delattr', 'dict', 'dir', 'display', 'divmod', 'enumerate', 'eval', 'exec', 'execfile', 'filter', 'float', 'format', 'frozenset', 'get_ipython', 'getattr', 'globals', 'hasattr', 'hash', 'help', 'hex', 'id', 'input', 'int', 'isinstance', 'issubclass', 'iter', 'len', 'license', 'list', 'locals', 'map', 'max', 'memoryview', 'min', 'next', 'object', 'oct', 'open', 'ord', 'pow', 'print', 'property', 'range', 'repr', 'reversed', 'round', 'runfile', 'set', 'setattr', 'slice', 'sorted', 'staticmethod', 'str', 'sum', 'super', 'tuple', 'type', 'vars', 'zip']\n"
     ]
    }
   ],
   "source": [
    "# how to see all the built-in scope\n",
    "\n",
    "import builtins\n",
    "print(dir(builtins))"
   ]
  },
  {
   "cell_type": "code",
   "execution_count": 10,
   "metadata": {
    "colab": {
     "base_uri": "https://localhost:8080/",
     "height": 241
    },
    "id": "Qd3fM_Ha3ruR",
    "outputId": "fb8b79d9-8b3a-483f-b1aa-b642832c1edd"
   },
   "outputs": [
    {
     "name": "stdout",
     "output_type": "stream",
     "text": [
      "3\n",
      "The error type is: 'TypeError' and the error is: ('max() takes 0 positional arguments but 1 was given',).\n"
     ]
    }
   ],
   "source": [
    "# trying to renaming built-ins\n",
    "# Here we have replaced the built in \"max()\" with a global \"max()\" of our own\n",
    "# Now when the program find \"max()\" in Global mode it will not go to the Built ins\n",
    "# With the LEGB rules as Global comes before Buit ins.\n",
    "\n",
    "L = [1,2,3]\n",
    "print(max(L))\n",
    "\n",
    "def max():\n",
    "    print('hello')\n",
    "\n",
    "try:    \n",
    "    print(max(L))\n",
    "except Exception as err:\n",
    "    print(f\"The error type is: '{type(err).__name__}' and the error is: {err.args}.\")"
   ]
  },
  {
   "cell_type": "markdown",
   "metadata": {},
   "source": [
    "### Enclosing scope\n",
    "\n",
    "- This scope happens inside nested functions.\n",
    "- Here the most inner function will be in the **Local** scope, the main program in the **Global** scope and the outer function will be in the **Enclosing/Non Local** scope.\n",
    "- In Enclosing there can be any number of functions.\n",
    "- But always the inner most becomes the **Local** and the main program is the **Global** the rest is in **Enclosing**."
   ]
  },
  {
   "cell_type": "code",
   "execution_count": 11,
   "metadata": {
    "colab": {
     "base_uri": "https://localhost:8080/"
    },
    "id": "JORTYJik4LKH",
    "outputId": "1458570e-91b5-4533-d1be-2f89c4585c79"
   },
   "outputs": [
    {
     "name": "stdout",
     "output_type": "stream",
     "text": [
      "Inner function\n",
      "Outer function\n",
      "main program\n"
     ]
    }
   ],
   "source": [
    "# Enclosing scope\n",
    "\n",
    "def outer():\n",
    "    def inner():\n",
    "        print(\"Inner function\")\n",
    "    inner()\n",
    "    print('Outer function')\n",
    "\n",
    "\n",
    "outer()\n",
    "print('main program')"
   ]
  },
  {
   "cell_type": "code",
   "execution_count": 12,
   "metadata": {
    "colab": {
     "base_uri": "https://localhost:8080/"
    },
    "id": "mG6ONk3I4lFX",
    "outputId": "c989fa4d-0ffd-48bc-fedf-16afc53ca8fa"
   },
   "outputs": [
    {
     "name": "stdout",
     "output_type": "stream",
     "text": [
      "inner:  2\n",
      "outer:  2\n",
      "main program\n"
     ]
    }
   ],
   "source": [
    "# using the \"nonlocal\" keyword\n",
    "# We can change the value in Enclosing function from the local scope\n",
    "# To do this we need to use the keyword \"nonlocal\" in the local scope\n",
    "# This also is not a good practice\n",
    "\n",
    "\n",
    "def outer():\n",
    "    a = 1\n",
    "    def inner():\n",
    "        nonlocal a\n",
    "        a += 1\n",
    "        print('inner: ',a)\n",
    "    inner()\n",
    "    print('outer: ',a)\n",
    "\n",
    "\n",
    "outer()\n",
    "print('main program')"
   ]
  },
  {
   "cell_type": "markdown",
   "metadata": {
    "id": "zCRkJHrP5NMx"
   },
   "source": [
    "### Summary:\n",
    "\n",
    "- `namespace` is dictionary that have the variable name as key and variable values as values.\n",
    "- This `namespace` is inside `scope` which is of 4 types and follow the `LEGB` rules."
   ]
  },
  {
   "cell_type": "markdown",
   "metadata": {
    "id": "v2I4_MetLUYb"
   },
   "source": [
    "### Decorators\n",
    "\n",
    "A decorator in python is a function that receives another function as input and adds some functionality(decoration) to and returns it.\n",
    "\n",
    "This can happen only because python functions are 1st class citizens.\n",
    "\n",
    "There are 2 types of decorators available in python\n",
    "- `Built in decorators` like `@staticmethod`, `@classmethod`, `@abstractmethod` and `@property` etc\n",
    "- `User defined decorators` that we programmers can create according to our needs"
   ]
  },
  {
   "cell_type": "code",
   "execution_count": 13,
   "metadata": {
    "colab": {
     "base_uri": "https://localhost:8080/"
    },
    "id": "PLEnpaeHUvAk",
    "outputId": "86fe9ab7-3533-4ed2-cd65-f96e8941df74"
   },
   "outputs": [
    {
     "data": {
      "text/plain": [
       "4"
      ]
     },
     "execution_count": 13,
     "metadata": {},
     "output_type": "execute_result"
    }
   ],
   "source": [
    "# Python are 1st class function\n",
    "\n",
    "def modify(func, num):\n",
    "    return func(num)\n",
    "\n",
    "def square(num):\n",
    "    return num**2\n",
    "\n",
    "modify(square,2)"
   ]
  },
  {
   "cell_type": "code",
   "execution_count": 14,
   "metadata": {
    "colab": {
     "base_uri": "https://localhost:8080/"
    },
    "id": "fsyP9F9z5OSe",
    "outputId": "ec17ff47-2eaa-46e4-a6c7-0eb131ff488c"
   },
   "outputs": [
    {
     "name": "stdout",
     "output_type": "stream",
     "text": [
      "***********************\n",
      "hello\n",
      "***********************\n",
      "***********************\n",
      "hello nitish\n",
      "***********************\n"
     ]
    }
   ],
   "source": [
    "# simple example\n",
    "# Here we will create a decorator function which will take another function as input\n",
    "# Inside that function we are creating the design we want\n",
    "\n",
    "def my_decorator(func):\n",
    "    def wrapper():\n",
    "        print('***********************')\n",
    "        func()\n",
    "        print('***********************')\n",
    "    return wrapper\n",
    "\n",
    "def hello():\n",
    "    print('hello')\n",
    "\n",
    "def display():\n",
    "    print('hello nitish')\n",
    "\n",
    "a = my_decorator(hello)\n",
    "a()\n",
    "\n",
    "b = my_decorator(display)\n",
    "b()"
   ]
  },
  {
   "cell_type": "code",
   "execution_count": null,
   "metadata": {
    "id": "3wh7a0paP4wv"
   },
   "outputs": [],
   "source": [
    "# more functions"
   ]
  },
  {
   "cell_type": "code",
   "execution_count": null,
   "metadata": {
    "id": "3rwgdym6UyV2"
   },
   "outputs": [],
   "source": [
    "# how this works -> closure?"
   ]
  },
  {
   "cell_type": "code",
   "execution_count": null,
   "metadata": {
    "id": "2JD6mQ7TNqRR"
   },
   "outputs": [],
   "source": [
    "# python tutor"
   ]
  },
  {
   "cell_type": "code",
   "execution_count": 15,
   "metadata": {
    "colab": {
     "base_uri": "https://localhost:8080/"
    },
    "id": "6xenz10AVfTp",
    "outputId": "cb2e3d25-d951-49d5-ae36-62fff01bae68"
   },
   "outputs": [
    {
     "name": "stdout",
     "output_type": "stream",
     "text": [
      "***********************\n",
      "hello\n",
      "***********************\n"
     ]
    }
   ],
   "source": [
    "# Better syntax?\n",
    "# simple example\n",
    "\n",
    "def my_decorator(func):\n",
    "    def wrapper():\n",
    "        print('***********************')\n",
    "        func()\n",
    "        print('***********************')\n",
    "    return wrapper\n",
    "\n",
    "@my_decorator\n",
    "def hello():\n",
    "  print('hello')\n",
    "\n",
    "hello()"
   ]
  },
  {
   "cell_type": "code",
   "execution_count": 16,
   "metadata": {
    "colab": {
     "base_uri": "https://localhost:8080/"
    },
    "id": "JGXuT9XSP3ue",
    "outputId": "0d9ce629-0d1e-4198-b9b4-95e21486adc8"
   },
   "outputs": [
    {
     "name": "stdout",
     "output_type": "stream",
     "text": [
      "hello wolrd\n",
      "time taken by hello 2.0004563331604004 secs\n",
      "4\n",
      "time taken by square 1.000990629196167 secs\n",
      "8\n",
      "time taken by power 0.0 secs\n"
     ]
    }
   ],
   "source": [
    "# anything meaningful?\n",
    "import time\n",
    "\n",
    "def timer(func):\n",
    "    def wrapper(*args):\n",
    "        start = time.time()\n",
    "        func(*args)\n",
    "        print('time taken by',func.__name__,time.time()-start,'secs')\n",
    "    return wrapper\n",
    "\n",
    "@timer\n",
    "def hello():\n",
    "    print('hello wolrd')\n",
    "    time.sleep(2)\n",
    "\n",
    "@timer\n",
    "def square(num):\n",
    "    time.sleep(1)\n",
    "    print(num**2)\n",
    "\n",
    "@timer\n",
    "def power(a,b):\n",
    "    print(a**b)\n",
    "\n",
    "hello()\n",
    "square(2)\n",
    "power(2,3)\n"
   ]
  },
  {
   "cell_type": "code",
   "execution_count": 19,
   "metadata": {
    "id": "tF12z0_-VG8y"
   },
   "outputs": [
    {
     "name": "stdout",
     "output_type": "stream",
     "text": [
      "4\n",
      "The error type is: 'TypeError' and the error is: (\"unsupported operand type(s) for ** or pow(): 'str' and 'int'\",).\n"
     ]
    }
   ],
   "source": [
    "# A big problem\n",
    "# Here we try to create another decorator which will check \n",
    "# that the input we have inside a function whether their datatype is correct or not\n",
    "\n",
    "def square(num):\n",
    "    print(num**2)\n",
    "    \n",
    "try:    \n",
    "    square(2)\n",
    "except Exception as err:\n",
    "    print(f\"The error type is: '{type(err).__name__}' and the error is: {err.args}.\")\n",
    "    \n",
    "# But if we pass a string\n",
    "try:    \n",
    "    square(\"Hello\")\n",
    "except Exception as err:\n",
    "    print(f\"The error type is: '{type(err).__name__}' and the error is: {err.args}.\")"
   ]
  },
  {
   "cell_type": "code",
   "execution_count": 20,
   "metadata": {},
   "outputs": [
    {
     "ename": "NameError",
     "evalue": "name 'checkdt' is not defined",
     "output_type": "error",
     "traceback": [
      "\u001b[1;31m---------------------------------------------------------------------------\u001b[0m",
      "\u001b[1;31mNameError\u001b[0m                                 Traceback (most recent call last)",
      "Cell \u001b[1;32mIn[20], line 3\u001b[0m\n\u001b[0;32m      1\u001b[0m \u001b[38;5;66;03m# So now we need to create a decorator which will take a datatype along with the function as input\u001b[39;00m\n\u001b[1;32m----> 3\u001b[0m \u001b[38;5;129m@checkdt\u001b[39m(\u001b[38;5;28mint\u001b[39m)\n\u001b[0;32m      4\u001b[0m \u001b[38;5;28;01mdef\u001b[39;00m \u001b[38;5;21msquare\u001b[39m(num):\n\u001b[0;32m      5\u001b[0m     \u001b[38;5;28mprint\u001b[39m(num\u001b[38;5;241m*\u001b[39m\u001b[38;5;241m*\u001b[39m\u001b[38;5;241m2\u001b[39m)\n",
      "\u001b[1;31mNameError\u001b[0m: name 'checkdt' is not defined"
     ]
    }
   ],
   "source": [
    "# So now we need to create a decorator which will take a datatype along with the function as input\n",
    "\n",
    "@checkdt(int)\n",
    "def square(num):\n",
    "    print(num**2)"
   ]
  },
  {
   "cell_type": "code",
   "execution_count": 27,
   "metadata": {
    "id": "WDb2Cn_PQAA9"
   },
   "outputs": [
    {
     "name": "stdout",
     "output_type": "stream",
     "text": [
      "4\n",
      "The error type is: 'TypeError' and the error is: ('This is not the correct datatype.',).\n",
      "Hello  Arunava\n"
     ]
    }
   ],
   "source": [
    "# One last example -> decorators with arguments\n",
    "# Here \"sanity_check\" will have a datatype as input\n",
    "# Inside it there is a \"outer_wrapper\" function which will take the function as input\n",
    "# Also inside it there is a \"inner_wrapper\" function which will take *args as input\n",
    "# Inside it we create the if else condition\n",
    "# If the condition matches we call the function\n",
    "# And then we return the inner_wrapper and the outer_wrapper as result\n",
    "\n",
    "# This is the decorator\n",
    "def sanity_check(data_type):\n",
    "    def outer_wrapper(func):\n",
    "        def inner_wrapper(*args):\n",
    "            if type(*args) == data_type:\n",
    "                func(*args)\n",
    "            else:\n",
    "                raise TypeError(\"This is not the correct datatype.\")\n",
    "        return inner_wrapper\n",
    "    return outer_wrapper\n",
    "\n",
    "                \n",
    "# Now calling the decorator using the function\n",
    "# Here we are checking for integer\n",
    "@sanity_check(int)\n",
    "def square(num):\n",
    "    print(num**2)\n",
    "    \n",
    "# Now again calling the decorator using a string type\n",
    "@sanity_check(str)\n",
    "def greet(name):\n",
    "    print(\"Hello \", name)\n",
    "    \n",
    "# Now calling the main function square() using integer data type\n",
    "try:    \n",
    "    square(2)\n",
    "except Exception as err:\n",
    "    print(f\"The error type is: '{type(err).__name__}' and the error is: {err.args}.\")\n",
    "    \n",
    "# Now calling the main function square() using string data type\n",
    "try:    \n",
    "    square(\"Hello\")\n",
    "except Exception as err:\n",
    "    print(f\"The error type is: '{type(err).__name__}' and the error is: {err.args}.\")\n",
    "    \n",
    "# Now calling the main function greet() using string data type\n",
    "try:    \n",
    "    greet(\"Arunava\")\n",
    "except Exception as err:\n",
    "    print(f\"The error type is: '{type(err).__name__}' and the error is: {err.args}.\")"
   ]
  },
  {
   "cell_type": "markdown",
   "metadata": {
    "id": "Xn-HNkj0TXcx"
   },
   "source": [
    "### Cool ways of using decorators:\n",
    "\n",
    "- link 1: https://towardsdatascience.com/10-fabulous-python-decorators-ab674a732871\n",
    "- link 2: https://github.com/lord63/awesome-python-decorator"
   ]
  },
  {
   "cell_type": "code",
   "execution_count": null,
   "metadata": {
    "id": "FB3Uky2BStKg"
   },
   "outputs": [],
   "source": []
  }
 ],
 "metadata": {
  "colab": {
   "provenance": []
  },
  "kernelspec": {
   "display_name": "Python 3 (ipykernel)",
   "language": "python",
   "name": "python3"
  },
  "language_info": {
   "codemirror_mode": {
    "name": "ipython",
    "version": 3
   },
   "file_extension": ".py",
   "mimetype": "text/x-python",
   "name": "python",
   "nbconvert_exporter": "python",
   "pygments_lexer": "ipython3",
   "version": "3.9.15"
  }
 },
 "nbformat": 4,
 "nbformat_minor": 1
}
