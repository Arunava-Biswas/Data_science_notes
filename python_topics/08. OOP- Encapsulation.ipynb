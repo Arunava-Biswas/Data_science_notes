{
 "cells": [
  {
   "cell_type": "markdown",
   "metadata": {
    "id": "JUmWTebLbjwN"
   },
   "source": [
    "### **Write OOP classes to handle the following scenarios:**\n",
    "\n",
    "- A user can create and view 2D coordinates\n",
    "- A user can find out the distance between 2 coordinates\n",
    "- A user can find find the distance of a coordinate from origin\n",
    "- A user can check if a point lies on a given line\n",
    "- A user can find the distance between a given 2D point and a given line\n",
    "\n",
    "**Home Task**\n",
    "- Create another method in the line class which will tell whether two given line objects intersect or not"
   ]
  },
  {
   "cell_type": "code",
   "execution_count": 8,
   "metadata": {
    "id": "5CqFUEcAQtl6"
   },
   "outputs": [],
   "source": [
    "# Creating the point class\n",
    "class Point:\n",
    "  def __init__(self, x, y):\n",
    "    self.x_cod = x\n",
    "    self.y_cod = y\n",
    "\n",
    "  def __str__(self):\n",
    "    return 'The coordinates of the 2D point is: <{}, {}>'.format(self.x_cod, self.y_cod)\n",
    "\n",
    "  # Here \"self\" will be (x1,y1) and \"other\" will be (x2,y2)\n",
    "  def euclidean_distance(self, other):\n",
    "    return ((self.x_cod - other.x_cod)**2 + (self.y_cod - other.y_cod)**2)**0.5\n",
    "\n",
    "  def distance_from_origin(self):\n",
    "    return self.euclidean_distance(Point(0,0))\n",
    "    # or we can return the following also\n",
    "    # return (self.x_cod**2 + self.y_cod**2)**0.5\n",
    "\n",
    "\n",
    "# Creating the line class\n",
    "class Line:\n",
    "  def __init__(self, A, B, C):\n",
    "    self.A = A\n",
    "    self.B = B\n",
    "    self.C = C\n",
    "\n",
    "  def __str__(self):\n",
    "    return 'The equation of the line is: {}x + {}y + {} = 0'.format(self.A, self.B, self.C)\n",
    "\n",
    "  def point_on_line(line, point):\n",
    "    if line.A*point.x_cod + line.B*point.y_cod + line.C == 0:\n",
    "      return \"The point lies on the line\"\n",
    "    else:\n",
    "      return \"The point does not lie on the line\"\n",
    "\n",
    "  def shortest_distance(line, point):\n",
    "    return abs(line.A*point.x_cod + line.B*point.y_cod + line.C)/(line.A**2 + line.B**2)**0.5"
   ]
  },
  {
   "cell_type": "code",
   "execution_count": 3,
   "metadata": {
    "colab": {
     "base_uri": "https://localhost:8080/"
    },
    "id": "6BWzEEeyRAKj",
    "outputId": "e8a3a78c-d140-485f-c5dc-77e0d71f2f54"
   },
   "outputs": [
    {
     "name": "stdout",
     "output_type": "stream",
     "text": [
      "The coordinates of the 2D point is: <0, 0>\n"
     ]
    }
   ],
   "source": [
    "p1 = Point(0,0)\n",
    "print(p1)"
   ]
  },
  {
   "cell_type": "code",
   "execution_count": 5,
   "metadata": {
    "colab": {
     "base_uri": "https://localhost:8080/"
    },
    "id": "FddLV8FZRt8f",
    "outputId": "5fc1745c-03df-4054-dd55-60e616439303"
   },
   "outputs": [
    {
     "name": "stdout",
     "output_type": "stream",
     "text": [
      "The coordinates of the 2D point is: <3, 2>\n"
     ]
    }
   ],
   "source": [
    "p2 = Point(3,2)\n",
    "print(p2)"
   ]
  },
  {
   "cell_type": "code",
   "execution_count": 6,
   "metadata": {
    "colab": {
     "base_uri": "https://localhost:8080/"
    },
    "id": "8u1sKDSdR2tc",
    "outputId": "d52e07a0-3c2d-469a-98d6-ad5e0c120cf3"
   },
   "outputs": [
    {
     "name": "stdout",
     "output_type": "stream",
     "text": [
      "The distance between point p1 and p2 is:  3.605551275463989\n"
     ]
    }
   ],
   "source": [
    "# Distance between p1 and p2\n",
    "\n",
    "dis = p1.euclidean_distance(p2)\n",
    "print(\"The distance between point p1 and p2 is: \", dis)"
   ]
  },
  {
   "cell_type": "code",
   "execution_count": 7,
   "metadata": {
    "colab": {
     "base_uri": "https://localhost:8080/"
    },
    "id": "d_F0F2dFSJid",
    "outputId": "53e30d85-4259-4c56-c761-59dd387e4c82"
   },
   "outputs": [
    {
     "name": "stdout",
     "output_type": "stream",
     "text": [
      "The distance between point p1 and origin is:  0.0\n",
      "The distance between point p2 and origin is:  3.605551275463989\n"
     ]
    }
   ],
   "source": [
    "# Distance from the origin\n",
    "\n",
    "origin_1 = p1.distance_from_origin()\n",
    "print(\"The distance between point p1 and origin is: \", origin_1)\n",
    "origin_2 = p2.distance_from_origin()\n",
    "print(\"The distance between point p2 and origin is: \", origin_2)"
   ]
  },
  {
   "cell_type": "code",
   "execution_count": 9,
   "metadata": {
    "colab": {
     "base_uri": "https://localhost:8080/"
    },
    "id": "gHFEmxKhSnlf",
    "outputId": "064e1393-07d0-4340-f605-62f583aa7853"
   },
   "outputs": [
    {
     "name": "stdout",
     "output_type": "stream",
     "text": [
      "The equation of the line is: 1x + 1y + -2 = 0\n",
      "The coordinates of the 2D point is: <1, 10>\n"
     ]
    }
   ],
   "source": [
    "# Creating the line and the point\n",
    "\n",
    "l1 = Line(1,1,-2)\n",
    "p3 = Point(1,10)\n",
    "print(l1)\n",
    "print(p3)"
   ]
  },
  {
   "cell_type": "code",
   "execution_count": 10,
   "metadata": {
    "colab": {
     "base_uri": "https://localhost:8080/",
     "height": 35
    },
    "id": "yID9RqBDS4Cy",
    "outputId": "9ca917e6-a1a0-425c-acc3-f89b05a1b7c6"
   },
   "outputs": [
    {
     "data": {
      "application/vnd.google.colaboratory.intrinsic+json": {
       "type": "string"
      },
      "text/plain": [
       "'The point does not lie on the line'"
      ]
     },
     "execution_count": 10,
     "metadata": {},
     "output_type": "execute_result"
    }
   ],
   "source": [
    "# Now checking if the point p3 lies on the line l1\n",
    "\n",
    "l1.point_on_line(p3)"
   ]
  },
  {
   "cell_type": "code",
   "execution_count": 12,
   "metadata": {
    "colab": {
     "base_uri": "https://localhost:8080/"
    },
    "id": "6X7p7OhpS4RF",
    "outputId": "1081f3b0-c7bd-4112-8ec0-86e88959307e"
   },
   "outputs": [
    {
     "name": "stdout",
     "output_type": "stream",
     "text": [
      "The distance between point p3 and the line is:  6.363961030678928\n"
     ]
    }
   ],
   "source": [
    "#  finding the distance between a given 2D point p3 and a given line l1\n",
    "\n",
    "dis_2 = l1.shortest_distance(p3)\n",
    "print(\"The distance between point p3 and the line is: \", dis_2)"
   ]
  },
  {
   "cell_type": "markdown",
   "metadata": {
    "id": "s6n-PpwgfiMv"
   },
   "source": [
    "### **How objects access attributes**"
   ]
  },
  {
   "cell_type": "code",
   "execution_count": 13,
   "metadata": {
    "id": "XUwz5NX3fl3p"
   },
   "outputs": [],
   "source": [
    "# Creating a class and then calling it's attributes\n",
    "\n",
    "class Person:\n",
    "  def __init__(self, name_input, country_input):\n",
    "    self.name = name_input\n",
    "    self.country = country_input\n",
    "\n",
    "  def greet(self):\n",
    "    if self.country == 'india':\n",
    "      print('Namaste',self.name)\n",
    "    else:\n",
    "      print('Hello',self.name)\n"
   ]
  },
  {
   "cell_type": "code",
   "execution_count": 15,
   "metadata": {
    "colab": {
     "base_uri": "https://localhost:8080/"
    },
    "id": "cqKOmZrjS4Wp",
    "outputId": "0b19a7dd-3198-4754-acb5-d75b018445a4"
   },
   "outputs": [
    {
     "name": "stdout",
     "output_type": "stream",
     "text": [
      "Namaste Arunava\n",
      "Hello Rocky\n"
     ]
    }
   ],
   "source": [
    "# how to access attributes\n",
    "p1 = Person('Arunava','india')\n",
    "p2 = Person(\"Rocky\", \"USA\")\n",
    "\n",
    "# accessing the greet method of the Person class\n",
    "p1.greet()\n",
    "p2.greet()"
   ]
  },
  {
   "cell_type": "code",
   "execution_count": 16,
   "metadata": {
    "colab": {
     "base_uri": "https://localhost:8080/"
    },
    "id": "Ap6tbo5XS4ar",
    "outputId": "f01a5972-bc45-43b7-ad30-8419854573de"
   },
   "outputs": [
    {
     "name": "stdout",
     "output_type": "stream",
     "text": [
      "Error is:  'Person' object has no attribute 'gender'\n"
     ]
    }
   ],
   "source": [
    "# what if i try to access non-existent attributes\n",
    "\n",
    "try:\n",
    "  p1.gender\n",
    "except Exception as err:\n",
    "  print(\"Error is: \", err)"
   ]
  },
  {
   "cell_type": "markdown",
   "metadata": {
    "id": "gFxMl3Gpfmq-"
   },
   "source": [
    "### **Attribute creation from outside of the class**\n",
    "\n",
    "\n",
    "- Using the object of the class we can create attributes from outside the class."
   ]
  },
  {
   "cell_type": "code",
   "execution_count": 17,
   "metadata": {
    "colab": {
     "base_uri": "https://localhost:8080/"
    },
    "id": "BtD26Xy0S4fY",
    "outputId": "1e01cea1-25c4-4cdf-b3cd-3c018082a5dc"
   },
   "outputs": [
    {
     "name": "stdout",
     "output_type": "stream",
     "text": [
      "male\n"
     ]
    }
   ],
   "source": [
    "# creating a new attribute for the object of the Person class\n",
    "p1.gender = 'male'\n",
    "\n",
    "# Now calling this attribute\n",
    "print(p1.gender)"
   ]
  },
  {
   "cell_type": "markdown",
   "metadata": {
    "id": "s26UEjp6fqjn"
   },
   "source": [
    "### **Reference Variables**\n",
    "\n",
    "- Reference variables hold the objects, means it stores the address of the objects.\n",
    "- We can create objects without reference variable as well. But if we create an object without providing it to a variable then it will get lost in the memory and we cannot use it in future.\n",
    "- An object can have multiple reference variables.\n",
    "- Assigning a new reference variable to an existing object does not create a new object. As here the new reference will point to the same address of the old reference."
   ]
  },
  {
   "cell_type": "code",
   "execution_count": 21,
   "metadata": {
    "id": "xuW8Vp_5S4jk"
   },
   "outputs": [],
   "source": [
    "# Creating object without a reference\n",
    "class Person:\n",
    "  def __init__(self):\n",
    "    self.name = 'nitish'\n",
    "    self.gender = 'male'\n",
    "\n",
    "p = Person()\n",
    "# Here both q and p referencing to the same address\n",
    "q = p"
   ]
  },
  {
   "cell_type": "markdown",
   "metadata": {
    "id": "uIrtJ6Dca6vS"
   },
   "source": [
    "**Notes:**\n",
    "\n",
    "- Here `p` is not the actual object of the `Person` class but a reference of the object created by calling the `Person` class.\n",
    "- So `p` is just a variable name (reference variable) that contains the memory address where the object is stored."
   ]
  },
  {
   "cell_type": "code",
   "execution_count": 22,
   "metadata": {
    "colab": {
     "base_uri": "https://localhost:8080/"
    },
    "id": "7naMROLVS4mU",
    "outputId": "5ac86b92-0ad8-4d26-a321-2e6bccde8c19"
   },
   "outputs": [
    {
     "name": "stdout",
     "output_type": "stream",
     "text": [
      "140334439471088\n",
      "140334439471088\n",
      "True\n"
     ]
    }
   ],
   "source": [
    "# Multiple ref\n",
    "# Here we can see that both the ids are pointing to the same memory location\n",
    "\n",
    "print(id(p))\n",
    "print(id(q))\n",
    "print(id(p) == id(q))"
   ]
  },
  {
   "cell_type": "code",
   "execution_count": 23,
   "metadata": {
    "colab": {
     "base_uri": "https://localhost:8080/"
    },
    "id": "qoSlRs_yS4qT",
    "outputId": "2e8b1fd8-942c-4f09-ecf4-9a461056c786"
   },
   "outputs": [
    {
     "name": "stdout",
     "output_type": "stream",
     "text": [
      "Before change:  nitish\n",
      "Before change:  nitish\n",
      "After change:  arunava\n",
      "After change:  arunava\n"
     ]
    }
   ],
   "source": [
    "# change attribute value with the help of 2nd object\n",
    "# As a result the name of the reference p will also get changed.\n",
    "\n",
    "print(\"Before change: \", p.name)\n",
    "print(\"Before change: \", q.name)\n",
    "# Now changing the name using the 2nd object\n",
    "q.name = 'arunava'\n",
    "print(\"After change: \", q.name)\n",
    "print(\"After change: \", p.name)"
   ]
  },
  {
   "cell_type": "markdown",
   "metadata": {
    "id": "_EkmESxEcof9"
   },
   "source": [
    "**Notes:**\n",
    "\n",
    "- As both `p` and `q` are pointing to the same object so when we change any attribute using one reference the other also gets chamged automatically.\n",
    "- So we have to be very careful when using reference variables as change with one variable will reflect by all the other varaibles. So it is very risky."
   ]
  },
  {
   "cell_type": "markdown",
   "metadata": {
    "id": "4nqDJqJvfukO"
   },
   "source": [
    "### **Pass by reference**"
   ]
  },
  {
   "cell_type": "code",
   "execution_count": 24,
   "metadata": {
    "colab": {
     "base_uri": "https://localhost:8080/"
    },
    "id": "D7wDMAx5S4tm",
    "outputId": "b666b214-bf95-4096-c1a6-7972e8fd9297"
   },
   "outputs": [
    {
     "name": "stdout",
     "output_type": "stream",
     "text": [
      "Hi my name is arunava and I am a male\n",
      "ankit\n",
      "male\n"
     ]
    }
   ],
   "source": [
    "class Person:\n",
    "  def __init__(self,name,gender):\n",
    "    self.name = name\n",
    "    self.gender = gender\n",
    "\n",
    "# outside the class -> creating a function\n",
    "# Here the function is taking an object as input\n",
    "def greet(person):\n",
    "  print('Hi my name is',person.name,'and I am a',person.gender)\n",
    "  # Also returning an object of the Person class\n",
    "  p1 = Person('ankit','male')\n",
    "  return p1\n",
    "\n",
    "# Creating an object of the Person class\n",
    "p = Person('arunava','male')\n",
    "# Now calling the greet function which takes the object as an argument\n",
    "x = greet(p)\n",
    "# Here we will get the object created by the function\n",
    "print(x.name)\n",
    "print(x.gender)"
   ]
  },
  {
   "cell_type": "code",
   "execution_count": 27,
   "metadata": {
    "colab": {
     "base_uri": "https://localhost:8080/"
    },
    "id": "Ha2ZzUHfS4xy",
    "outputId": "ddaa46b2-ad89-4d4b-e3f2-178c25ec2655"
   },
   "outputs": [
    {
     "name": "stdout",
     "output_type": "stream",
     "text": [
      "Printing the id outside the function:  140334440048000\n",
      "Printing the id inside the function:  140334440048000\n",
      "Before change the name of the object is:  arunava\n",
      "Hi my name is arunava and I am a male\n",
      "Inside the function after chabging the name attribute for object is:  ankit\n",
      "After calling the function the name attribute for object is:  ankit\n"
     ]
    }
   ],
   "source": [
    "class Person:\n",
    "\n",
    "  def __init__(self, name, gender):\n",
    "    self.name = name\n",
    "    self.gender = gender\n",
    "\n",
    "# outside the class -> function\n",
    "def greet(person):\n",
    "  print(\"Printing the id inside the function: \", id(person))\n",
    "  print(\"Before change the name of the object is: \", person.name)\n",
    "  print('Hi my name is',person.name,'and I am a',person.gender)\n",
    "  person.name = 'ankit'\n",
    "  print(\"Inside the function after chabging the name attribute for object is: \", person.name)\n",
    "\n",
    "p = Person('arunava','male')\n",
    "print(\"Printing the id outside the function: \", id(p))   \n",
    "greet(p)\n",
    "print(\"After calling the function the name attribute for object is: \", p.name)"
   ]
  },
  {
   "cell_type": "markdown",
   "metadata": {
    "id": "slj325Beg6wn"
   },
   "source": [
    "### **Object Mutability**\n",
    "\n",
    "- All the objects created in Python are mutable by default. \n",
    "- So user defined classes are mutable by default.\n",
    "- We can make them immutable."
   ]
  },
  {
   "cell_type": "markdown",
   "metadata": {
    "id": "A2Opzki1fw7x"
   },
   "source": [
    "### **Encapsulation**\n",
    "\n",
    "- **Instance variables** are variables whose values get changed for different objects."
   ]
  },
  {
   "cell_type": "code",
   "execution_count": 29,
   "metadata": {
    "colab": {
     "base_uri": "https://localhost:8080/"
    },
    "id": "9SroDbzyS42z",
    "outputId": "e0a49f03-5938-476e-f99e-1bbe95f845d0"
   },
   "outputs": [
    {
     "name": "stdout",
     "output_type": "stream",
     "text": [
      "nitish\n",
      "steve\n"
     ]
    }
   ],
   "source": [
    "# instance var -> python tutor\n",
    "class Person:\n",
    "\n",
    "  def __init__(self,name_input,country_input):\n",
    "    self.name = name_input\n",
    "    self.country = country_input\n",
    "\n",
    "# Creating two objects\n",
    "p1 = Person('nitish','india')\n",
    "p2 = Person('steve','australia')\n",
    "\n",
    "# printing names\n",
    "print(p1.name)\n",
    "print(p2.name)"
   ]
  },
  {
   "cell_type": "markdown",
   "metadata": {
    "id": "qroP9r_xjd_r"
   },
   "source": [
    "**Notes:**\n",
    "\n",
    "- Now if we print the name variable for `p1` object and `p2` object we will get different values.\n",
    "- Here the attribute of the class `Person` is same `name` but it has different values for different objects created of the class.\n",
    "- So here we are saving different values inside the same variable `name` depending on the objects.\n",
    "- This is **Instance Variable**.\n",
    "- So **Instance Variable** is a special kind of variable whose value depends on the object."
   ]
  },
  {
   "cell_type": "code",
   "execution_count": 31,
   "metadata": {
    "id": "HRV0i93nzBtZ"
   },
   "outputs": [],
   "source": [
    "class Atm:\n",
    "  # constructor(special function)->superpower -> \n",
    "  def __init__(self):\n",
    "    print(id(self))\n",
    "    self.pin = ''\n",
    "    self.__balance = 0   # Now the balance atrribute becomes a private (\"__\")\n",
    "    #self.menu()\n",
    "\n",
    "  # This is the getter method\n",
    "  def get_balance(self):\n",
    "    return self.__balance\n",
    "\n",
    "  # This is the setter method\n",
    "  def set_balance(self,new_value):\n",
    "    if type(new_value) == int:\n",
    "      self.__balance = new_value\n",
    "    else:\n",
    "      print('beta bahot maarenge')\n",
    "\n",
    "  def __menu(self):\n",
    "    user_input = input(\"\"\"\n",
    "    Hi how can I help you?\n",
    "    1. Press 1 to create pin\n",
    "    2. Press 2 to change pin\n",
    "    3. Press 3 to check balance\n",
    "    4. Press 4 to withdraw\n",
    "    5. Anything else to exit\n",
    "    \"\"\")\n",
    "\n",
    "    if user_input == '1':\n",
    "      self.create_pin()\n",
    "    elif user_input == '2':\n",
    "      self.change_pin()\n",
    "    elif user_input == '3':\n",
    "      self.check_balance()\n",
    "    elif user_input == '4':\n",
    "      self.withdraw()\n",
    "    else:\n",
    "      exit()\n",
    "\n",
    "  def create_pin(self):\n",
    "    user_pin = input('enter your pin: ')\n",
    "    self.pin = user_pin\n",
    "\n",
    "    user_balance = int(input('enter balance: '))\n",
    "    self.__balance = user_balance\n",
    "\n",
    "    print('pin created successfully')\n",
    "\n",
    "  def change_pin(self):\n",
    "    old_pin = input('enter old pin: ')\n",
    "\n",
    "    if old_pin == self.pin:\n",
    "      # let him change the pin\n",
    "      new_pin = input('enter new pin: ')\n",
    "      self.pin = new_pin\n",
    "      print('pin change successful')\n",
    "    else:\n",
    "      print('nai karne de sakta re baba')\n",
    "\n",
    "  def check_balance(self):\n",
    "    user_pin = input('enter your pin: ')\n",
    "    if user_pin == self.pin:\n",
    "      print('your balance is ',self.__balance)\n",
    "    else:\n",
    "      print('chal nikal yahan se')\n",
    "\n",
    "  def withdraw(self):\n",
    "    user_pin = input('enter the pin: ')\n",
    "    if user_pin == self.pin:\n",
    "      # allow to withdraw\n",
    "      amount = int(input('enter the amount'))\n",
    "      if amount <= self.__balance:\n",
    "        self.__balance = self.__balance - amount\n",
    "        print('withdrawl successful.balance is',self.__balance)\n",
    "      else:\n",
    "        print('abe garib nikal.')\n",
    "    else:\n",
    "      print('sale chor fut yahan se.')"
   ]
  },
  {
   "cell_type": "markdown",
   "metadata": {
    "id": "OIqfBRTOnIzm"
   },
   "source": [
    "**Notes:**\n",
    "\n",
    "- Whenever we create a private variable using `__` then in memory the name changed to `_ClassName__VariableName`.\n",
    "- So then if someone tries to change the value of the private variable from outside it will not show any error but it will create a complete new attribute.\n",
    "- So now even though someone tries to change the value of the private variable from outside it cannot harm the actual private variable's value as now it has transformed into `_ClassName__VariableName`.\n",
    "- But if someone change the private value using the `_ClassName__VariableName` then it will again become accessible from outside.\n",
    "- So in Python ***Nothing is truly Private***.\n",
    "\n",
    "\n",
    "**Points to remember:**\n",
    "\n",
    "- Make it a habit to make all the variables related to a class as `private`, so nobody can see them directly.\n",
    "- But all the methods of that class can access the value of the varaibles even if they are private.\n",
    "- So we can create methods through which we can show the values of the variables. This is the concept of **getter** and **setter** methods.\n",
    "  - **getter :** to show the value of the private variable to outside.\n",
    "  - **setter :** to change the value of the private variable from outside. Also we can create conditions here so the value will not get changed directly."
   ]
  },
  {
   "cell_type": "code",
   "execution_count": 32,
   "metadata": {
    "colab": {
     "base_uri": "https://localhost:8080/"
    },
    "id": "VX9uGWqlS46z",
    "outputId": "03eb5c37-625c-414b-883a-bc72c942cdea"
   },
   "outputs": [
    {
     "name": "stdout",
     "output_type": "stream",
     "text": [
      "140334714429344\n"
     ]
    }
   ],
   "source": [
    "# Creating an object\n",
    "\n",
    "obj = Atm()"
   ]
  },
  {
   "cell_type": "code",
   "execution_count": 34,
   "metadata": {
    "colab": {
     "base_uri": "https://localhost:8080/"
    },
    "id": "WvlOUKgtS4-o",
    "outputId": "a2507e64-c965-48e3-8898-cf825430ab81"
   },
   "outputs": [
    {
     "name": "stdout",
     "output_type": "stream",
     "text": [
      "enter your pin: 1234\n",
      "enter balance: 10000\n",
      "pin created successfully\n"
     ]
    }
   ],
   "source": [
    "# Creating pin and balance\n",
    "\n",
    "obj.create_pin()"
   ]
  },
  {
   "cell_type": "code",
   "execution_count": 35,
   "metadata": {
    "colab": {
     "base_uri": "https://localhost:8080/"
    },
    "id": "nund2ZQVS5B4",
    "outputId": "a9bc5160-832d-46ea-ede7-d8acd070a836"
   },
   "outputs": [
    {
     "data": {
      "text/plain": [
       "10000"
      ]
     },
     "execution_count": 35,
     "metadata": {},
     "output_type": "execute_result"
    }
   ],
   "source": [
    "# Now checking the balance\n",
    "\n",
    "obj.get_balance()"
   ]
  },
  {
   "cell_type": "code",
   "execution_count": 36,
   "metadata": {
    "colab": {
     "base_uri": "https://localhost:8080/"
    },
    "id": "vIyc4LUxS5Ff",
    "outputId": "26e33d29-84df-4d1d-f72e-d757e0edc203"
   },
   "outputs": [
    {
     "name": "stdout",
     "output_type": "stream",
     "text": [
      "enter your pin: 1234\n",
      "enter balance: 10000\n",
      "pin created successfully\n"
     ]
    }
   ],
   "source": [
    "# Now trying to change the balance from outside\n",
    "\n",
    "obj.create_pin()\n",
    "obj.__balance = \"hello\""
   ]
  },
  {
   "cell_type": "code",
   "execution_count": 37,
   "metadata": {
    "colab": {
     "base_uri": "https://localhost:8080/"
    },
    "id": "nNQ2OJBTS5IN",
    "outputId": "9356dc59-06f3-4017-d6b7-9d7575b603f3"
   },
   "outputs": [
    {
     "name": "stdout",
     "output_type": "stream",
     "text": [
      "enter the pin: 1234\n",
      "enter the amount5000\n",
      "withdrawl successful.balance is 5000\n"
     ]
    }
   ],
   "source": [
    "# Now trying to withdraw\n",
    "# Here now it will not throw an error\n",
    "\n",
    "obj.withdraw()"
   ]
  },
  {
   "cell_type": "code",
   "execution_count": 38,
   "metadata": {
    "colab": {
     "base_uri": "https://localhost:8080/"
    },
    "id": "OaUBLnj-suBE",
    "outputId": "0745b3ff-1056-4e51-c476-54e28466d289"
   },
   "outputs": [
    {
     "data": {
      "text/plain": [
       "5000"
      ]
     },
     "execution_count": 38,
     "metadata": {},
     "output_type": "execute_result"
    }
   ],
   "source": [
    "# Using the getter to see the balance\n",
    "\n",
    "obj.get_balance()"
   ]
  },
  {
   "cell_type": "code",
   "execution_count": 39,
   "metadata": {
    "id": "kKO8DMiKsv--"
   },
   "outputs": [],
   "source": [
    "# Now setter method\n",
    "\n",
    "obj.set_balance(1000)"
   ]
  },
  {
   "cell_type": "code",
   "execution_count": 41,
   "metadata": {
    "colab": {
     "base_uri": "https://localhost:8080/"
    },
    "id": "ZLJR4GzwswPq",
    "outputId": "f6b566cc-96bb-4ffe-b860-761dc3afdbea"
   },
   "outputs": [
    {
     "data": {
      "text/plain": [
       "1000"
      ]
     },
     "execution_count": 41,
     "metadata": {},
     "output_type": "execute_result"
    }
   ],
   "source": [
    "# Again checking the balance\n",
    "\n",
    "obj.get_balance()"
   ]
  },
  {
   "cell_type": "code",
   "execution_count": 42,
   "metadata": {
    "colab": {
     "base_uri": "https://localhost:8080/"
    },
    "id": "ybytcau0swfq",
    "outputId": "888e49c1-dde2-41e1-ec6f-f184f1a191ec"
   },
   "outputs": [
    {
     "name": "stdout",
     "output_type": "stream",
     "text": [
      "beta bahot maarenge\n"
     ]
    }
   ],
   "source": [
    "# Trying to change the balance using a string\n",
    "\n",
    "obj.set_balance(\"hehehe\")"
   ]
  },
  {
   "cell_type": "markdown",
   "metadata": {
    "id": "2zN_yVYaf0_1"
   },
   "source": [
    "### **Collection of objects**"
   ]
  },
  {
   "cell_type": "code",
   "execution_count": 60,
   "metadata": {
    "colab": {
     "base_uri": "https://localhost:8080/"
    },
    "id": "_9Ti7s0VS5Lx",
    "outputId": "2a1e1341-9871-4dff-e0e6-4cc6aeb3c87e"
   },
   "outputs": [
    {
     "name": "stdout",
     "output_type": "stream",
     "text": [
      "[<__main__.Person object at 0x7fa2285886a0>, <__main__.Person object at 0x7fa228588700>, <__main__.Person object at 0x7fa2285886d0>]\n",
      "arun  ->  male\n",
      "ankit  ->  male\n",
      "ankita  ->  female\n"
     ]
    }
   ],
   "source": [
    "# list of objects\n",
    "class Person:\n",
    "  def __init__(self,name,gender):\n",
    "    self.name = name\n",
    "    self.gender = gender\n",
    "\n",
    "# Creating instances of the class\n",
    "p1 = Person('arun','male')\n",
    "p2 = Person('ankit','male')\n",
    "p3 = Person('ankita','female')\n",
    "\n",
    "# Creating list of the objects\n",
    "L = [p1,p2,p3]\n",
    "\n",
    "# As we havenot use the __str__() so we will get address of all the objects\n",
    "print(L)\n",
    "\n",
    "# Now printing attributes of the objects using a loop\n",
    "for i in L:\n",
    "  print(i.name, \" -> \", i.gender)"
   ]
  },
  {
   "cell_type": "code",
   "execution_count": 61,
   "metadata": {
    "colab": {
     "base_uri": "https://localhost:8080/"
    },
    "id": "g8MXT6vrS5Pl",
    "outputId": "cd811c82-37af-47fc-b822-f7384fdd7640"
   },
   "outputs": [
    {
     "name": "stdout",
     "output_type": "stream",
     "text": [
      "Gender of  arun ->  male\n",
      "Gender of  ankit ->  male\n",
      "Gender of  ankita ->  female\n"
     ]
    }
   ],
   "source": [
    "# dict of objects\n",
    "# list of objects\n",
    "class Person:\n",
    "\n",
    "  def __init__(self,name,gender):\n",
    "    self.name = name\n",
    "    self.gender = gender\n",
    "\n",
    "# Creating instances of the class\n",
    "p1 = Person('arun','male')\n",
    "p2 = Person('ankit','male')\n",
    "p3 = Person('ankita','female')\n",
    "\n",
    "# Creating dictionary of objects \n",
    "d = {'p1':p1, 'p2':p2, 'p3':p3}\n",
    "\n",
    "# Printing the object attributes using a for loop\n",
    "for i in d:\n",
    "  print(\"Gender of \", d[i].name, \"-> \", d[i].gender)"
   ]
  },
  {
   "cell_type": "markdown",
   "metadata": {
    "id": "TKdM9xIFf8Lt"
   },
   "source": [
    "### **Static Variables(Vs Instance variables)**\n",
    "\n",
    "- **Static variables** are variables related to the class whereas **Instance variables** are varaiables related to objects of that class.\n",
    "- It means the value of static variable is same for all the objects of that class whereas in case of instance variable the value changes with the object.\n",
    "- Whenever using the static variable we use the `ClassName` and when we need to use the instance variable we use `self` as `ObjectName`. So if there is `self` attached before the variable name then it is an **Instance variable** and if it has the `ClassName` attached with it then it is a **Static Variable**.\n",
    "- We can also make the **Static Variable** as private."
   ]
  },
  {
   "cell_type": "code",
   "execution_count": 62,
   "metadata": {
    "id": "5HYjBHv9wZNm"
   },
   "outputs": [],
   "source": [
    "class Atm:\n",
    "\n",
    "# This is static variable\n",
    "  __counter = 1\n",
    "\n",
    "  # constructor(special function)->superpower -> \n",
    "  def __init__(self):\n",
    "    print(id(self))\n",
    "    self.pin = ''\n",
    "    self.__balance = 0\n",
    "    self.cid = Atm.__counter\n",
    "    Atm.__counter = Atm.__counter + 1\n",
    "    #self.menu()\n",
    "\n",
    "  # utility functions\n",
    "  @staticmethod\n",
    "  def get_counter():\n",
    "    return Atm.__counter\n",
    "\n",
    "\n",
    "  def get_balance(self):\n",
    "    return self.__balance\n",
    "\n",
    "  def set_balance(self,new_value):\n",
    "    if type(new_value) == int:\n",
    "      self.__balance = new_value\n",
    "    else:\n",
    "      print('beta bahot maarenge')\n",
    "\n",
    "  def __menu(self):\n",
    "    user_input = input(\"\"\"\n",
    "    Hi how can I help you?\n",
    "    1. Press 1 to create pin\n",
    "    2. Press 2 to change pin\n",
    "    3. Press 3 to check balance\n",
    "    4. Press 4 to withdraw\n",
    "    5. Anything else to exit\n",
    "    \"\"\")\n",
    "\n",
    "    if user_input == '1':\n",
    "      self.create_pin()\n",
    "    elif user_input == '2':\n",
    "      self.change_pin()\n",
    "    elif user_input == '3':\n",
    "      self.check_balance()\n",
    "    elif user_input == '4':\n",
    "      self.withdraw()\n",
    "    else:\n",
    "      exit()\n",
    "\n",
    "  def create_pin(self):\n",
    "    user_pin = input('enter your pin')\n",
    "    self.pin = user_pin\n",
    "\n",
    "    user_balance = int(input('enter balance'))\n",
    "    self.__balance = user_balance\n",
    "\n",
    "    print('pin created successfully')\n",
    "\n",
    "  def change_pin(self):\n",
    "    old_pin = input('enter old pin')\n",
    "\n",
    "    if old_pin == self.pin:\n",
    "      # let him change the pin\n",
    "      new_pin = input('enter new pin')\n",
    "      self.pin = new_pin\n",
    "      print('pin change successful')\n",
    "    else:\n",
    "      print('nai karne de sakta re baba')\n",
    "\n",
    "  def check_balance(self):\n",
    "    user_pin = input('enter your pin')\n",
    "    if user_pin == self.pin:\n",
    "      print('your balance is ',self.__balance)\n",
    "    else:\n",
    "      print('chal nikal yahan se')\n",
    "\n",
    "  def withdraw(self):\n",
    "    user_pin = input('enter the pin')\n",
    "    if user_pin == self.pin:\n",
    "      # allow to withdraw\n",
    "      amount = int(input('enter the amount'))\n",
    "      if amount <= self.__balance:\n",
    "        self.__balance = self.__balance - amount\n",
    "        print('withdrawl successful.balance is',self.__balance)\n",
    "      else:\n",
    "        print('abe garib')\n",
    "    else:\n",
    "      print('sale chor')"
   ]
  },
  {
   "cell_type": "code",
   "execution_count": 63,
   "metadata": {
    "colab": {
     "base_uri": "https://localhost:8080/"
    },
    "id": "RtEgOAUAS5Th",
    "outputId": "e7909b95-a140-4b37-f754-59e67cd01c70"
   },
   "outputs": [
    {
     "name": "stdout",
     "output_type": "stream",
     "text": [
      "140334438318720\n"
     ]
    }
   ],
   "source": [
    "# Now creating customers\n",
    "\n",
    "c1 = Atm()"
   ]
  },
  {
   "cell_type": "code",
   "execution_count": 64,
   "metadata": {
    "colab": {
     "base_uri": "https://localhost:8080/"
    },
    "id": "ONIkyl8kvpGw",
    "outputId": "dedce5ba-2c5a-419f-dbc0-d9aeeae1f0b8"
   },
   "outputs": [
    {
     "name": "stdout",
     "output_type": "stream",
     "text": [
      "140334438319632\n"
     ]
    }
   ],
   "source": [
    "c2 = Atm()"
   ]
  },
  {
   "cell_type": "code",
   "execution_count": 65,
   "metadata": {
    "colab": {
     "base_uri": "https://localhost:8080/"
    },
    "id": "v-6tN1aWvpMc",
    "outputId": "7f24361f-cff7-4a1d-ab93-f62712432f95"
   },
   "outputs": [
    {
     "name": "stdout",
     "output_type": "stream",
     "text": [
      "140334438319008\n"
     ]
    }
   ],
   "source": [
    "c3 = Atm()"
   ]
  },
  {
   "cell_type": "code",
   "execution_count": 66,
   "metadata": {
    "colab": {
     "base_uri": "https://localhost:8080/"
    },
    "id": "4OgDtdNGvpTM",
    "outputId": "0720db7c-0870-48ae-c00e-7bfee3242d5e"
   },
   "outputs": [
    {
     "name": "stdout",
     "output_type": "stream",
     "text": [
      "1\n"
     ]
    }
   ],
   "source": [
    "print(c1.cid)"
   ]
  },
  {
   "cell_type": "code",
   "execution_count": 67,
   "metadata": {
    "colab": {
     "base_uri": "https://localhost:8080/"
    },
    "id": "RLuIkJx0vpXm",
    "outputId": "a870b37a-4611-4a35-ead5-056ab9a09061"
   },
   "outputs": [
    {
     "name": "stdout",
     "output_type": "stream",
     "text": [
      "2\n"
     ]
    }
   ],
   "source": [
    "print(c2.cid)"
   ]
  },
  {
   "cell_type": "code",
   "execution_count": 68,
   "metadata": {
    "colab": {
     "base_uri": "https://localhost:8080/"
    },
    "id": "mhizWV5YvpcL",
    "outputId": "13bd5e9f-7046-41dd-ae53-8414f364d7ed"
   },
   "outputs": [
    {
     "name": "stdout",
     "output_type": "stream",
     "text": [
      "3\n"
     ]
    }
   ],
   "source": [
    "print(c3.cid)"
   ]
  },
  {
   "cell_type": "code",
   "execution_count": 70,
   "metadata": {
    "colab": {
     "base_uri": "https://localhost:8080/"
    },
    "id": "3q1l5uesS5WQ",
    "outputId": "255f41de-83f2-4220-9de8-34a18c18efd3"
   },
   "outputs": [
    {
     "data": {
      "text/plain": [
       "4"
      ]
     },
     "execution_count": 70,
     "metadata": {},
     "output_type": "execute_result"
    }
   ],
   "source": [
    "# Checking the total number of customers.\n",
    "# This is a method of the class means it is a static method.\n",
    "# So we can use the method directly using the class name.\n",
    "# This is utility function.\n",
    "\n",
    "Atm.get_counter()"
   ]
  },
  {
   "cell_type": "markdown",
   "metadata": {
    "id": "lVO8HJoyzkXM"
   },
   "source": [
    "### **Static Methods**\n",
    "\n",
    "Points to remember about static\n",
    "\n",
    "- Static attributes are created at class level.\n",
    "- Static attributes are accessed using ClassName.\n",
    "- Static attributes are object independent. We can access them without creating instance (object) of the class in which they are defined.\n",
    "- The value stored in static attribute is shared between all instances(objects) of the class in which the static attribute is defined.\n"
   ]
  },
  {
   "cell_type": "code",
   "execution_count": 71,
   "metadata": {
    "colab": {
     "base_uri": "https://localhost:8080/"
    },
    "id": "I3Wq-mdeyYIG",
    "outputId": "4b7bab28-c9e0-4841-ba45-b39ccf1ee946"
   },
   "outputs": [
    {
     "name": "stdout",
     "output_type": "stream",
     "text": [
      "Simba drinks water from the well in the circus\n",
      "Water source of lions: well in the circus\n"
     ]
    }
   ],
   "source": [
    "class Lion:\n",
    "  __water_source=\"well in the circus\"\n",
    "\n",
    "  def __init__(self,name, gender):\n",
    "      self.__name=name\n",
    "      self.__gender=gender\n",
    "\n",
    "  def drinks_water(self):\n",
    "      print(self.__name,\n",
    "      \"drinks water from the\",Lion.__water_source)\n",
    "\n",
    "  @staticmethod\n",
    "  def get_water_source():\n",
    "      return Lion.__water_source\n",
    "\n",
    "simba=Lion(\"Simba\",\"Male\")\n",
    "simba.drinks_water()\n",
    "print( \"Water source of lions:\",Lion.get_water_source())"
   ]
  },
  {
   "cell_type": "code",
   "execution_count": null,
   "metadata": {
    "id": "Tfyd2AeIz1vd"
   },
   "outputs": [],
   "source": []
  }
 ],
 "metadata": {
  "accelerator": "GPU",
  "colab": {
   "provenance": []
  },
  "gpuClass": "standard",
  "kernelspec": {
   "display_name": "Python 3 (ipykernel)",
   "language": "python",
   "name": "python3"
  },
  "language_info": {
   "codemirror_mode": {
    "name": "ipython",
    "version": 3
   },
   "file_extension": ".py",
   "mimetype": "text/x-python",
   "name": "python",
   "nbconvert_exporter": "python",
   "pygments_lexer": "ipython3",
   "version": "3.9.15"
  }
 },
 "nbformat": 4,
 "nbformat_minor": 1
}
