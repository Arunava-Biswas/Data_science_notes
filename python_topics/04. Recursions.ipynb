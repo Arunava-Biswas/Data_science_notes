{
 "cells": [
  {
   "cell_type": "markdown",
   "id": "c54753d6",
   "metadata": {},
   "source": [
    "### `Recursion`\n",
    "\n",
    "- **Recursion** is a technique where a function calls itself.\n",
    "- With the help of this technique we can solve a problem without using a loop.\n",
    "- But in actual world it is not used because it is difficult to understand and sometimes it is not efficient.\n",
    "- In Recursion we need to do mainly 2 things:\n",
    "  - 1st find out the **base case**. It is a result that we know already.\n",
    "  - Decomposing the big problem into small problems.\n",
    "\n",
    "<hr style=\"border:2px solid black\">"
   ]
  },
  {
   "cell_type": "markdown",
   "id": "883e6ebf",
   "metadata": {},
   "source": [
    "#### Example of `Recursion`\n",
    "\n",
    "**Suppose we need to write a function where it will give product of the numbers passed to it without using the multiplication.**"
   ]
  },
  {
   "cell_type": "code",
   "execution_count": 1,
   "id": "68bc12fa",
   "metadata": {},
   "outputs": [
    {
     "name": "stdout",
     "output_type": "stream",
     "text": [
      "Product of 3 and 4 is 12\n"
     ]
    }
   ],
   "source": [
    "# Mutiplication means repeated addition\n",
    "# Now creating it using a loop\n",
    "\n",
    "def multiply(a,b):\n",
    "    result = 0\n",
    "    \n",
    "    for i in range(b):\n",
    "        result = result + a\n",
    "        \n",
    "    return result\n",
    "\n",
    "# Calling the function\n",
    "a,b = 3,4\n",
    "result = multiply(a,b)\n",
    "print(f\"Product of {a} and {b} is {result}\")"
   ]
  },
  {
   "cell_type": "code",
   "execution_count": 2,
   "id": "e8ebe2fe",
   "metadata": {},
   "outputs": [
    {
     "name": "stdout",
     "output_type": "stream",
     "text": [
      "Product of 3 and 4 is 12\n"
     ]
    }
   ],
   "source": [
    "# Doing same using recursion\n",
    "# Here the base case is \"3X1\" which always is 3\n",
    "\n",
    "def product(a,b):\n",
    "    if b == 1:    # This is the base case\n",
    "        return a\n",
    "    else:\n",
    "        return a + product(a, b-1)   # breaking the big problem into small problems\n",
    "\n",
    "# Calling the function\n",
    "a,b = 3,4\n",
    "result = product(a,b)\n",
    "print(f\"Product of {a} and {b} is {result}\")"
   ]
  },
  {
   "cell_type": "markdown",
   "id": "81c43ca0",
   "metadata": {},
   "source": [
    "- To see the execution of the above code step by step go to the following link and paste the code.\n",
    "- https://pythontutor.com/python-debugger.html#mode=edit\n",
    "- Here when we apply **recursion** then at first it goes downwards upto reaching the base case and then going upwrds as the function is calling itself recursively.\n",
    "- This behavior is close to the data structure **Stack** using the **last in first out** concept."
   ]
  },
  {
   "cell_type": "markdown",
   "id": "e1b4d308",
   "metadata": {},
   "source": [
    "**Now doing a factorial of a given number using Recursion**"
   ]
  },
  {
   "cell_type": "code",
   "execution_count": 3,
   "id": "780ec58b",
   "metadata": {},
   "outputs": [
    {
     "name": "stdout",
     "output_type": "stream",
     "text": [
      "Factorial of number 5 is: 120\n"
     ]
    }
   ],
   "source": [
    "# Here the base case is 1! = 1\n",
    "\n",
    "def fact(number):\n",
    "    if number == 1:\n",
    "        return 1\n",
    "    else:\n",
    "        return number * fact(number - 1)\n",
    "\n",
    "# Calling the function\n",
    "result = fact(5)\n",
    "print(f\"Factorial of number 5 is: {result}\")"
   ]
  },
  {
   "cell_type": "markdown",
   "id": "7d02debc",
   "metadata": {},
   "source": [
    "**Now finding whether a string is `Pallindrom` or not using Recursion**"
   ]
  },
  {
   "cell_type": "code",
   "execution_count": 4,
   "id": "66508bf3",
   "metadata": {},
   "outputs": [
    {
     "name": "stdout",
     "output_type": "stream",
     "text": [
      "This is a Pallindrom.\n",
      "This is a Pallindrom.\n",
      "This is a Pallindrom.\n",
      "This is not a Pallindrom.\n"
     ]
    }
   ],
   "source": [
    "# Any string with one character is a \"Pallindrom\".\n",
    "# This will be the base condition.\n",
    "# i.e. If length of string is 1 then it is a Pallindrom.\n",
    "# Else we need to match for the 1st and last character of the string.\n",
    "# If they match then we need to remove them and then check for next characters using slicing.\n",
    "# But we also need to make adjustment for a string whose length is of even number.\n",
    "# So here we need to write a logic for empty string also.\n",
    "# To do this change the base case as \"<= 1\" so it will work for 0 also.\n",
    "\n",
    "def pallindrom(text):\n",
    "    if len(text) <= 1:   # base case\n",
    "        print(f\"This is a Pallindrom.\")\n",
    "    else:\n",
    "        if text[0] == text[-1]:   # matching 1st and last characters\n",
    "            pallindrom(text[1: -1])  # slicing the 1st and last characters\n",
    "        else:\n",
    "            print(f\"This is not a Pallindrom.\")\n",
    "\n",
    "# Calling the function\n",
    "pallindrom(\"madam\")\n",
    "pallindrom(\"malayalam\")\n",
    "pallindrom(\"abba\")\n",
    "pallindrom(\"python\")"
   ]
  },
  {
   "cell_type": "markdown",
   "id": "1c517b27",
   "metadata": {},
   "source": [
    "**The Rabbit Problem `Fibonacci Series`**\n",
    "\n",
    "- If 2 newborn rabbits are put in a pen (poultry of rabbits), how many pair of rabbits will be there in the pen after 1 year?\n",
    "- Assume that rabbits:\n",
    "  - Always produce one male and one female offspring.\n",
    "  - Can reproduce once every month.\n",
    "  - Can reproduce once they are one month old.\n",
    "  - No rabbit has ever died in this one year.\n",
    "  \n",
    "  \n",
    "**Ans:**\n",
    "\n",
    "- Here on `0th` day number of rabbits are `0`.\n",
    "- On the last day of the `1st` month the number of pair of rabbits are `1`.\n",
    "- On the last day of the `2nd` month the number of pair of rabbits are `2`.\n",
    "- On the last day of the `3rd` month the number of pair of rabbits are `3`.\n",
    "- On the last day of the `4th` month the number of pair of rabbits are `5`.\n",
    "- So here we can see a pattern of `0`, `1`, `2`, `3`, `5`.\n",
    "- The next term of this series will be `8`, `13`... as it is a **Fibonacci Series**.\n",
    "- **Fibonacci Series:**\n",
    "  - The next number is the sum of the previous two numbers as `8 = 5 + 3`, `13 = 8 + 5`\n",
    "  \n",
    "  \n",
    "**Now write a program where if we pass the number of months we will get number of pairs of rabbit**"
   ]
  },
  {
   "cell_type": "code",
   "execution_count": 5,
   "id": "78823b9a",
   "metadata": {},
   "outputs": [
    {
     "name": "stdout",
     "output_type": "stream",
     "text": [
      "So number of pairs after 12 months are: 233\n"
     ]
    }
   ],
   "source": [
    "# Here the base case is month == 0 or 1\n",
    "# As in fibonacci if we want to find a term it is equal to the sum of last two terms\n",
    "\n",
    "def fib(month):\n",
    "    if month == 0 or month == 1:\n",
    "        return 1\n",
    "    else:\n",
    "        return fib(month - 1) + fib(month - 2)\n",
    "    \n",
    "# Now calling the function\n",
    "m = 12  # for 12 months\n",
    "result = fib(m)\n",
    "print(f\"So number of pairs after {m} months are: {result}\")"
   ]
  },
  {
   "cell_type": "markdown",
   "id": "37811e60",
   "metadata": {},
   "source": [
    "- But here is a problem with the calculation as it will take too much time with the increase in number of months.\n",
    "- So this is a very inefficient code as it takes too much time to calculate. This is known as **Problem of Time Complexity**.\n",
    "- To know the flow of code go to the above link and paste the code.\n",
    "- Here we need to calculate the same calculation again and again. Here the time complexity is $2^{n}$\n",
    "- That is to solve each problem we need to solve 2 more problems.\n",
    "- That is if we want to calculate for `12` months it is $2^{12}$"
   ]
  },
  {
   "cell_type": "code",
   "execution_count": 6,
   "id": "8aeda02d",
   "metadata": {},
   "outputs": [
    {
     "name": "stdout",
     "output_type": "stream",
     "text": [
      "So number of pairs after 12 months are: 233\n",
      "The time taken by the code is 0.0 seconds.\n"
     ]
    }
   ],
   "source": [
    "# Checking the time\n",
    "\n",
    "import time\n",
    "\n",
    "def fib(month):\n",
    "    if month == 0 or month == 1:\n",
    "        return 1\n",
    "    else:\n",
    "        return fib(month - 1) + fib(month - 2)\n",
    "    \n",
    "# Now calling the function\n",
    "start = time.time()\n",
    "m = 12\n",
    "result = fib(m)\n",
    "end = time.time()\n",
    "print(f\"So number of pairs after {m} months are: {result}\")\n",
    "print(f\"The time taken by the code is {end - start} seconds.\")"
   ]
  },
  {
   "cell_type": "code",
   "execution_count": 7,
   "id": "e28a4483",
   "metadata": {},
   "outputs": [
    {
     "name": "stdout",
     "output_type": "stream",
     "text": [
      "So number of pairs after 24 months are: 75025\n",
      "The time taken by the code is 0.02704310417175293 seconds.\n"
     ]
    }
   ],
   "source": [
    "# Now running for 24 months\n",
    "\n",
    "# Now calling the function\n",
    "start = time.time()\n",
    "m = 24\n",
    "result = fib(m)\n",
    "end = time.time()\n",
    "print(f\"So number of pairs after {m} months are: {result}\")\n",
    "print(f\"The time taken by the code is {end - start} seconds.\")"
   ]
  },
  {
   "cell_type": "code",
   "execution_count": 8,
   "id": "5d34b69f",
   "metadata": {},
   "outputs": [
    {
     "name": "stdout",
     "output_type": "stream",
     "text": [
      "So number of pairs after 36 months are: 24157817\n",
      "The time taken by the code is 7.5520477294921875 seconds.\n"
     ]
    }
   ],
   "source": [
    "# Now for 36 months\n",
    "\n",
    "# Now calling the function\n",
    "start = time.time()\n",
    "m = 36\n",
    "result = fib(m)\n",
    "end = time.time()\n",
    "print(f\"So number of pairs after {m} months are: {result}\")\n",
    "print(f\"The time taken by the code is {end - start} seconds.\")"
   ]
  },
  {
   "cell_type": "code",
   "execution_count": 9,
   "id": "a0bead3b",
   "metadata": {},
   "outputs": [
    {
     "name": "stdout",
     "output_type": "stream",
     "text": [
      "So number of pairs after 37 months are: 39088169\n",
      "The time taken by the code is 11.961994409561157 seconds.\n"
     ]
    }
   ],
   "source": [
    "# Now for 37 months\n",
    "\n",
    "# Now calling the function\n",
    "start = time.time()\n",
    "m = 37\n",
    "result = fib(m)\n",
    "end = time.time()\n",
    "print(f\"So number of pairs after {m} months are: {result}\")\n",
    "print(f\"The time taken by the code is {end - start} seconds.\")"
   ]
  },
  {
   "cell_type": "markdown",
   "id": "f91cbe4b",
   "metadata": {},
   "source": [
    "- So we can see the relation between inputs and time is exponential.\n",
    "- Increase in input (months) exponentially affecting the time taken for execution of the code.\n",
    "- So it is very inefficient.\n",
    "\n",
    "\n",
    "**Solution**\n",
    "- To solve this we can use a concept of **Memoization** of **Dynamic Programming** algorithm.\n",
    "- Here the concept is if we want to reduce the time we need to increase the space. This is known as **Space Time Trade Off**.\n",
    "- Here once we calculate the fibonacci of a number we store it, so we don't need to calculate it again and again."
   ]
  },
  {
   "cell_type": "code",
   "execution_count": 10,
   "id": "f007b131",
   "metadata": {},
   "outputs": [
    {
     "name": "stdout",
     "output_type": "stream",
     "text": [
      "So number of pairs after 36 months are: 24157817\n",
      "The time taken by the code is 0.0 seconds.\n"
     ]
    }
   ],
   "source": [
    "# Now using Memoization technique\n",
    "# Here we will create a dictionary that will keep all the values stored\n",
    "# Here the base case is if the dictionary has the key then we directly fetch the value\n",
    "# In else we will store the new calculated values in the dictionary\n",
    "\n",
    "import time\n",
    "\n",
    "def memo(month, dic):\n",
    "    if month in dic:\n",
    "        return dic[month]\n",
    "    else:\n",
    "        dic[month] = memo(month-1, dic) + memo(month-2, dic)\n",
    "        return dic[month]\n",
    "    \n",
    "\n",
    "# Now calling the function for 36 months\n",
    "start = time.time()\n",
    "m = 36\n",
    "dic = {0:1, 1:1}\n",
    "result = memo(m, dic)\n",
    "end = time.time()\n",
    "print(f\"So number of pairs after {m} months are: {result}\")\n",
    "print(f\"The time taken by the code is {end - start} seconds.\")"
   ]
  },
  {
   "cell_type": "code",
   "execution_count": 11,
   "id": "3cf44072",
   "metadata": {},
   "outputs": [
    {
     "name": "stdout",
     "output_type": "stream",
     "text": [
      "So number of pairs after 37 months are: 39088169\n",
      "The time taken by the code is 0.0 seconds.\n"
     ]
    }
   ],
   "source": [
    "# Now calling the function for 37 months\n",
    "start = time.time()\n",
    "m = 37\n",
    "dic = {0:1, 1:1}\n",
    "result = memo(m, dic)\n",
    "end = time.time()\n",
    "print(f\"So number of pairs after {m} months are: {result}\")\n",
    "print(f\"The time taken by the code is {end - start} seconds.\")"
   ]
  },
  {
   "cell_type": "code",
   "execution_count": 12,
   "id": "1e4a8ca3",
   "metadata": {},
   "outputs": [
    {
     "name": "stdout",
     "output_type": "stream",
     "text": [
      "So number of pairs after 500 months are: 225591516161936330872512695036072072046011324913758190588638866418474627738686883405015987052796968498626\n",
      "The time taken by the code is 0.0009999275207519531 seconds.\n"
     ]
    }
   ],
   "source": [
    "# Now we can calculate for a huge number also like 500 months\n",
    "\n",
    "start = time.time()\n",
    "m = 500\n",
    "dic = {0:1, 1:1}\n",
    "result = memo(m, dic)\n",
    "end = time.time()\n",
    "print(f\"So number of pairs after {m} months are: {result}\")\n",
    "print(f\"The time taken by the code is {end - start} seconds.\")"
   ]
  },
  {
   "cell_type": "markdown",
   "id": "beb467a1",
   "metadata": {},
   "source": [
    "- But here it will create a big dictionary which will consume memory."
   ]
  },
  {
   "cell_type": "code",
   "execution_count": null,
   "id": "b022742f",
   "metadata": {},
   "outputs": [],
   "source": []
  }
 ],
 "metadata": {
  "kernelspec": {
   "display_name": "Python 3 (ipykernel)",
   "language": "python",
   "name": "python3"
  },
  "language_info": {
   "codemirror_mode": {
    "name": "ipython",
    "version": 3
   },
   "file_extension": ".py",
   "mimetype": "text/x-python",
   "name": "python",
   "nbconvert_exporter": "python",
   "pygments_lexer": "ipython3",
   "version": "3.9.15"
  }
 },
 "nbformat": 4,
 "nbformat_minor": 5
}
