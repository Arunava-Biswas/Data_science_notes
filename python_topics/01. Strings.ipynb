{
 "cells": [
  {
   "cell_type": "markdown",
   "id": "a73ea02c",
   "metadata": {},
   "source": [
    "### Strings:\n",
    "\n",
    "- In Python specifically `Strings` are sequence of **Unicode Characters**.\n",
    "- To know more about Unicode:\n",
    "> https://docs.python.org/3/howto/unicode.html\n",
    "- `Strings` are **Immutable Data Type**. So we cannot edit strings.\n",
    "- In Python during loop strings are worked as iterable.\n",
    "\n",
    "    - Creating Strings\n",
    "    - Accessing Strings\n",
    "    - Adding Chars to Strings\n",
    "    - Editing Strings\n",
    "    - Deleting Strings\n",
    "    - Operations on Strings\n",
    "    - String Functions\n",
    "\n",
    "<hr style=\"border:2px solid black\">"
   ]
  },
  {
   "cell_type": "code",
   "execution_count": 1,
   "id": "5773d7bc",
   "metadata": {},
   "outputs": [
    {
     "name": "stdout",
     "output_type": "stream",
     "text": [
      "Hello\n"
     ]
    }
   ],
   "source": [
    "# Creating a string\n",
    "\n",
    "c = 'Hello'\n",
    "print(c)"
   ]
  },
  {
   "cell_type": "code",
   "execution_count": 2,
   "id": "a19a2d26",
   "metadata": {},
   "outputs": [
    {
     "name": "stdout",
     "output_type": "stream",
     "text": [
      "Hello\n",
      "World\n"
     ]
    }
   ],
   "source": [
    "# multi line strings\n",
    "\n",
    "c = '''Hello\n",
    "World'''\n",
    "print(c)"
   ]
  },
  {
   "cell_type": "markdown",
   "id": "98bb6f2e",
   "metadata": {},
   "source": [
    "**Accessing Substrings from a String**"
   ]
  },
  {
   "cell_type": "code",
   "execution_count": 3,
   "id": "09e7036c",
   "metadata": {},
   "outputs": [
    {
     "name": "stdout",
     "output_type": "stream",
     "text": [
      "H\n"
     ]
    }
   ],
   "source": [
    "# Accessing the first value of the string using the indexing\n",
    "\n",
    "print(c[0])"
   ]
  },
  {
   "cell_type": "code",
   "execution_count": 4,
   "id": "fd137d58",
   "metadata": {},
   "outputs": [
    {
     "name": "stdout",
     "output_type": "stream",
     "text": [
      "Hello\n",
      "HlW\n",
      "Wr\n",
      "dlroW olleH\n",
      "dlro\n"
     ]
    }
   ],
   "source": [
    "# Slicing\n",
    "# [start:ending+1:step]\n",
    "# Remember we can take reverse number in steps only when we are working with negative indexing\n",
    "\n",
    "c = \"Hello World\"\n",
    "\n",
    "print(c[0:5]) # upto index 4\n",
    "print(c[0:8:3]) # upto index 7 with a step jump of 3 \n",
    "print(c[-5:-1:2]) # using negative indexing\n",
    "print(c[::-1]) # printing in reverse order using step\n",
    "print(c[-1:-5:-1]) # going backwards"
   ]
  },
  {
   "cell_type": "markdown",
   "id": "e52a870f",
   "metadata": {},
   "source": [
    "**Editing and Deleting in Strings**"
   ]
  },
  {
   "cell_type": "code",
   "execution_count": 5,
   "id": "68508dc5",
   "metadata": {},
   "outputs": [
    {
     "name": "stdout",
     "output_type": "stream",
     "text": [
      "'str' object does not support item assignment\n"
     ]
    }
   ],
   "source": [
    "# We cannot assign new values to an index in a string (Non mutable)\n",
    "# So strings are not editable.\n",
    "\n",
    "try:\n",
    "    c[0] = \"X\"\n",
    "except Exception as err:\n",
    "    print(err)"
   ]
  },
  {
   "cell_type": "code",
   "execution_count": 6,
   "id": "426481ef",
   "metadata": {},
   "outputs": [
    {
     "name": "stdout",
     "output_type": "stream",
     "text": [
      "world\n"
     ]
    }
   ],
   "source": [
    "# But we can reassign a new value\n",
    "\n",
    "c = \"world\"\n",
    "print(c)"
   ]
  },
  {
   "cell_type": "code",
   "execution_count": 7,
   "id": "02d89d5e",
   "metadata": {},
   "outputs": [
    {
     "name": "stdout",
     "output_type": "stream",
     "text": [
      "name 'c' is not defined\n"
     ]
    }
   ],
   "source": [
    "# Deletion\n",
    "# For deletion we use keyword \"del\"\n",
    "\n",
    "del c\n",
    "\n",
    "try:\n",
    "    print(c)\n",
    "except Exception as err:\n",
    "    print(err)"
   ]
  },
  {
   "cell_type": "code",
   "execution_count": 8,
   "id": "fd6fa1e9",
   "metadata": {},
   "outputs": [
    {
     "name": "stdout",
     "output_type": "stream",
     "text": [
      "'str' object doesn't support item deletion\n"
     ]
    }
   ],
   "source": [
    "# We cannot also delete an item of a string (Non mutable)\n",
    "# That is we cannot partially delete a string.\n",
    "\n",
    "c = \"Hello World\"\n",
    "\n",
    "try:\n",
    "    del(c[0])\n",
    "except Exception as err:\n",
    "    print(err)"
   ]
  },
  {
   "cell_type": "markdown",
   "id": "eb6f6187",
   "metadata": {},
   "source": [
    "**Operations on Strings**\n",
    "\n",
    "   - Arithmetic Operations\n",
    "   - Relational Operations\n",
    "   - Logical Operations\n",
    "   - Loops on Strings\n",
    "   - Membership Operations (`in` and `not in`)\n",
    "\n"
   ]
  },
  {
   "cell_type": "code",
   "execution_count": 9,
   "id": "3c510919",
   "metadata": {},
   "outputs": [
    {
     "data": {
      "text/plain": [
       "'Hello-world'"
      ]
     },
     "execution_count": 9,
     "metadata": {},
     "output_type": "execute_result"
    }
   ],
   "source": [
    "# Arithmetic operator\n",
    "# Concatinating two strings using \"+\"\n",
    "\n",
    "\"Hello\" + \"-\" + \"world\""
   ]
  },
  {
   "cell_type": "code",
   "execution_count": 10,
   "id": "c49ada2c",
   "metadata": {},
   "outputs": [
    {
     "name": "stdout",
     "output_type": "stream",
     "text": [
      "**************************************************\n"
     ]
    }
   ],
   "source": [
    "# Using \"*\" we can multiply a string\n",
    "\n",
    "print(\"*\"*50)"
   ]
  },
  {
   "cell_type": "code",
   "execution_count": 11,
   "id": "99afc667",
   "metadata": {},
   "outputs": [
    {
     "name": "stdout",
     "output_type": "stream",
     "text": [
      "False\n",
      "True\n",
      "False\n",
      "False\n",
      "True\n",
      "False\n"
     ]
    }
   ],
   "source": [
    "# Relational Operators\n",
    "\n",
    "print(\"Hello\" == \"World\")\n",
    "print(\"Hello\" != \"WOrld\")\n",
    "print(\"Mumbai\" > \"Pune\") # It is a Lexiographical comparison (Which word comes first in a dictionary)\n",
    "print(\"Pune\" > \"pune\")   # As ASCII value of \"P\" is smaller than \"p\"\n",
    "print(\"Goa\" < \"Kolkata\") # In dictionary the word comes later is bigger number than the word comes earlier\n",
    "print(\"kol\" < \"Kol\")  # As small laters come later in ASCII"
   ]
  },
  {
   "cell_type": "code",
   "execution_count": 12,
   "id": "2bbf4a09",
   "metadata": {},
   "outputs": [
    {
     "data": {
      "text/plain": [
       "'world'"
      ]
     },
     "execution_count": 12,
     "metadata": {},
     "output_type": "execute_result"
    }
   ],
   "source": [
    "# Logical Operators\n",
    "# Empty strings are treated as False and non empty as True in Python\n",
    "\n",
    "\"hello\" and \"world\" # Here it will print \"world\" as it ensures 1 in and logic"
   ]
  },
  {
   "cell_type": "code",
   "execution_count": 13,
   "id": "2b536187",
   "metadata": {},
   "outputs": [
    {
     "data": {
      "text/plain": [
       "'hello'"
      ]
     },
     "execution_count": 13,
     "metadata": {},
     "output_type": "execute_result"
    }
   ],
   "source": [
    "\"hello\" or \"world\" # Here as the first string is True so it gets printed."
   ]
  },
  {
   "cell_type": "markdown",
   "id": "282206ae",
   "metadata": {},
   "source": [
    "**Notes**\n",
    "- **In Python internally if any string has any character then Python consider it as `True` and if it is empty then it is `False`**.\n",
    "- So `\"hello\" and \"world\"` internally considered as `1 and 1` which returns `1`, but as here we used an `and` so internally Python checked for both the strings and when it found the second string is also `True` it prints the value of the second string.\n",
    "- In case of `\"hello\" or \"world\"` the first string is `hello` which considered as `True` internally and as a result it didnot go any further and print the first string as the result.\n",
    "- Remember in case of `and` logic it only prints after considering both the values and print the second one as result as it gives the conformation about the result. But in case of `or` it prints the first string as it gets confirmation with the first string itself.\n",
    "- These are weird behaviour of Python."
   ]
  },
  {
   "cell_type": "code",
   "execution_count": 40,
   "id": "614527b8",
   "metadata": {},
   "outputs": [
    {
     "name": "stdout",
     "output_type": "stream",
     "text": [
      "d\n",
      "e\n",
      "l\n",
      "h\n",
      "i\n"
     ]
    }
   ],
   "source": [
    "# loops\n",
    "\n",
    "for i in \"delhi\":\n",
    "    print(i)"
   ]
  },
  {
   "cell_type": "code",
   "execution_count": 41,
   "id": "c27a73ac",
   "metadata": {},
   "outputs": [
    {
     "name": "stdout",
     "output_type": "stream",
     "text": [
      "True\n",
      "True\n"
     ]
    }
   ],
   "source": [
    "# Membership operations\n",
    "\n",
    "print (\"d\" in \"delhi\")\n",
    "print (\"d\" not in \"Delhi\")"
   ]
  },
  {
   "cell_type": "markdown",
   "id": "957c6c81",
   "metadata": {},
   "source": [
    "**String Functions**\n",
    "\n",
    "- These are common functions, i.e. they are common for all the data types:\n",
    "  - len()\n",
    "  - max()\n",
    "  - min()\n",
    "  - sorted()"
   ]
  },
  {
   "cell_type": "code",
   "execution_count": 14,
   "id": "887ac729",
   "metadata": {},
   "outputs": [
    {
     "data": {
      "text/plain": [
       "7"
      ]
     },
     "execution_count": 14,
     "metadata": {},
     "output_type": "execute_result"
    }
   ],
   "source": [
    "# len() gives length of the string\n",
    "\n",
    "c = \"kolkata\"\n",
    "len(c)"
   ]
  },
  {
   "cell_type": "code",
   "execution_count": 15,
   "id": "81dd9e61",
   "metadata": {},
   "outputs": [
    {
     "data": {
      "text/plain": [
       "'t'"
      ]
     },
     "execution_count": 15,
     "metadata": {},
     "output_type": "execute_result"
    }
   ],
   "source": [
    "# Giving maximum value on the basis of ASCII values\n",
    "\n",
    "max(c)"
   ]
  },
  {
   "cell_type": "code",
   "execution_count": 16,
   "id": "8ed8a6e3",
   "metadata": {},
   "outputs": [
    {
     "data": {
      "text/plain": [
       "'a'"
      ]
     },
     "execution_count": 16,
     "metadata": {},
     "output_type": "execute_result"
    }
   ],
   "source": [
    "# Giving minimum value on the basis of ASCII values\n",
    "\n",
    "min(c)"
   ]
  },
  {
   "cell_type": "code",
   "execution_count": 17,
   "id": "ad836f92",
   "metadata": {},
   "outputs": [
    {
     "data": {
      "text/plain": [
       "['a', 'a', 'k', 'k', 'l', 'o', 't']"
      ]
     },
     "execution_count": 17,
     "metadata": {},
     "output_type": "execute_result"
    }
   ],
   "source": [
    "# sorted() to sort in alphabetically in ascending order\n",
    "# It returns in list format\n",
    "\n",
    "sorted(c)"
   ]
  },
  {
   "cell_type": "code",
   "execution_count": 18,
   "id": "b990be1c",
   "metadata": {},
   "outputs": [
    {
     "data": {
      "text/plain": [
       "['t', 'o', 'l', 'k', 'k', 'a', 'a']"
      ]
     },
     "execution_count": 18,
     "metadata": {},
     "output_type": "execute_result"
    }
   ],
   "source": [
    "# Using \"reverse=True\" will make the order descending\n",
    "\n",
    "sorted(c, reverse=True)"
   ]
  },
  {
   "cell_type": "markdown",
   "id": "75537729",
   "metadata": {},
   "source": [
    "**Capitalize/Title/Upper/Lower/Swapcase**\n",
    "\n",
    "- Thses type of functions can only be performed on strings.\n",
    "- **Remember these functions do not change the original string**."
   ]
  },
  {
   "cell_type": "code",
   "execution_count": 19,
   "id": "c77544d2",
   "metadata": {},
   "outputs": [
    {
     "data": {
      "text/plain": [
       "'It is raining today'"
      ]
     },
     "execution_count": 19,
     "metadata": {},
     "output_type": "execute_result"
    }
   ],
   "source": [
    "# capitalize() will make the first letter capital\n",
    "\n",
    "c = \"it is raining today\"\n",
    "c.capitalize()"
   ]
  },
  {
   "cell_type": "code",
   "execution_count": 20,
   "id": "7556e102",
   "metadata": {},
   "outputs": [
    {
     "data": {
      "text/plain": [
       "'It Is Raining Today'"
      ]
     },
     "execution_count": 20,
     "metadata": {},
     "output_type": "execute_result"
    }
   ],
   "source": [
    "# title() will make all the words in capital letter in the sentence\n",
    "\n",
    "c.title()"
   ]
  },
  {
   "cell_type": "code",
   "execution_count": 21,
   "id": "efbaad78",
   "metadata": {},
   "outputs": [
    {
     "data": {
      "text/plain": [
       "'IT IS RAINING TODAY'"
      ]
     },
     "execution_count": 21,
     "metadata": {},
     "output_type": "execute_result"
    }
   ],
   "source": [
    "# upper() makes all characters in upper case\n",
    "\n",
    "c.upper()"
   ]
  },
  {
   "cell_type": "code",
   "execution_count": 22,
   "id": "1fa2507d",
   "metadata": {},
   "outputs": [
    {
     "data": {
      "text/plain": [
       "'it is raining today'"
      ]
     },
     "execution_count": 22,
     "metadata": {},
     "output_type": "execute_result"
    }
   ],
   "source": [
    "# lower() makes all characters in lower case\n",
    "\n",
    "c.lower()"
   ]
  },
  {
   "cell_type": "code",
   "execution_count": 23,
   "id": "f407c613",
   "metadata": {},
   "outputs": [
    {
     "data": {
      "text/plain": [
       "'kOlKaTa'"
      ]
     },
     "execution_count": 23,
     "metadata": {},
     "output_type": "execute_result"
    }
   ],
   "source": [
    "# swapcase() converts upper to lower and lower to upper\n",
    "\n",
    "\"KoLkAtA\".swapcase()"
   ]
  },
  {
   "cell_type": "markdown",
   "id": "93ab878b",
   "metadata": {},
   "source": [
    "**Count/Find/Index**"
   ]
  },
  {
   "cell_type": "code",
   "execution_count": 24,
   "id": "566f0e6a",
   "metadata": {},
   "outputs": [
    {
     "data": {
      "text/plain": [
       "4"
      ]
     },
     "execution_count": 24,
     "metadata": {},
     "output_type": "execute_result"
    }
   ],
   "source": [
    "# count() returns the count of a substring in a string\n",
    "\n",
    "\"it is raining\".count(\"i\")"
   ]
  },
  {
   "cell_type": "code",
   "execution_count": 25,
   "id": "98b45d32",
   "metadata": {},
   "outputs": [
    {
     "data": {
      "text/plain": [
       "10"
      ]
     },
     "execution_count": 25,
     "metadata": {},
     "output_type": "execute_result"
    }
   ],
   "source": [
    "# find() it returns the position of the first occurance of the substring\n",
    "\n",
    "\"it is raining\".find(\"ing\")"
   ]
  },
  {
   "cell_type": "code",
   "execution_count": 26,
   "id": "9e34a8d5",
   "metadata": {},
   "outputs": [
    {
     "name": "stdout",
     "output_type": "stream",
     "text": [
      "substring not found\n"
     ]
    }
   ],
   "source": [
    "# index() almost same as find() but here it will throw error if the substring is not present\n",
    "# But in find() it returns -1 if the substring is not present in the string\n",
    "\n",
    "try:\n",
    "    \"it is raining\".index(\"x\")\n",
    "except Exception as err:\n",
    "    print(err)"
   ]
  },
  {
   "cell_type": "markdown",
   "id": "d63fe931",
   "metadata": {},
   "source": [
    "**endswith/startswith**"
   ]
  },
  {
   "cell_type": "code",
   "execution_count": 27,
   "id": "6f2f058f",
   "metadata": {},
   "outputs": [
    {
     "data": {
      "text/plain": [
       "False"
      ]
     },
     "execution_count": 27,
     "metadata": {},
     "output_type": "execute_result"
    }
   ],
   "source": [
    "# endswith() returns boolean value if the string matches with the end value\n",
    "\n",
    "\"it is raining\".endswith(\"ingef\")"
   ]
  },
  {
   "cell_type": "code",
   "execution_count": 28,
   "id": "6df46669",
   "metadata": {},
   "outputs": [
    {
     "data": {
      "text/plain": [
       "True"
      ]
     },
     "execution_count": 28,
     "metadata": {},
     "output_type": "execute_result"
    }
   ],
   "source": [
    "# startswith() same as endswith\n",
    "\n",
    "\"it is raining\".startswith(\"it\")"
   ]
  },
  {
   "cell_type": "markdown",
   "id": "22597996",
   "metadata": {},
   "source": [
    "**format**"
   ]
  },
  {
   "cell_type": "code",
   "execution_count": 29,
   "id": "4035f67a",
   "metadata": {},
   "outputs": [
    {
     "data": {
      "text/plain": [
       "'Hello my name is Nitish and I am 30'"
      ]
     },
     "execution_count": 29,
     "metadata": {},
     "output_type": "execute_result"
    }
   ],
   "source": [
    "# format() to write values in a string\n",
    "\n",
    "\"Hello my name is {} and I am {}\".format(\"Nitish\",30)"
   ]
  },
  {
   "cell_type": "markdown",
   "id": "926d341b",
   "metadata": {},
   "source": [
    "**isalnum/ isalpha/ isdecimal/ isdigit/ isidentifier**"
   ]
  },
  {
   "cell_type": "code",
   "execution_count": 30,
   "id": "f8de2d58",
   "metadata": {},
   "outputs": [
    {
     "data": {
      "text/plain": [
       "False"
      ]
     },
     "execution_count": 30,
     "metadata": {},
     "output_type": "execute_result"
    }
   ],
   "source": [
    "# isalnum() for Alphanumeric\n",
    "\n",
    "\"FLAT20&\".isalnum()"
   ]
  },
  {
   "cell_type": "code",
   "execution_count": 31,
   "id": "8bdc0347",
   "metadata": {},
   "outputs": [
    {
     "data": {
      "text/plain": [
       "False"
      ]
     },
     "execution_count": 31,
     "metadata": {},
     "output_type": "execute_result"
    }
   ],
   "source": [
    "# isalpha() for Alphabetic\n",
    "\n",
    "\"FLAT20\".isalpha()"
   ]
  },
  {
   "cell_type": "code",
   "execution_count": 32,
   "id": "93628ed3",
   "metadata": {},
   "outputs": [
    {
     "data": {
      "text/plain": [
       "False"
      ]
     },
     "execution_count": 32,
     "metadata": {},
     "output_type": "execute_result"
    }
   ],
   "source": [
    "# isdigit() for digit\n",
    "\n",
    "\"20A\".isdigit()"
   ]
  },
  {
   "cell_type": "code",
   "execution_count": 33,
   "id": "87d4e219",
   "metadata": {},
   "outputs": [
    {
     "data": {
      "text/plain": [
       "True"
      ]
     },
     "execution_count": 33,
     "metadata": {},
     "output_type": "execute_result"
    }
   ],
   "source": [
    "# isidentifier() for identification\n",
    "\n",
    "\"hello_world\".isidentifier()"
   ]
  },
  {
   "cell_type": "markdown",
   "id": "4669790d",
   "metadata": {},
   "source": [
    "**Split/Join**"
   ]
  },
  {
   "cell_type": "code",
   "execution_count": 34,
   "id": "1eaa7cb9",
   "metadata": {},
   "outputs": [
    {
     "data": {
      "text/plain": [
       "['who', 'is', 'the', 'pm', 'of', 'india']"
      ]
     },
     "execution_count": 34,
     "metadata": {},
     "output_type": "execute_result"
    }
   ],
   "source": [
    "# To split a string\n",
    "# By default it uses blank space\n",
    "# It returns a list\n",
    "\n",
    "\"who is the pm of india\".split()"
   ]
  },
  {
   "cell_type": "code",
   "execution_count": 35,
   "id": "284f34e8",
   "metadata": {},
   "outputs": [
    {
     "data": {
      "text/plain": [
       "['who i', ' the pm of india']"
      ]
     },
     "execution_count": 35,
     "metadata": {},
     "output_type": "execute_result"
    }
   ],
   "source": [
    "# Here we are splitting on the basis of \"s\"\n",
    "\n",
    "\"who is the pm of india\".split(\"s\")"
   ]
  },
  {
   "cell_type": "code",
   "execution_count": 36,
   "id": "30d47d8c",
   "metadata": {},
   "outputs": [
    {
     "data": {
      "text/plain": [
       "'who is the pm of india'"
      ]
     },
     "execution_count": 36,
     "metadata": {},
     "output_type": "execute_result"
    }
   ],
   "source": [
    "# Joining different strings, by default it use space\n",
    "\n",
    "\" \".join(['who', 'is', 'the', 'pm', 'of', 'india'])"
   ]
  },
  {
   "cell_type": "code",
   "execution_count": 37,
   "id": "b9fe2458",
   "metadata": {},
   "outputs": [
    {
     "data": {
      "text/plain": [
       "'who-is-the-pm-of-india'"
      ]
     },
     "execution_count": 37,
     "metadata": {},
     "output_type": "execute_result"
    }
   ],
   "source": [
    "# Joinning using \"-\"\n",
    "\n",
    "\"-\".join(['who', 'is', 'the', 'pm', 'of', 'india'])"
   ]
  },
  {
   "cell_type": "markdown",
   "id": "a1e8560f",
   "metadata": {},
   "source": [
    "**Replace**"
   ]
  },
  {
   "cell_type": "code",
   "execution_count": 38,
   "id": "b1cdb3fc",
   "metadata": {},
   "outputs": [
    {
     "data": {
      "text/plain": [
       "'Hi my name is Amit'"
      ]
     },
     "execution_count": 38,
     "metadata": {},
     "output_type": "execute_result"
    }
   ],
   "source": [
    "# Replacing a substring in a string\n",
    "\n",
    "\"Hi my name is Nitish\".replace(\"Nitish\",\"Amit\")"
   ]
  },
  {
   "cell_type": "markdown",
   "id": "9e9ebb4e",
   "metadata": {},
   "source": [
    "**Strip**"
   ]
  },
  {
   "cell_type": "code",
   "execution_count": 39,
   "id": "ccc86440",
   "metadata": {},
   "outputs": [
    {
     "data": {
      "text/plain": [
       "'nitish'"
      ]
     },
     "execution_count": 39,
     "metadata": {},
     "output_type": "execute_result"
    }
   ],
   "source": [
    "# stripping blank spaces\n",
    "\n",
    "name = \"               nitish              \"\n",
    "name.strip()"
   ]
  },
  {
   "cell_type": "markdown",
   "id": "93d13765",
   "metadata": {},
   "source": [
    "## Example Programs"
   ]
  },
  {
   "cell_type": "code",
   "execution_count": 1,
   "id": "778a1c71",
   "metadata": {},
   "outputs": [
    {
     "name": "stdout",
     "output_type": "stream",
     "text": [
      "Enter the string: Hello my name is Arunava Biswas\n",
      "Length of the given string is:  31\n"
     ]
    }
   ],
   "source": [
    "# Find the length of a given string without using the len() function\n",
    "\n",
    "s = input('Enter the string: ')\n",
    "\n",
    "counter = 0\n",
    "\n",
    "for i in s:\n",
    "    counter += 1\n",
    "\n",
    "print('Length of the given string is: ',counter)"
   ]
  },
  {
   "cell_type": "code",
   "execution_count": 2,
   "id": "c8748e2a",
   "metadata": {},
   "outputs": [
    {
     "name": "stdout",
     "output_type": "stream",
     "text": [
      "Enter the email: arunavabiswas@email.com\n",
      "The username is: arunavabiswas\n"
     ]
    }
   ],
   "source": [
    "# Extract username from a given email. \n",
    "# Eg if the email is nitish24singh@gmail.com \n",
    "# then the username should be nitish24singh\n",
    "\n",
    "s = input('Enter the email: ')\n",
    "\n",
    "pos = s.index('@')   # getting the position of '@'\n",
    "\n",
    "# Now doing slicing using the position of the \"@\"\n",
    "print(\"The username is: {}\".format(s[0:pos]))"
   ]
  },
  {
   "cell_type": "code",
   "execution_count": 3,
   "id": "d1dd3ba2",
   "metadata": {},
   "outputs": [
    {
     "name": "stdout",
     "output_type": "stream",
     "text": [
      "Enter the email: arunavabiswas@email.com\n",
      "Searching Character: a\n",
      "The frequency of the searched item \"a\" is: 5\n"
     ]
    }
   ],
   "source": [
    "# Count the frequency of a particular character in a provided string. \n",
    "# Eg 'hello how are you' is the string, the frequency of h in this string is 2.\n",
    "\n",
    "s = input('Enter the email: ')\n",
    "term = input('Searching Character: ')\n",
    "\n",
    "counter = 0\n",
    "for i in s:\n",
    "  if i == term:\n",
    "    counter += 1\n",
    "\n",
    "print('The frequency of the searched item \"{}\" is: {}'.format(term, counter))"
   ]
  },
  {
   "cell_type": "code",
   "execution_count": 4,
   "id": "811a2f1c",
   "metadata": {},
   "outputs": [
    {
     "name": "stdout",
     "output_type": "stream",
     "text": [
      "Enter the string: my name is arunava biswas\n",
      "Character to remove: a\n",
      "The changed string is: my nme is runv bisws\n"
     ]
    }
   ],
   "source": [
    "# Write a program which can remove a particular character from a string.\n",
    "# Here we need to put the result into a new string as strings are immutable.\n",
    "\n",
    "s = input('Enter the string: ')\n",
    "term = input('Character to remove: ')\n",
    "\n",
    "result = ''  # Creating an empty string\n",
    "\n",
    "for i in s:\n",
    "    if i != term:\n",
    "        result = result + i\n",
    "\n",
    "print(\"The changed string is: {}\".format(result))"
   ]
  },
  {
   "cell_type": "code",
   "execution_count": 5,
   "id": "8e5d1fda",
   "metadata": {},
   "outputs": [
    {
     "name": "stdout",
     "output_type": "stream",
     "text": [
      "Enter the string: malayalam\n",
      "The entered string is a Palindrome\n"
     ]
    }
   ],
   "source": [
    "# Write a program that can check whether a given string is palindrome or not.\n",
    "# abba\n",
    "# malayalam\n",
    "\n",
    "s = input('Enter the string: ')\n",
    "\n",
    "flag = True\n",
    "\n",
    "for i in range(0,len(s)//2):\n",
    "    if s[i] != s[len(s) - i -1]:\n",
    "        flag = False\n",
    "        print('The entered string is not a Palindrome')\n",
    "        break\n",
    "\n",
    "if flag:\n",
    "    print('The entered string is a Palindrome')"
   ]
  },
  {
   "cell_type": "code",
   "execution_count": 6,
   "id": "28673208",
   "metadata": {},
   "outputs": [
    {
     "name": "stdout",
     "output_type": "stream",
     "text": [
      "Enter the string: my name is arunava biswas\n",
      "['my', 'name', 'is', 'arunava', 'biswas']\n"
     ]
    }
   ],
   "source": [
    "# Write a program to count the number of words in a string without split()\n",
    "\n",
    "s = input('Enter the string: ')\n",
    "\n",
    "L = []\n",
    "temp = ''\n",
    "\n",
    "for i in s:\n",
    "    if i != ' ':\n",
    "        temp = temp + i\n",
    "    else:\n",
    "        L.append(temp)\n",
    "        temp = ''\n",
    "\n",
    "L.append(temp)  # so the last word also get appended\n",
    "print(L)"
   ]
  },
  {
   "cell_type": "code",
   "execution_count": 7,
   "id": "76de3b98",
   "metadata": {},
   "outputs": [
    {
     "name": "stdout",
     "output_type": "stream",
     "text": [
      "Enter the string: my name is arunava biswas\n",
      "My Name Is Arunava Biswas\n"
     ]
    }
   ],
   "source": [
    "# Write a python program to convert a string to title case without using the title()\n",
    "s = input('Enter the string: ')\n",
    "\n",
    "L = []\n",
    "\n",
    "for i in s.split():\n",
    "    L.append(i[0].upper() + i[1:].lower()) # making the first letter Capital and rest lower case\n",
    "\n",
    "print(\" \".join(L))"
   ]
  },
  {
   "cell_type": "code",
   "execution_count": 8,
   "id": "bd384fa5",
   "metadata": {},
   "outputs": [
    {
     "name": "stdout",
     "output_type": "stream",
     "text": [
      "Enter the number: 567\n",
      "567\n",
      "<class 'str'>\n"
     ]
    }
   ],
   "source": [
    "# Write a program that can convert an integer to string.\n",
    "\n",
    "number = int(input('Enter the number: '))\n",
    "\n",
    "digits = '0123456789'\n",
    "result = ''\n",
    "\n",
    "while number != 0:\n",
    "    result = digits[number % 10] + result\n",
    "    number = number//10\n",
    "\n",
    "print(result)\n",
    "print(type(result))"
   ]
  },
  {
   "cell_type": "code",
   "execution_count": null,
   "id": "a68fbd8e",
   "metadata": {},
   "outputs": [],
   "source": []
  }
 ],
 "metadata": {
  "kernelspec": {
   "display_name": "Python 3 (ipykernel)",
   "language": "python",
   "name": "python3"
  },
  "language_info": {
   "codemirror_mode": {
    "name": "ipython",
    "version": 3
   },
   "file_extension": ".py",
   "mimetype": "text/x-python",
   "name": "python",
   "nbconvert_exporter": "python",
   "pygments_lexer": "ipython3",
   "version": "3.9.15"
  }
 },
 "nbformat": 4,
 "nbformat_minor": 5
}
