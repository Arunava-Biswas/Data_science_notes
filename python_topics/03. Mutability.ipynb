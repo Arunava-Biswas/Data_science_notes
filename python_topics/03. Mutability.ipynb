{
 "cells": [
  {
   "cell_type": "markdown",
   "id": "8d52625a",
   "metadata": {},
   "source": [
    "### `Variable and Memory References / Mutability / Garbage Collection`\n",
    "\n",
    "\n",
    "**Variable and Memory References:**\n",
    "- Variables are stored in Memory locations (RAM). The Memory locations are represented in Hexadecimal values.\n",
    "- The address provided is the sarting point of the address where the variable is stored in RAM.\n",
    "- The Python language stores the variable as \"name\".\n",
    "- Here when we print the variable name it will point to the location of the variable where the value is stored.\n",
    "- This pointing towards the value is named \"Call By Object Reference\".\n",
    "\n",
    "\n",
    "**Aliasing:**\n",
    "- When we create a variable and create an alias of that variable the address of both the variable and it's alias will be same.\n",
    "- So both the variable and it's alias will point to the same location.\n",
    "- Even if we delete the variable the alias will still be there and keep pointing towards the value.\n",
    "- Here actually the value doesnot get deleted, it is the reference towards that value which actually gets deleted.\n",
    "\n",
    "\n",
    "**Reference Counting:**\n",
    "- To know how many variable are pointing towards one memory location.\n",
    "- To know this we use in built function \"getrefcount()\" from \"sys\" module.\n",
    "- When we run any Python program, it gets interpreted into the bytecode. The reference count of the object is calculated based on the number of times object is used in the bytecode (not from our high-level program code).\n",
    "\n",
    "\n",
    "**Garbage Collection:**\n",
    "- When we delete the variables pointing towards a  value stored in the memory, the value doesnot get deleted. As a result the memory stayed occupied even though no variable is using it, so it is a waste of memory (occupied but unused). This is not good. Now Python as a program doesnot allow the user to clear the memory manually unlike C program where we can use pointers.\n",
    "- In Python internally a program keeps running periodically known as \"Garbage Collector\". This program keeps running and checking if there is any memory which is occupied but unused. If it find any memory like that it will free that memory.\n",
    "- This process is known as \"Garbage Collection\".\n",
    "\n",
    "\n",
    "**Some interesting but Weired behaviors of Python:**\n",
    "\n",
    "**Weired Behavior 1:**\n",
    "- When using getrefcount() we should get the result as \"number of variables pointing towards that location + 1\" but instead we get some other anonymous numbers. \n",
    "- It happened because it shown the total number of variables pointing towards that memory at that time.\n",
    "- The reason behind it is if we store a common value (e.g. 2) in that variable then in the system already many variables are using that value as it is a common value. That is why it gives an anonymous number as a result.\n",
    "- In actual case here when we created \"a = 2\" then 2 doest not get created in the memory as it is already present in there and \"a\" just start pointing to the location of the value 2 which is already there in the memory.\n",
    "\n",
    "**Weired Behavior 2:**\n",
    "- If we store same values in 2 different variables the address of both the variables will be same.\n",
    "- But if we change the values in both the variables with same values sometimes the address will become different.\n",
    "- This happens because of Software Optimization.\n",
    "\n",
    "**Weired Behavior 3:**\n",
    "- When storing a string value which is a valid identifier (Doesnot start with a digit and has only \"_\" as special character in it) in variables then we will  get same address location.\n",
    "\n",
    "\n",
    "**Mutability:**\n",
    "- Mutability refers to the ability to change or edit data in it's memory location (memory address). \n",
    "- Mutability depends on the data type.\n",
    "- Immutable Data Types: String, Integer, Float, Bool, Complex, Tuple.\n",
    "- Mutable Data Types: List, Dictionary, Sets.\n",
    "- Remember whenever we apply any built in functions (append, insert, extend) on a mutable data type like \"list\" for editing then the memory address of the list after editing remains same. But if we do concatination with another list then the address gets changed as it will create a new list at a new memory location.\n",
    "\n",
    "\n",
    "**Cloning:**\n",
    "- Remember whenever working with a Mutable data type and we need to copy it then we should use Cloning. In this case the memory location of the copy is different from the original.\n",
    "\n",
    "\n",
    "\n",
    "<hr style=\"border:2px solid black\">"
   ]
  },
  {
   "cell_type": "code",
   "execution_count": 1,
   "id": "8f977f0c",
   "metadata": {},
   "outputs": [],
   "source": [
    "import sys"
   ]
  },
  {
   "cell_type": "code",
   "execution_count": 2,
   "id": "15c8a978",
   "metadata": {},
   "outputs": [
    {
     "name": "stdout",
     "output_type": "stream",
     "text": [
      "The error type is: NameError and the error is: (\"name 'a' is not defined\",).\n"
     ]
    }
   ],
   "source": [
    "# Creating a variable\n",
    "\n",
    "try:\n",
    "    print(a)\n",
    "except Exception as err:\n",
    "    print(f\"The error type is: {type(err).__name__} and the error is: {err.args}.\")"
   ]
  },
  {
   "cell_type": "code",
   "execution_count": 3,
   "id": "78a3136a",
   "metadata": {},
   "outputs": [
    {
     "name": "stdout",
     "output_type": "stream",
     "text": [
      "The location of variable a is: 2024570055056\n",
      "The Hexadecimal value of the above address is 0x1d761c76990\n"
     ]
    }
   ],
   "source": [
    "# Printing the location (Starting Address in RAM) of the variable\n",
    "\n",
    "a = 4\n",
    "\n",
    "try:\n",
    "    address = id(a)\n",
    "    print(f\"The location of variable a is: {address}\")\n",
    "    print(f\"The Hexadecimal value of the above address is {hex(address)}\")\n",
    "except Exception as err:\n",
    "    print(f\"The error type is: {type(err).__name__} and the error is: {err.args}.\")"
   ]
  },
  {
   "cell_type": "code",
   "execution_count": 4,
   "id": "8e2a3ae3",
   "metadata": {},
   "outputs": [
    {
     "name": "stdout",
     "output_type": "stream",
     "text": [
      "The location of variable a is: 2024570055056\n",
      "The location of variable b is: 2024570055056\n",
      "The Hexadecimal value of the above addresses are 0x1d761c76990 and 0x1d761c76990\n"
     ]
    }
   ],
   "source": [
    "# Aliasing\n",
    "\n",
    "a = 4\n",
    "b = a # Creating alias of variable a\n",
    "\n",
    "try:\n",
    "    address1 = id(a)\n",
    "    address2 = id(b)\n",
    "    print(f\"The location of variable a is: {address1}\")\n",
    "    print(f\"The location of variable b is: {address2}\")\n",
    "    print(f\"The Hexadecimal value of the above addresses are {hex(address1)} and {hex(address2)}\")\n",
    "except Exception as err:\n",
    "    print(f\"The error type is: {type(err).__name__} and the error is: {err.args}.\")"
   ]
  },
  {
   "cell_type": "code",
   "execution_count": 5,
   "id": "6a6100a9",
   "metadata": {},
   "outputs": [
    {
     "name": "stdout",
     "output_type": "stream",
     "text": [
      "The error type is: NameError and the error is: (\"name 'a' is not defined\",).\n",
      "The location of variable b is: 2024570055056\n",
      "The value stored in variable b is: 4\n"
     ]
    }
   ],
   "source": [
    "# After deleting the original variable\n",
    "\n",
    "a = 4\n",
    "b = a # Creating alias of variable a\n",
    "del a # Deleting the variable a\n",
    "\n",
    "try:\n",
    "    address1 = id(a)\n",
    "    address2 = id(b)\n",
    "    print(f\"The location of variable a is: {address1}\")\n",
    "except Exception as err:\n",
    "    print(f\"The error type is: {type(err).__name__} and the error is: {err.args}.\")\n",
    "finally:\n",
    "    print(f\"The location of variable b is: {address2}\")\n",
    "    print(f\"The value stored in variable b is: {b}\")"
   ]
  },
  {
   "cell_type": "code",
   "execution_count": 6,
   "id": "c06f9e11",
   "metadata": {},
   "outputs": [
    {
     "name": "stdout",
     "output_type": "stream",
     "text": [
      "The location of variable x is: 2024654543536\n",
      "The location of variable y is: 2024654543536\n",
      "The location of variable z is: 2024654543536\n",
      "The value stored in variable x is: vsvsvgsgvrgv\n",
      "Number of references pointing towards the address is 5\n"
     ]
    }
   ],
   "source": [
    "# Reference Counting\n",
    "\n",
    "x = \"vsvsvgsgvrgv\"\n",
    "y = x # Creating alias of variable x\n",
    "z = y # Creating alias of variable y\n",
    "\n",
    "try:\n",
    "    address1 = id(x)\n",
    "    address2 = id(y)\n",
    "    address3 = id(z)\n",
    "    print(f\"The location of variable x is: {address1}\")\n",
    "    print(f\"The location of variable y is: {address2}\")\n",
    "    print(f\"The location of variable z is: {address3}\")\n",
    "    print(f\"The value stored in variable x is: {x}\")\n",
    "    print(f\"Number of references pointing towards the address is {sys.getrefcount(x)}\")\n",
    "except Exception as err:\n",
    "    print(f\"The error type is: {type(err).__name__} and the error is: {err.args}.\")"
   ]
  },
  {
   "cell_type": "code",
   "execution_count": 7,
   "id": "dac1dd02",
   "metadata": {},
   "outputs": [
    {
     "name": "stdout",
     "output_type": "stream",
     "text": [
      "The location of variable x is: 2024570054992\n",
      "The location of variable y is: 2024570054992\n",
      "The location of variable z is: 2024570054992\n",
      "The value stored in variable x is: 2\n",
      "Number of references pointing towards the address is 1701\n"
     ]
    }
   ],
   "source": [
    "# Weired Behavior 1\n",
    "\n",
    "x = 2\n",
    "y = x \n",
    "z = y \n",
    "\n",
    "try:\n",
    "    address1 = id(x)\n",
    "    address2 = id(y)\n",
    "    address3 = id(z)\n",
    "    print(f\"The location of variable x is: {address1}\")\n",
    "    print(f\"The location of variable y is: {address2}\")\n",
    "    print(f\"The location of variable z is: {address3}\")\n",
    "    print(f\"The value stored in variable x is: {x}\")\n",
    "    print(f\"Number of references pointing towards the address is {sys.getrefcount(x)}\")\n",
    "except Exception as err:\n",
    "    print(f\"The error type is: {type(err).__name__} and the error is: {err.args}.\")"
   ]
  },
  {
   "cell_type": "code",
   "execution_count": 8,
   "id": "9be99971",
   "metadata": {},
   "outputs": [
    {
     "name": "stdout",
     "output_type": "stream",
     "text": [
      "The location of variable x is: 2024570251664\n",
      "The location of variable n is: 2024570251664\n",
      "The value stored in variable x is: 256\n",
      "The value stored in variable n is: 256\n"
     ]
    }
   ],
   "source": [
    "# Weired Behavior 2\n",
    "\n",
    "x = 256\n",
    "n = 256\n",
    "\n",
    "try:\n",
    "    address1 = id(x)\n",
    "    address2 = id(n)\n",
    "    print(f\"The location of variable x is: {address1}\")\n",
    "    print(f\"The location of variable n is: {address2}\")\n",
    "    print(f\"The value stored in variable x is: {x}\")\n",
    "    print(f\"The value stored in variable n is: {n}\")\n",
    "except Exception as err:\n",
    "    print(f\"The error type is: {type(err).__name__} and the error is: {err.args}.\")"
   ]
  },
  {
   "cell_type": "code",
   "execution_count": 9,
   "id": "1999ec60",
   "metadata": {},
   "outputs": [
    {
     "name": "stdout",
     "output_type": "stream",
     "text": [
      "The address of the string a before editing is: 2024654609328\n",
      "The address of the string a after editing is: 2024654567920\n"
     ]
    }
   ],
   "source": [
    "# Example of immutability \n",
    "\n",
    "# Creating a string variable\n",
    "a = \"Hello\"\n",
    "print(f\"The address of the string a before editing is: {id(a)}\")\n",
    "# Making changes to the variable\n",
    "a = a + \" World\"\n",
    "print(f\"The address of the string a after editing is: {id(a)}\")"
   ]
  },
  {
   "cell_type": "markdown",
   "id": "eff2afef",
   "metadata": {},
   "source": [
    "**So here we can see that the address location has changed means now the variable \"a\" after editing is a new variable stored in a new location. So Strings are immutable. Same logic applies for tuple etc.**"
   ]
  },
  {
   "cell_type": "code",
   "execution_count": 10,
   "id": "6a71a57a",
   "metadata": {},
   "outputs": [
    {
     "name": "stdout",
     "output_type": "stream",
     "text": [
      "The address of the list l before editing is: 2024654903552\n",
      "After appending the list is: [1, 2, 3, 4]\n",
      "The address of the list l after editing is: 2024654903552\n"
     ]
    }
   ],
   "source": [
    "# Doing same with a mutable data type\n",
    "\n",
    "l = [1, 2, 3]\n",
    "print(f\"The address of the list l before editing is: {id(l)}\")\n",
    "# Now adding one new item in the list\n",
    "l.append(4)\n",
    "print(f\"After appending the list is: {l}\")\n",
    "print(f\"The address of the list l after editing is: {id(l)}\")"
   ]
  },
  {
   "cell_type": "markdown",
   "id": "7122b12d",
   "metadata": {},
   "source": [
    "**Here we can see the memory location remains the same even after editing the mutable data type.**"
   ]
  },
  {
   "cell_type": "code",
   "execution_count": 11,
   "id": "ae9f4b17",
   "metadata": {},
   "outputs": [
    {
     "name": "stdout",
     "output_type": "stream",
     "text": [
      "The address of the list l before editing is: 2024654893440 and value is: [1, 2, 3]\n",
      "The address of the list l after editing is: 2024654893440 and value is: [1, 2, 3, 4, 5]\n",
      "The address of the list l after concatination is: 2024654904320 and value is: [1, 2, 3, 4, 5, 6, 7, 8]\n"
     ]
    }
   ],
   "source": [
    "# List Concatination\n",
    "\n",
    "l = [1, 2, 3]\n",
    "print(f\"The address of the list l before editing is: {id(l)} and value is: {l}\")\n",
    "# Now adding values using builtin function extend\n",
    "l3 = [4, 5]\n",
    "l.extend(l3)\n",
    "print(f\"The address of the list l after editing is: {id(l)} and value is: {l}\")\n",
    "# Now doing concatination to edit the list\n",
    "l = l + [6, 7, 8]\n",
    "print(f\"The address of the list l after concatination is: {id(l)} and value is: {l}\")"
   ]
  },
  {
   "cell_type": "code",
   "execution_count": 12,
   "id": "aff6267d",
   "metadata": {},
   "outputs": [
    {
     "name": "stdout",
     "output_type": "stream",
     "text": [
      "The address of the list l is: 2024654889600 and the value is: [1, 2, 3]\n",
      "Now the memory location of list l: 2024654889600 and l1: 2024654889600\n"
     ]
    }
   ],
   "source": [
    "# Clonning\n",
    "\n",
    "l = [1, 2, 3]\n",
    "print(f\"The address of the list l is: {id(l)} and the value is: {l}\")\n",
    "# If we make direct copy that is alias\n",
    "l1 = l\n",
    "print(f\"Now the memory location of list l: {id(l)} and l1: {id(l1)}\")"
   ]
  },
  {
   "cell_type": "markdown",
   "id": "d24fbce9",
   "metadata": {},
   "source": [
    "**So as the memory location is same so if we make any changes in the list `l1` it will also be reflected in tghe original list `l`.**"
   ]
  },
  {
   "cell_type": "code",
   "execution_count": 13,
   "id": "9aeb0643",
   "metadata": {},
   "outputs": [
    {
     "name": "stdout",
     "output_type": "stream",
     "text": [
      "Now the memory location of list l: 2024654889600 and l2: 2024654904320\n",
      "The value of list l: [1, 2, 3] and l2: [1, 2, 3, 4]\n"
     ]
    }
   ],
   "source": [
    "# Now making a copy using cloning\n",
    "l2 = l[:]\n",
    "print(f\"Now the memory location of list l: {id(l)} and l2: {id(l2)}\")\n",
    "# So now if we make changes in the copy list \"l2\" it will not impact the original list \"l\"\n",
    "l2.append(4)\n",
    "print(f\"The value of list l: {l} and l2: {l2}\")"
   ]
  },
  {
   "cell_type": "code",
   "execution_count": null,
   "id": "e4337d45",
   "metadata": {},
   "outputs": [],
   "source": []
  }
 ],
 "metadata": {
  "kernelspec": {
   "display_name": "Python 3 (ipykernel)",
   "language": "python",
   "name": "python3"
  },
  "language_info": {
   "codemirror_mode": {
    "name": "ipython",
    "version": 3
   },
   "file_extension": ".py",
   "mimetype": "text/x-python",
   "name": "python",
   "nbconvert_exporter": "python",
   "pygments_lexer": "ipython3",
   "version": "3.9.15"
  }
 },
 "nbformat": 4,
 "nbformat_minor": 5
}
