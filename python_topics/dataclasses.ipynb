{
 "cells": [
  {
   "cell_type": "markdown",
   "id": "1c9f543c-5010-4e1c-8085-b094a5d495af",
   "metadata": {},
   "source": [
    "## Dataclasses\n",
    "\n",
    "- This is a recent addition from python *`3.7`*\n",
    "- To do all the changes manually for all the classes we define is a huge task.\n",
    "- Like the initialization function, i.e. if we know all the parameters we are going to pass to the initialization function are going to the properties of the class objects, then there is no reason to write these assignment operators for all the parameters again and again.\n",
    "- Also in case of representation and comparing we need to manually override the `__repr__()` and `__eq__()` for all the classes we are going to define. Like we want the equality operator to compare on the basis of the values of the objects.\n",
    "- To overcome these problems we use the **dataclasses** module."
   ]
  },
  {
   "cell_type": "markdown",
   "id": "61a5d962-8ba1-4e09-8204-255c64a4ac4b",
   "metadata": {},
   "source": [
    "#### Normal Class Situation"
   ]
  },
  {
   "cell_type": "code",
   "execution_count": 1,
   "id": "15577e66-af9b-4cbd-a528-4c4c473a933a",
   "metadata": {},
   "outputs": [],
   "source": [
    "# Creating a Normal class\n",
    "\n",
    "class Person:\n",
    "    # initializing the attributes/properties of the class\n",
    "    def __init__(self, name, age, city):\n",
    "        self.name = name\n",
    "        self.age = age\n",
    "        self.city = city"
   ]
  },
  {
   "cell_type": "code",
   "execution_count": 2,
   "id": "34283cbe-1d75-427b-ada0-ba2283fd8aed",
   "metadata": {},
   "outputs": [],
   "source": [
    "# Now creating an instance of the class\n",
    "\n",
    "p = Person(\"Arunava\", 35, \"Kolkata\")"
   ]
  },
  {
   "cell_type": "code",
   "execution_count": 3,
   "id": "965cdda6-c06f-4a6c-b2dc-c7148574665d",
   "metadata": {},
   "outputs": [
    {
     "data": {
      "text/plain": [
       "('Arunava', 35, 'Kolkata')"
      ]
     },
     "execution_count": 3,
     "metadata": {},
     "output_type": "execute_result"
    }
   ],
   "source": [
    "# Checking the properties of the instance\n",
    "\n",
    "p.name, p.age, p.city"
   ]
  },
  {
   "cell_type": "code",
   "execution_count": 4,
   "id": "1a3481ef-ba0c-4b48-98cc-d4d3b75e1fba",
   "metadata": {},
   "outputs": [
    {
     "data": {
      "text/plain": [
       "<__main__.Person at 0x7f118bfe68f0>"
      ]
     },
     "execution_count": 4,
     "metadata": {},
     "output_type": "execute_result"
    }
   ],
   "source": [
    "# Now the representation of the normal class object\n",
    "# This is the default representation\n",
    "\n",
    "p"
   ]
  },
  {
   "cell_type": "code",
   "execution_count": 5,
   "id": "17173c77-5d91-4107-b73a-54c5b4382ac8",
   "metadata": {},
   "outputs": [],
   "source": [
    "# Now to give a better representation of the class object \n",
    "# we can override the magic method __repr__() in the class\n",
    "\n",
    "class Person:\n",
    "    # initializing the attributes/properties of the class\n",
    "    def __init__(self, name, age, city):\n",
    "        self.name = name\n",
    "        self.age = age\n",
    "        self.city = city\n",
    "        \n",
    "    # customizing the __repr__() to change the default representation\n",
    "    def __repr__(self):\n",
    "        return f\"Person(name={self.name}, age={self.age}, city={self.city})\"\n",
    "    \n",
    "    \n",
    "# Now creating an instance of the class\n",
    "p = Person(\"Arunava\", 35, \"Kolkata\")"
   ]
  },
  {
   "cell_type": "code",
   "execution_count": 6,
   "id": "9dfbaa88-b488-406f-9a87-27c4ad4a0b63",
   "metadata": {},
   "outputs": [
    {
     "data": {
      "text/plain": [
       "Person(name=Arunava, age=35, city=Kolkata)"
      ]
     },
     "execution_count": 6,
     "metadata": {},
     "output_type": "execute_result"
    }
   ],
   "source": [
    "# Now again checking the representation of the class object\n",
    "# It is much more prettier than the previous one\n",
    "\n",
    "p"
   ]
  },
  {
   "cell_type": "code",
   "execution_count": 7,
   "id": "9a62abb8-481d-4e16-8716-fc220a20f497",
   "metadata": {},
   "outputs": [
    {
     "data": {
      "text/plain": [
       "False"
      ]
     },
     "execution_count": 7,
     "metadata": {},
     "output_type": "execute_result"
    }
   ],
   "source": [
    "# Now comparing two class objects\n",
    "# Here we get False as even though the two instances have same values \n",
    "# But they are stored as two seperate classes in two seperate memory locations\n",
    "\n",
    "p1 = Person(\"Arunava\", 35, \"Kolkata\")\n",
    "p2 = Person(\"Arunava\", 35, \"Kolkata\")\n",
    "\n",
    "# checking equality of two class objects\n",
    "p1 == p2"
   ]
  },
  {
   "cell_type": "code",
   "execution_count": 8,
   "id": "d1cbe4eb-e5a6-4be3-8d2a-2afe0348fe23",
   "metadata": {},
   "outputs": [],
   "source": [
    "# To overcome this problem we need to override another magic method __eq__() \n",
    "# which checks the equality operator\n",
    "# This __eq__() gets triggered when we want to check the equality between two objects of a class\n",
    "\n",
    "class Person:\n",
    "    # initializing the attributes/properties of the class\n",
    "    def __init__(self, name, age, city):\n",
    "        self.name = name\n",
    "        self.age = age\n",
    "        self.city = city\n",
    "        \n",
    "    # customizing the __repr__() to change the default representation\n",
    "    def __repr__(self):\n",
    "        return f\"Person(name={self.name}, age={self.age}, city={self.city})\"\n",
    "    \n",
    "    # here 'self' refers to the 1st object and 'other' refers to the another object\n",
    "    def __eq__(self, other):\n",
    "        return (self.name, self.age, self.city) == (other.name, other.age, other.city)\n",
    "    \n",
    "    \n",
    "# Now creating an instances of the class\n",
    "p1 = Person(\"Arunava\", 35, \"Kolkata\")\n",
    "p2 = Person(\"Arunava\", 35, \"Kolkata\")"
   ]
  },
  {
   "cell_type": "code",
   "execution_count": 9,
   "id": "545bd0c1-c144-4a3e-94f0-0411d5415c22",
   "metadata": {},
   "outputs": [
    {
     "data": {
      "text/plain": [
       "True"
      ]
     },
     "execution_count": 9,
     "metadata": {},
     "output_type": "execute_result"
    }
   ],
   "source": [
    "# Now again comparing\n",
    "# Now it is True\n",
    "\n",
    "p1 == p2"
   ]
  },
  {
   "cell_type": "markdown",
   "id": "f6dd4a76-445a-4ddd-bcc5-00ed39219731",
   "metadata": {},
   "source": [
    "#### Now using `dataclass`\n",
    "\n",
    "- **dataclass** is a `decorator` function for the classes so we put it as **`@dataclass`**\n",
    "- To apply dataclass first we need to know what properties of the class object do we need?\n",
    "- Then along with these properties we need to provide the `type hints` so we can store certain kind of variables in these properties. We need to apply these with notations like `:`"
   ]
  },
  {
   "cell_type": "code",
   "execution_count": 10,
   "id": "ec2fa31e-8fea-447b-806e-5432f9093b80",
   "metadata": {},
   "outputs": [],
   "source": [
    "# importing the function 'dataclass' from the module 'dataclasses'\n",
    "\n",
    "from dataclasses import dataclass"
   ]
  },
  {
   "cell_type": "code",
   "execution_count": 11,
   "id": "9a14f0fd-eca6-4b82-b59c-378c320a6fdf",
   "metadata": {},
   "outputs": [],
   "source": [
    "# Applying dataclass\n",
    "# Here we want the properties 'name', 'age' and 'city' of the class object.\n",
    "# Here we store 'str' kind in both 'name' and 'city' and 'int' kind in 'age'.\n",
    "# Here we have given a brief overview how we want the properties of our class object.\n",
    "\n",
    "@dataclass\n",
    "class NewPerson:\n",
    "    name: str\n",
    "    age: int\n",
    "    city: str"
   ]
  },
  {
   "cell_type": "code",
   "execution_count": 12,
   "id": "51796df3-5a9c-4a11-af61-245fc82aabe5",
   "metadata": {},
   "outputs": [],
   "source": [
    "# Now creating an instance of the class\n",
    "\n",
    "p = NewPerson(\"Arunava\", 35, \"Kolkata\")"
   ]
  },
  {
   "cell_type": "code",
   "execution_count": 13,
   "id": "0cc0b8f9-c240-49ab-8c83-8d43cfb1ee43",
   "metadata": {},
   "outputs": [
    {
     "data": {
      "text/plain": [
       "('Arunava', 35, 'Kolkata')"
      ]
     },
     "execution_count": 13,
     "metadata": {},
     "output_type": "execute_result"
    }
   ],
   "source": [
    "# Checking the properties of the instance\n",
    "# Here we get the values even without creating the initialization function \n",
    "# it is done by the '@dataclass' by default.\n",
    "\n",
    "p.name, p.age, p.city"
   ]
  },
  {
   "cell_type": "code",
   "execution_count": 14,
   "id": "a02268d5-32c9-49c9-8bd6-683db095a6e8",
   "metadata": {},
   "outputs": [
    {
     "data": {
      "text/plain": [
       "NewPerson(name='Arunava', age=35, city='Kolkata')"
      ]
     },
     "execution_count": 14,
     "metadata": {},
     "output_type": "execute_result"
    }
   ],
   "source": [
    "# Now again checking the representation of the class object\n",
    "# Here the '__repr__()' gets modified by the @dataclass\n",
    "\n",
    "p"
   ]
  },
  {
   "cell_type": "code",
   "execution_count": 15,
   "id": "28f74fd2-841e-4048-919d-2f4221c8ecf7",
   "metadata": {},
   "outputs": [
    {
     "data": {
      "text/plain": [
       "True"
      ]
     },
     "execution_count": 15,
     "metadata": {},
     "output_type": "execute_result"
    }
   ],
   "source": [
    "# Now comparing two class objects\n",
    "# Here also the '__eq__()' gets modified by the @dataclass\n",
    "\n",
    "p1 = Person(\"Arunava\", 35, \"Kolkata\")\n",
    "p2 = Person(\"Arunava\", 35, \"Kolkata\")\n",
    "\n",
    "# checking equality of two class objects\n",
    "p1 == p2"
   ]
  },
  {
   "cell_type": "markdown",
   "id": "a34cb849-b689-4707-88cd-ae1bca750f1d",
   "metadata": {},
   "source": [
    "### Different `parameters` of the `dataclass`\n",
    "\n",
    "- syntax is:\n",
    "    \n",
    "    **`dataclass(cls=None, *, init=True, repr=True, eq=True, order=False, unsafe_hash=False, frozen=False)`**\n",
    "    \n",
    "\n",
    "- **init** : It is an optional parameter that is set to `True` by default. It creates the `__init__()` for the class by default. It gets run automatically when we create a new object of that class, and the values passed by the object are set as properties of the class object.\n",
    "\n",
    "- **repr** : It is an optional parameter that is set to `True` by default. It creates the `__repr__()` for the class object by default that provides the representation of the class object. If we change the value to `False` we will get the output as we get in case of the default representation of the class object.\n",
    "\n",
    "- **eq** : It is an optional parameter that is set to `True` by default. It creates the `__eq__()` for the class object by default that compares the values of two objects of the same class. There is another function `__ne__()` it is for **Not Equal To**. It also gets created automatically when using the @dataclass.\n",
    "\n",
    "- **order** : It is an optional parameter that is set to `False` by default. It provides the implementation of the functions for `<`, `<=`, `>` and `>=` operations. It gets triggerred when we try to implement any of these operations between two class objects. It triggers the following functions for following operations if we set the value as `True`.\n",
    "    - For `<` it triggers the `__lt__()`\n",
    "    - For `<=` it triggers the `__le__()`\n",
    "    - For `>` it triggers the `__gt__()`\n",
    "    - For `>=` it triggers the `__ge__()`\n",
    "    \n",
    "\n",
    "- **unsafe_hash** : In Python for immutable objects there is a concept called `hash value` that is a value which gets calculated upon the values of that given object and it generates an integer out of it, which uniquely identifies that particular object. So by using this parameter if we set the value to `True` we can get a hash value even for classes with immutable properties.\n",
    "\n",
    "- **frozen** : By default we can make changes to the class properties of the class object. To restrict the changes in the properties of the class objects we use this parameter. By default it is set as `False`. This make the properties immutable if we change the value to `True`. With this we can make any property of the class frozen, so new value can be assign to the properties of the class."
   ]
  },
  {
   "cell_type": "code",
   "execution_count": 16,
   "id": "0c9344d0-5432-4d29-b8b3-7dd7c9d191b1",
   "metadata": {},
   "outputs": [
    {
     "data": {
      "text/plain": [
       "('Arunava', 35, 'Kolkata')"
      ]
     },
     "execution_count": 16,
     "metadata": {},
     "output_type": "execute_result"
    }
   ],
   "source": [
    "# Using the 'init'\n",
    "\n",
    "# Creating a class using @dataclass\n",
    "@dataclass\n",
    "class Person:\n",
    "    name: str\n",
    "    age: int\n",
    "    city: str\n",
    "\n",
    "# Creating instance of the class    \n",
    "p = Person(\"Arunava\", 35, \"Kolkata\")\n",
    "\n",
    "# Checking the properties of the class\n",
    "p.name, p.age, p.city"
   ]
  },
  {
   "cell_type": "code",
   "execution_count": 17,
   "id": "d11f6679-c8ee-41bc-9b01-789dbb61c6f3",
   "metadata": {},
   "outputs": [
    {
     "data": {
      "text/plain": [
       "Person(name='Arunava', age=35, city='Kolkata')"
      ]
     },
     "execution_count": 17,
     "metadata": {},
     "output_type": "execute_result"
    }
   ],
   "source": [
    "# Using the 'repr'\n",
    "\n",
    "# Creating a class using @dataclass\n",
    "@dataclass\n",
    "class Person:\n",
    "    name: str\n",
    "    age: int\n",
    "    city: str\n",
    "\n",
    "# Creating instance of the class    \n",
    "p = Person(\"Arunava\", 35, \"Kolkata\")\n",
    "\n",
    "# Checking the representation of the class\n",
    "p"
   ]
  },
  {
   "cell_type": "code",
   "execution_count": 18,
   "id": "e140f267-dd1f-415d-be3c-7a52ec114879",
   "metadata": {},
   "outputs": [
    {
     "data": {
      "text/plain": [
       "True"
      ]
     },
     "execution_count": 18,
     "metadata": {},
     "output_type": "execute_result"
    }
   ],
   "source": [
    "# Using the 'eq'\n",
    "\n",
    "# Creating a class using @dataclass\n",
    "@dataclass\n",
    "class Person:\n",
    "    name: str\n",
    "    age: int\n",
    "    city: str\n",
    "\n",
    "# Creating instances of the class    \n",
    "p1 = Person(\"Arunava\", 35, \"Kolkata\")\n",
    "p2 = Person(\"Arunava\", 35, \"Kolkata\")\n",
    "\n",
    "# Comparing the objects\n",
    "p1 == p2"
   ]
  },
  {
   "cell_type": "code",
   "execution_count": 19,
   "id": "1355d4df-8d5d-451a-be34-9eae357fa41f",
   "metadata": {},
   "outputs": [
    {
     "data": {
      "text/plain": [
       "(True, False, True)"
      ]
     },
     "execution_count": 19,
     "metadata": {},
     "output_type": "execute_result"
    }
   ],
   "source": [
    "# Using the 'order=True'\n",
    "\n",
    "# Creating a class using @dataclass\n",
    "@dataclass(order=True)\n",
    "class Person:\n",
    "    name: str\n",
    "    age: int\n",
    "    city: str\n",
    "\n",
    "# Creating instances of the class    \n",
    "p1 = Person(\"Arunava\", 35, \"Kolkata\")\n",
    "p2 = Person(\"Arunava\", 37, \"Kolkata\")\n",
    "p3 = Person(\"Arunava\", 35, \"Kolkata\")\n",
    "p4 = Person(\"Arunava\", 38, \"Kolkata\")\n",
    "\n",
    "# Comparing the objects\n",
    "p1 < p2, p3 >= p2, p4 > p1"
   ]
  },
  {
   "cell_type": "code",
   "execution_count": 20,
   "id": "26a3fd4c-dcef-412f-a0a4-709a6908e420",
   "metadata": {},
   "outputs": [
    {
     "data": {
      "text/plain": [
       "('Bivash', 35, 'Kolkata')"
      ]
     },
     "execution_count": 20,
     "metadata": {},
     "output_type": "execute_result"
    }
   ],
   "source": [
    "# Changing the property value of a class object\n",
    "\n",
    "# Creating a class using @dataclass\n",
    "@dataclass\n",
    "class Person:\n",
    "    name: str\n",
    "    age: int\n",
    "    city: str\n",
    "\n",
    "# Creating instance of the class    \n",
    "p = Person(\"Arunava\", 35, \"Kolkata\")\n",
    "\n",
    "# Changing the 'name' property of the object\n",
    "p.name = \"Bivash\"\n",
    "\n",
    "# Checking the properties of the class\n",
    "# Here the 'name' property of the class 'Person' is mutable\n",
    "p.name, p.age, p.city"
   ]
  },
  {
   "cell_type": "code",
   "execution_count": 21,
   "id": "d628e43e-813b-44c0-89ca-e40a971de014",
   "metadata": {},
   "outputs": [
    {
     "name": "stdout",
     "output_type": "stream",
     "text": [
      "The error is: cannot assign to field 'name'\n"
     ]
    }
   ],
   "source": [
    "# Using the 'frozen=True'\n",
    "\n",
    "# Creating a class using @dataclass\n",
    "@dataclass(frozen=True)\n",
    "class Person:\n",
    "    name: str\n",
    "    age: int\n",
    "    city: str\n",
    "\n",
    "# Creating instance of the class    \n",
    "p = Person(\"Arunava\", 35, \"Kolkata\")\n",
    "\n",
    "# Again trying to change the 'name' property of the object\n",
    "try:\n",
    "    p.name = \"Bivash\"\n",
    "except Exception as err:\n",
    "    print(\"The error is:\", err)"
   ]
  },
  {
   "cell_type": "code",
   "execution_count": 22,
   "id": "4c8e61e6-4a0a-459b-af5d-4cb345bc28ca",
   "metadata": {},
   "outputs": [
    {
     "data": {
      "text/plain": [
       "('Arunava', 35, 'Kolkata')"
      ]
     },
     "execution_count": 22,
     "metadata": {},
     "output_type": "execute_result"
    }
   ],
   "source": [
    "# Checking the properties of the class\n",
    "# Here the 'name' property of the class 'Person' becomes immutable\n",
    "\n",
    "p.name, p.age, p.city"
   ]
  },
  {
   "cell_type": "code",
   "execution_count": 23,
   "id": "556c1ad4-670c-4da1-a1d1-a9e4ab122825",
   "metadata": {},
   "outputs": [
    {
     "name": "stdout",
     "output_type": "stream",
     "text": [
      "Printing the hash values of both the objects\n",
      "hash of a: 9213208724754725304\n",
      "hash of b: 9213208724754725304\n",
      "hash of c: -1069285078868206832\n",
      "The comparison of hash values of a and b is: True\n",
      "The comparison of hash values of a and c is: False\n",
      "The comparison of hash values of b and c is: False\n",
      "The error is: unhashable type: 'list'\n"
     ]
    }
   ],
   "source": [
    "# Usage of 'hash()'\n",
    "\n",
    "# creating variables with same value and one variable with different value\n",
    "a = \"Arunava\"\n",
    "b = \"Arunava\"\n",
    "c = \"ARUNAVA\"\n",
    "d = [1,2,3]\n",
    "\n",
    "try:\n",
    "    print(\"Printing the hash values of both the objects\")\n",
    "    print(\"hash of a:\", hash(a))\n",
    "    print(\"hash of b:\", hash(b))\n",
    "    print(\"hash of c:\", hash(c))\n",
    "except Exception as err:\n",
    "    print(\"The error is:\", err)\n",
    "else:    \n",
    "    print(\"The comparison of hash values of a and b is:\", hash(a) ==  hash(b))\n",
    "    print(\"The comparison of hash values of a and c is:\", hash(a) ==  hash(c))\n",
    "    print(\"The comparison of hash values of b and c is:\", hash(b) ==  hash(c))\n",
    "finally:\n",
    "    try:\n",
    "        print(\"hash of mutable object d:\", hash(d))\n",
    "    except Exception as err:\n",
    "        print(\"The error is:\", err)"
   ]
  },
  {
   "cell_type": "code",
   "execution_count": 24,
   "id": "a5423fd2-860f-4e6c-bd6b-acc92528a60d",
   "metadata": {},
   "outputs": [
    {
     "name": "stdout",
     "output_type": "stream",
     "text": [
      "The error is: unhashable type: 'Person'\n"
     ]
    }
   ],
   "source": [
    "# Trying to get the hash value of the class\n",
    "\n",
    "# Creating a class using @dataclass\n",
    "@dataclass\n",
    "class Person:\n",
    "    name: str\n",
    "    age: int\n",
    "    city: str\n",
    "\n",
    "# Creating instance of the class    \n",
    "p = Person(\"Arunava\", 35, \"Kolkata\")\n",
    "\n",
    "# Trying to get the hash value\n",
    "try:\n",
    "    print(\"The hash value of the class Person is:\", hash(p))\n",
    "except Exception as err:\n",
    "    print(\"The error is:\", err)"
   ]
  },
  {
   "cell_type": "code",
   "execution_count": 25,
   "id": "c4e2fdab-ada2-4a37-b8fa-bae68ad2d3e9",
   "metadata": {},
   "outputs": [
    {
     "name": "stdout",
     "output_type": "stream",
     "text": [
      "The error is: unhashable type: 'Person'\n"
     ]
    }
   ],
   "source": [
    "# One way if we set the 'frozen=True' as in this case all the properties become immutable\n",
    "# But here we will loose the flexibility as we will not be able to change the values in any stage\n",
    "\n",
    "# Creating a class using @dataclass\n",
    "@dataclass(frozen=True)\n",
    "class Person:\n",
    "    name: str\n",
    "    age: int\n",
    "    city: str\n",
    "\n",
    "# Creating instance of the class    \n",
    "p = Person(\"Arunava\", 35, \"Kolkata\")\n",
    "\n",
    "# Trying to get the hash value\n",
    "try:\n",
    "    print(\"The hash value of the class Person is:\", hash(p1))\n",
    "except Exception as err:\n",
    "    print(\"The error is:\", err)"
   ]
  },
  {
   "cell_type": "code",
   "execution_count": 26,
   "id": "6dc86378-ff6d-4605-9497-4b0d8adedc15",
   "metadata": {},
   "outputs": [
    {
     "name": "stdout",
     "output_type": "stream",
     "text": [
      "The error is: cannot assign to field 'name'\n"
     ]
    }
   ],
   "source": [
    "# Now if we change the value of properties of 'p'\n",
    "\n",
    "\n",
    "# Again trying to get the hash value\n",
    "try:\n",
    "    p.name = \"ARUNAVA\"\n",
    "    p.age = 36\n",
    "    p.city = \"Delhi\"\n",
    "except Exception as err:\n",
    "    print(\"The error is:\", err)\n",
    "else:\n",
    "    print(\"The hash value of the class Person is:\", hash(p))"
   ]
  },
  {
   "cell_type": "code",
   "execution_count": 27,
   "id": "a72f98aa-7b7d-43da-82a2-f1dc3848164f",
   "metadata": {},
   "outputs": [
    {
     "name": "stdout",
     "output_type": "stream",
     "text": [
      "The hash value of the class Person is: -3393930350265040838\n"
     ]
    }
   ],
   "source": [
    "# Another way is we set the 'unsafe_hash=True'\n",
    "\n",
    "# Creating a class using @dataclass\n",
    "@dataclass(unsafe_hash=True)\n",
    "class Person:\n",
    "    name: str\n",
    "    age: int\n",
    "    city: str\n",
    "\n",
    "# Creating instance of the class    \n",
    "p = Person(\"Arunava\", 35, \"Kolkata\")\n",
    "\n",
    "# Trying to get the hash value\n",
    "try:\n",
    "    print(\"The hash value of the class Person is:\", hash(p))\n",
    "except Exception as err:\n",
    "    print(\"The error is:\", err)"
   ]
  },
  {
   "cell_type": "code",
   "execution_count": 28,
   "id": "a04134d2-96d4-4dfe-8b75-a741088046aa",
   "metadata": {},
   "outputs": [
    {
     "name": "stdout",
     "output_type": "stream",
     "text": [
      "The hash value of the class Person is: 5659647284053826394\n"
     ]
    }
   ],
   "source": [
    "# Now if we change the value of properties of 'p'\n",
    "\n",
    "# Again trying to get the hash value\n",
    "try:\n",
    "    p.name = \"ARUNAVA\"\n",
    "    p.age = 36\n",
    "    p.city = \"Delhi\"\n",
    "except Exception as err:\n",
    "    print(\"The error is:\", err)\n",
    "else:\n",
    "    print(\"The hash value of the class Person is:\", hash(p))"
   ]
  },
  {
   "cell_type": "markdown",
   "id": "fb3871c8-8a25-4e49-9edb-e8956f187041",
   "metadata": {},
   "source": [
    "### `field` in `dataclass`"
   ]
  },
  {
   "cell_type": "code",
   "execution_count": 29,
   "id": "7ade84c5-3ccb-46d9-99d3-7222af52e43c",
   "metadata": {},
   "outputs": [],
   "source": [
    "# dataclass module provides a function named 'field' that helps to define the properties of the field\n",
    "\n",
    "from dataclasses import dataclass, field"
   ]
  },
  {
   "cell_type": "markdown",
   "id": "54c9a759-159d-4810-b35f-92f23ec53427",
   "metadata": {},
   "source": [
    "- To provide `field` function to any class property just use the `=` and write `field()` after that: `property_name: type annotation = field()`. This `field` will return some object that helps the `dataclass` to understand some extra properties for that particular variable.\n",
    "\n",
    "- syntax is:\n",
    "\n",
    "    **`field(*, default=MISSING, default_factory=MISSING, init=True, repr=True, hash=None, compare=True, metadata=None)`**\n",
    "    \n",
    "- **default** : It will set the default value for that property variable of that class. We can also provide the value directly with a `=` without using the `field(default=)`.\n",
    "\n",
    "\n",
    "- **default_factory** : Here instead of a default value we need to pass a function, and the return value of that function get set as the default value of that particular variable. It is mainly use where we cannot set a single value as the default value, and we need to do some computation. **Remember this `default_factory()` takes no arguments**.\n",
    "\n",
    "\n",
    "- **init** : It is to be used when we want the property to be a part of the initialization function or not. By default as it is set to `True` so all the properties are part of the initialization function. So if we want any property to not be part of the initialization function we need to set this as `False`.\n",
    "\n",
    "\n",
    "- **repr** : This is used to keep a property as part of the representation. By default it is set to `True` that is why we can see all the properties by default.\n",
    "\n",
    "\n",
    "- **hash** : To stop using a particular property while calculating the hash value of the object we need to set it as `False`, as by default it is set to be `True`. To get the has value first we need to set the `unsafe_hash=True` for the class, then we can use this parameter in the `field` function.\n",
    "\n",
    "\n",
    "- **compare** : It is used to set if that particular property of the class should be used for comparison or not.\n",
    "\n",
    "\n",
    "- **metadata** : It is like a dictionary for a field that stores metadata. This is not directly used by the class object, but some 3rd party class or function that uses this particular class may be interested in getting some extra details about the property. So they can use this metadata to do that."
   ]
  },
  {
   "cell_type": "code",
   "execution_count": 30,
   "id": "0a90fafd-c7b7-4b9e-9c2a-e29002ef2cd8",
   "metadata": {},
   "outputs": [],
   "source": [
    "# Creating a class using @dataclass\n",
    "@dataclass\n",
    "class Person:\n",
    "    name: str\n",
    "    age: int\n",
    "    city: str\n",
    "\n",
    "# Creating instance of the class    \n",
    "p = Person(\"Arunava\", 35, \"Kolkata\")"
   ]
  },
  {
   "cell_type": "code",
   "execution_count": 31,
   "id": "eb13ae49-4dec-4c93-85c7-88410e400892",
   "metadata": {},
   "outputs": [
    {
     "data": {
      "text/plain": [
       "{'name': Field(name='name',type=<class 'str'>,default=<dataclasses._MISSING_TYPE object at 0x7f118e306fe0>,default_factory=<dataclasses._MISSING_TYPE object at 0x7f118e306fe0>,init=True,repr=True,hash=None,compare=True,metadata=mappingproxy({}),kw_only=False,_field_type=_FIELD),\n",
       " 'age': Field(name='age',type=<class 'int'>,default=<dataclasses._MISSING_TYPE object at 0x7f118e306fe0>,default_factory=<dataclasses._MISSING_TYPE object at 0x7f118e306fe0>,init=True,repr=True,hash=None,compare=True,metadata=mappingproxy({}),kw_only=False,_field_type=_FIELD),\n",
       " 'city': Field(name='city',type=<class 'str'>,default=<dataclasses._MISSING_TYPE object at 0x7f118e306fe0>,default_factory=<dataclasses._MISSING_TYPE object at 0x7f118e306fe0>,init=True,repr=True,hash=None,compare=True,metadata=mappingproxy({}),kw_only=False,_field_type=_FIELD)}"
      ]
     },
     "execution_count": 31,
     "metadata": {},
     "output_type": "execute_result"
    }
   ],
   "source": [
    "# Every class object whose class has been wrapped by '@dataclass'\n",
    "# decorator has inbuilt variable named '__dataclass_fields__', \n",
    "# That provides all the fields that the dataclass is managing\n",
    "# Here all the properties of the class works as 'keys' of the dictionary\n",
    "\n",
    "p.__dataclass_fields__"
   ]
  },
  {
   "cell_type": "code",
   "execution_count": 32,
   "id": "74f15e11-e4f1-40f5-bbee-578e65f23c1a",
   "metadata": {},
   "outputs": [
    {
     "data": {
      "text/plain": [
       "Field(name='age',type=<class 'int'>,default=<dataclasses._MISSING_TYPE object at 0x7f118e306fe0>,default_factory=<dataclasses._MISSING_TYPE object at 0x7f118e306fe0>,init=True,repr=True,hash=None,compare=True,metadata=mappingproxy({}),kw_only=False,_field_type=_FIELD)"
      ]
     },
     "execution_count": 32,
     "metadata": {},
     "output_type": "execute_result"
    }
   ],
   "source": [
    "# To see the Field for property 'age'\n",
    "\n",
    "p.__dataclass_fields__['age']"
   ]
  },
  {
   "cell_type": "code",
   "execution_count": 33,
   "id": "66e8a7fe-1fae-4c78-b592-f03f08eebb1b",
   "metadata": {},
   "outputs": [
    {
     "data": {
      "text/plain": [
       "Person(name='Arunava', city='Kolkata', age=25)"
      ]
     },
     "execution_count": 33,
     "metadata": {},
     "output_type": "execute_result"
    }
   ],
   "source": [
    "# Using 'default' field function\n",
    "# Here we are setting the default age value as 25\n",
    "\n",
    "# Creating a class using @dataclass\n",
    "@dataclass\n",
    "class Person:\n",
    "    name: str\n",
    "    city: str\n",
    "    age: int = field(default=25)\n",
    "\n",
    "# Creating instance of the class    \n",
    "p = Person(\"Arunava\", \"Kolkata\")\n",
    "\n",
    "# Checking the representation\n",
    "p"
   ]
  },
  {
   "cell_type": "code",
   "execution_count": 34,
   "id": "40a886d9-b2c5-43e7-99fd-c9a6c5436e43",
   "metadata": {},
   "outputs": [
    {
     "data": {
      "text/plain": [
       "Person(name='Arunava', city='Kolkata', age=35)"
      ]
     },
     "execution_count": 34,
     "metadata": {},
     "output_type": "execute_result"
    }
   ],
   "source": [
    "# Another way to set 'default' field value\n",
    "\n",
    "# Creating a class using @dataclass\n",
    "@dataclass\n",
    "class Person:\n",
    "    name: str\n",
    "    city: str\n",
    "    age: int = 35\n",
    "\n",
    "# Creating instance of the class    \n",
    "p = Person(\"Arunava\",\"Kolkata\")\n",
    "\n",
    "# Checking the representation\n",
    "p"
   ]
  },
  {
   "cell_type": "code",
   "execution_count": 35,
   "id": "b0eb2a9a-220f-4143-8fc0-c705dceefbf8",
   "metadata": {},
   "outputs": [
    {
     "data": {
      "text/plain": [
       "Person(name='Arunava', city='Kolkata', age=29)"
      ]
     },
     "execution_count": 35,
     "metadata": {},
     "output_type": "execute_result"
    }
   ],
   "source": [
    "# Using 'default_factory' field function\n",
    "# Here we are going to set the age using a function \n",
    "# which will take a list of ages and use it's mean as the default value \n",
    "\n",
    "# Creating function to find mean age\n",
    "def get_default_age():\n",
    "    ages = [12, 34, 56, 34, 12]\n",
    "    return sum(ages) // len(ages)\n",
    "\n",
    "# Creating a class using @dataclass\n",
    "@dataclass\n",
    "class Person:\n",
    "    name: str\n",
    "    city: str\n",
    "    age: int = field(default_factory=get_default_age)\n",
    "\n",
    "# Creating instance of the class    \n",
    "p = Person(\"Arunava\", \"Kolkata\")\n",
    "\n",
    "# Checking the representation\n",
    "p"
   ]
  },
  {
   "cell_type": "code",
   "execution_count": 36,
   "id": "2ebb0455-7d54-47e2-9543-922a3226727a",
   "metadata": {},
   "outputs": [
    {
     "data": {
      "text/plain": [
       "Person(name='Arunava', city='Kolkata', age=35)"
      ]
     },
     "execution_count": 36,
     "metadata": {},
     "output_type": "execute_result"
    }
   ],
   "source": [
    "# Using 'init' \n",
    "# Setting 'init' to make the 'city' property out of the initialization function\n",
    "# But we need to place a default value for this property or else it will throw an error\n",
    "\n",
    "# Creating a class using @dataclass\n",
    "@dataclass\n",
    "class Person:\n",
    "    name: str\n",
    "    city: str = field(init=False, default=\"Kolkata\")\n",
    "    age: int = 35\n",
    "\n",
    "# Creating instance of the class    \n",
    "p = Person(\"Arunava\")\n",
    "\n",
    "# Checking the representation\n",
    "p"
   ]
  },
  {
   "cell_type": "code",
   "execution_count": 37,
   "id": "88c97aaf-926f-4405-8563-8353ccdec921",
   "metadata": {},
   "outputs": [
    {
     "data": {
      "text/plain": [
       "Person(name='Arunava', age=35)"
      ]
     },
     "execution_count": 37,
     "metadata": {},
     "output_type": "execute_result"
    }
   ],
   "source": [
    "# Using 'repr' \n",
    "# Setting 'repr' to make the 'city' property out of the representation function\n",
    "# Here only 'name' and 'age' will be part of representation\n",
    "\n",
    "# Creating a class using @dataclass\n",
    "@dataclass\n",
    "class Person:\n",
    "    name: str\n",
    "    city: str = field(init=False, default=\"Kolkata\", repr=False)\n",
    "    age: int = 35\n",
    "\n",
    "# Creating instance of the class    \n",
    "p = Person(\"Arunava\")\n",
    "\n",
    "# Checking the representation\n",
    "p"
   ]
  },
  {
   "cell_type": "code",
   "execution_count": 38,
   "id": "b8524bfa-5cc2-4eb1-aed5-a2f6f56bfa2a",
   "metadata": {},
   "outputs": [
    {
     "name": "stdout",
     "output_type": "stream",
     "text": [
      "The hash value of the class Person with all it's properties is: -6809336010142008453\n"
     ]
    }
   ],
   "source": [
    "# Calculating the default hash value\n",
    "\n",
    "# Creating a class using @dataclass\n",
    "@dataclass(unsafe_hash=True)\n",
    "class Person:\n",
    "    name: str\n",
    "    city: str = field(init=False, default=\"Kolkata\", repr=False)\n",
    "    age: int = 35\n",
    "\n",
    "# Creating instance of the class    \n",
    "p = Person(\"Arunava\")\n",
    "\n",
    "# Trying to get the hash value\n",
    "try:\n",
    "    print(\"The hash value of the class Person with all it's properties is:\", hash(p))\n",
    "except Exception as err:\n",
    "    print(\"The error is:\", err)"
   ]
  },
  {
   "cell_type": "code",
   "execution_count": 39,
   "id": "bdde44a4-80a0-4bbb-98f1-54a11de43f06",
   "metadata": {},
   "outputs": [
    {
     "name": "stdout",
     "output_type": "stream",
     "text": [
      "The hash value of the class Person without city is: 3357454814853105017\n"
     ]
    }
   ],
   "source": [
    "# Calculating the hash value without the 'city' property\n",
    "\n",
    "# Creating a class using @dataclass\n",
    "@dataclass(unsafe_hash=True)\n",
    "class Person:\n",
    "    name: str\n",
    "    city: str = field(init=False, default=\"Kolkata\", repr=False, hash=False)\n",
    "    age: int = 35\n",
    "\n",
    "# Creating instance of the class    \n",
    "p = Person(\"Arunava\")\n",
    "\n",
    "# Trying to get the hash value\n",
    "try:\n",
    "    print(\"The hash value of the class Person without city is:\", hash(p))\n",
    "except Exception as err:\n",
    "    print(\"The error is:\", err)"
   ]
  },
  {
   "cell_type": "code",
   "execution_count": 40,
   "id": "eae1ab3f-4ea9-42ad-a15c-46125135ab17",
   "metadata": {},
   "outputs": [
    {
     "name": "stdout",
     "output_type": "stream",
     "text": [
      "The comparison between object p1 and p2 is: True\n",
      "The comparison between object p1 and p3 is: True\n"
     ]
    }
   ],
   "source": [
    "# Using 'compare'\n",
    "# Here we are comparing without the 'age' property\n",
    "\n",
    "# Creating a class using @dataclass\n",
    "@dataclass(unsafe_hash=True)\n",
    "class Person:\n",
    "    name: str\n",
    "    city: str = field(init=False, default=\"Kolkata\", repr=False)\n",
    "    age: int = field(default=35, compare=False)\n",
    "\n",
    "# Creating instances of the class    \n",
    "p1 = Person(\"Arunava\")\n",
    "p2 = Person(\"Arunava\")\n",
    "p3 = Person(\"Arunava\", 28)\n",
    "\n",
    "# Now comparing them\n",
    "try:\n",
    "    print(\"The comparison between object p1 and p2 is:\", p1==p2)\n",
    "    print(\"The comparison between object p1 and p3 is:\", p1==p3)\n",
    "    # here we get True even though the ages are different\n",
    "except Exception as err:\n",
    "    print(\"Error is:\", err)"
   ]
  },
  {
   "cell_type": "code",
   "execution_count": 41,
   "id": "06ab466f-ac06-4148-ad1b-8f8a7d830e52",
   "metadata": {},
   "outputs": [],
   "source": [
    "# Using 'metadata'\n",
    "# Here we are saving the 'age' in years\n",
    "\n",
    "# Creating a class using @dataclass\n",
    "@dataclass(unsafe_hash=True)\n",
    "class Person:\n",
    "    name: str\n",
    "    city: str = field(init=False, default=\"Kolkata\", repr=False)\n",
    "    age: int = field(default=35, compare=False, metadata={'format': \"year\"})\n",
    "\n",
    "# Creating instances of the class    \n",
    "p = Person(\"Arunava\")"
   ]
  },
  {
   "cell_type": "code",
   "execution_count": 42,
   "id": "13102c53-7a85-419d-9e08-c3b1ef382af1",
   "metadata": {},
   "outputs": [
    {
     "data": {
      "text/plain": [
       "'year'"
      ]
     },
     "execution_count": 42,
     "metadata": {},
     "output_type": "execute_result"
    }
   ],
   "source": [
    "# Retrieving the metadata\n",
    "\n",
    "p.__dataclass_fields__['age'].metadata['format']"
   ]
  },
  {
   "cell_type": "markdown",
   "id": "2ecf022f-b3b5-4e13-9659-08ef7413af1c",
   "metadata": {},
   "source": [
    "### `__post_init__()`\n",
    "\n",
    "- It is a magic function which gets triggered as soon as the processing of the `__init__()` is complete.\n",
    "- It is used when we need to call some function to the class as soon as the initialization of the class is done.\n",
    "- Using this method we can set the values of all the properties whose values we do not want to provide at the time of object initialization but we can create the value with some logic which to be applied on the initialization part itself."
   ]
  },
  {
   "cell_type": "code",
   "execution_count": 43,
   "id": "86682fca-dd6f-4a34-8852-f7eed4a68aa4",
   "metadata": {},
   "outputs": [
    {
     "name": "stdout",
     "output_type": "stream",
     "text": [
      "Person(name='Arunava', city='Kolkata', age=35, is_senior=False)\n",
      "The value of the colomn is_senior for object p1 is: False\n",
      "Person(name='Bivash', city='Kolkata', age=65, is_senior=True)\n",
      "The value of the colomn is_senior for object p2 is: True\n"
     ]
    }
   ],
   "source": [
    "# Here we will not provide the value for 'is_senior' property when creating instance of the class.\n",
    "# Instead it will calculate the value from the value of the property 'age' itself.\n",
    "\n",
    "# Creating a class using @dataclass\n",
    "@dataclass\n",
    "class Person:\n",
    "    name: str\n",
    "    city: str\n",
    "    age: int\n",
    "    is_senior: bool = field(init=False)  # setting the initial value as 'False'\n",
    "    \n",
    "    # Using '__post_init__()' to create a function \n",
    "    # which will decide the value of the 'is_senior' on the basis of 'age'\n",
    "    def __post_init__(self):\n",
    "        if self.age >= 60:\n",
    "            self.is_senior = True\n",
    "        else:\n",
    "            self.is_senior = False\n",
    "\n",
    "# Creating instances of the class    \n",
    "p1 = Person(\"Arunava\", \"Kolkata\", 35)\n",
    "p2 = Person(\"Bivash\", \"Kolkata\", 65)\n",
    "\n",
    "try:\n",
    "    print(p1)\n",
    "    print(\"The value of the colomn is_senior for object p1 is:\", p1.is_senior)\n",
    "    print(p2)\n",
    "    print(\"The value of the colomn is_senior for object p2 is:\", p2.is_senior)\n",
    "except Exception as err:\n",
    "    print(\"Error is:\", err)"
   ]
  },
  {
   "cell_type": "markdown",
   "id": "36e7a518-36a4-43c2-a20b-fb0e9a2f40f9",
   "metadata": {},
   "source": [
    "### `Inheritance in dataclass`\n",
    "\n",
    "- Here during initialization of the object created with the child class, it will first take all the properties of the parent class and then all the properties of the child class.\n",
    "- Remember in case of both the parent and child class having same property with different default values then the value set in the child class will be taken as default during initialization."
   ]
  },
  {
   "cell_type": "code",
   "execution_count": 44,
   "id": "316ebeb8-467d-488e-addd-b65f6ef3f47a",
   "metadata": {},
   "outputs": [
    {
     "data": {
      "text/plain": [
       "Student(name='Arunava', city='Kolkata', age=25, grade=9, subjects=['maths', 'physics'])"
      ]
     },
     "execution_count": 44,
     "metadata": {},
     "output_type": "execute_result"
    }
   ],
   "source": [
    "# Creating parent class using @dataclass\n",
    "@dataclass\n",
    "class Person:\n",
    "    name: str\n",
    "    city: str\n",
    "    age: int\n",
    "    \n",
    "    \n",
    "# Creating the child class using @dataclass\n",
    "@dataclass\n",
    "class Student(Person):\n",
    "    grade: int\n",
    "    subjects: list\n",
    "    \n",
    "    \n",
    "# Creating object of the child class\n",
    "s = Student(\"Arunava\", \"Kolkata\", 25, 9, ['maths', 'physics'])\n",
    "\n",
    "# Checking the representation\n",
    "s"
   ]
  },
  {
   "cell_type": "code",
   "execution_count": 45,
   "id": "5c4e82ad-e569-4bd8-b562-0e20f42b39d2",
   "metadata": {},
   "outputs": [
    {
     "data": {
      "text/plain": [
       "B(x=40, y=20, z=30)"
      ]
     },
     "execution_count": 45,
     "metadata": {},
     "output_type": "execute_result"
    }
   ],
   "source": [
    "# Creating parent class using @dataclass\n",
    "@dataclass\n",
    "class A:\n",
    "    x: int = 10\n",
    "    y: int = 20\n",
    "\n",
    "# Creating the child class using @dataclass\n",
    "@dataclass\n",
    "class B(A):\n",
    "    z: int = 30\n",
    "    x: int = 40\n",
    "    \n",
    "# Creating instance of the child class\n",
    "b = B()\n",
    "\n",
    "# Checking representation of the child class to see the default values\n",
    "b"
   ]
  },
  {
   "cell_type": "markdown",
   "id": "1fd515cb-ec82-4496-953d-0145126a052c",
   "metadata": {},
   "source": [
    "### `asdict` and `astuple`\n",
    "\n",
    "- There is a requirement many a times to get the values of all the properties of a class in terms of some kind of a data structure like a **list** or a **dictionary**, so we can keep it like a packet and use it in different places.\n",
    "- So we can get all the properties of a class in a different format."
   ]
  },
  {
   "cell_type": "code",
   "execution_count": 47,
   "id": "9b5edf7e-2744-4714-ad27-7714bc0af8f3",
   "metadata": {},
   "outputs": [
    {
     "data": {
      "text/plain": [
       "Person(name='Arunava', addr=Address(lat=22.5, lng=88.3, city='Kolkata', country='India'), age=35)"
      ]
     },
     "execution_count": 47,
     "metadata": {},
     "output_type": "execute_result"
    }
   ],
   "source": [
    "# Creating the Address class using a @dataclass\n",
    "@dataclass\n",
    "class Address:\n",
    "    lat: float\n",
    "    lng: float\n",
    "    city: str\n",
    "    country: str\n",
    "\n",
    "    \n",
    "\n",
    "# Creating a class using @dataclass \n",
    "# where we will use the class 'Address' as typehint for the property 'addr'\n",
    "@dataclass\n",
    "class Person:\n",
    "    name: str\n",
    "    addr: Address\n",
    "    age: int\n",
    "    \n",
    "    \n",
    "# Creating an object of class Adress\n",
    "a = Address(22.5, 88.3, \"Kolkata\", \"India\")\n",
    "\n",
    "# Creating an object of class Person\n",
    "p = Person(\"Arunava\", a, 35)\n",
    "\n",
    "# Checking the representation of 'p'\n",
    "p"
   ]
  },
  {
   "cell_type": "code",
   "execution_count": 48,
   "id": "fcc59204-5e0d-42e5-8d95-5b2bacb2188e",
   "metadata": {},
   "outputs": [],
   "source": [
    "# Now transforming the object we will need the functions asdict() and astuple()\n",
    "#  importing the libraries\n",
    "\n",
    "from dataclasses import asdict, astuple"
   ]
  },
  {
   "cell_type": "code",
   "execution_count": 49,
   "id": "0c06b926-49aa-47f2-8f81-e9c921ab36c7",
   "metadata": {},
   "outputs": [
    {
     "data": {
      "text/plain": [
       "{'name': 'Arunava',\n",
       " 'addr': {'lat': 22.5, 'lng': 88.3, 'city': 'Kolkata', 'country': 'India'},\n",
       " 'age': 35}"
      ]
     },
     "execution_count": 49,
     "metadata": {},
     "output_type": "execute_result"
    }
   ],
   "source": [
    "# Now checking in dictionary format the object 'p'\n",
    "asdict(p)"
   ]
  },
  {
   "cell_type": "code",
   "execution_count": 50,
   "id": "bc1ca90d-138c-4cc9-950e-280815379a9c",
   "metadata": {},
   "outputs": [
    {
     "data": {
      "text/plain": [
       "('Arunava', (22.5, 88.3, 'Kolkata', 'India'), 35)"
      ]
     },
     "execution_count": 50,
     "metadata": {},
     "output_type": "execute_result"
    }
   ],
   "source": [
    "# Now checking in tuple format the object 'p'\n",
    "astuple(p)"
   ]
  },
  {
   "cell_type": "code",
   "execution_count": null,
   "id": "e1215861-0675-4324-b2b8-1f94636bcf34",
   "metadata": {},
   "outputs": [],
   "source": []
  }
 ],
 "metadata": {
  "kernelspec": {
   "display_name": "Python 3 (ipykernel)",
   "language": "python",
   "name": "python3"
  },
  "language_info": {
   "codemirror_mode": {
    "name": "ipython",
    "version": 3
   },
   "file_extension": ".py",
   "mimetype": "text/x-python",
   "name": "python",
   "nbconvert_exporter": "python",
   "pygments_lexer": "ipython3",
   "version": "3.9.15"
  }
 },
 "nbformat": 4,
 "nbformat_minor": 5
}
