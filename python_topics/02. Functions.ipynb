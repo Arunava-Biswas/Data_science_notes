{
 "cells": [
  {
   "cell_type": "markdown",
   "id": "3756c301",
   "metadata": {},
   "source": [
    "### `Functions`\n",
    "\n",
    "- **Function** is a block of code which performs a particular task based on particular inputs provided to it.\n",
    "- Syntax is:\n",
    "> def valid_identifier(arguments):\n",
    ">         \"Docstring: Reading manual of the function(deatils about the function)\"\n",
    ">          Code Blocks\n",
    ">          return output\n",
    "\n",
    "- Normally the function creation and calling of the function takes place in different files (Using modules).\n",
    "- So to run the function we need to ***import*** it.\n",
    "- When we don't return anything as output from a function then by default it returns **None**.\n",
    "- To make changes in the value of the global variable inside the function make the local variable of the function as global variable, using the keyword **global**.\n",
    "- In **Nested Function** we pass a function inside another function. In this case the inner function will stay hidden from the main program, so we cannot directly call the inner function.\n",
    "- So the inner function uses the concept of **Abstraction**, i.e. it is not directly accessible from outside.\n",
    "- In Python functions are also objects so we can do the **alias** with function also. This happens only in Python.\n",
    "- So we can delete function in Python also using the **alias** concept.\n",
    "- So in Python functions behave in the same way as any other datatype of Python. So we can perform the following with a function:\n",
    "  - Renaming a function\n",
    "  - Deleting a function\n",
    "  - Storing a function\n",
    "  - Returning a function\n",
    "  - Function as argument\n",
    "  \n",
    "\n",
    "**Benefits of using a Function:**\n",
    "- Every code is self-contained and used to break up the entire logic into small pieces (**Code Modularity**).\n",
    "- Works on the philosophy of `Write once use forever!` (**Code Reusability**).\n",
    "- Code is organized and coherent (**Code Readability**).\n",
    "\n",
    "<hr style=\"border: 2px solid black\">"
   ]
  },
  {
   "cell_type": "code",
   "execution_count": 1,
   "id": "ffba9333",
   "metadata": {},
   "outputs": [],
   "source": [
    "# Creating a function to find odd even numbers\n",
    "\n",
    "def is_even(number):\n",
    "    \"\"\"\n",
    "    This function tells if a given number is odd or even.\n",
    "    Input - Any valid integer.\n",
    "    Output - odd/even.\n",
    "    Created by - Me.\n",
    "    Last edited - 16 Feb 2023\n",
    "    \"\"\"\n",
    "    \n",
    "# Body     \n",
    "    if type(number) == int:\n",
    "        if number % 2 == 0:\n",
    "            return \"Number is even\"\n",
    "        else:\n",
    "            return \"Number is odd\"\n",
    "    else:\n",
    "        return \"Enter only integer values\""
   ]
  },
  {
   "cell_type": "code",
   "execution_count": 2,
   "id": "93ecdd24",
   "metadata": {},
   "outputs": [
    {
     "name": "stdout",
     "output_type": "stream",
     "text": [
      "1 : Number is odd\n",
      "2 : Number is even\n",
      "3 : Number is odd\n",
      "4 : Number is even\n",
      "5 : Number is odd\n",
      "6 : Number is even\n",
      "7 : Number is odd\n",
      "8 : Number is even\n",
      "9 : Number is odd\n",
      "10 : Number is even\n"
     ]
    }
   ],
   "source": [
    "# Calling the function\n",
    "\n",
    "for i in range(1, 11):\n",
    "    print(i, \":\", is_even(i))"
   ]
  },
  {
   "cell_type": "code",
   "execution_count": 3,
   "id": "f605dc09",
   "metadata": {},
   "outputs": [
    {
     "name": "stdout",
     "output_type": "stream",
     "text": [
      "\n",
      "    This function tells if a given number is odd or even.\n",
      "    Input - Any valid integer.\n",
      "    Output - odd/even.\n",
      "    Created by - Me.\n",
      "    Last edited - 16 Feb 2023\n",
      "    \n"
     ]
    }
   ],
   "source": [
    "# Printing the documentation of the function\n",
    "# Syntax is: functionName.__doc__\n",
    "\n",
    "print(is_even.__doc__)"
   ]
  },
  {
   "cell_type": "code",
   "execution_count": 4,
   "id": "b4516999",
   "metadata": {},
   "outputs": [
    {
     "data": {
      "text/plain": [
       "'Enter only integer values'"
      ]
     },
     "execution_count": 4,
     "metadata": {},
     "output_type": "execute_result"
    }
   ],
   "source": [
    "# Checking the error\n",
    "\n",
    "is_even(\"Arunava\")"
   ]
  },
  {
   "cell_type": "code",
   "execution_count": 6,
   "id": "29464a34",
   "metadata": {},
   "outputs": [
    {
     "name": "stdout",
     "output_type": "stream",
     "text": [
      "Calling the function directly result will be: 4\n",
      "Calling the function through alias result will be: 4\n"
     ]
    }
   ],
   "source": [
    "# alias in function\n",
    "\n",
    "def f(num):\n",
    "    return num**2\n",
    "\n",
    "\n",
    "# Calling the function\n",
    "result1 = f(2)\n",
    "print(f\"Calling the function directly result will be: {result1}\")\n",
    "\n",
    "# Creating alias\n",
    "x = f\n",
    "\n",
    "# Calling the function through alias\n",
    "result2 = x(2)\n",
    "print(f\"Calling the function through alias result will be: {result2}\")"
   ]
  },
  {
   "cell_type": "code",
   "execution_count": 7,
   "id": "1c104d31",
   "metadata": {},
   "outputs": [
    {
     "name": "stdout",
     "output_type": "stream",
     "text": [
      "The error type is: NameError and the error is: (\"name 'f' is not defined\",).\n",
      "Calling the function through alias result will be: 9\n"
     ]
    }
   ],
   "source": [
    "# Deleting the main function\n",
    "del f\n",
    "\n",
    "# Calling the function\n",
    "try:\n",
    "    result1 = f(3)\n",
    "    print(f\"Calling the function directly result will be: {result1}\")\n",
    "except Exception as err:\n",
    "    print(f\"The error type is: {type(err).__name__} and the error is: {err.args}.\")\n",
    "    \n",
    "# Calling the alias\n",
    "try:\n",
    "    result2 = x(3)\n",
    "    print(f\"Calling the function through alias result will be: {result2}\")\n",
    "except Exception as err:\n",
    "    print(f\"The error type is: {type(err).__name__} and the error is: {err.args}.\")"
   ]
  },
  {
   "cell_type": "code",
   "execution_count": 8,
   "id": "a1968cd4",
   "metadata": {},
   "outputs": [
    {
     "data": {
      "text/plain": [
       "function"
      ]
     },
     "execution_count": 8,
     "metadata": {},
     "output_type": "execute_result"
    }
   ],
   "source": [
    "# We can also see the datatype of the alias\n",
    "# Here we can see that the function acts as a datatype\n",
    "\n",
    "type(x)"
   ]
  },
  {
   "cell_type": "code",
   "execution_count": 9,
   "id": "42b767d4",
   "metadata": {},
   "outputs": [
    {
     "data": {
      "text/plain": [
       "[1, 2, 3, 4, <function __main__.f(num)>]"
      ]
     },
     "execution_count": 9,
     "metadata": {},
     "output_type": "execute_result"
    }
   ],
   "source": [
    "# So we can also put this function inside a list\n",
    "\n",
    "L = [1, 2, 3, 4, x]\n",
    "L"
   ]
  },
  {
   "cell_type": "code",
   "execution_count": 10,
   "id": "c0a3f67a",
   "metadata": {},
   "outputs": [
    {
     "data": {
      "text/plain": [
       "16"
      ]
     },
     "execution_count": 10,
     "metadata": {},
     "output_type": "execute_result"
    }
   ],
   "source": [
    "# We can also use the function inside the list\n",
    "\n",
    "L[-1](4)"
   ]
  },
  {
   "cell_type": "code",
   "execution_count": null,
   "id": "124cec20",
   "metadata": {},
   "outputs": [],
   "source": []
  }
 ],
 "metadata": {
  "kernelspec": {
   "display_name": "Python 3 (ipykernel)",
   "language": "python",
   "name": "python3"
  },
  "language_info": {
   "codemirror_mode": {
    "name": "ipython",
    "version": 3
   },
   "file_extension": ".py",
   "mimetype": "text/x-python",
   "name": "python",
   "nbconvert_exporter": "python",
   "pygments_lexer": "ipython3",
   "version": "3.9.15"
  }
 },
 "nbformat": 4,
 "nbformat_minor": 5
}
