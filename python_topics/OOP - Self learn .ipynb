{
 "cells": [
  {
   "cell_type": "markdown",
   "id": "d58ec708",
   "metadata": {},
   "source": [
    "## `Object Orineted Programming`\n",
    "\n",
    "**Classes:**\n",
    "- A class is a collection of objects. \n",
    "- A class contains the blueprints or the prototype from which the objects are being created. \n",
    "- It is a logical entity that contains some attributes and methods.\n",
    "- Classes are created by keyword **`class`**.\n",
    "- Attributes are the variables that belong to class.\n",
    "- Attributes are always public and can be accessed using dot (.) operator. Eg.: \n",
    "> `Myclass.Myattribute`\n",
    "\n",
    "\n",
    "**Objects:**\n",
    "- An Object is an instance of a Class. A class is like a blueprint while an instance is a copy of the class with actual values.\n",
    "- The object is an entity that has a state and behavior associated with it. It may be any real-world object like a mouse, keyboard, chair, table, pen, etc. Integers, strings, floating-point numbers, even arrays, and dictionaries, are all objects.\n",
    "- When an object of a class is created, the class is said to be instantiated. All the instances share the attributes and the behavior of the class. But the values of those attributes, i.e. the state are unique for each object. A single class may have any number of instances.\n",
    "\n",
    "- An object consists of :\n",
    "  - **State:** It is represented by the attributes of an object. It also reflects the properties of an object.\n",
    "  - **Behavior:** It is represented by the methods of an object. It also reflects the response of an object to other objects.\n",
    "  - **Identity:** It gives a unique name to an object and enables one object to interact with other objects.\n",
    "  \n",
    "  \n",
    "\n",
    "**self:**\n",
    "- Class methods must have an extra first parameter in the method definition. We do not give a value for this parameter when we call the method, Python provides it.\n",
    "- If we have a method that takes no arguments, then we still have to have one argument.\n",
    "- The **self** represents the instance of the class. By using the `self`  we can access the attributes and methods of the class in python. It binds the attributes with the given arguments.\n",
    "\n",
    "- Characteristics of `self`:\n",
    "  - Self is always pointing to Current Object.\n",
    "  - Self is the first argument to be passed in Constructor and Instance Method.\n",
    "  - Self is a convention and not a Python keyword.\n",
    "  \n",
    "\n",
    "**__init__():**\n",
    "- The Default `__init__` Constructor is used to initializing the object’s state. The task of constructors is to initialize(assign values) to the data members of the class when an object of the class is created. Like methods, a constructor also contains a collection of statements(i.e. instructions) that are executed at the time of Object creation. It runs as soon as an object of a class is instantiated.\n",
    "\n",
    "\n",
    "\n",
    "**Class and instance attributes:**\n",
    "- Instance variables are for data, unique to each instance and class variables are for attributes and methods shared by all instances of the class. Instance variables are variables whose value is assigned inside a constructor or method with self whereas class variables are variables whose value is assigned in the class."
   ]
  },
  {
   "cell_type": "code",
   "execution_count": 2,
   "id": "ea8e92c0",
   "metadata": {},
   "outputs": [
    {
     "name": "stdout",
     "output_type": "stream",
     "text": [
      "Tommy is a GSD dog and it is 5 years old.\n"
     ]
    }
   ],
   "source": [
    "# Creating a class\n",
    "class Animal:\n",
    "    # Constructor method\n",
    "    def __init__(self, name, breed, age):\n",
    "        self.name = name\n",
    "        self.breed = breed\n",
    "        self.age = age\n",
    "\n",
    "    def Dog_behaviour(self):\n",
    "        print(f\"{self.name} is a {self.breed} dog and it is {self.age} years old.\")\n",
    "\n",
    "\n",
    "# Creating object of the class\n",
    "dog = Animal('Tommy', 'GSD', 5)\n",
    "dog.Dog_behaviour()"
   ]
  },
  {
   "cell_type": "markdown",
   "id": "0d4d053c",
   "metadata": {},
   "source": [
    "**Notes:**\n",
    "\n",
    "- Here the **Identity** can be considered as the name of the dog.\n",
    "- **State** of attributes are the `breed`, `age` etc.\n",
    "- **Behaviour** is whether the dog is `eating` or `sleeping`."
   ]
  },
  {
   "cell_type": "code",
   "execution_count": 3,
   "id": "f18b2cee",
   "metadata": {},
   "outputs": [
    {
     "name": "stdout",
     "output_type": "stream",
     "text": [
      "Hello, my name is Nikhil\n",
      "Hello, my name is Abhinav\n",
      "Hello, my name is Anshul\n"
     ]
    }
   ],
   "source": [
    "# A Sample class with __init__ method\n",
    "\n",
    "class Person:\n",
    "\n",
    "    # init method or constructor\n",
    "    def __init__(self, name):\n",
    "        self.name = name\n",
    "\n",
    "    # Sample Method\n",
    "    def say_hi(self):\n",
    "        print('Hello, my name is', self.name)\n",
    "\n",
    "\n",
    "# Creating different objects\n",
    "p1 = Person('Nikhil')\n",
    "p2 = Person('Abhinav')\n",
    "p3 = Person('Anshul')\n",
    "\n",
    "p1.say_hi()\n",
    "p2.say_hi()\n",
    "p3.say_hi()"
   ]
  },
  {
   "cell_type": "markdown",
   "id": "b4888310",
   "metadata": {},
   "source": [
    "**Notes:**\n",
    "- Here a person named 'Nikhil' is created. While creating a person, “Nikhil” is passed as an argument, this argument will be passed to the __init__ method to initialize the object. The keyword self represents the instance of a class and binds the attributes with the given arguments."
   ]
  },
  {
   "cell_type": "code",
   "execution_count": 4,
   "id": "611ed4de",
   "metadata": {},
   "outputs": [
    {
     "name": "stdout",
     "output_type": "stream",
     "text": [
      "Rodger is a mammal\n",
      "Tommy is also a mammal\n",
      "My name is Rodger\n",
      "My name is Tommy\n"
     ]
    }
   ],
   "source": [
    "# Class attribute and instance attribute\n",
    "class Dog:\n",
    "    # class attribute\n",
    "    attr1 = \"mammal\"\n",
    "\n",
    "    # Instance attribute\n",
    "    def __init__(self, name):\n",
    "        self.name = name\n",
    "\n",
    "\n",
    "# Object instantiation\n",
    "Rodger = Dog(\"Rodger\")\n",
    "Tommy = Dog(\"Tommy\")\n",
    "\n",
    "# Accessing class attributes\n",
    "print(\"Rodger is a {}\".format(Rodger.__class__.attr1))\n",
    "print(\"Tommy is also a {}\".format(Tommy.__class__.attr1))\n",
    "\n",
    "# Accessing instance attributes\n",
    "print(\"My name is {}\".format(Rodger.name))\n",
    "print(\"My name is {}\".format(Tommy.name))"
   ]
  },
  {
   "cell_type": "code",
   "execution_count": 5,
   "id": "083369c1",
   "metadata": {},
   "outputs": [
    {
     "name": "stdout",
     "output_type": "stream",
     "text": [
      "My name is Rodger\n",
      "My name is Tommy\n"
     ]
    }
   ],
   "source": [
    "# Creating class and objects with methods\n",
    "class Dog:\n",
    "    # class attribute\n",
    "    attr1 = \"mammal\"\n",
    "\n",
    "    # Instance attribute\n",
    "    def __init__(self, name):\n",
    "        self.name = name\n",
    "\n",
    "    # class method\n",
    "    def speak(self):\n",
    "        print(\"My name is {}\".format(self.name))\n",
    "\n",
    "\n",
    "# Object instantiation\n",
    "Rodger = Dog(\"Rodger\")\n",
    "Tommy = Dog(\"Tommy\")\n",
    "\n",
    "# Accessing class methods\n",
    "Rodger.speak()\n",
    "Tommy.speak()"
   ]
  },
  {
   "cell_type": "markdown",
   "id": "d7375b48",
   "metadata": {},
   "source": [
    "### `Inheritance`:\n",
    "\n",
    "- **Inheritance** is the capability of one class to derive or inherit the properties from another class. The class that derives properties is called the `derived` class or `child` class and the class from which the properties are being derived is called the `base` class or `parent` class.\n",
    "- It represents real-world relationships well.\n",
    "- It provides the re-usability of a code. We don’t have to write the same code again and again. Also, it allows us to add more features to a class without modifying it.\n",
    "- It is transitive in nature, which means that if class B inherits from another class A, then all the subclasses of B would automatically inherit from class A.\n",
    "- Python provides a function `issubclass()` that directly tells us if a class is subclass of another class.\n",
    "- `isinstance()` returns whether an object is an instance of a class or of a subclass thereof.\n",
    "- We can access the parent members in a subclass either by using the parent class name or by using the `super()`.\n",
    "\n",
    "\n",
    "#### Types of Inheritance:\n",
    "\n",
    "- ***Single Inheritance:***\n",
    "  - Single-level inheritance enables a derived class to inherit characteristics from a single-parent class.\n",
    "\n",
    "- ***Multilevel Inheritance:***\n",
    "  - Multi-level inheritance enables a derived class to inherit properties from an immediate parent class which in turn inherits properties from his parent class.\n",
    "\n",
    "- ***Hierarchical Inheritance:***\n",
    "  - Hierarchical level inheritance enables more than one derived class to inherit properties from a parent class.\n",
    "\n",
    "- ***Multiple Inheritance:***\n",
    "- Multiple level inheritance enables one derived class to inherit properties from more than one base class. During multiple inheritance the derived class will give priority to class and attributes of the first mentioned class in the bracket if there is a conflict of attribute or method name between the parent classes.\n",
    "\n",
    "- ***Hybrid inheritance:***\n",
    "  - This form combines more than one form of inheritance. Basically, it is a blend of more than one type of inheritance."
   ]
  },
  {
   "cell_type": "code",
   "execution_count": 6,
   "id": "0abf9e40",
   "metadata": {},
   "outputs": [
    {
     "name": "stdout",
     "output_type": "stream",
     "text": [
      "Rahul\n",
      "886012\n",
      "My name is Rahul\n",
      "IdNumber: 886012\n",
      "Post: Intern\n"
     ]
    }
   ],
   "source": [
    "# Inheritance\n",
    "\n",
    "# parent class\n",
    "class Person(object):\n",
    "\n",
    "    # __init__ is known as the constructor\n",
    "    def __init__(self, name, id_number):\n",
    "        self.name = name\n",
    "        self.id_number = id_number\n",
    "\n",
    "    def display(self):\n",
    "        print(self.name)\n",
    "        print(self.id_number)\n",
    "\n",
    "    def details(self):\n",
    "        print(\"My name is {}\".format(self.name))\n",
    "        print(\"IdNumber: {}\".format(self.id_number))\n",
    "\n",
    "\n",
    "# child class\n",
    "class Employee(Person):\n",
    "    def __init__(self, name, id_number, salary, post):\n",
    "        self.salary = salary\n",
    "        self.post = post\n",
    "\n",
    "        # invoking the __init__ of the parent class\n",
    "        Person.__init__(self, name, id_number)\n",
    "\n",
    "    def details(self):\n",
    "        print(\"My name is {}\".format(self.name))\n",
    "        print(\"IdNumber: {}\".format(self.id_number))\n",
    "        print(\"Post: {}\".format(self.post))\n",
    "\n",
    "\n",
    "# creation of an object variable or an instance\n",
    "a = Employee('Rahul', 886012, 200000, \"Intern\")\n",
    "b = Person('John', 456765)\n",
    "\n",
    "# calling a function of the class Person using its instance\n",
    "a.display()\n",
    "a.details()"
   ]
  },
  {
   "cell_type": "code",
   "execution_count": 7,
   "id": "5537640d",
   "metadata": {},
   "outputs": [
    {
     "name": "stdout",
     "output_type": "stream",
     "text": [
      "True\n",
      "False\n",
      "False\n",
      "True\n"
     ]
    }
   ],
   "source": [
    "# to check the subclass and instance\n",
    "\n",
    "print(issubclass(Employee, Person))     # here it will be 'True' as 'Employee' is a subclass of 'Person'\n",
    "print(issubclass(Person, Employee))     # here it will be 'False' as 'Person' is not a subclass of 'Employee'\n",
    "print(isinstance(b, Employee))          # here it will return 'False' as 'b' is not an instance of 'Employee' class\n",
    "print(isinstance(a, Person))          # here it will return 'True' as 'a' is an instance of 'Person' class"
   ]
  },
  {
   "cell_type": "code",
   "execution_count": 8,
   "id": "5abbcd03",
   "metadata": {},
   "outputs": [
    {
     "name": "stdout",
     "output_type": "stream",
     "text": [
      "A init called\n",
      "B init called\n"
     ]
    }
   ],
   "source": [
    "# the '__init__()' in inheritance\n",
    "\n",
    "class A(object):\n",
    "    def __init__(self, something):\n",
    "        print(\"A init called\")\n",
    "        self.something = something\n",
    "\n",
    "\n",
    "class B(A):\n",
    "    def __init__(self, something):\n",
    "        # Calling init of parent class\n",
    "        A.__init__(self, something)\n",
    "        print(\"B init called\")\n",
    "        self.something = something\n",
    "\n",
    "\n",
    "obj1 = B(\"Something\")"
   ]
  },
  {
   "cell_type": "markdown",
   "id": "f76a5aa2",
   "metadata": {},
   "source": [
    "**Notes:**\n",
    "\n",
    "- So, the parent class constructor is called first. But in Python, it is not compulsory that the parent class constructor will always be called first. The order in which the `__init__` method is called for a parent or a child class can be modified. This can simply be done by calling the parent class constructor after the body of the child class constructor."
   ]
  },
  {
   "cell_type": "code",
   "execution_count": 9,
   "id": "284bab7b",
   "metadata": {},
   "outputs": [
    {
     "name": "stdout",
     "output_type": "stream",
     "text": [
      "B init called\n",
      "A init called\n"
     ]
    }
   ],
   "source": [
    "class A(object):\n",
    "    def __init__(self, something):\n",
    "        print(\"A init called\")\n",
    "        self.something = something\n",
    "\n",
    "\n",
    "class B(A):\n",
    "    def __init__(self, something):\n",
    "        print(\"B init called\")\n",
    "        self.something = something\n",
    "        # Calling init of parent class\n",
    "        A.__init__(self, something)\n",
    "\n",
    "\n",
    "obj2 = B(\"Something\")"
   ]
  },
  {
   "cell_type": "code",
   "execution_count": 10,
   "id": "72d0fad9",
   "metadata": {},
   "outputs": [
    {
     "name": "stdout",
     "output_type": "stream",
     "text": [
      "10 20\n"
     ]
    }
   ],
   "source": [
    "# accessing parent members in a subclass:\n",
    "\n",
    "# Using parent class name\n",
    "class Base(object):\n",
    "    # Constructor\n",
    "    def __init__(self, x):\n",
    "        self.x = x\n",
    "\n",
    "\n",
    "class Derived(Base):\n",
    "    # Constructor\n",
    "    def __init__(self, x, y):\n",
    "        Base.x = x                  # using the parent class name to access\n",
    "        self.y = y\n",
    "\n",
    "    def printXY(self):\n",
    "        # print(self.x, self.y) will also work\n",
    "        print(Base.x, self.y)\n",
    "\n",
    "\n",
    "# Driver Code\n",
    "d = Derived(10, 20)\n",
    "d.printXY()"
   ]
  },
  {
   "cell_type": "code",
   "execution_count": 11,
   "id": "6d418dc6",
   "metadata": {},
   "outputs": [
    {
     "name": "stdout",
     "output_type": "stream",
     "text": [
      "10 20\n"
     ]
    }
   ],
   "source": [
    "# Using the super()\n",
    "class Base(object):\n",
    "    # Constructor\n",
    "    def __init__(self, x):\n",
    "        self.x = x\n",
    "\n",
    "\n",
    "# In Python 3.x, \"super().__init__(name)\" also works\n",
    "class Derived(Base):\n",
    "    # Constructor\n",
    "    def __init__(self, x, y):\n",
    "        super(Derived, self).__init__(x)        # using super()\n",
    "        self.y = y\n",
    "\n",
    "    def printXY(self):\n",
    "        # here we don't need the 'Base.x' because super() is used in constructor\n",
    "        print(self.x, self.y)\n",
    "\n",
    "\n",
    "# Driver Code\n",
    "d = Derived(10, 20)\n",
    "d.printXY()"
   ]
  },
  {
   "cell_type": "markdown",
   "id": "405b9386",
   "metadata": {},
   "source": [
    "**Single Inheritance:**\n",
    "- Single inheritance enables a derived class to inherit properties from a single parent class, thus enabling code re-usability and the addition of new features to existing code.\n"
   ]
  },
  {
   "cell_type": "code",
   "execution_count": 12,
   "id": "ecb8b7ac",
   "metadata": {},
   "outputs": [
    {
     "name": "stdout",
     "output_type": "stream",
     "text": [
      "This function is in parent class.\n",
      "This function is in child class.\n"
     ]
    }
   ],
   "source": [
    "# Base class\n",
    "class Parent:\n",
    "    def func1(self):\n",
    "        print(\"This function is in parent class.\")\n",
    "\n",
    "\n",
    "# Derived class\n",
    "class Child(Parent):\n",
    "    def func2(self):\n",
    "        print(\"This function is in child class.\")\n",
    "\n",
    "\n",
    "# Driver's code\n",
    "obj = Child()\n",
    "obj.func1()\n",
    "obj.func2()"
   ]
  },
  {
   "cell_type": "markdown",
   "id": "4e0c716a",
   "metadata": {},
   "source": [
    "**Multiple Inheritance:**\n",
    "- When a class can be derived from more than one base class this type of inheritance is called multiple inheritances. In multiple inheritances, all the features of the base classes are inherited into the derived class.\n"
   ]
  },
  {
   "cell_type": "code",
   "execution_count": 13,
   "id": "9526f3a6",
   "metadata": {},
   "outputs": [
    {
     "name": "stdout",
     "output_type": "stream",
     "text": [
      "Father : RAM\n",
      "Mother : SITA\n"
     ]
    }
   ],
   "source": [
    "# Base class1\n",
    "class Mother:\n",
    "    mother_name = \"\"\n",
    "\n",
    "    def mother(self):\n",
    "        print(self.mother_name)\n",
    "\n",
    "\n",
    "# Base class2\n",
    "class Father:\n",
    "    father_name = \"\"\n",
    "\n",
    "    def father(self):\n",
    "        print(self.father_name)\n",
    "\n",
    "\n",
    "# Derived class\n",
    "class Son(Mother, Father):\n",
    "    def parents(self):\n",
    "        print(\"Father :\", self.father_name)\n",
    "        print(\"Mother :\", self.mother_name)\n",
    "\n",
    "\n",
    "# Driver's code\n",
    "s1 = Son()\n",
    "s1.father_name = \"RAM\"\n",
    "s1.mother_name = \"SITA\"\n",
    "s1.parents()"
   ]
  },
  {
   "cell_type": "markdown",
   "id": "fbb14262",
   "metadata": {},
   "source": [
    "**Multilevel Inheritance :**\n",
    "- In multilevel inheritance, features of the base class and the derived class are further inherited into the new derived class. This is similar to a relationship representing a child and a grandfather.\n"
   ]
  },
  {
   "cell_type": "code",
   "execution_count": 14,
   "id": "d713c188",
   "metadata": {},
   "outputs": [
    {
     "name": "stdout",
     "output_type": "stream",
     "text": [
      "Lal mani\n",
      "Grandfather name : Lal mani\n",
      "Father name : Rampaul\n",
      "Son name : Prince\n"
     ]
    }
   ],
   "source": [
    "# Base class\n",
    "class Grandfather:\n",
    "    def __init__(self, grandfather_name):\n",
    "        self.grandfather_name = grandfather_name\n",
    "\n",
    "\n",
    "# Intermediate class\n",
    "class Father(Grandfather):\n",
    "    def __init__(self, father_name, grandfather_name):\n",
    "        self.father_name = father_name\n",
    "        # invoking constructor of Grandfather class using the parent class name\n",
    "        Grandfather.__init__(self, grandfather_name)\n",
    "\n",
    "\n",
    "# Derived class\n",
    "class Son(Father):\n",
    "    def __init__(self, son_name, father_name, grandfather_name):\n",
    "        self.son_name = son_name\n",
    "        # invoking constructor of Father class\n",
    "        Father.__init__(self, father_name, grandfather_name)\n",
    "\n",
    "    def print_name(self):\n",
    "        print('Grandfather name :', self.grandfather_name)\n",
    "        print(\"Father name :\", self.father_name)\n",
    "        print(\"Son name :\", self.son_name)\n",
    "\n",
    "\n",
    "# Driver code\n",
    "s1 = Son('Prince', 'Rampaul', 'Lal mani')\n",
    "print(s1.grandfather_name)\n",
    "s1.print_name()"
   ]
  },
  {
   "cell_type": "markdown",
   "id": "4823305f",
   "metadata": {},
   "source": [
    "**Hierarchical Inheritance:**\n",
    "- When more than one derived class are created from a single base this type of inheritance is called hierarchical inheritance. In this program, we have a parent (base) class and two child (derived) classes.\n"
   ]
  },
  {
   "cell_type": "code",
   "execution_count": 15,
   "id": "834f0ea9",
   "metadata": {},
   "outputs": [
    {
     "name": "stdout",
     "output_type": "stream",
     "text": [
      "This is a function call from parent class.\n",
      "This is a function call from child1 class.\n",
      "This is a function call from parent class.\n",
      "This is a function call from child2 class.\n"
     ]
    }
   ],
   "source": [
    "# Base class\n",
    "class Parent:\n",
    "    def func1(self):\n",
    "        print(\"This is a function call from parent class.\")\n",
    "\n",
    "\n",
    "# Derived class 1\n",
    "class Child1(Parent):\n",
    "    def func2(self):\n",
    "        print(\"This is a function call from child1 class.\")\n",
    "\n",
    "\n",
    "# Derived class 2\n",
    "class Child2(Parent):\n",
    "    def func3(self):\n",
    "        print(\"This is a function call from child2 class.\")\n",
    "\n",
    "\n",
    "# Driver's code\n",
    "obj1 = Child1()\n",
    "obj2 = Child2()\n",
    "obj1.func1()\n",
    "obj1.func2()\n",
    "obj2.func1()\n",
    "obj2.func3()"
   ]
  },
  {
   "cell_type": "markdown",
   "id": "08b2d120",
   "metadata": {},
   "source": [
    "**Hybrid Inheritance:**\n",
    "- Inheritance consisting of multiple types of inheritance is called hybrid inheritance."
   ]
  },
  {
   "cell_type": "code",
   "execution_count": 16,
   "id": "ef37eedf",
   "metadata": {},
   "outputs": [
    {
     "name": "stdout",
     "output_type": "stream",
     "text": [
      "This function is in school.\n",
      "This function is in student 1. \n",
      "This function is in student 3.\n"
     ]
    }
   ],
   "source": [
    "class School:\n",
    "    def func1(self):\n",
    "        print(\"This function is in school.\")\n",
    "\n",
    "\n",
    "class Student1(School):\n",
    "    def func2(self):\n",
    "        print(\"This function is in student 1. \")\n",
    "\n",
    "\n",
    "class Student2(School):\n",
    "    def func3(self):\n",
    "        print(\"This function is in student 2.\")\n",
    "\n",
    "\n",
    "class Student3(Student1, School):\n",
    "    def func4(self):\n",
    "        print(\"This function is in student 3.\")\n",
    "\n",
    "\n",
    "# Driver's code\n",
    "obj3 = Student3()\n",
    "obj3.func1()\n",
    "obj3.func2()\n",
    "obj3.func4()"
   ]
  },
  {
   "cell_type": "markdown",
   "id": "5f0a7a57",
   "metadata": {},
   "source": [
    "### `Polymorphism`:\n",
    "- The word **Polymorphism** means having many forms. \n",
    "- In programming, **polymorphism** means the same function name (but different signatures) being used for different types.\n",
    "- In Python, **Polymorphism** lets us define methods in the child class that have the same name as the methods in the parent class. \n",
    "- In **Inheritance**, the child class inherits the methods from the parent class. However, it is possible to modify a method in a child class that it has inherited from the parent class. This is particularly useful in cases where the method inherited from the parent class does not quite fit the child class. In such cases, we re-implement the method in the child class. This process of re-implementing a method in the child class is known as **Method Overriding**.\n",
    "- It is also possible to create a function that can take any object, allowing for polymorphism."
   ]
  },
  {
   "cell_type": "code",
   "execution_count": 17,
   "id": "d759621a",
   "metadata": {},
   "outputs": [
    {
     "name": "stdout",
     "output_type": "stream",
     "text": [
      "7\n",
      "3\n"
     ]
    }
   ],
   "source": [
    "# in-built polymorphic functions\n",
    "\n",
    "# len() being used for a string\n",
    "print(len(\"arunava\"))\n",
    "\n",
    "# len() being used for a list\n",
    "print(len([10, 20, 30]))"
   ]
  },
  {
   "cell_type": "code",
   "execution_count": 19,
   "id": "65b32a01",
   "metadata": {},
   "outputs": [
    {
     "name": "stdout",
     "output_type": "stream",
     "text": [
      "New Delhi is the capital of India.\n",
      "Hindi is the most widely spoken language of India.\n",
      "India is a developing country.\n",
      "\n",
      "\n",
      "Washington, D.C. is the capital of USA.\n",
      "English is the primary language of USA.\n",
      "USA is a developed country.\n",
      "\n",
      "\n"
     ]
    }
   ],
   "source": [
    "# Polymorphism with class methods\n",
    "\n",
    "# creating 1st class\n",
    "class India():\n",
    "    def capital(self):\n",
    "        print(\"New Delhi is the capital of India.\")\n",
    "\n",
    "    def language(self):\n",
    "        print(\"Hindi is the most widely spoken language of India.\")\n",
    "\n",
    "    def type(self):\n",
    "        print(\"India is a developing country.\")\n",
    "\n",
    "\n",
    "# creating 2nd class\n",
    "class USA():\n",
    "    def capital(self):\n",
    "        print(\"Washington, D.C. is the capital of USA.\")\n",
    "\n",
    "    def language(self):\n",
    "        print(\"English is the primary language of USA.\")\n",
    "\n",
    "    def type(self):\n",
    "        print(\"USA is a developed country.\")\n",
    "\n",
    "\n",
    "# instantiation\n",
    "obj_ind = India()\n",
    "obj_usa = USA()\n",
    "\n",
    "\n",
    "# for loop to call methods from each class\n",
    "for country in (obj_ind, obj_usa):\n",
    "    country.capital()\n",
    "    country.language()\n",
    "    country.type()\n",
    "    print(\"\\n\")"
   ]
  },
  {
   "cell_type": "code",
   "execution_count": 20,
   "id": "b8afda5f",
   "metadata": {},
   "outputs": [
    {
     "name": "stdout",
     "output_type": "stream",
     "text": [
      "There are many types of birds.\n",
      "Most of the birds can fly but some cannot.\n",
      "There are many types of birds.\n",
      "Sparrows can fly.\n",
      "There are many types of birds.\n",
      "Ostriches cannot fly.\n"
     ]
    }
   ],
   "source": [
    "# Method Overriding\n",
    "\n",
    "class Bird:\n",
    "    def intro(self):\n",
    "        print(\"There are many types of birds.\")\n",
    "\n",
    "    def flight(self):\n",
    "        print(\"Most of the birds can fly but some cannot.\")\n",
    "\n",
    "\n",
    "class sparrow(Bird):\n",
    "    def flight(self):\n",
    "        print(\"Sparrows can fly.\")\n",
    "\n",
    "\n",
    "class ostrich(Bird):\n",
    "    def flight(self):\n",
    "        print(\"Ostriches cannot fly.\")\n",
    "\n",
    "\n",
    "# instantiation\n",
    "obj_bird = Bird()\n",
    "obj_spr = sparrow()\n",
    "obj_ost = ostrich()\n",
    "\n",
    "obj_bird.intro()\n",
    "obj_bird.flight()\n",
    "obj_spr.intro()\n",
    "obj_spr.flight()\n",
    "obj_ost.intro()\n",
    "obj_ost.flight()"
   ]
  },
  {
   "cell_type": "markdown",
   "id": "c44e429b",
   "metadata": {},
   "source": [
    "**Implementing Polymorphism with a Function**\n",
    "\n",
    "- Let's create a Function called `func()` that will take an object as argument.\n",
    "- Now let the function to do something with the object passed to it.\n",
    "- Here we will call the methods which are defined in each of the two classes.\n",
    "- Then instantiate both the classes and call their action using the same `func()` function."
   ]
  },
  {
   "cell_type": "code",
   "execution_count": 22,
   "id": "76a7ea9a",
   "metadata": {},
   "outputs": [
    {
     "name": "stdout",
     "output_type": "stream",
     "text": [
      "New Delhi is the capital of India.\n",
      "Hindi is the most widely spoken language of India.\n",
      "India is a developing country.\n",
      "\n",
      "\n",
      "Washington, D.C. is the capital of USA.\n",
      "English is the primary language of USA.\n",
      "USA is a developed country.\n",
      "\n",
      "\n"
     ]
    }
   ],
   "source": [
    "# creating class 1\n",
    "class India():\n",
    "    # creating the methods\n",
    "    def capital(self):\n",
    "        print(\"New Delhi is the capital of India.\")\n",
    "\n",
    "    def language(self):\n",
    "        print(\"Hindi is the most widely spoken language of India.\")\n",
    "\n",
    "    def type(self):\n",
    "        print(\"India is a developing country.\")\n",
    "\n",
    "\n",
    "# creating class 2\n",
    "class USA():\n",
    "    # creating same methods in class 2 also\n",
    "    def capital(self):\n",
    "        print(\"Washington, D.C. is the capital of USA.\")\n",
    "\n",
    "    def language(self):\n",
    "        print(\"English is the primary language of USA.\")\n",
    "\n",
    "    def type(self):\n",
    "        print(\"USA is a developed country.\")\n",
    "\n",
    "\n",
    "# creating the function to call the methods of the objects\n",
    "def func(obj):\n",
    "    obj.capital()\n",
    "    obj.language()\n",
    "    obj.type()\n",
    "    print(\"\\n\")\n",
    "\n",
    "\n",
    "# instantiation\n",
    "obj_ind = India()\n",
    "obj_usa = USA()\n",
    "\n",
    "# calling the function using the objects\n",
    "func(obj_ind)\n",
    "func(obj_usa)"
   ]
  },
  {
   "cell_type": "markdown",
   "id": "b959283a",
   "metadata": {},
   "source": [
    "### `Abstraction:`\n",
    "\n",
    "- The abstraction is used to hide the unnecessary code details from the user. Also, when we do not want to give out sensitive parts of our code implementation we use data abstraction.\n",
    "- Data Abstraction in Python can be achieved through creating abstract classes.\n",
    "- So by Data Abstraction we stop a user from accessing a data directly from the class.\n",
    "\n",
    "- **PUBLIC:** These are normal attributes and methods, can be accessed from anywhere.\n",
    "\n",
    "- **PROTECTED:** These are defined by a single underscore or `_` before the attribute or method name. These can be accessed from the class they are defined in and the classes derived from this class (Sub classes). These can also be accessed from outside using the following syntax:\n",
    "> `_ProtectedAttributeName`\n",
    "\n",
    "- **PRIVATE:** These are defined by a double underscore or `__` before the attribute or method name. The private variables are accessible outside their class, just not easily accessible. Through Private, we can hide the data behind the class where the Private variable is declared, as in this case no one can access the variable directly from outside through a class. To call them from outside the class they are defined in we need to use the following syntax:\n",
    "> `_ClassName__PrivateAttributeName`"
   ]
  },
  {
   "cell_type": "code",
   "execution_count": 23,
   "id": "89dc88a6",
   "metadata": {},
   "outputs": [
    {
     "name": "stdout",
     "output_type": "stream",
     "text": [
      "2\n",
      "7\n"
     ]
    }
   ],
   "source": [
    "class MyClass:\n",
    "    # Hidden member of MyClass\n",
    "    __hiddenVariable = 0\n",
    "\n",
    "    # A member method that changes hiddenVariable\n",
    "    def add(self, increment):\n",
    "        self.__hiddenVariable += increment\n",
    "        print(self.__hiddenVariable)\n",
    "\n",
    "\n",
    "# Driver code\n",
    "myObject = MyClass()\n",
    "myObject.add(2)\n",
    "myObject.add(5)"
   ]
  },
  {
   "cell_type": "code",
   "execution_count": 24,
   "id": "f8f6d993",
   "metadata": {},
   "outputs": [
    {
     "name": "stdout",
     "output_type": "stream",
     "text": [
      "Error is:  'MyClass' object has no attribute '__hiddenVariable'\n"
     ]
    }
   ],
   "source": [
    "# Here it throws an exception when we try to access a hidden variable outside the class\n",
    "\n",
    "try:\n",
    "    print(myObject.__hiddenVariable)\n",
    "except Exception as e:\n",
    "    print(\"Error is: \", e)"
   ]
  },
  {
   "cell_type": "code",
   "execution_count": 25,
   "id": "53a8def0",
   "metadata": {},
   "outputs": [
    {
     "name": "stdout",
     "output_type": "stream",
     "text": [
      "0\n"
     ]
    }
   ],
   "source": [
    "# Now accessing the variable\n",
    "\n",
    "myObject1 = MyClass()\n",
    "print(myObject1._MyClass__hiddenVariable)"
   ]
  },
  {
   "cell_type": "code",
   "execution_count": 26,
   "id": "4faf2467",
   "metadata": {},
   "outputs": [
    {
     "name": "stdout",
     "output_type": "stream",
     "text": [
      "The Public attribute of the parent class is:  Data Science\n",
      "The Public attribute of the child class 1 is:  Data Science\n",
      "The Public attribute of the child class 2 is:  Data Science\n"
     ]
    }
   ],
   "source": [
    "# Public, Private, Protected\n",
    "\n",
    "class Courses:\n",
    "    # Creating attributes\n",
    "    course1 = \"Data Science\"        # public\n",
    "    _course2 = \"Web Development\"    # protected\n",
    "    __course3 = \"Data Analytics\"    # private\n",
    "\n",
    "\n",
    "class Course1(Courses):\n",
    "    def Coursename(self):\n",
    "        print(f\"The first course is: {Courses.course1}\")\n",
    "\n",
    "\n",
    "class Course2(Courses):\n",
    "    def __init__(self):\n",
    "        Courses.__init__(self)\n",
    "\n",
    "    def Coursename1(self):\n",
    "        print(f\"The second course is: {self.course2}\")\n",
    "\n",
    "    # Accessing protected variable from a subclass\n",
    "    # This is a getter method\n",
    "    def Coursename2(self):\n",
    "        print(f\"The second course is: {self._course2}\")\n",
    "\n",
    "\n",
    "class Course3(Courses):\n",
    "    def __init__(self):\n",
    "        Courses.__init__(self)\n",
    "\n",
    "    def Coursename1(self):\n",
    "        print(f\"The third course is: {self.course3}\")\n",
    "    \n",
    "    # Accessing private variable from outside the class of its own\n",
    "    def Coursename2(self):\n",
    "        print(f\"The third course is: {self._Courses__course3}\")\n",
    "        \n",
    "\n",
    "# Initializing\n",
    "c1 = Course1()\n",
    "c2 = Course2()\n",
    "c3 = Course3()\n",
    "\n",
    "# Accessing the public variable\n",
    "print(\"The Public attribute of the parent class is: \", c1.course1)\n",
    "print(\"The Public attribute of the child class 1 is: \", c2.course1)\n",
    "print(\"The Public attribute of the child class 2 is: \", c3.course1)"
   ]
  },
  {
   "cell_type": "code",
   "execution_count": 27,
   "id": "6ac003ef",
   "metadata": {},
   "outputs": [
    {
     "name": "stdout",
     "output_type": "stream",
     "text": [
      "Error is:  'Course2' object has no attribute 'course2'\n"
     ]
    }
   ],
   "source": [
    "# Accessing the protected variable\n",
    "# this will throw an error as we try to call a protected attribute of the parent class\n",
    "\n",
    "try:\n",
    "    print(c2.Coursename1())     \n",
    "except Exception as e:\n",
    "    print(\"Error is: \", e)"
   ]
  },
  {
   "cell_type": "code",
   "execution_count": 28,
   "id": "3c1570a8",
   "metadata": {},
   "outputs": [
    {
     "name": "stdout",
     "output_type": "stream",
     "text": [
      "The second course is: Web Development\n"
     ]
    }
   ],
   "source": [
    "# Now printing the protected variable\n",
    "\n",
    "c2.Coursename2()"
   ]
  },
  {
   "cell_type": "code",
   "execution_count": 29,
   "id": "8b92b6a2",
   "metadata": {},
   "outputs": [
    {
     "name": "stdout",
     "output_type": "stream",
     "text": [
      "Error is:  'Course3' object has no attribute 'course3'\n"
     ]
    }
   ],
   "source": [
    "# Accessing the private variable\n",
    "# this will throw an error as we try to call a private attribute of the parent class\n",
    "    \n",
    "try:\n",
    "    print(c3.Coursename1())    \n",
    "except Exception as e:\n",
    "    print(\"Error is: \", e)"
   ]
  },
  {
   "cell_type": "code",
   "execution_count": 30,
   "id": "16ec2c10",
   "metadata": {},
   "outputs": [
    {
     "name": "stdout",
     "output_type": "stream",
     "text": [
      "The third course is: Data Analytics\n"
     ]
    }
   ],
   "source": [
    "# Now printing the private variable\n",
    "\n",
    "c3.Coursename2()"
   ]
  },
  {
   "cell_type": "code",
   "execution_count": 31,
   "id": "56e92257",
   "metadata": {},
   "outputs": [
    {
     "name": "stdout",
     "output_type": "stream",
     "text": [
      "Printing all the members from outside of the parent class using a child class:\n",
      "The Public attribute is:  Data Science\n",
      "The Protected attribute is:  Web Development\n",
      "The Private attribute is:  Data Analytics\n"
     ]
    }
   ],
   "source": [
    "# So now directly printing all the members outside the class\n",
    "print(\"Printing all the members from outside of the parent class using a child class:\")\n",
    "print(\"The Public attribute is: \", c3.course1)\n",
    "print(\"The Protected attribute is: \", c3._course2)\n",
    "print(\"The Private attribute is: \", c3._Courses__course3)"
   ]
  },
  {
   "cell_type": "code",
   "execution_count": 32,
   "id": "21e3d5fa",
   "metadata": {},
   "outputs": [
    {
     "name": "stdout",
     "output_type": "stream",
     "text": [
      "Error is:  'Courses' object has no attribute '__course3'\n"
     ]
    }
   ],
   "source": [
    "# Even by an object of the main class we are not able to call the private variable outside the class\n",
    "\n",
    "c0 = Courses()\n",
    "\n",
    "try:\n",
    "    print(c0.__course3)\n",
    "except Exception as e:\n",
    "    print(\"Error is: \", e)"
   ]
  },
  {
   "cell_type": "code",
   "execution_count": 33,
   "id": "e5123743",
   "metadata": {},
   "outputs": [
    {
     "name": "stdout",
     "output_type": "stream",
     "text": [
      "Correct way to call the Private variable is:  Data Analytics\n"
     ]
    }
   ],
   "source": [
    "print(\"Correct way to call the Private variable is: \", c0._Courses__course3)"
   ]
  },
  {
   "cell_type": "markdown",
   "id": "34c96eb0",
   "metadata": {},
   "source": [
    "### `Encapsulation:`\n",
    "\n",
    "- **Encapsulation** is one of the fundamental concepts in object-oriented programming (OOP). It describes the idea of wrapping data and the methods that work on data within one unit. ***This puts restrictions on accessing variables and methods directly and can prevent the accidental modification of data***.\n",
    "- Remember if we have a private variable inside a class then with the help of the object of that class we will not be able to reassign any value to that variable. To do that we will need to create another method separately in that class (**setter method:** to set a new value). Then by calling that method of that class it is possible to change the value of that private variable.\n",
    "- So **Encapsulation** concept is not to allow a user to modify a value of a variable (private) directly during the runtime, to do that the user must take a class method defined for that particular purpose.\n",
    "\n",
    "\n",
    "**Difference between `Encapsulation` and `Abstraction`:**\n",
    "- In **Abstraction** we restrict a user from accessing directly a variable of a class meaning we are hiding the data behind the class.\n",
    "- Whereas **Encapsulation** stops from modifying the data directly during runtime.\n",
    "- So ***if we want to restrict the access we use `Abstraction` and if we want to restrict the modification we use `Encapsulation`.***"
   ]
  },
  {
   "cell_type": "code",
   "execution_count": 34,
   "id": "aebc3952",
   "metadata": {},
   "outputs": [
    {
     "name": "stdout",
     "output_type": "stream",
     "text": [
      "Arunava Biswas\n"
     ]
    }
   ],
   "source": [
    "# Creating a Base class\n",
    "class Base:\n",
    "    def __init__(self):\n",
    "        self.a = \"Arunava Biswas\"\n",
    "        self.__c = \"Arunava Biswas\"\n",
    "\n",
    "\n",
    "# Creating a derived class\n",
    "class Derived(Base):\n",
    "    def __init__(self):\n",
    "        # Calling constructor of Base class\n",
    "        Base.__init__(self)\n",
    "        print(\"Calling private member of base class: \")\n",
    "        print(self.__c)\n",
    "\n",
    "\n",
    "# Driver code\n",
    "obj1 = Base()\n",
    "print(obj1.a)"
   ]
  },
  {
   "cell_type": "code",
   "execution_count": 35,
   "id": "268f13b2",
   "metadata": {},
   "outputs": [
    {
     "name": "stdout",
     "output_type": "stream",
     "text": [
      "Error is:  'Base' object has no attribute 'c'\n"
     ]
    }
   ],
   "source": [
    "try:\n",
    "    print(obj1.c)\n",
    "except Exception as e:\n",
    "    print(\"Error is: \", e)"
   ]
  },
  {
   "cell_type": "code",
   "execution_count": 36,
   "id": "15479b6f",
   "metadata": {},
   "outputs": [
    {
     "name": "stdout",
     "output_type": "stream",
     "text": [
      "Calling private member of base class: \n",
      "Error is:  'Derived' object has no attribute '_Derived__c'\n"
     ]
    }
   ],
   "source": [
    "try:\n",
    "    obj2 = Derived()\n",
    "except Exception as e:\n",
    "    print(\"Error is: \", e)"
   ]
  },
  {
   "cell_type": "code",
   "execution_count": 37,
   "id": "ce831860",
   "metadata": {},
   "outputs": [],
   "source": [
    "# base class\n",
    "class iNeuron:\n",
    "    def __init__(self):\n",
    "        self.course1 = \"Data Science\"   # public variable\n",
    "        self.__course2 = \"Big Data\"     # private variable\n",
    "\n",
    "    def students(self):\n",
    "        print(\"The students are from the course: \", self.course1)\n",
    "\n",
    "    def students1(self):\n",
    "        print(\"The students are from the course: \", self.__course2)\n",
    "\n",
    "    # Creating a method to change the value of the private attribute\n",
    "    def students_change(self, new_value):\n",
    "        self.__course2 = new_value     # changing the value of the private variable\n",
    "\n",
    "\n",
    "# creating objects\n",
    "i1 = iNeuron()\n",
    "i2 = iNeuron()"
   ]
  },
  {
   "cell_type": "code",
   "execution_count": 38,
   "id": "88999bae",
   "metadata": {},
   "outputs": [
    {
     "name": "stdout",
     "output_type": "stream",
     "text": [
      "The students are from the course:  Data Science\n"
     ]
    }
   ],
   "source": [
    "# Here it will print the default value Data Science\n",
    "i1.students()"
   ]
  },
  {
   "cell_type": "code",
   "execution_count": 39,
   "id": "ec7967d3",
   "metadata": {},
   "outputs": [
    {
     "name": "stdout",
     "output_type": "stream",
     "text": [
      "The students are from the course:  Data Analytics\n"
     ]
    }
   ],
   "source": [
    "# Now changing the value of the attribute course1\n",
    "i1.course1 = \"Data Analytics\"\n",
    "\n",
    "# Now the value will change to Data Analytics\n",
    "i1.students()"
   ]
  },
  {
   "cell_type": "markdown",
   "id": "e4d920e4",
   "metadata": {},
   "source": [
    "**Notes:**\n",
    "- So basically here we are able to override the value of the public variable in the runtime.\n",
    "- Now try to do the same as above i.e. override the value but this time for the private variable."
   ]
  },
  {
   "cell_type": "code",
   "execution_count": 40,
   "id": "f32ad02e",
   "metadata": {},
   "outputs": [
    {
     "name": "stdout",
     "output_type": "stream",
     "text": [
      "The students are from the course:  Big Data\n"
     ]
    }
   ],
   "source": [
    "# Here it will print the default value of Big Data\n",
    "i2.students1()"
   ]
  },
  {
   "cell_type": "code",
   "execution_count": 41,
   "id": "7b27893f",
   "metadata": {},
   "outputs": [],
   "source": [
    "# Now changing the value of the attribute __course2\n",
    "i2.__course2 = \"Blockchain\""
   ]
  },
  {
   "cell_type": "code",
   "execution_count": 42,
   "id": "ef65b424",
   "metadata": {},
   "outputs": [
    {
     "name": "stdout",
     "output_type": "stream",
     "text": [
      "The students are from the course:  Big Data\n"
     ]
    }
   ],
   "source": [
    "# Here it will not change the value of the private attribute and return the default value\n",
    "i2.students1()"
   ]
  },
  {
   "cell_type": "code",
   "execution_count": 43,
   "id": "ec775fe5",
   "metadata": {},
   "outputs": [],
   "source": [
    "# Now call the method to reassign the value\n",
    "i2.students_change(\"Blockchain\")"
   ]
  },
  {
   "cell_type": "code",
   "execution_count": 44,
   "id": "719946b7",
   "metadata": {},
   "outputs": [
    {
     "name": "stdout",
     "output_type": "stream",
     "text": [
      "The students are from the course:  Blockchain\n"
     ]
    }
   ],
   "source": [
    "# Here the value will change to Blockchain\n",
    "i2.students1()"
   ]
  },
  {
   "cell_type": "markdown",
   "id": "d1fa158f",
   "metadata": {},
   "source": [
    "### `Method Overriding`:\n",
    "- When there is a same named method exist in both parent and child class, and in the child class if we redefine the method then it is going to override the previous one i.e. the method it inherits from the parent class, it is called **Method Overriding**.\n",
    "- Parent’s class methods can be called by using the Parent 'classname.method' inside the overridden method.\n",
    "- Python `super()` function provides us the facility to refer to the parent class explicitly. It is basically useful where we have to call superclass functions. It returns the proxy object that allows us to refer parent class by `super`."
   ]
  },
  {
   "cell_type": "code",
   "execution_count": 45,
   "id": "a5ccedee",
   "metadata": {},
   "outputs": [
    {
     "name": "stdout",
     "output_type": "stream",
     "text": [
      "print the details of all the students\n",
      "these are the filters student list \n"
     ]
    }
   ],
   "source": [
    "class ineuron:\n",
    "    def student(self):\n",
    "        print(\"print the details of all the students\")\n",
    "\n",
    "\n",
    "class ineuron_vision(ineuron):\n",
    "    # override the method inherited from the parent class\n",
    "    def student(self):\n",
    "        print(\"these are the filters student list \")\n",
    "\n",
    "\n",
    "# instantiation\n",
    "stu1 = ineuron()\n",
    "stu2 = ineuron_vision()\n",
    "\n",
    "# this will call the method in the parent class\n",
    "stu1.student() \n",
    "# this will call the redefined method in the child class\n",
    "stu2.student()      "
   ]
  },
  {
   "cell_type": "code",
   "execution_count": 46,
   "id": "f2d212d9",
   "metadata": {},
   "outputs": [
    {
     "name": "stdout",
     "output_type": "stream",
     "text": [
      "Inside Child\n",
      "Inside Parent2\n"
     ]
    }
   ],
   "source": [
    "# Method overriding with multiple inheritance\n",
    "\n",
    "# Defining parent class 1\n",
    "class Parent1:\n",
    "    # Parent's show method\n",
    "    def show(self):\n",
    "        print(\"Inside Parent1\")\n",
    "\n",
    "\n",
    "# Defining Parent class 2\n",
    "class Parent2:\n",
    "    # Parent's show method\n",
    "    def display(self):\n",
    "        print(\"Inside Parent2\")\n",
    "\n",
    "\n",
    "# Defining child class\n",
    "class Child(Parent1, Parent2):\n",
    "    # Child's show method\n",
    "    def show(self):\n",
    "        print(\"Inside Child\")\n",
    "\n",
    "\n",
    "# Driver's code\n",
    "obj = Child()\n",
    "\n",
    "# it will show the value of the child class due to method overriding\n",
    "obj.show() \n",
    "# it will show the default value\n",
    "obj.display()       "
   ]
  },
  {
   "cell_type": "code",
   "execution_count": 47,
   "id": "9198b26b",
   "metadata": {},
   "outputs": [
    {
     "name": "stdout",
     "output_type": "stream",
     "text": [
      "Inside GrandChild\n",
      "Inside Parent\n"
     ]
    }
   ],
   "source": [
    "# Method overriding with multilevel inheritance\n",
    "\n",
    "# parent class\n",
    "class Parent:\n",
    "    # Parent's show method\n",
    "    def display(self):\n",
    "        print(\"Inside Parent\")\n",
    "\n",
    "\n",
    "# Inherited or Sub class (Note Parent in bracket)\n",
    "class Child(Parent):\n",
    "    # Child's show method\n",
    "    def show(self):\n",
    "        print(\"Inside Child\")\n",
    "\n",
    "\n",
    "# Inherited or Sub class (Note Child in bracket)\n",
    "class GrandChild(Child):\n",
    "    # Child's show method\n",
    "    def show(self):\n",
    "        print(\"Inside GrandChild\")\n",
    "\n",
    "\n",
    "# Driver code\n",
    "g = GrandChild()\n",
    "# here it will override the show() of the child class\n",
    "g.show()  \n",
    "# this will remain same as in the parent class\n",
    "g.display()         "
   ]
  },
  {
   "cell_type": "code",
   "execution_count": 48,
   "id": "978fac69",
   "metadata": {},
   "outputs": [
    {
     "name": "stdout",
     "output_type": "stream",
     "text": [
      "Inside Parent\n",
      "Inside Child\n"
     ]
    }
   ],
   "source": [
    "# Calling the Parent’s method within the overridden method\n",
    "\n",
    "# Using Classname\n",
    "class Parent:\n",
    "\n",
    "    def show(self):\n",
    "        print(\"Inside Parent\")\n",
    "\n",
    "\n",
    "class Child(Parent):\n",
    "\n",
    "    def show(self):\n",
    "        # Calling the parent's class method\n",
    "        Parent.show(self)\n",
    "        print(\"Inside Child\")\n",
    "\n",
    "\n",
    "# Driver's code\n",
    "obj = Child()\n",
    "obj.show()"
   ]
  },
  {
   "cell_type": "code",
   "execution_count": 49,
   "id": "31635728",
   "metadata": {},
   "outputs": [
    {
     "name": "stdout",
     "output_type": "stream",
     "text": [
      "Inside Parent\n",
      "Inside Child\n"
     ]
    }
   ],
   "source": [
    "# using super()\n",
    "class Parent:\n",
    "\n",
    "    def show(self):\n",
    "        print(\"Inside Parent\")\n",
    "\n",
    "\n",
    "class Child(Parent):\n",
    "\n",
    "    def show(self):\n",
    "        # Calling the parent's class method\n",
    "        super().show()\n",
    "        print(\"Inside Child\")\n",
    "\n",
    "\n",
    "# Driver's code\n",
    "obj = Child()\n",
    "obj.show()"
   ]
  },
  {
   "cell_type": "markdown",
   "id": "7881d8c9",
   "metadata": {},
   "source": [
    "### `super()`:\n",
    "\n",
    "- The Python `super()` function returns objects represented in the parent’s class and enables multiple inheritances.\n",
    "- There are no parameters in `super()`.\n",
    "- In an inherited subclass, a parent class can be referred to with the use of the `super()` function. \n",
    "- The super function returns a temporary object of the superclass that allows access to all of its methods to its child class.\n",
    "\n",
    "**The benefits of using a superclass are:-**\n",
    "- Need not remember or specify the parent class name to access its methods. This function can be used both in single and multiple inheritances.\n",
    "- This implements modularity (isolating changes) and code re-usability as there is no need to rewrite the entire function.\n",
    "- Super function in Python is called dynamically because Python is a dynamic language, unlike other languages.\n",
    "\n",
    "**There are 3 constraints to using the super function:-**\n",
    "- The class and its methods which are referred to by the super function.\n",
    "- The arguments of the super function and the called function should match.\n",
    "- Every occurrence of the method must include `super()` after you use it."
   ]
  },
  {
   "cell_type": "code",
   "execution_count": 50,
   "id": "ebcc5441",
   "metadata": {},
   "outputs": [
    {
     "name": "stdout",
     "output_type": "stream",
     "text": [
      "The ID is: 103\n",
      "The Name is: Suraj kr gupta\n",
      "The Address is: Noida\n",
      "The Emails is: KKK@gmails\n"
     ]
    }
   ],
   "source": [
    "class Emp:\n",
    "    def __init__(self, id, name, Add):\n",
    "        self.id = id\n",
    "        self.name = name\n",
    "        self.Add = Add\n",
    "\n",
    "\n",
    "# Class freelancer inherits EMP\n",
    "class Freelance(Emp):\n",
    "    def __init__(self, id, name, Add, Emails):\n",
    "        super().__init__(id, name, Add)\n",
    "        self.Emails = Emails\n",
    "\n",
    "\n",
    "Emp_1 = Freelance(103, \"Suraj kr gupta\", \"Noida\", \"KKK@gmails\")\n",
    "print('The ID is:', Emp_1.id)\n",
    "print('The Name is:', Emp_1.name)\n",
    "print('The Address is:', Emp_1.Add)\n",
    "print('The Emails is:', Emp_1.Emails)"
   ]
  },
  {
   "cell_type": "code",
   "execution_count": 51,
   "id": "f32de353",
   "metadata": {},
   "outputs": [
    {
     "name": "stdout",
     "output_type": "stream",
     "text": [
      "It is a mammal.\n",
      "Has legs and tail\n"
     ]
    }
   ],
   "source": [
    "# Super function in single inheritance\n",
    "\n",
    "class Animals:\n",
    "    # Initializing constructor\n",
    "    def __init__(self):\n",
    "        self.legs = 4\n",
    "        self.domestic = True\n",
    "        self.tail = True\n",
    "        self.mammals = True\n",
    "\n",
    "    def isMammal(self):\n",
    "        if self.mammals:\n",
    "            print(\"It is a mammal.\")\n",
    "\n",
    "    def isDomestic(self):\n",
    "        if self.domestic:\n",
    "            print(\"It is a domestic animal.\")\n",
    "            \n",
    "class Dogs(Animals):\n",
    "    def __init__(self):\n",
    "        super().__init__()\n",
    "\n",
    "    def isMammal(self):\n",
    "        super().isMammal()\n",
    "\n",
    "\n",
    "class Horses(Animals):\n",
    "    def __init__(self):\n",
    "        super().__init__()\n",
    "\n",
    "    def hasTailandLegs(self):\n",
    "        if self.tail and self.legs == 4:\n",
    "            print(\"Has legs and tail\")\n",
    "\n",
    "\n",
    "# Driver code\n",
    "Tom = Dogs()\n",
    "Bruno = Horses()\n",
    "\n",
    "Tom.isMammal()\n",
    "Bruno.hasTailandLegs()"
   ]
  },
  {
   "cell_type": "code",
   "execution_count": 52,
   "id": "caab61db",
   "metadata": {},
   "outputs": [
    {
     "name": "stdout",
     "output_type": "stream",
     "text": [
      "Dog cannot fly\n",
      "Dog cannot swim\n",
      "Dog Is a mammal\n"
     ]
    }
   ],
   "source": [
    "# Super function in multiple inheritances\n",
    "\n",
    "class Mammal:\n",
    "    def __init__(self, name):\n",
    "        print(name, \"Is a mammal\")\n",
    "\n",
    "\n",
    "class canFly(Mammal):\n",
    "    def __init__(self, canFly_name):\n",
    "        print(canFly_name, \"cannot fly\")\n",
    "\n",
    "        # Calling Parent class\n",
    "        # Constructor\n",
    "        super().__init__(canFly_name)\n",
    "\n",
    "\n",
    "class canSwim(Mammal):\n",
    "    def __init__(self, canSwim_name):\n",
    "        print(canSwim_name, \"cannot swim\")\n",
    "\n",
    "        super().__init__(canSwim_name)\n",
    "\n",
    "\n",
    "class Animal(canFly, canSwim):\n",
    "    def __init__(self, name):\n",
    "        # Calling the constructor of both the parent class in the order of their inheritance\n",
    "        super().__init__(name)\n",
    "\n",
    "\n",
    "# Driver Code\n",
    "Carol = Animal(\"Dog\")"
   ]
  },
  {
   "cell_type": "code",
   "execution_count": 53,
   "id": "b84fda97",
   "metadata": {},
   "outputs": [
    {
     "name": "stdout",
     "output_type": "stream",
     "text": [
      "Dog cannot swim\n",
      "Dog cannot fly\n",
      "Dog Is a mammal\n"
     ]
    }
   ],
   "source": [
    "# Super function in Multi-Level inheritance\n",
    "\n",
    "class Mammal:\n",
    "    def __init__(self, name):\n",
    "        print(name, \"Is a mammal\")\n",
    "\n",
    "\n",
    "class canFly(Mammal):\n",
    "    def __init__(self, canFly_name):\n",
    "        print(canFly_name, \"cannot fly\")\n",
    "\n",
    "        # Calling Parent class Constructor\n",
    "        super().__init__(canFly_name)\n",
    "\n",
    "\n",
    "class canSwim(canFly):\n",
    "\n",
    "    def __init__(self, canSwim_name):\n",
    "        print(canSwim_name, \"cannot swim\")\n",
    "        super().__init__(canSwim_name)\n",
    "\n",
    "\n",
    "class Animal(canSwim):\n",
    "    def __init__(self, name):\n",
    "        # Calling the constructor of both the parent class in the order of their inheritance\n",
    "        super().__init__(name)\n",
    "\n",
    "\n",
    "# Driver Code\n",
    "Carol = Animal(\"Dog\")"
   ]
  },
  {
   "cell_type": "code",
   "execution_count": 54,
   "id": "cb9390e6",
   "metadata": {},
   "outputs": [
    {
     "name": "stdout",
     "output_type": "stream",
     "text": [
      "HEY !!!!!! GfG I am initialised(Class GEG3)\n",
      "HEY !!!!!! GfG I am initialised(Class GEG2)\n",
      "HEY !!!!!! GfG I am initialised(Class GEG1)\n",
      "Printing from class GFG3: 10\n",
      "Printing from class GFG2: 11\n",
      "Printing from class GFG1: 12\n"
     ]
    }
   ],
   "source": [
    "# Program to define the use of super() function in multiple inheritance\n",
    "class GFG1:\n",
    "    def __init__(self):\n",
    "        print('HEY !!!!!! GfG I am initialised(Class GEG1)')\n",
    "\n",
    "    def sub_GFG(self, b):\n",
    "        print('Printing from class GFG1:', b)\n",
    "\n",
    "    # class GFG2 inherits the GFG1\n",
    "\n",
    "\n",
    "class GFG2(GFG1):\n",
    "    def __init__(self):\n",
    "        print('HEY !!!!!! GfG I am initialised(Class GEG2)')\n",
    "        super().__init__()\n",
    "\n",
    "    def sub_GFG(self, b):\n",
    "        print('Printing from class GFG2:', b)\n",
    "        super().sub_GFG(b + 1)\n",
    "\n",
    "    # class GFG3 inherits the GFG1 ang GFG2 both\n",
    " \n",
    "\n",
    "class GFG3(GFG2):\n",
    "    def __init__(self):\n",
    "        print('HEY !!!!!! GfG I am initialised(Class GEG3)')\n",
    "        super().__init__()\n",
    "\n",
    "    def sub_GFG(self, b):\n",
    "        print('Printing from class GFG3:', b)\n",
    "        super().sub_GFG(b + 1)\n",
    "\n",
    "\n",
    "# main function\n",
    "if __name__ == '__main__':\n",
    "    # created the object gfg\n",
    "    gfg = GFG3()\n",
    "\n",
    "    # calling the function sub_GFG3() from class GHG3 which inherits both GFG1 and GFG2 classes\n",
    "    gfg.sub_GFG(10)"
   ]
  },
  {
   "cell_type": "markdown",
   "id": "8561aeaa",
   "metadata": {},
   "source": [
    "### `Class methods and Static methods`:\n",
    "- The `classmethod()` is an inbuilt function in Python, which returns a class method for a given function.\n",
    "- There can be some functionality that relates to the class, but does not require any instance(s) to do some work, static methods can be used in such cases. A static method is a method which is bound to the class and not the object of the class. It can’t access or modify class state. It is present in a class because it makes sense for the method to be present in class. A static method does not receive an implicit first argument.\n",
    "\n",
    "\n",
    "**Class method vs Static Method**\n",
    "- A class method takes cls as the first parameter while a static method needs no specific parameters.\n",
    "- A class method can access or modify the class state while a static method can’t access or modify it.\n",
    "- In general, static methods know nothing about the class state. They are utility-type methods that take some parameters and work upon those parameters. On the other hand class methods must have class as a parameter.\n",
    "- We use `@classmethod` decorator in python to create a class method, and we use `@staticmethod` decorator to create a static method in python.\n",
    "- A method should be a static method if we don't access an instance or the class anywhere within the defined function, else if we have to access the instance or the class through that function then it must be a class method.\n",
    "- Regular method of a class automatically takes the instance as the 1st argument, which by convention is called `self`."
   ]
  },
  {
   "cell_type": "code",
   "execution_count": 55,
   "id": "45eaf9e0",
   "metadata": {},
   "outputs": [],
   "source": [
    "class Employee:\n",
    "    # class variables\n",
    "    num_of_emp = 0\n",
    "    raise_amt = 1.04\n",
    "\n",
    "    # constructor\n",
    "    # instance variables\n",
    "    def __init__(self, first, last, pay):\n",
    "        self.first = first\n",
    "        self.last = last\n",
    "        self.pay = pay\n",
    "        self.email = first + '_' + last + '@email.com'\n",
    "\n",
    "        Employee.num_of_emp += 1\n",
    "\n",
    "    # creating method for fullname\n",
    "    def fullname(self):\n",
    "        return '{} {}'.format(self.first, self.last)\n",
    "\n",
    "    # creating method for pay raise\n",
    "    def apply_raise(self):\n",
    "        self.pay = int(self.pay * self.raise_amt)\n",
    "        return self.pay"
   ]
  },
  {
   "cell_type": "code",
   "execution_count": 56,
   "id": "78e51f28",
   "metadata": {},
   "outputs": [
    {
     "name": "stdout",
     "output_type": "stream",
     "text": [
      "At the beginning the raise amount for the class and it's instances:\n",
      "Employee -> 1.04\n",
      "emp1 -> 1.04\n",
      "emp2 -> 1.04\n"
     ]
    }
   ],
   "source": [
    "# Creating objects\n",
    "emp1 = Employee('Corey', 'Schafer', 50000)\n",
    "emp2 = Employee('Arunava', 'Biswas', 60000)\n",
    "\n",
    "print(\"At the beginning the raise amount for the class and it's instances:\")\n",
    "print(\"Employee ->\", Employee.raise_amt)\n",
    "print(\"emp1 ->\", emp1.raise_amt)\n",
    "print(\"emp2 ->\", emp2.raise_amt)"
   ]
  },
  {
   "cell_type": "code",
   "execution_count": 57,
   "id": "11bf8b41",
   "metadata": {},
   "outputs": [
    {
     "name": "stdout",
     "output_type": "stream",
     "text": [
      "Now the full names of the employees:\n",
      "Corey Schafer\n",
      "Arunava Biswas\n",
      "Number of employees now is: 2\n"
     ]
    }
   ],
   "source": [
    "print('Now the full names of the employees:')\n",
    "print(emp1.fullname())\n",
    "print(emp2.fullname())\n",
    "print('Number of employees now is:', Employee.num_of_emp)"
   ]
  },
  {
   "cell_type": "code",
   "execution_count": 58,
   "id": "d9bb5312",
   "metadata": {},
   "outputs": [
    {
     "name": "stdout",
     "output_type": "stream",
     "text": [
      "Now the emails of the employees:\n",
      "Corey Schafer -> corey_schafer@email.com\n",
      "Arunava Biswas -> arunava_biswas@email.com\n"
     ]
    }
   ],
   "source": [
    "print('Now the emails of the employees:')\n",
    "print(emp1.fullname(), '->', emp1.email.lower())\n",
    "print(emp2.fullname(), '->', emp2.email.lower())"
   ]
  },
  {
   "cell_type": "code",
   "execution_count": 59,
   "id": "d3ed6860",
   "metadata": {},
   "outputs": [
    {
     "name": "stdout",
     "output_type": "stream",
     "text": [
      "Initial salaries of the employees:\n",
      "Corey Schafer -> 50000\n",
      "Arunava Biswas -> 60000\n"
     ]
    }
   ],
   "source": [
    "print('Initial salaries of the employees:')\n",
    "print(emp1.fullname(), '->', emp1.pay)\n",
    "print(emp2.fullname(), '->', emp2.pay)"
   ]
  },
  {
   "cell_type": "code",
   "execution_count": 60,
   "id": "c627e30c",
   "metadata": {},
   "outputs": [
    {
     "name": "stdout",
     "output_type": "stream",
     "text": [
      "After raising salaries of the employees:\n",
      "Corey Schafer -> 52000\n",
      "Arunava Biswas -> 62400\n"
     ]
    }
   ],
   "source": [
    "print('After raising salaries of the employees:')\n",
    "print(emp1.fullname(), '->', emp1.apply_raise())\n",
    "print(emp2.fullname(), '->', emp2.apply_raise())"
   ]
  },
  {
   "cell_type": "markdown",
   "id": "ddd4645c",
   "metadata": {},
   "source": [
    "- Now to change a regular method to a classmethod we need to add a decorator called `@classmethod` at the top of the method.\n",
    "- The `@classmethod` decorator basically altering the functionality of a method as now we will receive 'class' as the 1st argument automatically instead of the instance i.e. `self`, by convention it is called `cls`.\n",
    "- These class methods can also be used to provide multiple way of creating objects.\n",
    "- The real life example of class method being used as constructor to create objects can be found in the `datetime` module."
   ]
  },
  {
   "cell_type": "code",
   "execution_count": 65,
   "id": "2f02801e",
   "metadata": {},
   "outputs": [],
   "source": [
    "class Employee:\n",
    "    # class variables\n",
    "    num_of_emp = 0\n",
    "    raise_amt = 1.04\n",
    "\n",
    "    # constructor\n",
    "    # instance variables\n",
    "    def __init__(self, first, last, pay):\n",
    "        self.first = first\n",
    "        self.last = last\n",
    "        self.pay = pay\n",
    "        self.email = first + '_' + last + '@email.com'\n",
    "\n",
    "        Employee.num_of_emp += 1\n",
    "\n",
    "    # creating method for fullname\n",
    "    def fullname(self):\n",
    "        return '{} {}'.format(self.first, self.last)\n",
    "\n",
    "    # creating method for pay raise\n",
    "    def apply_raise(self):\n",
    "        self.pay = int(self.pay * self.raise_amt)\n",
    "        return self.pay\n",
    "\n",
    "    # now creating a class method\n",
    "    @classmethod\n",
    "    def set_raise_amt(cls, amount):\n",
    "        cls.raise_amt = amount"
   ]
  },
  {
   "cell_type": "code",
   "execution_count": 66,
   "id": "604c7b1e",
   "metadata": {},
   "outputs": [
    {
     "name": "stdout",
     "output_type": "stream",
     "text": [
      "At the beginning the raise amount for the class and it's instances:\n",
      "Employee -> 1.04\n",
      "emp1 -> 1.04\n",
      "emp2 -> 1.04\n"
     ]
    }
   ],
   "source": [
    "# Creating objects\n",
    "emp1 = Employee('Corey', 'Schafer', 50000)\n",
    "emp2 = Employee('Arunava', 'Biswas', 60000)\n",
    "\n",
    "print(\"At the beginning the raise amount for the class and it's instances:\")\n",
    "print(\"Employee ->\", Employee.raise_amt)\n",
    "print(\"emp1 ->\", emp1.raise_amt)\n",
    "print(\"emp2 ->\", emp2.raise_amt)"
   ]
  },
  {
   "cell_type": "code",
   "execution_count": 67,
   "id": "c352c26a",
   "metadata": {},
   "outputs": [
    {
     "name": "stdout",
     "output_type": "stream",
     "text": [
      "Now after changing the raise amount for the Employee class using class method:\n",
      "Employee -> 1.05\n",
      "emp1 -> 1.05\n",
      "emp2 -> 1.05\n"
     ]
    }
   ],
   "source": [
    "# changing the class variable using the class method\n",
    "\n",
    "print(\"Now after changing the raise amount for the Employee class using class method:\")\n",
    "Employee.set_raise_amt(1.05)\n",
    "print(\"Employee ->\", Employee.raise_amt)\n",
    "print(\"emp1 ->\", emp1.raise_amt)\n",
    "print(\"emp2 ->\", emp2.raise_amt)"
   ]
  },
  {
   "cell_type": "code",
   "execution_count": 68,
   "id": "a1e8958a",
   "metadata": {},
   "outputs": [
    {
     "name": "stdout",
     "output_type": "stream",
     "text": [
      "After changing the raise amount of the employees using class method:\n",
      "Corey Schafer -> 52500\n",
      "Arunava Biswas -> 63000\n"
     ]
    }
   ],
   "source": [
    "print('After changing the raise amount of the employees using class method:')\n",
    "print(emp1.fullname(), '->', emp1.apply_raise())\n",
    "print(emp2.fullname(), '->', emp2.apply_raise())"
   ]
  },
  {
   "cell_type": "code",
   "execution_count": 69,
   "id": "5d0a09b2",
   "metadata": {},
   "outputs": [],
   "source": [
    "# Now using class method creating new employees\n",
    "# Here the data about employees are passed as string separated by '-'.\n",
    "\n",
    "emp_str_1 = 'John-Doe-70000'\n",
    "emp_str_2 = 'Steve-Smith-30000'\n",
    "emp_str_3 = 'Jane-Doe-90000'"
   ]
  },
  {
   "cell_type": "code",
   "execution_count": 70,
   "id": "2acc4175",
   "metadata": {},
   "outputs": [],
   "source": [
    "# Now splitting the string to create a new employee\n",
    "first_n, last_n, payment = emp_str_1.split('-')"
   ]
  },
  {
   "cell_type": "code",
   "execution_count": 71,
   "id": "486ad2ee",
   "metadata": {},
   "outputs": [],
   "source": [
    "# creating object\n",
    "new_emp_1 = Employee(first_n, last_n, payment)"
   ]
  },
  {
   "cell_type": "code",
   "execution_count": 72,
   "id": "5ac1b0eb",
   "metadata": {},
   "outputs": [
    {
     "name": "stdout",
     "output_type": "stream",
     "text": [
      "Employee from string without class method:\n",
      "John Doe\n",
      "John Doe -> john_doe@email.com\n",
      "John Doe -> 70000\n"
     ]
    }
   ],
   "source": [
    "print(\"Employee from string without class method:\")\n",
    "print(new_emp_1.fullname())\n",
    "print(new_emp_1.fullname(), '->', new_emp_1.email.lower())\n",
    "print(new_emp_1.fullname(), '->', new_emp_1.pay)"
   ]
  },
  {
   "cell_type": "markdown",
   "id": "e50ed317",
   "metadata": {},
   "source": [
    "- The problem here is that everytime someone has to create a new employee they have to parse the values separately, so now let's create a constructor that will automatically do the task for them, for this we will use a class method.\n",
    "- Now using the class method `from_string()` let's create object employees."
   ]
  },
  {
   "cell_type": "code",
   "execution_count": 73,
   "id": "e37c77cd",
   "metadata": {},
   "outputs": [],
   "source": [
    "class Employee:\n",
    "    # class variables\n",
    "    num_of_emp = 0\n",
    "    raise_amt = 1.04\n",
    "\n",
    "    # constructor\n",
    "    # instance variables\n",
    "    def __init__(self, first, last, pay):\n",
    "        self.first = first\n",
    "        self.last = last\n",
    "        self.pay = pay\n",
    "        self.email = first + '_' + last + '@email.com'\n",
    "\n",
    "        Employee.num_of_emp += 1\n",
    "\n",
    "    # creating method for fullname\n",
    "    def fullname(self):\n",
    "        return '{} {}'.format(self.first, self.last)\n",
    "\n",
    "    # creating method for pay raise\n",
    "    def apply_raise(self):\n",
    "        self.pay = int(self.pay * self.raise_amt)\n",
    "        return self.pay\n",
    "\n",
    "    # creating constructor using class method\n",
    "    # here by convention the method name should have a 'from' to start with\n",
    "    @classmethod\n",
    "    def from_string(cls, emp_str):\n",
    "        first, last, pay = emp_str.split('-')\n",
    "        return cls(first, last, pay)"
   ]
  },
  {
   "cell_type": "code",
   "execution_count": 74,
   "id": "c0781b77",
   "metadata": {},
   "outputs": [
    {
     "name": "stdout",
     "output_type": "stream",
     "text": [
      "Employee from string using class method as constructor:\n",
      "Steve Smith\n",
      "Jane Doe\n",
      "Steve Smith -> steve_smith@email.com\n",
      "Jane Doe -> jane_doe@email.com\n",
      "Steve Smith -> 30000\n",
      "Jane Doe -> 90000\n",
      "Number of employees at the end is: 2\n"
     ]
    }
   ],
   "source": [
    "# Now using the class method 'from_string()' let's create object employees\n",
    "\n",
    "new_emp_2 = Employee.from_string(emp_str_2)\n",
    "new_emp_3 = Employee.from_string(emp_str_3)\n",
    "\n",
    "print(\"Employee from string using class method as constructor:\")\n",
    "print(new_emp_2.fullname())\n",
    "print(new_emp_3.fullname())\n",
    "print(new_emp_2.fullname(), '->', new_emp_2.email.lower())\n",
    "print(new_emp_3.fullname(), '->', new_emp_3.email.lower())\n",
    "print(new_emp_2.fullname(), '->', new_emp_2.pay)\n",
    "print(new_emp_3.fullname(), '->', new_emp_3.pay)\n",
    "print('Number of employees at the end is:', Employee.num_of_emp)"
   ]
  },
  {
   "cell_type": "markdown",
   "id": "ef4816ee",
   "metadata": {},
   "source": [
    "- In static method nothing is passed automatically as 1st argument. For static method we use decorator named `@staticmethod`.\n",
    "- Here they pass neither the instance nor the class as the 1st argument, so they work just like a normal class."
   ]
  },
  {
   "cell_type": "markdown",
   "id": "6bd846c5",
   "metadata": {},
   "source": [
    "- Here we will pass a date to the class `Employee` and use a static method to find out whether that date is a working day or not.\n",
    "- For doing this we use the `datetime` module"
   ]
  },
  {
   "cell_type": "code",
   "execution_count": 75,
   "id": "277d51ea",
   "metadata": {},
   "outputs": [],
   "source": [
    "import datetime as dt\n",
    "\n",
    "class Employee:\n",
    "    # class variables\n",
    "    num_of_emp = 0\n",
    "    raise_amt = 1.04\n",
    "\n",
    "    # constructor\n",
    "    # instance variables\n",
    "    def __init__(self, first, last, pay):\n",
    "        self.first = first\n",
    "        self.last = last\n",
    "        self.pay = pay\n",
    "        self.email = first + '_' + last + '@email.com'\n",
    "\n",
    "        Employee.num_of_emp += 1\n",
    "\n",
    "    # creating method for fullname\n",
    "    def fullname(self):\n",
    "        return '{} {}'.format(self.first, self.last)\n",
    "\n",
    "    # creating method for pay raise\n",
    "    def apply_raise(self):\n",
    "        self.pay = int(self.pay * self.raise_amt)\n",
    "        return self.pay\n",
    "    \n",
    "    # using a static method to find whether a date is a workday or not?\n",
    "    # here by convention the method name should start with 'is'\n",
    "    @staticmethod\n",
    "    def is_workday(day):\n",
    "        # using python's inbuilt weekday method where 'Monday=0' and 'Sunday=6'\n",
    "        if day.weekday() == 5 or day.weekday() == 6:\n",
    "            return \"is a holiday.\"\n",
    "        else:\n",
    "            return \"is a workday.\""
   ]
  },
  {
   "cell_type": "code",
   "execution_count": 76,
   "id": "a356e2cf",
   "metadata": {},
   "outputs": [
    {
     "name": "stdout",
     "output_type": "stream",
     "text": [
      "The day 2022-07-24 is a holiday.\n",
      "The day 2022-07-29 is a workday.\n"
     ]
    }
   ],
   "source": [
    "# creating a date\n",
    "\n",
    "import datetime as dt\n",
    "\n",
    "my_date1 = dt.date(2022, 7, 24)     # it is a Sunday\n",
    "my_date2 = dt.date(2022, 7, 29)     # it is a Friday\n",
    "print(f\"The day {my_date1} {Employee.is_workday(my_date1)}\")\n",
    "print(f\"The day {my_date2} {Employee.is_workday(my_date2)}\")"
   ]
  },
  {
   "cell_type": "markdown",
   "id": "43f9d072",
   "metadata": {},
   "source": [
    "### `Special / Magic / Dunder methods`:\n",
    "- We can also perform operator overloading using these special methods.\n",
    "- Special methods are called Dunder methods as they are surrounded with `__` like `__methodName__`.\n",
    "- The `__init__()` itself is a special method.\n",
    "- Other than this, two most common special methods are `__repr__()` and `__str__()`.\n",
    "- **`__repr__()`** : It makes an unambiguous representation of the object, and should be used for debugging, logging etc. It is mainly used for other developers to read the code. Good practice to write this method is to try to display something that can be copied and paste back to the python code that will recreate the same object.\n",
    "- **`__str__()`** : It is more readable representation of the object so the end user can make sense of its code.\n",
    "- The `str` method gets preference over the `repr` method if both gets called."
   ]
  },
  {
   "cell_type": "code",
   "execution_count": 77,
   "id": "4ef142d9",
   "metadata": {},
   "outputs": [],
   "source": [
    "class Employee:\n",
    "    # class variables\n",
    "    raise_amt = 1.04\n",
    "\n",
    "    # constructor\n",
    "    # instance variables\n",
    "    def __init__(self, first, last, pay):\n",
    "        self.first = first\n",
    "        self.last = last\n",
    "        self.pay = pay\n",
    "        self.email = first + '_' + last + '@email.com'\n",
    "\n",
    "    # creating method for fullname\n",
    "    def fullname(self):\n",
    "        return '{} {}'.format(self.first, self.last)\n",
    "\n",
    "    \n",
    "# Creating objects\n",
    "emp1 = Employee('Corey', 'Schafer', 50000)\n",
    "emp2 = Employee('Arunava', 'Biswas', 60000)"
   ]
  },
  {
   "cell_type": "code",
   "execution_count": 79,
   "id": "8b989991",
   "metadata": {},
   "outputs": [
    {
     "name": "stdout",
     "output_type": "stream",
     "text": [
      "<__main__.Employee object at 0x00000277DB435730>\n"
     ]
    }
   ],
   "source": [
    "# without __repr__()\n",
    "print(emp1) "
   ]
  },
  {
   "cell_type": "code",
   "execution_count": 84,
   "id": "991f0dae",
   "metadata": {},
   "outputs": [],
   "source": [
    "class Employee:\n",
    "    # class variables\n",
    "    raise_amt = 1.04\n",
    "\n",
    "    # constructor\n",
    "    # instance variables\n",
    "    def __init__(self, first, last, pay):\n",
    "        self.first = first\n",
    "        self.last = last\n",
    "        self.pay = pay\n",
    "        self.email = first + '_' + last + '@email.com'\n",
    "\n",
    "    # creating method for fullname\n",
    "    def fullname(self):\n",
    "        return '{} {}'.format(self.first, self.last)\n",
    "    \n",
    "     # repr method\n",
    "    def __repr__(self):\n",
    "        return \"Employee('{}', '{}', '{}')\".format(self.first, self.last, self.pay)\n",
    "\n",
    "    \n",
    "# Creating objects\n",
    "emp1 = Employee('Corey', 'Schafer', 50000)\n",
    "emp2 = Employee('Arunava', 'Biswas', 60000)"
   ]
  },
  {
   "cell_type": "code",
   "execution_count": 85,
   "id": "3ad603f5",
   "metadata": {},
   "outputs": [
    {
     "name": "stdout",
     "output_type": "stream",
     "text": [
      "Employee('Corey', 'Schafer', '50000')\n"
     ]
    }
   ],
   "source": [
    "# Now after __repr__()\n",
    "print(emp1) "
   ]
  },
  {
   "cell_type": "code",
   "execution_count": 86,
   "id": "e1d3908e",
   "metadata": {},
   "outputs": [],
   "source": [
    "class Employee:\n",
    "    # class variables\n",
    "    raise_amt = 1.04\n",
    "\n",
    "    # constructor\n",
    "    # instance variables\n",
    "    def __init__(self, first, last, pay):\n",
    "        self.first = first\n",
    "        self.last = last\n",
    "        self.pay = pay\n",
    "        self.email = first + '_' + last + '@email.com'\n",
    "\n",
    "    # creating method for fullname\n",
    "    def fullname(self):\n",
    "        return '{} {}'.format(self.first, self.last)\n",
    "    \n",
    "     # repr method\n",
    "    def __repr__(self):\n",
    "        return \"Employee('{}', '{}', '{}')\".format(self.first, self.last, self.pay)\n",
    "    \n",
    "     # str method\n",
    "    def __str__(self):\n",
    "        return '{} - {}'.format(self.fullname(), self.email)\n",
    "\n",
    "    \n",
    "# Creating objects\n",
    "emp1 = Employee('Corey', 'Schafer', 50000)\n",
    "emp2 = Employee('Arunava', 'Biswas', 60000)"
   ]
  },
  {
   "cell_type": "code",
   "execution_count": 87,
   "id": "33765ae1",
   "metadata": {},
   "outputs": [
    {
     "name": "stdout",
     "output_type": "stream",
     "text": [
      "Arunava Biswas - Arunava_Biswas@email.com\n"
     ]
    }
   ],
   "source": [
    "# Now we can see the output we get from repr() for another object when str method is present.\n",
    "\n",
    "print(emp2) "
   ]
  },
  {
   "cell_type": "code",
   "execution_count": 88,
   "id": "c0bdb527",
   "metadata": {},
   "outputs": [
    {
     "name": "stdout",
     "output_type": "stream",
     "text": [
      "Employee('Corey', 'Schafer', '50000')\n",
      "Corey Schafer - Corey_Schafer@email.com\n",
      "Employee('Arunava', 'Biswas', '60000')\n",
      "Arunava Biswas - Arunava_Biswas@email.com\n"
     ]
    }
   ],
   "source": [
    "# Now printing both the methods\n",
    "print(repr(emp1))\n",
    "print(str(emp1))\n",
    "print(repr(emp2))\n",
    "print(str(emp2))"
   ]
  },
  {
   "cell_type": "markdown",
   "id": "21639b8a",
   "metadata": {},
   "source": [
    "**Notes:**\n",
    "\n",
    "- There are other special methods also:\n",
    "- Like in integer there is `__add__()` and also in string there is another `__add__()`\n",
    "- These methods used to work in the background"
   ]
  },
  {
   "cell_type": "code",
   "execution_count": 89,
   "id": "3031eaa1",
   "metadata": {},
   "outputs": [
    {
     "name": "stdout",
     "output_type": "stream",
     "text": [
      "7\n",
      "7\n",
      "Arunava Biswas\n"
     ]
    }
   ],
   "source": [
    "# using __add__() on both integer and string\n",
    "\n",
    "print(2 + 5)\n",
    "print(int.__add__(2, 5))        \n",
    "print(str.__add__('Arunava ', 'Biswas'))"
   ]
  },
  {
   "cell_type": "markdown",
   "id": "4acd44ff",
   "metadata": {},
   "source": [
    "- We can make customization with this dunder methods\n",
    "- Let's say we want to calculate total salary just by adding the employees of the Employee class together."
   ]
  },
  {
   "cell_type": "code",
   "execution_count": 90,
   "id": "ef2cc5d2",
   "metadata": {},
   "outputs": [],
   "source": [
    "class Employee:\n",
    "    # class variables\n",
    "    raise_amt = 1.04\n",
    "\n",
    "    # constructor\n",
    "    # instance variables\n",
    "    def __init__(self, first, last, pay):\n",
    "        self.first = first\n",
    "        self.last = last\n",
    "        self.pay = pay\n",
    "        self.email = first + '_' + last + '@email.com'\n",
    "\n",
    "    # creating method for fullname\n",
    "    def fullname(self):\n",
    "        return '{} {}'.format(self.first, self.last)\n",
    "    \n",
    "     # repr method\n",
    "    def __repr__(self):\n",
    "        return \"Employee('{}', '{}', '{}')\".format(self.first, self.last, self.pay)\n",
    "    \n",
    "     # str method\n",
    "    def __str__(self):\n",
    "        return '{} - {}'.format(self.fullname(), self.email)\n",
    "    \n",
    "    # creating a special customized add method to calculate total salary by passing employees\n",
    "    # it takes 2 parameters:\n",
    "    # 'self' it stays left side of the addition\n",
    "    # 'other' it stays right side of the addition\n",
    "    def __add__(self, other):\n",
    "        return self.pay + other.pay\n",
    "\n",
    "\n",
    "    \n",
    "# Creating objects\n",
    "emp1 = Employee('Corey', 'Schafer', 50000)\n",
    "emp2 = Employee('Arunava', 'Biswas', 60000)"
   ]
  },
  {
   "cell_type": "code",
   "execution_count": 91,
   "id": "1047878f",
   "metadata": {},
   "outputs": [
    {
     "name": "stdout",
     "output_type": "stream",
     "text": [
      "Combined salary of the employees are:\n",
      "110000\n"
     ]
    }
   ],
   "source": [
    "print('Combined salary of the employees are:')\n",
    "print(emp1 + emp2)"
   ]
  },
  {
   "cell_type": "markdown",
   "id": "ef7d96f0",
   "metadata": {},
   "source": [
    "- The `len()` is also a special method\n",
    "- Let's use the `__len__()` to get the length of the employee full name."
   ]
  },
  {
   "cell_type": "code",
   "execution_count": 92,
   "id": "cbd5f872",
   "metadata": {},
   "outputs": [],
   "source": [
    "class Employee:\n",
    "    # class variables\n",
    "    raise_amt = 1.04\n",
    "\n",
    "    # constructor\n",
    "    # instance variables\n",
    "    def __init__(self, first, last, pay):\n",
    "        self.first = first\n",
    "        self.last = last\n",
    "        self.pay = pay\n",
    "        self.email = first + '_' + last + '@email.com'\n",
    "\n",
    "    # creating method for fullname\n",
    "    def fullname(self):\n",
    "        return '{} {}'.format(self.first, self.last)\n",
    "    \n",
    "     # repr method\n",
    "    def __repr__(self):\n",
    "        return \"Employee('{}', '{}', '{}')\".format(self.first, self.last, self.pay)\n",
    "    \n",
    "     # str method\n",
    "    def __str__(self):\n",
    "        return '{} - {}'.format(self.fullname(), self.email)\n",
    "    \n",
    "    # dunder len method to get fullname\n",
    "    def __len__(self):\n",
    "        return len(self.fullname())\n",
    "\n",
    "\n",
    "    \n",
    "# Creating objects\n",
    "emp1 = Employee('Corey', 'Schafer', 50000)\n",
    "emp2 = Employee('Arunava', 'Biswas', 60000)"
   ]
  },
  {
   "cell_type": "code",
   "execution_count": 93,
   "id": "bd6a27f0",
   "metadata": {},
   "outputs": [
    {
     "name": "stdout",
     "output_type": "stream",
     "text": [
      "The length of fullname of the employees are:\n",
      "Length of Corey Schafer is 13\n",
      "Length of Arunava Biswas is 14\n"
     ]
    }
   ],
   "source": [
    "print(\"The length of fullname of the employees are:\")\n",
    "print(f\"Length of {emp1.fullname()} is {len(emp1)}\")\n",
    "print(f\"Length of {emp2.fullname()} is {len(emp2)}\")"
   ]
  },
  {
   "cell_type": "markdown",
   "id": "0123578b",
   "metadata": {},
   "source": [
    "### `Multiple Constructors`:\n",
    "\n",
    "- Is it allowed to write multiple constructors`(__init__)` in a class in Python?\n",
    "- When writing program in other languages like (Java, .net, etc.)  we can create multiple constructors in the same class to initialize different parameters in it. But in python the last constructor we make will override the previous constructors. So in normal circumstances we cannot create multiple constructors in python for a same class.\n",
    "\n",
    "\n",
    "- To initialize multiple constructor we need to initialize the constructor with `*args`. The `*args` is the positional argument. - We can also initialize multiple constructors in a class using a keyword argument i.e. `**kwargs`. \n",
    "- Now by creating `if else` condition we can create multiple objects of different size constructors. But it is not a good practice.\n"
   ]
  },
  {
   "cell_type": "code",
   "execution_count": 94,
   "id": "d16b8164",
   "metadata": {},
   "outputs": [],
   "source": [
    "class Animal1:\n",
    "    # 1st constructor with 2 attributes\n",
    "    def __init__(self, name, species):\n",
    "        self.name = name\n",
    "        self. species = species\n",
    "\n",
    "    # 2nd constructor with 3 attributes\n",
    "    def __init__(self, name, species, age):\n",
    "        self.name = name\n",
    "        self.species = species\n",
    "        self.age = age\n",
    "\n",
    "    # creating a method\n",
    "    def make_sound(self, sound):\n",
    "        return \"The animal is {} and it says {}.\".format(self.name, sound)\n",
    "\n",
    "    def __repr__(self):\n",
    "        return \"Animal('{}', '{}', '{}')\".format(self.name, self.species, self.age)"
   ]
  },
  {
   "cell_type": "code",
   "execution_count": 95,
   "id": "12ed8f68",
   "metadata": {},
   "outputs": [
    {
     "name": "stdout",
     "output_type": "stream",
     "text": [
      "Creating an object using 2 attributes (Using constructor 1):\n",
      "Error is:  __init__() missing 1 required positional argument: 'age'\n"
     ]
    }
   ],
   "source": [
    "# Initializing\n",
    "\n",
    "print(\"Creating an object using 2 attributes (Using constructor 1):\")\n",
    "try:\n",
    "    dog = Animal1(\"Dog\", \"mammals\")\n",
    "    print(dog)\n",
    "    print(dog.make_sound(\"bhow bhow\"))\n",
    "except Exception as err:\n",
    "    print('Error is: ', err)"
   ]
  },
  {
   "cell_type": "code",
   "execution_count": 96,
   "id": "247f51fd",
   "metadata": {},
   "outputs": [
    {
     "name": "stdout",
     "output_type": "stream",
     "text": [
      "Creating an object using 3 attributes (Using constructor 2):\n",
      "Animal('Dog', 'mammals', '9')\n",
      "The animal is Dog and it says bhow bhow.\n"
     ]
    }
   ],
   "source": [
    "print(\"Creating an object using 3 attributes (Using constructor 2):\")\n",
    "\n",
    "try:\n",
    "    dog = Animal1(\"Dog\", \"mammals\", 9)\n",
    "    print(dog)\n",
    "    print(dog.make_sound(\"bhow bhow\"))\n",
    "except Exception as err:\n",
    "    print('Error is: ', err)"
   ]
  },
  {
   "cell_type": "code",
   "execution_count": 97,
   "id": "7ea0aecb",
   "metadata": {},
   "outputs": [],
   "source": [
    "# Now Using a hack to create multiple constructors\n",
    "\n",
    "\n",
    "class Animal2:\n",
    "    # creating constructor with *args\n",
    "    def __init__(self, *args):\n",
    "        if len(args) == 1:          # if only one argument is passed then create just one attribute\n",
    "            self.name = args[0]\n",
    "        elif len(args) == 2:        # if two arguments is passed then create just two attributes\n",
    "            self.name = args[0]\n",
    "            self.species = args[1]\n",
    "        elif len(args) == 3:        # if three arguments is passed then create just three attributes\n",
    "            self.name = args[0]\n",
    "            self.species = args[1]\n",
    "            self.age = args[2]\n",
    "\n",
    "    # creating a method\n",
    "    def make_sound(self, sound):\n",
    "        return \"The animal is {} and it says {}.\".format(self.name, sound)"
   ]
  },
  {
   "cell_type": "code",
   "execution_count": 99,
   "id": "a63dffdb",
   "metadata": {},
   "outputs": [
    {
     "name": "stdout",
     "output_type": "stream",
     "text": [
      "Creating different objects of different size attributes:\n",
      "\n",
      "Object1\n",
      "Dog\n",
      "The animal is Dog and it says bhow bhow.\n",
      "\n",
      "Object2\n",
      "Cat\n",
      "mammals\n",
      "The animal is Cat and it says meow meow.\n",
      "\n",
      "Object3\n",
      "Snake\n",
      "reptile\n",
      "5\n",
      "The animal is Snake and it says hiss hiss.\n"
     ]
    }
   ],
   "source": [
    "print(\"Creating different objects of different size attributes:\")\n",
    "try:\n",
    "    dog = Animal2(\"Dog\")\n",
    "    cat = Animal2(\"Cat\", \"mammals\")\n",
    "    snake = Animal2(\"Snake\", \"reptile\", 5)\n",
    "    print(\"\\nObject1\")\n",
    "    print(dog.name)\n",
    "    print(dog.make_sound(\"bhow bhow\"))\n",
    "\n",
    "    print(\"\\nObject2\")\n",
    "    print(cat.name)\n",
    "    print(cat.species)\n",
    "    print(cat.make_sound(\"meow meow\"))\n",
    "\n",
    "    print(\"\\nObject3\")\n",
    "    print(snake.name)\n",
    "    print(snake.species)\n",
    "    print(snake.age)\n",
    "    print(snake.make_sound(\"hiss hiss\"))\n",
    "except Exception as err:\n",
    "    print('Error is: ', err)"
   ]
  },
  {
   "cell_type": "code",
   "execution_count": null,
   "id": "4b4a0ded",
   "metadata": {},
   "outputs": [],
   "source": []
  }
 ],
 "metadata": {
  "kernelspec": {
   "display_name": "Python 3 (ipykernel)",
   "language": "python",
   "name": "python3"
  },
  "language_info": {
   "codemirror_mode": {
    "name": "ipython",
    "version": 3
   },
   "file_extension": ".py",
   "mimetype": "text/x-python",
   "name": "python",
   "nbconvert_exporter": "python",
   "pygments_lexer": "ipython3",
   "version": "3.9.15"
  }
 },
 "nbformat": 4,
 "nbformat_minor": 5
}
