{
 "cells": [
  {
   "cell_type": "markdown",
   "id": "88249d2b",
   "metadata": {},
   "source": [
    "### First-Class Functions:\n",
    "- A programming language said to have First-Class Functions if it treats functions as **First-Class citizens**.\n",
    "\n",
    "- **First Class Citizen (Programming):**\n",
    "  - A First-Class citizen (sometimes called **First-Class Objects**) in a programming language is an entity which supports all the operations generally available to other entities. These operations typically include being passed as an argument, returned from a function, and assigned to a variable.\n",
    "- **Higher Order Functions:**\n",
    "  - When a function accepts other functions as arguments or returns functions as their results then that function is called a Higher Order Function."
   ]
  },
  {
   "cell_type": "code",
   "execution_count": 1,
   "id": "bb776a00",
   "metadata": {},
   "outputs": [
    {
     "name": "stdout",
     "output_type": "stream",
     "text": [
      "Assigning functions to a Variable:\n",
      "<function square at 0x0000011D080473A0>\n",
      "<function square at 0x0000011D080473A0>\n",
      "25\n",
      "25\n"
     ]
    }
   ],
   "source": [
    "# Creating a function\n",
    "def square(x):\n",
    "    return x * x\n",
    "\n",
    "# Assigning the function to a variable\n",
    "f1 = square(5)\n",
    "\n",
    "# We can also assign the function to a variable without using the ()\n",
    "# Remember keeping the () means calling/executing the function but here we are only assigning the function\n",
    "f2 = square\n",
    "\n",
    "# Now printing both the function and the variable\n",
    "print(\"Assigning functions to a Variable:\")\n",
    "print(square)        \n",
    "print(f2)           \n",
    "print(f1)            \n",
    "print(f2(5))         "
   ]
  },
  {
   "cell_type": "code",
   "execution_count": 2,
   "id": "e8a19347",
   "metadata": {},
   "outputs": [
    {
     "name": "stdout",
     "output_type": "stream",
     "text": [
      "Passing function as an Argument:\n",
      "[1, 8, 27, 64, 125]\n"
     ]
    }
   ],
   "source": [
    "# Now let's pass functions as argument and return functions as result of other functions\n",
    "# Passing a function as an argument: Example is the map()\n",
    "\n",
    "# Creating a custom function\n",
    "def cube(x):\n",
    "    return x * x * x\n",
    "\n",
    "\n",
    "# Defining our own map function\n",
    "def my_map(func, arg_list):\n",
    "    result = []\n",
    "    for i in arg_list:\n",
    "        result.append(func(i))\n",
    "    return result\n",
    "\n",
    "\n",
    "# Calling the function 'my_map' to pass another function 'cube' and a set of array.\n",
    "# The passed function will work on each element of the array and return the result.\n",
    "cubes = my_map(cube, [1, 2, 3, 4, 5])\n",
    "print(\"Passing function as an Argument:\")\n",
    "print(cubes)"
   ]
  },
  {
   "cell_type": "code",
   "execution_count": 3,
   "id": "18be7bfc",
   "metadata": {},
   "outputs": [
    {
     "name": "stdout",
     "output_type": "stream",
     "text": [
      "Returning function as Result:\n",
      "Log: Hi!\n"
     ]
    }
   ],
   "source": [
    "# Now returning function as result of other function\n",
    "def logger(msg):\n",
    "    def log_message():\n",
    "        print('Log:', msg)\n",
    "    return log_message\n",
    "\n",
    "\n",
    "print(\"Returning function as Result:\")\n",
    "# Here the log_hi variable is equal to log_message() as it is what has been returned by the logger()\n",
    "log_hi = logger(\"Hi!\")\n",
    "\n",
    "# Now calling the log_message() using the variable log_hi\n",
    "log_hi()"
   ]
  },
  {
   "cell_type": "code",
   "execution_count": 4,
   "id": "52d13a74",
   "metadata": {},
   "outputs": [
    {
     "name": "stdout",
     "output_type": "stream",
     "text": [
      "<function html_tag.<locals>.wrap_text at 0x0000011D08047B80>\n",
      "<h1>Test Headline</h1>\n",
      "<h1>Another Headline</h1>\n",
      "<p>Test Paragraph</p>\n"
     ]
    }
   ],
   "source": [
    "# Why returning a function as result from another function is important?\n",
    "# This logic can be used for logging and in python we can also use it for decorating functions\n",
    "\n",
    "# Practical examples\n",
    "def html_tag(tag):\n",
    "    def wrap_text(msg):\n",
    "        print(\"<{0}>{1}</{0}>\".format(tag, msg))\n",
    "\n",
    "    return wrap_text\n",
    "\n",
    "\n",
    "# Here we are passing a tag and storing the function in a variable\n",
    "print_h1 = html_tag('h1')\n",
    "print(print_h1)             \n",
    "\n",
    "# Now passing the message to the inner function with the help of the variable\n",
    "print_h1('Test Headline')       \n",
    "print_h1('Another Headline')    \n",
    "\n",
    "print_p = html_tag('p')\n",
    "print_p('Test Paragraph')"
   ]
  },
  {
   "cell_type": "markdown",
   "id": "70d1c467",
   "metadata": {},
   "source": [
    "### Closure:\n",
    "\n",
    "- A **Closure** is a record storing a function together with an environment: a mapping associating each free variable of the function with the value or storage location to which the name was bound when the closure was created. \n",
    "- A **Closure**, unlike a plain function, allows the function to access those captured variables through the Closure's reference to them, even when the function is invoked outside their scope."
   ]
  },
  {
   "cell_type": "code",
   "execution_count": 5,
   "id": "2ceb5dce",
   "metadata": {},
   "outputs": [
    {
     "name": "stdout",
     "output_type": "stream",
     "text": [
      "Executing and returning the inner function through the outer function\n",
      "Hi\n"
     ]
    }
   ],
   "source": [
    "# Defining the functions\n",
    "def outer_func1():\n",
    "    message = \"Hi\"\n",
    "\n",
    "    def inner_func1():\n",
    "        print(message)\n",
    "\n",
    "    return inner_func1()\n",
    "\n",
    "\n",
    "# Calling the function\n",
    "print(\"Executing and returning the inner function through the outer function\")\n",
    "outer_func1()"
   ]
  },
  {
   "cell_type": "code",
   "execution_count": 6,
   "id": "3c1cce28",
   "metadata": {},
   "outputs": [
    {
     "name": "stdout",
     "output_type": "stream",
     "text": [
      "Executing the inner function without returning through the outer function\n",
      "<function outer_func2.<locals>.inner_func2 at 0x0000011D08047EE0>\n",
      "The name of the function attached to my_func is: inner_func2\n"
     ]
    }
   ],
   "source": [
    "# Let's return the inner function without returning it.\n",
    "# For that we remove the () of the inner function while returning it.\n",
    "\n",
    "# Defining the functions\n",
    "def outer_func2():\n",
    "    message = \"Hi\"\n",
    "\n",
    "    def inner_func2():\n",
    "        print(message)\n",
    "\n",
    "    return inner_func2\n",
    "\n",
    "\n",
    "# Calling the function\n",
    "print(\"Executing the inner function without returning through the outer function\")\n",
    "my_func = outer_func2()\n",
    "print(my_func)      \n",
    "print(\"The name of the function attached to my_func is:\", my_func.__name__)"
   ]
  },
  {
   "cell_type": "code",
   "execution_count": 7,
   "id": "ff09c12b",
   "metadata": {},
   "outputs": [
    {
     "name": "stdout",
     "output_type": "stream",
     "text": [
      "Executing the variable a few times in a row\n",
      "Hi\n",
      "Hi\n",
      "Hi\n",
      "Hi\n"
     ]
    }
   ],
   "source": [
    "print(\"Executing the variable a few times in a row\")\n",
    "my_func()\n",
    "my_func()\n",
    "my_func()\n",
    "my_func()"
   ]
  },
  {
   "cell_type": "markdown",
   "id": "9fb368a5",
   "metadata": {},
   "source": [
    "**Notes:**\n",
    "- So a closure is an inner function that remembers and has access to variables to the local scope in which it was created even after the outer function has finished execution."
   ]
  },
  {
   "cell_type": "code",
   "execution_count": 9,
   "id": "8c854330",
   "metadata": {},
   "outputs": [
    {
     "name": "stdout",
     "output_type": "stream",
     "text": [
      "Executing and returning the inner function with parameters passed through the outer function\n",
      "Hi!\n",
      "Hello!\n"
     ]
    }
   ],
   "source": [
    "# Let's adding some parameters\n",
    "def outer_func3(msg):\n",
    "    message = msg                   # This is a free variable\n",
    "\n",
    "    def inner_func3():\n",
    "        print(message)\n",
    "\n",
    "    return inner_func3\n",
    "\n",
    "\n",
    "# Calling the function\n",
    "print(\"Executing and returning the inner function with parameters passed through the outer function\")\n",
    "hi_func = outer_func3(\"Hi!\")\n",
    "hello_func = outer_func3(\"Hello!\")\n",
    "\n",
    "# Here each of the functions will remember the value of their own msg variable\n",
    "hi_func()\n",
    "hello_func()"
   ]
  },
  {
   "cell_type": "markdown",
   "id": "6fddb5b1",
   "metadata": {},
   "source": [
    "### Decorators:\n",
    "\n",
    "- A **Decorator** is a function that takes another function as argument, adds some kind of functionality and returns another function. All of these happen without altering the source code of the original function which has been passed in.\n",
    "- Example:\n",
    "  - Here the `wrapper_function` (inner function) will return a function that it accepts from the `decorator_function` (outer function) as an argument.\n",
    "  \n"
   ]
  },
  {
   "cell_type": "code",
   "execution_count": 10,
   "id": "474895cf",
   "metadata": {},
   "outputs": [
    {
     "name": "stdout",
     "output_type": "stream",
     "text": [
      "Here the decorated_display variable is equal to wrapper_function\n",
      "Run display function\n"
     ]
    }
   ],
   "source": [
    "# Example:\n",
    "\n",
    "def decorator_function(original_function):\n",
    "    def wrapper_function():\n",
    "        return original_function()\n",
    "    return wrapper_function\n",
    "\n",
    "\n",
    "# Creating another function\n",
    "def display():\n",
    "    print(\"Run display function\")\n",
    "\n",
    "\n",
    "# Passing the display() as argument of the decorator_function() and storing it in a variable\n",
    "decorated_display = decorator_function(display)\n",
    "print(\"Here the decorated_display variable is equal to\", decorated_display.__name__)\n",
    "\n",
    "# Now running the wrapper_function with the help of the variable\n",
    "# Here it executes the wrapper_function() which executes the original_function()\n",
    "decorated_display()"
   ]
  },
  {
   "cell_type": "markdown",
   "id": "74fe0160",
   "metadata": {},
   "source": [
    "- Decorating a function allows us to easily add functionality to the existing functions, by adding that functionality inside a wrapper.\n",
    "- So in the example without modifying the original display() we can go inside the wrapper_function() and execute any kind of code we want."
   ]
  },
  {
   "cell_type": "code",
   "execution_count": 11,
   "id": "f247c477",
   "metadata": {},
   "outputs": [
    {
     "name": "stdout",
     "output_type": "stream",
     "text": [
      "wrapper executed this before display\n",
      "Run display function\n"
     ]
    }
   ],
   "source": [
    "def decorator_function(original_function):\n",
    "    def wrapper_function():\n",
    "        print(\"wrapper executed this before {}\".format(original_function.__name__))\n",
    "        return original_function()\n",
    "    return wrapper_function\n",
    "\n",
    "\n",
    "# Creating another function\n",
    "def display():\n",
    "    print(\"Run display function\")\n",
    "\n",
    "\n",
    "decorated_display = decorator_function(display)\n",
    "decorated_display()"
   ]
  },
  {
   "cell_type": "markdown",
   "id": "4938f004",
   "metadata": {},
   "source": [
    "- Now in python we use the `@` sign to define the decorator function like `@decorator_function` in top of the original function.\n",
    "- This is the same thing as setting the original function equal to the function wrapped within the decorator."
   ]
  },
  {
   "cell_type": "code",
   "execution_count": 12,
   "id": "2b48c65a",
   "metadata": {},
   "outputs": [
    {
     "name": "stdout",
     "output_type": "stream",
     "text": [
      "wrapper executed this before display1\n",
      "Run display function\n",
      "wrapper executed this before display2\n",
      "Run display function\n"
     ]
    }
   ],
   "source": [
    "# Actual syntax used for decorator in python\n",
    "def decorator_function(original_function):\n",
    "    def wrapper_function():\n",
    "        print(\"wrapper executed this before {}\".format(original_function.__name__))\n",
    "        return original_function()\n",
    "    return wrapper_function\n",
    "\n",
    "\n",
    "# Creating original function with decorator\n",
    "@decorator_function\n",
    "def display1():\n",
    "    print(\"Run display function\")\n",
    "\n",
    "\n",
    "# Passing the display() to the decorator function\n",
    "def display2():\n",
    "    print(\"Run display function\")\n",
    " \n",
    "# Here it will print the same thing as previous case as we set up the 'display()' \n",
    "# with the 'wrapper_function()' through the '@decorator_function'\n",
    "display1()\n",
    "# Doing the same explicitly\n",
    "display2 = decorator_function(display2)\n",
    "display2()"
   ]
  },
  {
   "cell_type": "markdown",
   "id": "9255361a",
   "metadata": {},
   "source": [
    "**Notes:**\n",
    "\n",
    "- So here declaring the decorator with the help of `@` is same as the display function is equal to decorator_function with the display function passed in to it as argument.\n",
    "- The decorator function will not work if the original function took in any arguments. As here in case of the `display_info()` we passed 2 arguments but the original function in the `decorator_function` does not take any argument so if we use the `@decorator_function` with the display_info then it will throw error. "
   ]
  },
  {
   "cell_type": "code",
   "execution_count": 13,
   "id": "59c43eb5",
   "metadata": {},
   "outputs": [
    {
     "name": "stdout",
     "output_type": "stream",
     "text": [
      "The error type is: 'TypeError' and the error is: ('wrapper_function() takes 0 positional arguments but 2 were given',).\n"
     ]
    }
   ],
   "source": [
    "def decorator_function(original_function):\n",
    "    def wrapper_function():\n",
    "        print(\"wrapper executed this before {}\".format(original_function.__name__))\n",
    "        return original_function()\n",
    "    return wrapper_function\n",
    "\n",
    "\n",
    "@decorator_function\n",
    "def display():\n",
    "    print(\"Run display function\")\n",
    "\n",
    "\n",
    "@decorator_function\n",
    "def display_info(name, age):\n",
    "    print(f\"Function display_info ran with arguments ({name}, {age})\")\n",
    "\n",
    "\n",
    "try:\n",
    "    display_info(\"John\", 25)    \n",
    "except Exception as err:\n",
    "    print(f\"The error type is: '{type(err).__name__}' and the error is: {err.args}.\")"
   ]
  },
  {
   "cell_type": "markdown",
   "id": "675aef4f",
   "metadata": {},
   "source": [
    "- Now to be able to pass on any number of keyword argument to the wrapper and have it executed on our original function with those arguments we need to use the `*args` and `**kwargs` in the wrapper function.\n",
    "- These will allow to accept any arbitrary number of positional or keyword arguments for the functions"
   ]
  },
  {
   "cell_type": "code",
   "execution_count": 14,
   "id": "3a05c5ff",
   "metadata": {},
   "outputs": [
    {
     "name": "stdout",
     "output_type": "stream",
     "text": [
      "wrapper executed this before display_info\n",
      "Function display_info ran with arguments (John, 25)\n",
      "wrapper executed this before display\n",
      "Run display function\n"
     ]
    }
   ],
   "source": [
    "def decorator_function(original_function):\n",
    "    def wrapper_function(*args, **kwargs):      # passing *args and **kwargs to the wrapper function\n",
    "        print(\"wrapper executed this before {}\".format(original_function.__name__))\n",
    "        return original_function(*args, **kwargs)   # passing *args and **kwargs to the original function\n",
    "    return wrapper_function\n",
    "\n",
    "\n",
    "@decorator_function\n",
    "def display():\n",
    "    print(\"Run display function\")\n",
    "\n",
    "\n",
    "@decorator_function\n",
    "def display_info(name, age):\n",
    "    print(f\"Function display_info ran with arguments ({name}, {age})\")\n",
    "\n",
    "\n",
    "# Now here the decorator function works with both the functions\n",
    "try:\n",
    "    display_info(\"John\", 25)\n",
    "    display()\n",
    "except Exception as err:\n",
    "    print(f\"The error type is: '{type(err).__name__}' and the error is: {err.args}.\")"
   ]
  },
  {
   "cell_type": "markdown",
   "id": "bd81c190",
   "metadata": {},
   "source": [
    "- We can also use Classes as Decorators instead of using functions as Decorators."
   ]
  },
  {
   "cell_type": "code",
   "execution_count": 15,
   "id": "a5dc8076",
   "metadata": {},
   "outputs": [
    {
     "name": "stdout",
     "output_type": "stream",
     "text": [
      "call method executed this before display_info\n",
      "Function display_info ran with arguments (John, 25)\n",
      "call method executed this before display\n",
      "Run display function\n"
     ]
    }
   ],
   "source": [
    "# Creating decorator class\n",
    "class DecoratorClass(object):\n",
    "    # passing the original_function into the class\n",
    "    # Now the function is tied with any instance of this class\n",
    "    def __init__(self, original_function):\n",
    "        self.original_function = original_function\n",
    "\n",
    "    # mimicking the wrapper_function() of the decorator function\n",
    "    # for this we use the special method '__call__()'\n",
    "    # Now everywhere we need to use the self.original_function as it is an instance\n",
    "    def __call__(self, *args, **kwargs):\n",
    "        print(\"call method executed this before {}\".format(self.original_function.__name__))\n",
    "        return self.original_function(*args, **kwargs)\n",
    "\n",
    "\n",
    "# Now using the DecoratorClass to decorate both the functions\n",
    "@DecoratorClass\n",
    "def display():\n",
    "    print(\"Run display function\")\n",
    "\n",
    "\n",
    "@DecoratorClass\n",
    "def display_info(name, age):\n",
    "    print(f\"Function display_info ran with arguments ({name}, {age})\")\n",
    "\n",
    "\n",
    "# Now here the decorator class works with both the functions\n",
    "try:\n",
    "    display_info(\"John\", 25)\n",
    "    display()\n",
    "except Exception as err:\n",
    "    print(f\"The error type is: '{type(err).__name__}' and the error is: {err.args}.\")"
   ]
  },
  {
   "cell_type": "markdown",
   "id": "9188e5e6",
   "metadata": {},
   "source": [
    "### Practical example of `decorator`:\n",
    "\n",
    "\n",
    "- One of the most common cases for decorator in python is logging.\n",
    "- Another example is to use the timing function to see how much time a function takes to run\n",
    "- Here we want to keep track of how many times a specific function runs and what arguments are passed to that function\n",
    "- In Wrapper function:\n",
    "  - Here it logs the function and also logs the arguments in that function\n",
    "  - Then we run the original function with the arguments and keywords and return the result\n",
    "  - Lastly we are returning the wrapper function that allows us to run all of these with the added functionality\n",
    "  - We can see the log results in files named display_info.log for display_info() and when run with both the decorators commenting out the individual ones we will get result in wrapper.log for display_info()\n",
    "- Here when we ran both the decorators at same time then at first the `@my_timer decorator` runs with the orig_function, and it returns the wrapper. Then this wrapper get passed to the `@my_logger` decorator as original function, that is why we get a new log file as here the argument passed in the orig_func of my_logger() is different that when we used only the `@my_logger` decorator independently.\n",
    "- So you see if we change the order of the decorators there can be very unusual results.\n",
    "\n",
    "- It is best practice to save the information of our original function whenever we use decorators.\n",
    "- To do this we need to use the 'functools' module and the 'wraps' decorator.\n",
    "- Here we use a decorator inside a decorator.\n",
    "- All we have to do is decorate all of our decorators inside the 'wraps' decorator.\n",
    "- So we need to add the `@wraps()` at every wrapper function and pass the original function as argument to it.\n",
    "- After doing this now even if we run both decorators we will get the result in display_info.log file as now each decorator will return the original function and not the wrapper as in the earlier case.\n"
   ]
  },
  {
   "cell_type": "code",
   "execution_count": 1,
   "id": "acc304ab",
   "metadata": {},
   "outputs": [],
   "source": [
    "# This is the decorator function with the original function as argument\n",
    "\n",
    "import time\n",
    "from functools import wraps\n",
    "\n",
    "# This is the decorator function with the original function as argument\n",
    "def my_logger(orig_func):\n",
    "    import logging\n",
    "    logging.basicConfig(filename='files/{}.log'.format(orig_func.__name__), level=logging.INFO)\n",
    "\n",
    "    # This is the wrapper function that takes the arguments and keywords arguments as parameters\n",
    "    # To save the original information\n",
    "    @wraps(orig_func)\n",
    "    def wrapper(*args, **kwargs):\n",
    "        logging.info(f\"Ran with args: {args}, and kwargs: {kwargs}\")\n",
    "        return orig_func(*args, **kwargs)\n",
    "\n",
    "    return wrapper\n",
    "\n",
    "\n",
    "# Using with the timer\n",
    "# Here the logic is same as logging\n",
    "def my_timer(orig_func):\n",
    "    import time\n",
    "\n",
    "    # To save the original information\n",
    "    @wraps(orig_func)\n",
    "    def wrapper(*args, **kwargs):\n",
    "        t1 = time.time()\n",
    "        result = orig_func(*args, **kwargs)\n",
    "        t2 = time.time() - t1\n",
    "        print(f\"{orig_func.__name__} function ran in : {t2} secs.\")\n",
    "        return result\n",
    "\n",
    "    return wrapper"
   ]
  },
  {
   "cell_type": "code",
   "execution_count": 2,
   "id": "b9bf411c",
   "metadata": {},
   "outputs": [],
   "source": [
    "@my_logger\n",
    "def display_info(name, age):\n",
    "    print(f\"Function display_info ran with arguments ({name}, {age})\")"
   ]
  },
  {
   "cell_type": "code",
   "execution_count": 3,
   "id": "5e2771f9",
   "metadata": {},
   "outputs": [],
   "source": [
    "@my_timer\n",
    "def display(name, age):\n",
    "    time.sleep(1)  # so the program take 1 sec to execute\n",
    "    print(f\"Function display ran with arguments ({name}, {age})\")"
   ]
  },
  {
   "cell_type": "code",
   "execution_count": 4,
   "id": "09421109",
   "metadata": {},
   "outputs": [],
   "source": [
    "# applying both the decorators on one function\n",
    "# Here it is the stacked version it is similar to:\n",
    "# display_info = my_logger(my_timer(display_info))\n",
    "# So here the lower decorator in the stack gets executed before the higher one\n",
    "\n",
    "@my_logger\n",
    "@my_timer\n",
    "def display_info(name, age):\n",
    "    time.sleep(1)  # so the program take 1 sec to execute\n",
    "    print(f\"Function display ran with arguments ({name}, {age})\")"
   ]
  },
  {
   "cell_type": "code",
   "execution_count": 5,
   "id": "eb71df8d",
   "metadata": {},
   "outputs": [],
   "source": [
    "# After using the @wraps(orig_func)\n",
    "# Now the order does not matter\n",
    "@my_timer\n",
    "@my_logger\n",
    "def display_info(name, age):\n",
    "    time.sleep(1)  # so the program take 1 sec to execute\n",
    "    print(f\"Function display ran with arguments ({name}, {age})\")"
   ]
  },
  {
   "cell_type": "code",
   "execution_count": 6,
   "id": "936ccb4c",
   "metadata": {},
   "outputs": [
    {
     "name": "stdout",
     "output_type": "stream",
     "text": [
      "\n",
      "Runs with logging decorator\n",
      "Function display ran with arguments (Robert, 38)\n",
      "display_info function ran in : 1.0012943744659424 secs.\n"
     ]
    }
   ],
   "source": [
    "# using with logging\n",
    "\n",
    "try:\n",
    "    print(\"\\nRuns with logging decorator\")\n",
    "    display_info(\"Robert\", 38)\n",
    "except Exception as err:\n",
    "    print(\"Error is:\", err)"
   ]
  },
  {
   "cell_type": "code",
   "execution_count": 7,
   "id": "ac84e888",
   "metadata": {},
   "outputs": [
    {
     "name": "stdout",
     "output_type": "stream",
     "text": [
      "\n",
      "Runs with timer decorator\n",
      "Function display ran with arguments (Michael, 35)\n",
      "display function ran in : 1.0003376007080078 secs.\n"
     ]
    }
   ],
   "source": [
    "# using with timer\n",
    "\n",
    "try:\n",
    "    print(\"\\nRuns with timer decorator\")\n",
    "    display(\"Michael\", 35)\n",
    "except Exception as err:\n",
    "    print(\"Error is:\", err)"
   ]
  },
  {
   "cell_type": "code",
   "execution_count": 8,
   "id": "6fc3ef20",
   "metadata": {},
   "outputs": [
    {
     "name": "stdout",
     "output_type": "stream",
     "text": [
      "\n",
      "Runs with both decorators\n",
      "Function display ran with arguments (Nathan, 43)\n",
      "display_info function ran in : 1.0011112689971924 secs.\n"
     ]
    }
   ],
   "source": [
    "# using with both\n",
    "try:\n",
    "    print(\"\\nRuns with both decorators\")\n",
    "    display_info(\"Nathan\", 43)\n",
    "except Exception as err:\n",
    "    print(\"Error is:\", err)"
   ]
  },
  {
   "cell_type": "code",
   "execution_count": null,
   "id": "8295a89c",
   "metadata": {},
   "outputs": [],
   "source": []
  }
 ],
 "metadata": {
  "kernelspec": {
   "display_name": "Python 3 (ipykernel)",
   "language": "python",
   "name": "python3"
  },
  "language_info": {
   "codemirror_mode": {
    "name": "ipython",
    "version": 3
   },
   "file_extension": ".py",
   "mimetype": "text/x-python",
   "name": "python",
   "nbconvert_exporter": "python",
   "pygments_lexer": "ipython3",
   "version": "3.9.15"
  }
 },
 "nbformat": 4,
 "nbformat_minor": 5
}
