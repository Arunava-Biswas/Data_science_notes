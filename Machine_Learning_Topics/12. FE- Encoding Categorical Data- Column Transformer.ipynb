{
 "cells": [
  {
   "cell_type": "markdown",
   "id": "bc2eae4c",
   "metadata": {},
   "source": [
    "## `Column Transformer`\n",
    "\n",
    "- In the dataset there are different problems associated with different columns. Like some have missing values, Some may have categorical data in them, some columns needed to be scaled and so on. Now while doing **FE** we need to solve all these problems by techniques like ***Imputation* (To solve missing value problem)** or ***Encoding* (To transform categorical data to numeric form)** or ***Standardization and Normalization* (To Scale the the column)** etc.\n",
    "- Now it is very difficult to handle all these problem one after one, as we need to apply different transformation techniques for each columns.\n",
    "- So to solve this we use **ColumnTransformer** class from **Scikitlearn** library."
   ]
  },
  {
   "cell_type": "code",
   "execution_count": 1,
   "id": "daae2442",
   "metadata": {},
   "outputs": [],
   "source": [
    "# importing the libraries\n",
    "\n",
    "import pandas as pd\n",
    "import numpy as np\n",
    "from sklearn.model_selection import train_test_split\n",
    "from sklearn.impute import SimpleImputer\n",
    "from sklearn.preprocessing import OneHotEncoder, OrdinalEncoder, LabelEncoder\n",
    "\n",
    "import warnings\n",
    "warnings.filterwarnings('ignore')"
   ]
  },
  {
   "cell_type": "code",
   "execution_count": 2,
   "id": "3f30e497",
   "metadata": {},
   "outputs": [
    {
     "data": {
      "text/html": [
       "<div>\n",
       "<style scoped>\n",
       "    .dataframe tbody tr th:only-of-type {\n",
       "        vertical-align: middle;\n",
       "    }\n",
       "\n",
       "    .dataframe tbody tr th {\n",
       "        vertical-align: top;\n",
       "    }\n",
       "\n",
       "    .dataframe thead th {\n",
       "        text-align: right;\n",
       "    }\n",
       "</style>\n",
       "<table border=\"1\" class=\"dataframe\">\n",
       "  <thead>\n",
       "    <tr style=\"text-align: right;\">\n",
       "      <th></th>\n",
       "      <th>age</th>\n",
       "      <th>gender</th>\n",
       "      <th>fever</th>\n",
       "      <th>cough</th>\n",
       "      <th>city</th>\n",
       "      <th>has_covid</th>\n",
       "    </tr>\n",
       "  </thead>\n",
       "  <tbody>\n",
       "    <tr>\n",
       "      <th>7</th>\n",
       "      <td>20</td>\n",
       "      <td>Female</td>\n",
       "      <td>NaN</td>\n",
       "      <td>Strong</td>\n",
       "      <td>Mumbai</td>\n",
       "      <td>Yes</td>\n",
       "    </tr>\n",
       "    <tr>\n",
       "      <th>88</th>\n",
       "      <td>5</td>\n",
       "      <td>Female</td>\n",
       "      <td>100.0</td>\n",
       "      <td>Mild</td>\n",
       "      <td>Kolkata</td>\n",
       "      <td>No</td>\n",
       "    </tr>\n",
       "    <tr>\n",
       "      <th>5</th>\n",
       "      <td>84</td>\n",
       "      <td>Female</td>\n",
       "      <td>NaN</td>\n",
       "      <td>Mild</td>\n",
       "      <td>Bangalore</td>\n",
       "      <td>Yes</td>\n",
       "    </tr>\n",
       "    <tr>\n",
       "      <th>63</th>\n",
       "      <td>10</td>\n",
       "      <td>Male</td>\n",
       "      <td>100.0</td>\n",
       "      <td>Mild</td>\n",
       "      <td>Bangalore</td>\n",
       "      <td>No</td>\n",
       "    </tr>\n",
       "    <tr>\n",
       "      <th>22</th>\n",
       "      <td>71</td>\n",
       "      <td>Female</td>\n",
       "      <td>98.0</td>\n",
       "      <td>Strong</td>\n",
       "      <td>Kolkata</td>\n",
       "      <td>Yes</td>\n",
       "    </tr>\n",
       "  </tbody>\n",
       "</table>\n",
       "</div>"
      ],
      "text/plain": [
       "    age  gender  fever   cough       city has_covid\n",
       "7    20  Female    NaN  Strong     Mumbai       Yes\n",
       "88    5  Female  100.0    Mild    Kolkata        No\n",
       "5    84  Female    NaN    Mild  Bangalore       Yes\n",
       "63   10    Male  100.0    Mild  Bangalore        No\n",
       "22   71  Female   98.0  Strong    Kolkata       Yes"
      ]
     },
     "execution_count": 2,
     "metadata": {},
     "output_type": "execute_result"
    }
   ],
   "source": [
    "# importing the dataset\n",
    "\n",
    "df = pd.read_csv('datasets/covid_toy.csv')\n",
    "df.sample(5)"
   ]
  },
  {
   "cell_type": "markdown",
   "id": "d35d7130",
   "metadata": {},
   "source": [
    "### First we will do the transformations one by one\n",
    "\n",
    "- Here we use ***SimpleImputer*** to fill the missing values, and ***OneHotEncoder***, ***OrdinalEncoder*** and ***LabelEncoder*** for encoding the categorical values."
   ]
  },
  {
   "cell_type": "code",
   "execution_count": 3,
   "id": "bfca528a",
   "metadata": {},
   "outputs": [
    {
     "name": "stdout",
     "output_type": "stream",
     "text": [
      "<class 'pandas.core.frame.DataFrame'>\n",
      "RangeIndex: 100 entries, 0 to 99\n",
      "Data columns (total 6 columns):\n",
      " #   Column     Non-Null Count  Dtype  \n",
      "---  ------     --------------  -----  \n",
      " 0   age        100 non-null    int64  \n",
      " 1   gender     100 non-null    object \n",
      " 2   fever      90 non-null     float64\n",
      " 3   cough      100 non-null    object \n",
      " 4   city       100 non-null    object \n",
      " 5   has_covid  100 non-null    object \n",
      "dtypes: float64(1), int64(1), object(4)\n",
      "memory usage: 4.8+ KB\n"
     ]
    }
   ],
   "source": [
    "df.info()"
   ]
  },
  {
   "cell_type": "code",
   "execution_count": 4,
   "id": "b67c8576",
   "metadata": {},
   "outputs": [
    {
     "data": {
      "text/plain": [
       "age           0\n",
       "gender        0\n",
       "fever        10\n",
       "cough         0\n",
       "city          0\n",
       "has_covid     0\n",
       "dtype: int64"
      ]
     },
     "execution_count": 4,
     "metadata": {},
     "output_type": "execute_result"
    }
   ],
   "source": [
    "# Checking for null values in all the columns\n",
    "\n",
    "df.isna().sum()"
   ]
  },
  {
   "cell_type": "markdown",
   "id": "61d83d1c",
   "metadata": {},
   "source": [
    "**Notes:**\n",
    "\n",
    "- So we have 10 missing values in the column `fever`."
   ]
  },
  {
   "cell_type": "code",
   "execution_count": 5,
   "id": "6241ad8c",
   "metadata": {},
   "outputs": [
    {
     "name": "stdout",
     "output_type": "stream",
     "text": [
      "\n",
      "The different categories in the column gender is:\n",
      "['Male' 'Female']\n",
      "Number of categories in the column gender is: 2\n",
      "**************************************************\n",
      "\n",
      "The different categories in the column cough is:\n",
      "['Mild' 'Strong']\n",
      "Number of categories in the column cough is: 2\n",
      "**************************************************\n",
      "\n",
      "The different categories in the column city is:\n",
      "['Kolkata' 'Delhi' 'Mumbai' 'Bangalore']\n",
      "Number of categories in the column city is: 4\n",
      "**************************************************\n",
      "\n",
      "The different categories in the column has_covid is:\n",
      "['No' 'Yes']\n",
      "Number of categories in the column has_covid is: 2\n",
      "**************************************************\n"
     ]
    }
   ],
   "source": [
    "# Checking different Categories in all the categorical columns\n",
    "\n",
    "for column in df.columns:\n",
    "    if df[column].dtype == 'O':\n",
    "        print(f\"\\nThe different categories in the column {column} is:\")\n",
    "        print(df[column].unique())\n",
    "        print(f\"Number of categories in the column {column} is: {len(df[column].unique())}\")\n",
    "        print(\"*\"*50)"
   ]
  },
  {
   "cell_type": "markdown",
   "id": "7053b3ce",
   "metadata": {},
   "source": [
    "**Notes:**\n",
    "\n",
    "- Now here we will use ***One Hot Encoding*** in `city` and `gender` columns, ***Ordinal Encoding*** in `cough` column, and ***Label Encoding*** in `has_covid` column. \n",
    "- Along with this we use ***Simple Imputer*** to solve the missing values problem in `fever` column."
   ]
  },
  {
   "cell_type": "markdown",
   "id": "ae6dab01",
   "metadata": {},
   "source": [
    "### Doing the train test split"
   ]
  },
  {
   "cell_type": "code",
   "execution_count": 6,
   "id": "89469d0e",
   "metadata": {},
   "outputs": [
    {
     "data": {
      "text/html": [
       "<div>\n",
       "<style scoped>\n",
       "    .dataframe tbody tr th:only-of-type {\n",
       "        vertical-align: middle;\n",
       "    }\n",
       "\n",
       "    .dataframe tbody tr th {\n",
       "        vertical-align: top;\n",
       "    }\n",
       "\n",
       "    .dataframe thead th {\n",
       "        text-align: right;\n",
       "    }\n",
       "</style>\n",
       "<table border=\"1\" class=\"dataframe\">\n",
       "  <thead>\n",
       "    <tr style=\"text-align: right;\">\n",
       "      <th></th>\n",
       "      <th>age</th>\n",
       "      <th>gender</th>\n",
       "      <th>fever</th>\n",
       "      <th>cough</th>\n",
       "      <th>city</th>\n",
       "    </tr>\n",
       "  </thead>\n",
       "  <tbody>\n",
       "    <tr>\n",
       "      <th>0</th>\n",
       "      <td>60</td>\n",
       "      <td>Male</td>\n",
       "      <td>103.0</td>\n",
       "      <td>Mild</td>\n",
       "      <td>Kolkata</td>\n",
       "    </tr>\n",
       "    <tr>\n",
       "      <th>1</th>\n",
       "      <td>27</td>\n",
       "      <td>Male</td>\n",
       "      <td>100.0</td>\n",
       "      <td>Mild</td>\n",
       "      <td>Delhi</td>\n",
       "    </tr>\n",
       "    <tr>\n",
       "      <th>2</th>\n",
       "      <td>42</td>\n",
       "      <td>Male</td>\n",
       "      <td>101.0</td>\n",
       "      <td>Mild</td>\n",
       "      <td>Delhi</td>\n",
       "    </tr>\n",
       "    <tr>\n",
       "      <th>3</th>\n",
       "      <td>31</td>\n",
       "      <td>Female</td>\n",
       "      <td>98.0</td>\n",
       "      <td>Mild</td>\n",
       "      <td>Kolkata</td>\n",
       "    </tr>\n",
       "    <tr>\n",
       "      <th>4</th>\n",
       "      <td>65</td>\n",
       "      <td>Female</td>\n",
       "      <td>101.0</td>\n",
       "      <td>Mild</td>\n",
       "      <td>Mumbai</td>\n",
       "    </tr>\n",
       "  </tbody>\n",
       "</table>\n",
       "</div>"
      ],
      "text/plain": [
       "   age  gender  fever cough     city\n",
       "0   60    Male  103.0  Mild  Kolkata\n",
       "1   27    Male  100.0  Mild    Delhi\n",
       "2   42    Male  101.0  Mild    Delhi\n",
       "3   31  Female   98.0  Mild  Kolkata\n",
       "4   65  Female  101.0  Mild   Mumbai"
      ]
     },
     "execution_count": 6,
     "metadata": {},
     "output_type": "execute_result"
    }
   ],
   "source": [
    "# Here we are using 'has_covid' as the output feature\n",
    "\n",
    "X = df.drop(columns=['has_covid'], axis=1)\n",
    "y = df['has_covid']\n",
    "\n",
    "X.head()"
   ]
  },
  {
   "cell_type": "code",
   "execution_count": 7,
   "id": "7078d980",
   "metadata": {},
   "outputs": [
    {
     "data": {
      "text/plain": [
       "((80, 5), (20, 5))"
      ]
     },
     "execution_count": 7,
     "metadata": {},
     "output_type": "execute_result"
    }
   ],
   "source": [
    "X_train, X_test, y_train, y_test = train_test_split(X, y, test_size=0.2, random_state=42)\n",
    "\n",
    "X_train.shape, X_test.shape"
   ]
  },
  {
   "cell_type": "code",
   "execution_count": 8,
   "id": "ca2f4ac3",
   "metadata": {},
   "outputs": [
    {
     "data": {
      "text/html": [
       "<div>\n",
       "<style scoped>\n",
       "    .dataframe tbody tr th:only-of-type {\n",
       "        vertical-align: middle;\n",
       "    }\n",
       "\n",
       "    .dataframe tbody tr th {\n",
       "        vertical-align: top;\n",
       "    }\n",
       "\n",
       "    .dataframe thead th {\n",
       "        text-align: right;\n",
       "    }\n",
       "</style>\n",
       "<table border=\"1\" class=\"dataframe\">\n",
       "  <thead>\n",
       "    <tr style=\"text-align: right;\">\n",
       "      <th></th>\n",
       "      <th>age</th>\n",
       "      <th>gender</th>\n",
       "      <th>fever</th>\n",
       "      <th>cough</th>\n",
       "      <th>city</th>\n",
       "    </tr>\n",
       "  </thead>\n",
       "  <tbody>\n",
       "    <tr>\n",
       "      <th>55</th>\n",
       "      <td>81</td>\n",
       "      <td>Female</td>\n",
       "      <td>101.0</td>\n",
       "      <td>Mild</td>\n",
       "      <td>Mumbai</td>\n",
       "    </tr>\n",
       "    <tr>\n",
       "      <th>88</th>\n",
       "      <td>5</td>\n",
       "      <td>Female</td>\n",
       "      <td>100.0</td>\n",
       "      <td>Mild</td>\n",
       "      <td>Kolkata</td>\n",
       "    </tr>\n",
       "    <tr>\n",
       "      <th>26</th>\n",
       "      <td>19</td>\n",
       "      <td>Female</td>\n",
       "      <td>100.0</td>\n",
       "      <td>Mild</td>\n",
       "      <td>Kolkata</td>\n",
       "    </tr>\n",
       "    <tr>\n",
       "      <th>42</th>\n",
       "      <td>27</td>\n",
       "      <td>Male</td>\n",
       "      <td>100.0</td>\n",
       "      <td>Mild</td>\n",
       "      <td>Delhi</td>\n",
       "    </tr>\n",
       "    <tr>\n",
       "      <th>69</th>\n",
       "      <td>73</td>\n",
       "      <td>Female</td>\n",
       "      <td>103.0</td>\n",
       "      <td>Mild</td>\n",
       "      <td>Delhi</td>\n",
       "    </tr>\n",
       "  </tbody>\n",
       "</table>\n",
       "</div>"
      ],
      "text/plain": [
       "    age  gender  fever cough     city\n",
       "55   81  Female  101.0  Mild   Mumbai\n",
       "88    5  Female  100.0  Mild  Kolkata\n",
       "26   19  Female  100.0  Mild  Kolkata\n",
       "42   27    Male  100.0  Mild    Delhi\n",
       "69   73  Female  103.0  Mild    Delhi"
      ]
     },
     "execution_count": 8,
     "metadata": {},
     "output_type": "execute_result"
    }
   ],
   "source": [
    "X_train.head()"
   ]
  },
  {
   "cell_type": "code",
   "execution_count": 9,
   "id": "a0708f68",
   "metadata": {},
   "outputs": [
    {
     "data": {
      "text/plain": [
       "age       0\n",
       "gender    0\n",
       "fever     9\n",
       "cough     0\n",
       "city      0\n",
       "dtype: int64"
      ]
     },
     "execution_count": 9,
     "metadata": {},
     "output_type": "execute_result"
    }
   ],
   "source": [
    "# Checking for missing value\n",
    "\n",
    "X_train.isnull().sum()"
   ]
  },
  {
   "cell_type": "code",
   "execution_count": 10,
   "id": "cdf7bc56",
   "metadata": {},
   "outputs": [
    {
     "data": {
      "text/plain": [
       "age       0\n",
       "gender    0\n",
       "fever     1\n",
       "cough     0\n",
       "city      0\n",
       "dtype: int64"
      ]
     },
     "execution_count": 10,
     "metadata": {},
     "output_type": "execute_result"
    }
   ],
   "source": [
    "X_test.isnull().sum()"
   ]
  },
  {
   "cell_type": "code",
   "execution_count": 11,
   "id": "b05fb28e",
   "metadata": {},
   "outputs": [],
   "source": [
    "# Using Simple Imputer to column 'fever'\n",
    "# Here all the missing values will get replaced with the 'mean' of the distribution\n",
    "\n",
    "# Creating object of the class\n",
    "si = SimpleImputer()\n",
    "\n",
    "# train data\n",
    "X_train_fever = si.fit_transform(X_train[['fever']])\n",
    "\n",
    "# test data\n",
    "X_test_fever = si.transform(X_test[['fever']])"
   ]
  },
  {
   "cell_type": "code",
   "execution_count": 12,
   "id": "d2923d69",
   "metadata": {},
   "outputs": [],
   "source": [
    "# Creating dataframe of the numpy array so we can check for null values\n",
    "\n",
    "X_train_fever_df = pd.DataFrame(X_train_fever, columns=['fever'])\n",
    "X_test_fever_df = pd.DataFrame(X_test_fever, columns=['fever'])"
   ]
  },
  {
   "cell_type": "code",
   "execution_count": 13,
   "id": "1e3ad13b",
   "metadata": {},
   "outputs": [
    {
     "data": {
      "text/plain": [
       "fever    0\n",
       "dtype: int64"
      ]
     },
     "execution_count": 13,
     "metadata": {},
     "output_type": "execute_result"
    }
   ],
   "source": [
    "X_train_fever_df.isna().sum()"
   ]
  },
  {
   "cell_type": "code",
   "execution_count": 14,
   "id": "de700256",
   "metadata": {},
   "outputs": [
    {
     "data": {
      "text/plain": [
       "fever    0\n",
       "dtype: int64"
      ]
     },
     "execution_count": 14,
     "metadata": {},
     "output_type": "execute_result"
    }
   ],
   "source": [
    "X_test_fever_df.isnull().sum()"
   ]
  },
  {
   "cell_type": "code",
   "execution_count": 15,
   "id": "a0fc5068",
   "metadata": {},
   "outputs": [],
   "source": [
    "# Using Ordinal encoding on 'cough' column\n",
    "# Here we will make sure to give 'Mild' smaller value and 'Strong' larger value \n",
    "# by providing them in order we want them in parameter categories\n",
    "\n",
    "\n",
    "oe = OrdinalEncoder(categories=[['Mild','Strong']])\n",
    "\n",
    "# train data\n",
    "X_train_cough = oe.fit_transform(X_train[['cough']])\n",
    "\n",
    "# also the test data\n",
    "X_test_cough = oe.transform(X_test[['cough']])"
   ]
  },
  {
   "cell_type": "code",
   "execution_count": 16,
   "id": "6e212af6",
   "metadata": {},
   "outputs": [
    {
     "data": {
      "text/plain": [
       "[array(['Mild', 'Strong'], dtype=object)]"
      ]
     },
     "execution_count": 16,
     "metadata": {},
     "output_type": "execute_result"
    }
   ],
   "source": [
    "# Checking the categories in Ordinal encoding\n",
    "\n",
    "oe.categories_"
   ]
  },
  {
   "cell_type": "code",
   "execution_count": 17,
   "id": "287d1c83",
   "metadata": {},
   "outputs": [],
   "source": [
    "# Creating dataframe of the numpy array \n",
    "\n",
    "X_train_cough_df = pd.DataFrame(X_train_cough, columns=['cough'])\n",
    "X_test_cough_df = pd.DataFrame(X_test_cough, columns=['cough'])"
   ]
  },
  {
   "cell_type": "code",
   "execution_count": 18,
   "id": "45724c87",
   "metadata": {},
   "outputs": [
    {
     "data": {
      "text/html": [
       "<div>\n",
       "<style scoped>\n",
       "    .dataframe tbody tr th:only-of-type {\n",
       "        vertical-align: middle;\n",
       "    }\n",
       "\n",
       "    .dataframe tbody tr th {\n",
       "        vertical-align: top;\n",
       "    }\n",
       "\n",
       "    .dataframe thead th {\n",
       "        text-align: right;\n",
       "    }\n",
       "</style>\n",
       "<table border=\"1\" class=\"dataframe\">\n",
       "  <thead>\n",
       "    <tr style=\"text-align: right;\">\n",
       "      <th></th>\n",
       "      <th>cough</th>\n",
       "    </tr>\n",
       "  </thead>\n",
       "  <tbody>\n",
       "    <tr>\n",
       "      <th>20</th>\n",
       "      <td>0.0</td>\n",
       "    </tr>\n",
       "    <tr>\n",
       "      <th>57</th>\n",
       "      <td>1.0</td>\n",
       "    </tr>\n",
       "    <tr>\n",
       "      <th>65</th>\n",
       "      <td>1.0</td>\n",
       "    </tr>\n",
       "    <tr>\n",
       "      <th>23</th>\n",
       "      <td>0.0</td>\n",
       "    </tr>\n",
       "    <tr>\n",
       "      <th>12</th>\n",
       "      <td>0.0</td>\n",
       "    </tr>\n",
       "  </tbody>\n",
       "</table>\n",
       "</div>"
      ],
      "text/plain": [
       "    cough\n",
       "20    0.0\n",
       "57    1.0\n",
       "65    1.0\n",
       "23    0.0\n",
       "12    0.0"
      ]
     },
     "execution_count": 18,
     "metadata": {},
     "output_type": "execute_result"
    }
   ],
   "source": [
    "X_train_cough_df.sample(5)"
   ]
  },
  {
   "cell_type": "code",
   "execution_count": 19,
   "id": "2bb8d85e",
   "metadata": {},
   "outputs": [
    {
     "data": {
      "text/html": [
       "<div>\n",
       "<style scoped>\n",
       "    .dataframe tbody tr th:only-of-type {\n",
       "        vertical-align: middle;\n",
       "    }\n",
       "\n",
       "    .dataframe tbody tr th {\n",
       "        vertical-align: top;\n",
       "    }\n",
       "\n",
       "    .dataframe thead th {\n",
       "        text-align: right;\n",
       "    }\n",
       "</style>\n",
       "<table border=\"1\" class=\"dataframe\">\n",
       "  <thead>\n",
       "    <tr style=\"text-align: right;\">\n",
       "      <th></th>\n",
       "      <th>cough</th>\n",
       "    </tr>\n",
       "  </thead>\n",
       "  <tbody>\n",
       "    <tr>\n",
       "      <th>0</th>\n",
       "      <td>0.0</td>\n",
       "    </tr>\n",
       "    <tr>\n",
       "      <th>1</th>\n",
       "      <td>0.0</td>\n",
       "    </tr>\n",
       "    <tr>\n",
       "      <th>15</th>\n",
       "      <td>0.0</td>\n",
       "    </tr>\n",
       "    <tr>\n",
       "      <th>6</th>\n",
       "      <td>1.0</td>\n",
       "    </tr>\n",
       "    <tr>\n",
       "      <th>10</th>\n",
       "      <td>0.0</td>\n",
       "    </tr>\n",
       "  </tbody>\n",
       "</table>\n",
       "</div>"
      ],
      "text/plain": [
       "    cough\n",
       "0     0.0\n",
       "1     0.0\n",
       "15    0.0\n",
       "6     1.0\n",
       "10    0.0"
      ]
     },
     "execution_count": 19,
     "metadata": {},
     "output_type": "execute_result"
    }
   ],
   "source": [
    "X_test_cough_df.sample(5)"
   ]
  },
  {
   "cell_type": "code",
   "execution_count": 20,
   "id": "779c2a0f",
   "metadata": {},
   "outputs": [],
   "source": [
    "# Using One Hot Encoding on 'gender' and 'city' column\n",
    "\n",
    "ohe = OneHotEncoder(drop='first',sparse=False)\n",
    "\n",
    "X_train_gender_city = ohe.fit_transform(X_train[['gender', 'city']])\n",
    "\n",
    "# also the test data\n",
    "X_test_gender_city = ohe.transform(X_test[['gender', 'city']])"
   ]
  },
  {
   "cell_type": "code",
   "execution_count": 21,
   "id": "88022f9f",
   "metadata": {},
   "outputs": [
    {
     "data": {
      "text/plain": [
       "((80, 4), (20, 4))"
      ]
     },
     "execution_count": 21,
     "metadata": {},
     "output_type": "execute_result"
    }
   ],
   "source": [
    "X_train_gender_city.shape, X_test_gender_city.shape"
   ]
  },
  {
   "cell_type": "markdown",
   "id": "463494c8",
   "metadata": {},
   "source": [
    "**Notes:**\n",
    "- So now we have 4 columns instead of 2, here 1 is for 'gender' column as it has 2 values in it and the other 3 belongs to the city as it has 4 values."
   ]
  },
  {
   "cell_type": "code",
   "execution_count": 22,
   "id": "3168a791",
   "metadata": {},
   "outputs": [],
   "source": [
    "# Using Label Encoding on 'has_covid' column\n",
    "\n",
    "le = LabelEncoder()\n",
    "\n",
    "y_train_covid = le.fit_transform(y_train)\n",
    "\n",
    "# also the test data\n",
    "y_test_covid = le.transform(y_test)"
   ]
  },
  {
   "cell_type": "code",
   "execution_count": 23,
   "id": "2190df3b",
   "metadata": {},
   "outputs": [
    {
     "data": {
      "text/plain": [
       "array(['No', 'Yes'], dtype=object)"
      ]
     },
     "execution_count": 23,
     "metadata": {},
     "output_type": "execute_result"
    }
   ],
   "source": [
    "# Checking values of the label encoder\n",
    "\n",
    "le.classes_"
   ]
  },
  {
   "cell_type": "code",
   "execution_count": 24,
   "id": "4540a167",
   "metadata": {},
   "outputs": [],
   "source": [
    "# Creating dataframe of the numpy array \n",
    "\n",
    "y_train_covid_df = pd.DataFrame(y_train_covid, columns=['has_covid'])\n",
    "y_test_covid_df = pd.DataFrame(y_test_covid, columns=['has_covid'])"
   ]
  },
  {
   "cell_type": "code",
   "execution_count": 25,
   "id": "e5d0dea6",
   "metadata": {},
   "outputs": [
    {
     "data": {
      "text/html": [
       "<div>\n",
       "<style scoped>\n",
       "    .dataframe tbody tr th:only-of-type {\n",
       "        vertical-align: middle;\n",
       "    }\n",
       "\n",
       "    .dataframe tbody tr th {\n",
       "        vertical-align: top;\n",
       "    }\n",
       "\n",
       "    .dataframe thead th {\n",
       "        text-align: right;\n",
       "    }\n",
       "</style>\n",
       "<table border=\"1\" class=\"dataframe\">\n",
       "  <thead>\n",
       "    <tr style=\"text-align: right;\">\n",
       "      <th></th>\n",
       "      <th>has_covid</th>\n",
       "    </tr>\n",
       "  </thead>\n",
       "  <tbody>\n",
       "    <tr>\n",
       "      <th>35</th>\n",
       "      <td>1</td>\n",
       "    </tr>\n",
       "    <tr>\n",
       "      <th>7</th>\n",
       "      <td>1</td>\n",
       "    </tr>\n",
       "    <tr>\n",
       "      <th>10</th>\n",
       "      <td>1</td>\n",
       "    </tr>\n",
       "    <tr>\n",
       "      <th>22</th>\n",
       "      <td>1</td>\n",
       "    </tr>\n",
       "    <tr>\n",
       "      <th>57</th>\n",
       "      <td>1</td>\n",
       "    </tr>\n",
       "  </tbody>\n",
       "</table>\n",
       "</div>"
      ],
      "text/plain": [
       "    has_covid\n",
       "35          1\n",
       "7           1\n",
       "10          1\n",
       "22          1\n",
       "57          1"
      ]
     },
     "execution_count": 25,
     "metadata": {},
     "output_type": "execute_result"
    }
   ],
   "source": [
    "y_train_covid_df.sample(5)"
   ]
  },
  {
   "cell_type": "code",
   "execution_count": 26,
   "id": "a2aa9134",
   "metadata": {},
   "outputs": [
    {
     "data": {
      "text/html": [
       "<div>\n",
       "<style scoped>\n",
       "    .dataframe tbody tr th:only-of-type {\n",
       "        vertical-align: middle;\n",
       "    }\n",
       "\n",
       "    .dataframe tbody tr th {\n",
       "        vertical-align: top;\n",
       "    }\n",
       "\n",
       "    .dataframe thead th {\n",
       "        text-align: right;\n",
       "    }\n",
       "</style>\n",
       "<table border=\"1\" class=\"dataframe\">\n",
       "  <thead>\n",
       "    <tr style=\"text-align: right;\">\n",
       "      <th></th>\n",
       "      <th>has_covid</th>\n",
       "    </tr>\n",
       "  </thead>\n",
       "  <tbody>\n",
       "    <tr>\n",
       "      <th>16</th>\n",
       "      <td>1</td>\n",
       "    </tr>\n",
       "    <tr>\n",
       "      <th>7</th>\n",
       "      <td>1</td>\n",
       "    </tr>\n",
       "    <tr>\n",
       "      <th>2</th>\n",
       "      <td>0</td>\n",
       "    </tr>\n",
       "    <tr>\n",
       "      <th>5</th>\n",
       "      <td>0</td>\n",
       "    </tr>\n",
       "    <tr>\n",
       "      <th>0</th>\n",
       "      <td>0</td>\n",
       "    </tr>\n",
       "  </tbody>\n",
       "</table>\n",
       "</div>"
      ],
      "text/plain": [
       "    has_covid\n",
       "16          1\n",
       "7           1\n",
       "2           0\n",
       "5           0\n",
       "0           0"
      ]
     },
     "execution_count": 26,
     "metadata": {},
     "output_type": "execute_result"
    }
   ],
   "source": [
    "y_test_covid_df.sample(5)"
   ]
  },
  {
   "cell_type": "code",
   "execution_count": 27,
   "id": "5d60fbb5",
   "metadata": {},
   "outputs": [
    {
     "data": {
      "text/plain": [
       "((80, 1), (80, 1), (80, 4), (80,))"
      ]
     },
     "execution_count": 27,
     "metadata": {},
     "output_type": "execute_result"
    }
   ],
   "source": [
    "# Checking shape of all the arrays\n",
    "\n",
    "X_train_fever.shape, X_train_cough.shape, X_train_gender_city.shape, y_train_covid.shape"
   ]
  },
  {
   "cell_type": "markdown",
   "id": "df5552cf",
   "metadata": {},
   "source": [
    "- So all the arrays have 80 rows"
   ]
  },
  {
   "cell_type": "markdown",
   "id": "85cfaa0b",
   "metadata": {},
   "source": [
    "### Now we need to concatenate all the input columns"
   ]
  },
  {
   "cell_type": "code",
   "execution_count": 28,
   "id": "efd82db9",
   "metadata": {},
   "outputs": [],
   "source": [
    "# To do this 1st we need to drop the 'age' column as it is of int type\n",
    "# So here we are dropping the column from both train and test dataset and keeping it's value in a variable\n",
    "\n",
    "# Extracting Age\n",
    "X_train_age = X_train.drop(columns=['gender','fever','cough','city']).values\n",
    "\n",
    "# also the test data\n",
    "X_test_age = X_test.drop(columns=['gender','fever','cough','city']).values"
   ]
  },
  {
   "cell_type": "code",
   "execution_count": 29,
   "id": "a4c12134",
   "metadata": {},
   "outputs": [
    {
     "data": {
      "text/plain": [
       "array([[81],\n",
       "       [ 5],\n",
       "       [19],\n",
       "       [27],\n",
       "       [73],\n",
       "       [70],\n",
       "       [49],\n",
       "       [51],\n",
       "       [64],\n",
       "       [83],\n",
       "       [65],\n",
       "       [18],\n",
       "       [16],\n",
       "       [16],\n",
       "       [27],\n",
       "       [84],\n",
       "       [51],\n",
       "       [69],\n",
       "       [82],\n",
       "       [69],\n",
       "       [44],\n",
       "       [74],\n",
       "       [20],\n",
       "       [12],\n",
       "       [33],\n",
       "       [42],\n",
       "       [65],\n",
       "       [23],\n",
       "       [56],\n",
       "       [64],\n",
       "       [13],\n",
       "       [31],\n",
       "       [40],\n",
       "       [49],\n",
       "       [19],\n",
       "       [11],\n",
       "       [14],\n",
       "       [42],\n",
       "       [38],\n",
       "       [46],\n",
       "       [71],\n",
       "       [10],\n",
       "       [60],\n",
       "       [22],\n",
       "       [19],\n",
       "       [65],\n",
       "       [19],\n",
       "       [54],\n",
       "       [81],\n",
       "       [20],\n",
       "       [48],\n",
       "       [82],\n",
       "       [23],\n",
       "       [66],\n",
       "       [ 5],\n",
       "       [49],\n",
       "       [ 5],\n",
       "       [34],\n",
       "       [79],\n",
       "       [ 6],\n",
       "       [10],\n",
       "       [69],\n",
       "       [55],\n",
       "       [34],\n",
       "       [27],\n",
       "       [47],\n",
       "       [73],\n",
       "       [42],\n",
       "       [80],\n",
       "       [47],\n",
       "       [38],\n",
       "       [34],\n",
       "       [25],\n",
       "       [24],\n",
       "       [12],\n",
       "       [24],\n",
       "       [75],\n",
       "       [51],\n",
       "       [82],\n",
       "       [11]], dtype=int64)"
      ]
     },
     "execution_count": 29,
     "metadata": {},
     "output_type": "execute_result"
    }
   ],
   "source": [
    "# Checking the values\n",
    "\n",
    "X_train_age"
   ]
  },
  {
   "cell_type": "code",
   "execution_count": 30,
   "id": "531bb39e",
   "metadata": {},
   "outputs": [],
   "source": [
    "# Now concatinating all the columns\n",
    "\n",
    "X_train_transformed = np.concatenate((X_train_age, X_train_fever, X_train_gender_city, X_train_cough), axis=1)\n",
    "\n",
    "# also the test data\n",
    "X_test_transformed = np.concatenate((X_test_age, X_test_fever, X_test_gender_city, X_test_cough), axis=1)"
   ]
  },
  {
   "cell_type": "code",
   "execution_count": 31,
   "id": "9b720fd9",
   "metadata": {},
   "outputs": [
    {
     "data": {
      "text/plain": [
       "(80, 7)"
      ]
     },
     "execution_count": 31,
     "metadata": {},
     "output_type": "execute_result"
    }
   ],
   "source": [
    "X_train_transformed.shape"
   ]
  },
  {
   "cell_type": "markdown",
   "id": "642cdd54",
   "metadata": {},
   "source": [
    "- So now we will have 7 columns instead of 5 columns as we had in the original train dataset."
   ]
  },
  {
   "cell_type": "markdown",
   "id": "5688dc78",
   "metadata": {},
   "source": [
    "### Now doing all these above using the `ColumnTransformer`\n",
    "\n",
    "- Here we need to pass two parameters:\n",
    "    - **transformers** - Here we will pass the list. Remember the transformers are passed inside `tuples`. Here inside `tuples` we pass the name of the transformer, the transfomation to be applied, the list of columns on which the transformation to take place.\n",
    "    - **remainder** - To set the columns on which we donot apply any transformation. Here default value is `drop`, another option is `passthrough`."
   ]
  },
  {
   "cell_type": "code",
   "execution_count": 32,
   "id": "f9fe3fd5",
   "metadata": {},
   "outputs": [],
   "source": [
    "# importing column transformer\n",
    "\n",
    "from sklearn.compose import ColumnTransformer"
   ]
  },
  {
   "cell_type": "code",
   "execution_count": 33,
   "id": "5c5551ad",
   "metadata": {},
   "outputs": [],
   "source": [
    "# Here the 'age' column will remain intact as we passed remainder as passthrough\n",
    "\n",
    "transformer = ColumnTransformer(transformers=[\n",
    "    ('tnf1', SimpleImputer(), ['fever']),\n",
    "    ('tnf2', OrdinalEncoder(categories=[['Mild','Strong']]), ['cough']),\n",
    "    ('tnf3', OneHotEncoder(sparse=False, drop='first'), ['gender','city'])\n",
    "], remainder='passthrough')"
   ]
  },
  {
   "cell_type": "code",
   "execution_count": 34,
   "id": "29a380e1",
   "metadata": {},
   "outputs": [],
   "source": [
    "# Now doing fit and transform on train data\n",
    "\n",
    "X_train_tf = transformer.fit_transform(X_train)\n",
    "X_test_tf = transformer.transform(X_test)"
   ]
  },
  {
   "cell_type": "code",
   "execution_count": 35,
   "id": "9f93b92f",
   "metadata": {},
   "outputs": [
    {
     "data": {
      "text/plain": [
       "(80, 7)"
      ]
     },
     "execution_count": 35,
     "metadata": {},
     "output_type": "execute_result"
    }
   ],
   "source": [
    "X_train_tf.shape"
   ]
  },
  {
   "cell_type": "markdown",
   "id": "14698d88",
   "metadata": {},
   "source": [
    "### Now using the transformer technique just before the train test split and after all the FE"
   ]
  },
  {
   "cell_type": "code",
   "execution_count": 36,
   "id": "ec29e99f",
   "metadata": {},
   "outputs": [
    {
     "data": {
      "text/html": [
       "<div>\n",
       "<style scoped>\n",
       "    .dataframe tbody tr th:only-of-type {\n",
       "        vertical-align: middle;\n",
       "    }\n",
       "\n",
       "    .dataframe tbody tr th {\n",
       "        vertical-align: top;\n",
       "    }\n",
       "\n",
       "    .dataframe thead th {\n",
       "        text-align: right;\n",
       "    }\n",
       "</style>\n",
       "<table border=\"1\" class=\"dataframe\">\n",
       "  <thead>\n",
       "    <tr style=\"text-align: right;\">\n",
       "      <th></th>\n",
       "      <th>age</th>\n",
       "      <th>gender</th>\n",
       "      <th>fever</th>\n",
       "      <th>cough</th>\n",
       "      <th>city</th>\n",
       "    </tr>\n",
       "  </thead>\n",
       "  <tbody>\n",
       "    <tr>\n",
       "      <th>0</th>\n",
       "      <td>60</td>\n",
       "      <td>Male</td>\n",
       "      <td>103.0</td>\n",
       "      <td>Mild</td>\n",
       "      <td>Kolkata</td>\n",
       "    </tr>\n",
       "    <tr>\n",
       "      <th>1</th>\n",
       "      <td>27</td>\n",
       "      <td>Male</td>\n",
       "      <td>100.0</td>\n",
       "      <td>Mild</td>\n",
       "      <td>Delhi</td>\n",
       "    </tr>\n",
       "    <tr>\n",
       "      <th>2</th>\n",
       "      <td>42</td>\n",
       "      <td>Male</td>\n",
       "      <td>101.0</td>\n",
       "      <td>Mild</td>\n",
       "      <td>Delhi</td>\n",
       "    </tr>\n",
       "    <tr>\n",
       "      <th>3</th>\n",
       "      <td>31</td>\n",
       "      <td>Female</td>\n",
       "      <td>98.0</td>\n",
       "      <td>Mild</td>\n",
       "      <td>Kolkata</td>\n",
       "    </tr>\n",
       "    <tr>\n",
       "      <th>4</th>\n",
       "      <td>65</td>\n",
       "      <td>Female</td>\n",
       "      <td>101.0</td>\n",
       "      <td>Mild</td>\n",
       "      <td>Mumbai</td>\n",
       "    </tr>\n",
       "  </tbody>\n",
       "</table>\n",
       "</div>"
      ],
      "text/plain": [
       "   age  gender  fever cough     city\n",
       "0   60    Male  103.0  Mild  Kolkata\n",
       "1   27    Male  100.0  Mild    Delhi\n",
       "2   42    Male  101.0  Mild    Delhi\n",
       "3   31  Female   98.0  Mild  Kolkata\n",
       "4   65  Female  101.0  Mild   Mumbai"
      ]
     },
     "execution_count": 36,
     "metadata": {},
     "output_type": "execute_result"
    }
   ],
   "source": [
    "X.head()"
   ]
  },
  {
   "cell_type": "code",
   "execution_count": 37,
   "id": "ce95960d",
   "metadata": {},
   "outputs": [
    {
     "data": {
      "text/plain": [
       "(100, 5)"
      ]
     },
     "execution_count": 37,
     "metadata": {},
     "output_type": "execute_result"
    }
   ],
   "source": [
    "X.shape"
   ]
  },
  {
   "cell_type": "code",
   "execution_count": 38,
   "id": "c0e321a7",
   "metadata": {},
   "outputs": [
    {
     "data": {
      "text/plain": [
       "0     No\n",
       "1    Yes\n",
       "2     No\n",
       "3     No\n",
       "4     No\n",
       "Name: has_covid, dtype: object"
      ]
     },
     "execution_count": 38,
     "metadata": {},
     "output_type": "execute_result"
    }
   ],
   "source": [
    "y.head()"
   ]
  },
  {
   "cell_type": "code",
   "execution_count": 39,
   "id": "1e53ba84",
   "metadata": {},
   "outputs": [],
   "source": [
    "# Doing all the transformations of the independent features i.e. 'x'\n",
    "\n",
    "imputer_columns = ['fever']\n",
    "ordinal_columns = ['cough']\n",
    "onehot_columns = ['gender','city']\n",
    "\n",
    "\n",
    "\n",
    "impute_transformer = SimpleImputer()\n",
    "order_transformer = OrdinalEncoder(categories=[['Mild','Strong']])\n",
    "oh_transformer = OneHotEncoder(sparse=False, drop='first')\n",
    "\n",
    "\n",
    "transformer = ColumnTransformer(transformers=\n",
    "                                [\n",
    "                                    (\"Imputation\", impute_transformer, imputer_columns),\n",
    "                                    (\"OrdinalEncoder\", order_transformer, ordinal_columns),\n",
    "                                    (\"OneHotEncoder\", oh_transformer, onehot_columns),\n",
    "                                ], remainder='passthrough')\n",
    "\n",
    "\n",
    "# Now doing the fit transform\n",
    "\n",
    "X = transformer.fit_transform(X)"
   ]
  },
  {
   "cell_type": "code",
   "execution_count": 40,
   "id": "265b1cc0",
   "metadata": {},
   "outputs": [],
   "source": [
    "# Doing the label encoding on dependent feature i.e. 'y'\n",
    "\n",
    "le = LabelEncoder()\n",
    "\n",
    "y = le.fit_transform(y)"
   ]
  },
  {
   "cell_type": "code",
   "execution_count": 41,
   "id": "612397ea",
   "metadata": {},
   "outputs": [
    {
     "data": {
      "text/plain": [
       "((80, 7), (20, 7))"
      ]
     },
     "execution_count": 41,
     "metadata": {},
     "output_type": "execute_result"
    }
   ],
   "source": [
    "# Now doing the train test split\n",
    "\n",
    "X_train, X_test, y_train, y_test = train_test_split(X, y, test_size=0.2, random_state=42)\n",
    "\n",
    "X_train.shape, X_test.shape"
   ]
  },
  {
   "cell_type": "code",
   "execution_count": 42,
   "id": "8f658ab4",
   "metadata": {},
   "outputs": [
    {
     "data": {
      "text/plain": [
       "((80,), (20,))"
      ]
     },
     "execution_count": 42,
     "metadata": {},
     "output_type": "execute_result"
    }
   ],
   "source": [
    "y_train.shape, y_test.shape"
   ]
  },
  {
   "cell_type": "code",
   "execution_count": 43,
   "id": "d5204b3d",
   "metadata": {},
   "outputs": [
    {
     "data": {
      "text/html": [
       "<div>\n",
       "<style scoped>\n",
       "    .dataframe tbody tr th:only-of-type {\n",
       "        vertical-align: middle;\n",
       "    }\n",
       "\n",
       "    .dataframe tbody tr th {\n",
       "        vertical-align: top;\n",
       "    }\n",
       "\n",
       "    .dataframe thead th {\n",
       "        text-align: right;\n",
       "    }\n",
       "</style>\n",
       "<table border=\"1\" class=\"dataframe\">\n",
       "  <thead>\n",
       "    <tr style=\"text-align: right;\">\n",
       "      <th></th>\n",
       "      <th>0</th>\n",
       "      <th>1</th>\n",
       "      <th>2</th>\n",
       "      <th>3</th>\n",
       "      <th>4</th>\n",
       "      <th>5</th>\n",
       "      <th>6</th>\n",
       "    </tr>\n",
       "  </thead>\n",
       "  <tbody>\n",
       "    <tr>\n",
       "      <th>0</th>\n",
       "      <td>101.0</td>\n",
       "      <td>0.0</td>\n",
       "      <td>0.0</td>\n",
       "      <td>0.0</td>\n",
       "      <td>0.0</td>\n",
       "      <td>1.0</td>\n",
       "      <td>81.0</td>\n",
       "    </tr>\n",
       "    <tr>\n",
       "      <th>1</th>\n",
       "      <td>100.0</td>\n",
       "      <td>0.0</td>\n",
       "      <td>0.0</td>\n",
       "      <td>0.0</td>\n",
       "      <td>1.0</td>\n",
       "      <td>0.0</td>\n",
       "      <td>5.0</td>\n",
       "    </tr>\n",
       "    <tr>\n",
       "      <th>2</th>\n",
       "      <td>100.0</td>\n",
       "      <td>0.0</td>\n",
       "      <td>0.0</td>\n",
       "      <td>0.0</td>\n",
       "      <td>1.0</td>\n",
       "      <td>0.0</td>\n",
       "      <td>19.0</td>\n",
       "    </tr>\n",
       "    <tr>\n",
       "      <th>3</th>\n",
       "      <td>100.0</td>\n",
       "      <td>0.0</td>\n",
       "      <td>1.0</td>\n",
       "      <td>1.0</td>\n",
       "      <td>0.0</td>\n",
       "      <td>0.0</td>\n",
       "      <td>27.0</td>\n",
       "    </tr>\n",
       "    <tr>\n",
       "      <th>4</th>\n",
       "      <td>103.0</td>\n",
       "      <td>0.0</td>\n",
       "      <td>0.0</td>\n",
       "      <td>1.0</td>\n",
       "      <td>0.0</td>\n",
       "      <td>0.0</td>\n",
       "      <td>73.0</td>\n",
       "    </tr>\n",
       "  </tbody>\n",
       "</table>\n",
       "</div>"
      ],
      "text/plain": [
       "       0    1    2    3    4    5     6\n",
       "0  101.0  0.0  0.0  0.0  0.0  1.0  81.0\n",
       "1  100.0  0.0  0.0  0.0  1.0  0.0   5.0\n",
       "2  100.0  0.0  0.0  0.0  1.0  0.0  19.0\n",
       "3  100.0  0.0  1.0  1.0  0.0  0.0  27.0\n",
       "4  103.0  0.0  0.0  1.0  0.0  0.0  73.0"
      ]
     },
     "execution_count": 43,
     "metadata": {},
     "output_type": "execute_result"
    }
   ],
   "source": [
    "# Creating dataframe of the X_train dataset to see the columns\n",
    "\n",
    "x_train_df = pd.DataFrame(X_train)\n",
    "x_train_df.head()"
   ]
  },
  {
   "cell_type": "markdown",
   "id": "c3ddc867",
   "metadata": {},
   "source": [
    "- Here one column is for `fever`, one for `cough`, one for `gender` and three for `city` and one for `age`.\n",
    "- So total is ***(1 + 1 + 1 + 3 + 1) = 7*** columns"
   ]
  },
  {
   "cell_type": "code",
   "execution_count": null,
   "id": "33147e1e",
   "metadata": {},
   "outputs": [],
   "source": []
  }
 ],
 "metadata": {
  "kernelspec": {
   "display_name": "Python 3 (ipykernel)",
   "language": "python",
   "name": "python3"
  },
  "language_info": {
   "codemirror_mode": {
    "name": "ipython",
    "version": 3
   },
   "file_extension": ".py",
   "mimetype": "text/x-python",
   "name": "python",
   "nbconvert_exporter": "python",
   "pygments_lexer": "ipython3",
   "version": "3.9.15"
  },
  "vscode": {
   "interpreter": {
    "hash": "447a1b0f163c6264e0a07ca59c7c80fb04ce31aea372fb7d3e876bc26b7aec67"
   }
  }
 },
 "nbformat": 4,
 "nbformat_minor": 5
}
