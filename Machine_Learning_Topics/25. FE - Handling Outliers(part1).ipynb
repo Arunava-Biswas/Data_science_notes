{
 "cells": [
  {
   "cell_type": "markdown",
   "metadata": {},
   "source": [
    "## `Outliers Detection and removal`\n",
    "\n",
    "- **What are `Outliers`?**\n",
    "    - This is the data point that behaves differently than the other data points in that distribution.\n",
    "    - It is the **`Black Sheep`**.\n",
    "    \n",
    "\n",
    "\n",
    "    \n",
    "\n",
    "- Although `Outliers` are dangerous but sometimes they should be kept as a part of the data like in case of **`Anomaly Detection Algorithms`** i.e. finding credit card frauds.\n",
    "- This can create bad impact for some ML algorithms like: `linear regression`, `logistic regression`, `AdaBoost`, `Deep Learning models`. The common factor in all these models is that we need to calculate **weights** in all these algorithms. So if we need to work on **weight based algorithms** then outlier will definitely impact the outcome of that model.\n",
    "- But algorithms which are **Tree** based like: `Decision Tree`, `Random Forest`, `Gradient Boosting`, `XG Boost` here the *`outliers`* don't impact the outcome that much.\n",
    "\n",
    "- **How to treat `Outliers`?**\n",
    "    - **Trimming:**\n",
    "        - This is completely removing the outliers from the dataset.\n",
    "        - It is a very fast approach.\n",
    "        - It may make the dataset very thin (less in numbers) if there are too many *`Outliers`*.\n",
    "    - **Capping:**\n",
    "        - Most of the times the *`Outliers`* are mainly found at the both ends of the distribution.\n",
    "        - Here we put a limit by using **`(IQR)`** beyond which range everything is an *`Outlier`*.\n",
    "    - We can also treat *`Outliers`* as *`missing values`* through **`Imputation`**.\n",
    "    - We can also apply **`Discretization`** on *`Outliers`*.\n",
    "\n",
    "\n",
    "- **How to detect `Outliers`?**\n",
    "    - If the column has a perfect or close to a *`Normal`* distribution, then if any data point is out of the range of **$\\mu$ + 3 $\\sigma$** or **$\\mu$ - 3 $\\sigma$** then it should be treated as *`Outlier`*.\n",
    "    - If the column has a *`skewed`* distribution, then we can use **`IQR`** with the help of *`Boxplot`* to detect and remove *`Outliers`*.\n",
    "    - We can also apply **Percentile** based approach to create the range outside which we treat every data points as *`Outliers`*."
   ]
  }
 ],
 "metadata": {
  "kernelspec": {
   "display_name": "Python 3 (ipykernel)",
   "language": "python",
   "name": "python3"
  },
  "language_info": {
   "codemirror_mode": {
    "name": "ipython",
    "version": 3
   },
   "file_extension": ".py",
   "mimetype": "text/x-python",
   "name": "python",
   "nbconvert_exporter": "python",
   "pygments_lexer": "ipython3",
   "version": "3.9.15"
  },
  "vscode": {
   "interpreter": {
    "hash": "447a1b0f163c6264e0a07ca59c7c80fb04ce31aea372fb7d3e876bc26b7aec67"
   }
  }
 },
 "nbformat": 4,
 "nbformat_minor": 2
}
