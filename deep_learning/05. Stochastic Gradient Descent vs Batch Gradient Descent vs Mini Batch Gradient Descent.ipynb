{
 "cells": [
  {
   "cell_type": "markdown",
   "id": "6648db01",
   "metadata": {},
   "source": [
    "## `Stochastic` vs `Batch` vs `Mini Batch` Gradient Descent "
   ]
  },
  {
   "cell_type": "markdown",
   "id": "0c3add50",
   "metadata": {},
   "source": [
    "### `Batch` Gradient Descent\n",
    "\n",
    "- In ***Batch Gradient Descent*** during training the model with the training dataset we update the **weights** and **bias** after each **epoch** and run untill we reach at a lowest **error**.\n",
    "- That is we go through all **training samples** and calculate **cumulative error**. Then we **Back Propagate** and adjust the **weights**.\n",
    "  - As here we first initialize the **weights** and **bias** and find the **errors** for all the 6 samples as shown below.\n",
    "  \n",
    "  <img src=\"images/bgd1.png\" width=800>\n",
    "  \n",
    "  - At the end of first **epoch** we calculate the **MSE** and then adjust the **weights** and **bias** using the derivatives.\n",
    "  \n",
    "  <img src=\"images/bgd2.png\" width=800>\n",
    "  \n",
    "  - Now using these new updated **weights** we again run an entire **epoch** upto 6 samples as here.\n",
    "  \n",
    "  <img src=\"images/bgd3.png\" width=800>\n",
    "  \n",
    "  - We will keep running this **epoch** until we reach a minimum **error** where we will have a correct value of **W1**, **W2** and **bias**."
   ]
  },
  {
   "cell_type": "markdown",
   "id": "5f9fe2c0",
   "metadata": {},
   "source": [
    "- But if the training dataset is huge say there are 10 million samples on the training dataset.\n",
    "- There to find the **cumulative error** for first round **(1st epoch)** we need to do a **Forward Pass** for **`10` million samples**.\n",
    "- It means as here we have 2 features (area and bedrooms) we need to find **`20` million** derivatives.\n",
    "- Now if there are `200` features so there it will be very complicated calculations and too much computation."
   ]
  },
  {
   "cell_type": "markdown",
   "id": "b03dac79",
   "metadata": {},
   "source": [
    "### `Stochastic` Gradient Descent \n",
    "\n",
    "- So here instead of all the samples we can select a random sample, find the **error** and then we can start adjusting the **weights**.\n",
    "\n",
    "<img src=\"images/bgd4.png\" width=800>\n",
    "\n",
    "<img src=\"images/bgd5.png\" width=800>\n",
    "\n",
    "- Then in second iteration again select a random sample and find **error** using the previous adjusted **weights** and **bias** and then again start updating **weights**.\n",
    "\n",
    "<img src=\"images/bgd6.png\" width=800>\n",
    "\n",
    "<img src=\"images/bgd7.png\" width=800>\n",
    "\n",
    "- So here we will keep adjusting **weights** after every training sample **Forward Pass**\n",
    "- The key differences between **Batch Gradient Descent** and **Stochastic Gradient Descent** is as follows:\n",
    "\n",
    "<img src=\"images/bgd8.png\" width=800>"
   ]
  },
  {
   "cell_type": "markdown",
   "id": "2547e702",
   "metadata": {},
   "source": [
    "### `Mini Batch` Gradient Descent\n",
    "\n",
    "- It is almost similar to **Stochastic Gradient Descent**, but here instead of choosing one randomly picked training sample, we will use a **batch** of randomly picked training samples.\n",
    "- For example say we have `20` training samples in total.\n",
    "- We pass say `5` random samples for one **Forward Pass** to calculate the **cumulative error**.\n",
    "- After that we adjust **weights**.\n",
    "- Difference between all 3 **Gradient Descents**\n",
    "\n",
    "<img src=\"images/bgd9.png\" width=800>"
   ]
  },
  {
   "cell_type": "markdown",
   "id": "d8d1bdb6",
   "metadata": {},
   "source": [
    "### Now starts with coding"
   ]
  },
  {
   "cell_type": "code",
   "execution_count": 26,
   "id": "6ed5a60b",
   "metadata": {},
   "outputs": [],
   "source": [
    "# importing libraries\n",
    "\n",
    "import pandas as pd\n",
    "import numpy as np\n",
    "from matplotlib import pyplot as plt\n",
    "%matplotlib inline\n",
    "\n",
    "import warnings\n",
    "warnings.filterwarnings(\"ignore\")"
   ]
  },
  {
   "cell_type": "code",
   "execution_count": 3,
   "id": "782e9995",
   "metadata": {},
   "outputs": [
    {
     "data": {
      "text/html": [
       "<div>\n",
       "<style scoped>\n",
       "    .dataframe tbody tr th:only-of-type {\n",
       "        vertical-align: middle;\n",
       "    }\n",
       "\n",
       "    .dataframe tbody tr th {\n",
       "        vertical-align: top;\n",
       "    }\n",
       "\n",
       "    .dataframe thead th {\n",
       "        text-align: right;\n",
       "    }\n",
       "</style>\n",
       "<table border=\"1\" class=\"dataframe\">\n",
       "  <thead>\n",
       "    <tr style=\"text-align: right;\">\n",
       "      <th></th>\n",
       "      <th>area</th>\n",
       "      <th>bedrooms</th>\n",
       "      <th>price</th>\n",
       "    </tr>\n",
       "  </thead>\n",
       "  <tbody>\n",
       "    <tr>\n",
       "      <th>14</th>\n",
       "      <td>2250</td>\n",
       "      <td>3</td>\n",
       "      <td>101.0</td>\n",
       "    </tr>\n",
       "    <tr>\n",
       "      <th>10</th>\n",
       "      <td>1800</td>\n",
       "      <td>3</td>\n",
       "      <td>82.0</td>\n",
       "    </tr>\n",
       "    <tr>\n",
       "      <th>6</th>\n",
       "      <td>2732</td>\n",
       "      <td>4</td>\n",
       "      <td>135.0</td>\n",
       "    </tr>\n",
       "    <tr>\n",
       "      <th>17</th>\n",
       "      <td>1540</td>\n",
       "      <td>3</td>\n",
       "      <td>60.0</td>\n",
       "    </tr>\n",
       "    <tr>\n",
       "      <th>11</th>\n",
       "      <td>2785</td>\n",
       "      <td>4</td>\n",
       "      <td>140.0</td>\n",
       "    </tr>\n",
       "  </tbody>\n",
       "</table>\n",
       "</div>"
      ],
      "text/plain": [
       "    area  bedrooms  price\n",
       "14  2250         3  101.0\n",
       "10  1800         3   82.0\n",
       "6   2732         4  135.0\n",
       "17  1540         3   60.0\n",
       "11  2785         4  140.0"
      ]
     },
     "execution_count": 3,
     "metadata": {},
     "output_type": "execute_result"
    }
   ],
   "source": [
    "# Here we will use the home prices of bangalore dataset\n",
    "\n",
    "df = pd.read_csv(\"homeprices_bangalore.csv\")\n",
    "df.sample(5)"
   ]
  },
  {
   "cell_type": "markdown",
   "id": "e3331268",
   "metadata": {},
   "source": [
    "**Preprocessing/Scaling: Since our columns are on different sacle it is important to perform scaling on them.**"
   ]
  },
  {
   "cell_type": "code",
   "execution_count": 5,
   "id": "be9f913a",
   "metadata": {},
   "outputs": [],
   "source": [
    "# Here we are using Min Max scalling\n",
    "\n",
    "from sklearn import preprocessing\n",
    "\n",
    "sx = preprocessing.MinMaxScaler()\n",
    "sy = preprocessing.MinMaxScaler()"
   ]
  },
  {
   "cell_type": "code",
   "execution_count": 6,
   "id": "1b4de373",
   "metadata": {},
   "outputs": [
    {
     "data": {
      "text/plain": [
       "array([[0.08827586, 0.25      ],\n",
       "       [0.62068966, 0.75      ],\n",
       "       [0.22068966, 0.5       ],\n",
       "       [0.24862069, 0.5       ],\n",
       "       [0.13793103, 0.25      ],\n",
       "       [0.12758621, 0.25      ],\n",
       "       [0.6662069 , 0.75      ],\n",
       "       [0.86206897, 0.75      ],\n",
       "       [0.17586207, 0.5       ],\n",
       "       [1.        , 1.        ],\n",
       "       [0.34482759, 0.5       ],\n",
       "       [0.68448276, 0.75      ],\n",
       "       [0.06896552, 0.25      ],\n",
       "       [0.10344828, 0.25      ],\n",
       "       [0.5       , 0.5       ],\n",
       "       [0.12931034, 0.25      ],\n",
       "       [0.13103448, 0.5       ],\n",
       "       [0.25517241, 0.5       ],\n",
       "       [0.67931034, 0.5       ],\n",
       "       [0.        , 0.        ]])"
      ]
     },
     "execution_count": 6,
     "metadata": {},
     "output_type": "execute_result"
    }
   ],
   "source": [
    "# Scalling down area and bedrooms columns in the scale of 0 to 1\n",
    "\n",
    "scaled_X = sx.fit_transform(df.drop('price', axis='columns'))\n",
    "\n",
    "scaled_X"
   ]
  },
  {
   "cell_type": "code",
   "execution_count": 10,
   "id": "230667bd",
   "metadata": {},
   "outputs": [
    {
     "data": {
      "text/plain": [
       "array([[ 39.07],\n",
       "       [120.  ],\n",
       "       [ 62.  ],\n",
       "       [ 75.  ],\n",
       "       [ 51.  ],\n",
       "       [ 38.  ],\n",
       "       [135.  ],\n",
       "       [155.  ],\n",
       "       [ 50.  ],\n",
       "       [167.  ],\n",
       "       [ 82.  ],\n",
       "       [140.  ],\n",
       "       [ 38.  ],\n",
       "       [ 40.  ],\n",
       "       [101.  ],\n",
       "       [ 42.  ],\n",
       "       [ 48.  ],\n",
       "       [ 60.  ],\n",
       "       [102.  ],\n",
       "       [ 32.  ]])"
      ]
     },
     "execution_count": 10,
     "metadata": {},
     "output_type": "execute_result"
    }
   ],
   "source": [
    "# reshaped column price\n",
    "\n",
    "df['price'].values.reshape(df.shape[0],1)"
   ]
  },
  {
   "cell_type": "code",
   "execution_count": 12,
   "id": "e2e16b3c",
   "metadata": {},
   "outputs": [
    {
     "data": {
      "text/plain": [
       "array([[0.05237037],\n",
       "       [0.65185185],\n",
       "       [0.22222222],\n",
       "       [0.31851852],\n",
       "       [0.14074074],\n",
       "       [0.04444444],\n",
       "       [0.76296296],\n",
       "       [0.91111111],\n",
       "       [0.13333333],\n",
       "       [1.        ],\n",
       "       [0.37037037],\n",
       "       [0.8       ],\n",
       "       [0.04444444],\n",
       "       [0.05925926],\n",
       "       [0.51111111],\n",
       "       [0.07407407],\n",
       "       [0.11851852],\n",
       "       [0.20740741],\n",
       "       [0.51851852],\n",
       "       [0.        ]])"
      ]
     },
     "execution_count": 12,
     "metadata": {},
     "output_type": "execute_result"
    }
   ],
   "source": [
    "# Here for y we are reshaping the column price\n",
    "\n",
    "scaled_y = sy.fit_transform(df['price'].values.reshape(df.shape[0],1))\n",
    "\n",
    "scaled_y"
   ]
  },
  {
   "cell_type": "markdown",
   "id": "99f2e7ab",
   "metadata": {},
   "source": [
    "**We should convert target column (i.e. price) into one dimensional array. It has become 2D due to scaling that we did above but now we should change to 1D**"
   ]
  },
  {
   "cell_type": "code",
   "execution_count": null,
   "id": "78b69623",
   "metadata": {},
   "outputs": [],
   "source": [
    "# reshaping scaled_y into 1d\n",
    "\n",
    "scaled_y.reshape(20,)"
   ]
  },
  {
   "cell_type": "markdown",
   "id": "6f84988f",
   "metadata": {},
   "source": [
    "#### Now applying `Batch Gradient Descent`"
   ]
  },
  {
   "cell_type": "code",
   "execution_count": 14,
   "id": "97786cc3",
   "metadata": {},
   "outputs": [
    {
     "data": {
      "text/plain": [
       "2"
      ]
     },
     "execution_count": 14,
     "metadata": {},
     "output_type": "execute_result"
    }
   ],
   "source": [
    "# getting number of features in the training dataset\n",
    "\n",
    "scaled_X.shape[1]"
   ]
  },
  {
   "cell_type": "code",
   "execution_count": 15,
   "id": "0183527a",
   "metadata": {},
   "outputs": [
    {
     "data": {
      "text/plain": [
       "array([1., 1.])"
      ]
     },
     "execution_count": 15,
     "metadata": {},
     "output_type": "execute_result"
    }
   ],
   "source": [
    "# initializing weights as 1 to both the features of the training dataset\n",
    "\n",
    "np.ones(shape=(scaled_X.shape[1]))"
   ]
  },
  {
   "cell_type": "code",
   "execution_count": 16,
   "id": "a429f367",
   "metadata": {},
   "outputs": [
    {
     "data": {
      "text/plain": [
       "20"
      ]
     },
     "execution_count": 16,
     "metadata": {},
     "output_type": "execute_result"
    }
   ],
   "source": [
    "# total number of samples in the training dataset\n",
    "\n",
    "scaled_X.shape[0]"
   ]
  },
  {
   "cell_type": "code",
   "execution_count": 17,
   "id": "56e8767f",
   "metadata": {},
   "outputs": [
    {
     "data": {
      "text/plain": [
       "array([[0.08827586, 0.62068966, 0.22068966, 0.24862069, 0.13793103,\n",
       "        0.12758621, 0.6662069 , 0.86206897, 0.17586207, 1.        ,\n",
       "        0.34482759, 0.68448276, 0.06896552, 0.10344828, 0.5       ,\n",
       "        0.12931034, 0.13103448, 0.25517241, 0.67931034, 0.        ],\n",
       "       [0.25      , 0.75      , 0.5       , 0.5       , 0.25      ,\n",
       "        0.25      , 0.75      , 0.75      , 0.5       , 1.        ,\n",
       "        0.5       , 0.75      , 0.25      , 0.25      , 0.5       ,\n",
       "        0.25      , 0.5       , 0.5       , 0.5       , 0.        ]])"
      ]
     },
     "execution_count": 17,
     "metadata": {},
     "output_type": "execute_result"
    }
   ],
   "source": [
    "# Transposed of scaled_X\n",
    "\n",
    "scaled_X.T"
   ]
  },
  {
   "cell_type": "code",
   "execution_count": 19,
   "id": "24c29cce",
   "metadata": {},
   "outputs": [
    {
     "data": {
      "text/plain": [
       "array([0.33827586, 1.37068966, 0.72068966, 0.74862069, 0.38793103,\n",
       "       0.37758621, 1.4162069 , 1.61206897, 0.67586207, 2.        ,\n",
       "       0.84482759, 1.43448276, 0.31896552, 0.35344828, 1.        ,\n",
       "       0.37931034, 0.63103448, 0.75517241, 1.17931034, 0.        ])"
      ]
     },
     "execution_count": 19,
     "metadata": {},
     "output_type": "execute_result"
    }
   ],
   "source": [
    "# Assigning weights using dot product\n",
    "\n",
    "w = np.ones(shape=(2))\n",
    "\n",
    "np.dot(w, scaled_X.T)"
   ]
  },
  {
   "cell_type": "code",
   "execution_count": 20,
   "id": "aa9dd157",
   "metadata": {},
   "outputs": [],
   "source": [
    "# using all above logics\n",
    "\n",
    "def batch_gradient_descent(X, y_true, epochs, learning_rate = 0.01):\n",
    "\n",
    "    number_of_features = X.shape[1]\n",
    "    # numpy array with 1 row and columns equal to number of features. In \n",
    "    # our case number_of_features = 2 (area, bedroom)\n",
    "    # initializing bias as 0\n",
    "    w = np.ones(shape=(number_of_features)) \n",
    "    b = 0\n",
    "    total_samples = X.shape[0] # number of rows in X\n",
    "    \n",
    "    cost_list = []\n",
    "    epoch_list = []\n",
    "    \n",
    "    # iterating through epochs\n",
    "    for i in range(epochs):\n",
    "        # calculating y predicted as \"w1 * area + w2 * bedrooms + bias\". Here we are using 'np.dot()' for the features * weights\n",
    "        # Here we do transpose of the columns\n",
    "        y_predicted = np.dot(w, X.T) + b\n",
    "\n",
    "        # Now finding out derivative of errors with respect to weights and bias\n",
    "        w_grad = -(2/total_samples)*(X.T.dot(y_true - y_predicted))\n",
    "        b_grad = -(2/total_samples)*np.sum(y_true - y_predicted)\n",
    "        \n",
    "        # adjusting the weights and bias\n",
    "        w = w - learning_rate * w_grad\n",
    "        b = b - learning_rate * b_grad\n",
    "        \n",
    "        # calculating the cost using MSE (Mean Squared Error)\n",
    "        cost = np.mean(np.square(y_true - y_predicted)) \n",
    "        \n",
    "        # recording the cost and epoch at every 10th iteration \n",
    "        if i%10==0:\n",
    "            cost_list.append(cost)\n",
    "            epoch_list.append(i)\n",
    "        \n",
    "    return w, b, cost, cost_list, epoch_list"
   ]
  },
  {
   "cell_type": "code",
   "execution_count": 21,
   "id": "bfed4a0f",
   "metadata": {},
   "outputs": [
    {
     "data": {
      "text/plain": [
       "(array([0.70712464, 0.67456527]), -0.23034857438407427, 0.0068641890429808105)"
      ]
     },
     "execution_count": 21,
     "metadata": {},
     "output_type": "execute_result"
    }
   ],
   "source": [
    "# calling the function with 500 epochs\n",
    "\n",
    "w, b, cost, cost_list, epoch_list = batch_gradient_descent(scaled_X,scaled_y.reshape(scaled_y.shape[0],),500)\n",
    "w, b, cost"
   ]
  },
  {
   "cell_type": "markdown",
   "id": "762067c2",
   "metadata": {},
   "source": [
    "##### Now plotting a chart to see how the cost is reducing at each `epoch`"
   ]
  },
  {
   "cell_type": "code",
   "execution_count": 22,
   "id": "31d7e9ed",
   "metadata": {},
   "outputs": [
    {
     "data": {
      "image/png": "[encoded data removed]",
      "text/plain": [
       "<Figure size 640x480 with 1 Axes>"
      ]
     },
     "metadata": {},
     "output_type": "display_data"
    }
   ],
   "source": [
    "plt.plot(epoch_list,cost_list)\n",
    "plt.xlabel(\"epoch\")\n",
    "plt.ylabel(\"cost\")\n",
    "plt.title(\"Cost at each epoch\")\n",
    "plt.show()"
   ]
  },
  {
   "cell_type": "markdown",
   "id": "93b51e9a",
   "metadata": {},
   "source": [
    "**Lets do some predictions now.**"
   ]
  },
  {
   "cell_type": "code",
   "execution_count": 23,
   "id": "354f405b",
   "metadata": {},
   "outputs": [],
   "source": [
    "# Here we will transform the area and number of bedroom to be scaled\n",
    "\n",
    "def predict(area,bedrooms,w,b):\n",
    "    scaled_X = sx.transform([[area, bedrooms]])[0]\n",
    "    # here w1 = w[0] , w2 = w[1], w3 = w[2] and bias is b\n",
    "    # equation for price is w1*area + w2*bedrooms + w3*age + bias\n",
    "    # scaled_X[0] is area\n",
    "    # scaled_X[1] is bedrooms\n",
    "    # scaled_X[2] is age\n",
    "    \n",
    "    \n",
    "    scaled_price = w[0] * scaled_X[0] + w[1] * scaled_X[1] + b\n",
    "    # once we get price prediction we need to to rescal it back to original value\n",
    "    # also since it returns 2D array, to get single value we need to do value[0][0]\n",
    "    \n",
    "    # Now we need to reverse transform the scaled price for this we use inverse_transform()\n",
    "    return sy.inverse_transform([[scaled_price]])[0][0]"
   ]
  },
  {
   "cell_type": "code",
   "execution_count": 27,
   "id": "14e9dee1",
   "metadata": {},
   "outputs": [
    {
     "data": {
      "text/plain": [
       "128.45484403267596"
      ]
     },
     "execution_count": 27,
     "metadata": {},
     "output_type": "execute_result"
    }
   ],
   "source": [
    "# Let's predicting with 4 bedroom and 2600 sqft area\n",
    "\n",
    "predict(2600, 4, w, b)"
   ]
  },
  {
   "cell_type": "code",
   "execution_count": 28,
   "id": "66cba485",
   "metadata": {},
   "outputs": [
    {
     "data": {
      "text/plain": [
       "30.253094462442355"
      ]
     },
     "execution_count": 28,
     "metadata": {},
     "output_type": "execute_result"
    }
   ],
   "source": [
    "predict(1000,2,w,b)"
   ]
  },
  {
   "cell_type": "markdown",
   "id": "a4ddd373",
   "metadata": {},
   "source": [
    "#### Now applying `Stochastic Gradient Descent`"
   ]
  },
  {
   "cell_type": "code",
   "execution_count": 29,
   "id": "be32a38e",
   "metadata": {},
   "outputs": [
    {
     "data": {
      "text/plain": [
       "6"
      ]
     },
     "execution_count": 29,
     "metadata": {},
     "output_type": "execute_result"
    }
   ],
   "source": [
    "# we will use random libary to pick random training sample.\n",
    "# randit gives random number between two numbers specified in the argument\n",
    "# Here we are using a random value between 0 and 6\n",
    "\n",
    "import random\n",
    "random.randint(0,6) "
   ]
  },
  {
   "cell_type": "code",
   "execution_count": 30,
   "id": "7255f252",
   "metadata": {},
   "outputs": [],
   "source": [
    "def stochastic_gradient_descent(X, y_true, epochs, learning_rate = 0.01):\n",
    " \n",
    "    number_of_features = X.shape[1]\n",
    "    # numpy array with 1 row and columns equal to number of features. In \n",
    "    # our case number_of_features = 3 (area, bedroom and age)\n",
    "    w = np.ones(shape=(number_of_features)) \n",
    "    b = 0\n",
    "    total_samples = X.shape[0]\n",
    "    \n",
    "    cost_list = []\n",
    "    epoch_list = []\n",
    "    \n",
    "    for i in range(epochs):    \n",
    "        random_index = random.randint(0,total_samples-1) # random index from total samples\n",
    "        sample_x = X[random_index]\n",
    "        sample_y = y_true[random_index]\n",
    "        \n",
    "        y_predicted = np.dot(w, sample_x.T) + b\n",
    "    \n",
    "        w_grad = -(2/total_samples)*(sample_x.T.dot(sample_y-y_predicted))\n",
    "        b_grad = -(2/total_samples)*(sample_y-y_predicted)\n",
    "        \n",
    "        w = w - learning_rate * w_grad\n",
    "        b = b - learning_rate * b_grad\n",
    "        \n",
    "        cost = np.square(sample_y-y_predicted)\n",
    "        \n",
    "        if i%100==0: # at every 100th iteration record the cost and epoch value\n",
    "            cost_list.append(cost)\n",
    "            epoch_list.append(i)\n",
    "        \n",
    "    return w, b, cost, cost_list, epoch_list"
   ]
  },
  {
   "cell_type": "code",
   "execution_count": 32,
   "id": "9943ef78",
   "metadata": {},
   "outputs": [
    {
     "data": {
      "text/plain": [
       "(array([0.70909884, 0.67610634]), -0.23240074389719145, 0.01132591114434825)"
      ]
     },
     "execution_count": 32,
     "metadata": {},
     "output_type": "execute_result"
    }
   ],
   "source": [
    "# calling the function with 10000 epochs\n",
    "\n",
    "w_sgd, b_sgd, cost_sgd, cost_list_sgd, epoch_list_sgd = stochastic_gradient_descent(scaled_X,scaled_y.reshape(scaled_y.shape[0],),10000)\n",
    "w_sgd, b_sgd, cost_sgd"
   ]
  },
  {
   "cell_type": "markdown",
   "id": "9000caba",
   "metadata": {},
   "source": [
    "**Compare this with weights and bias that we got using gradient descent. They both of quite similar.**"
   ]
  },
  {
   "cell_type": "code",
   "execution_count": 33,
   "id": "2ef90d4e",
   "metadata": {},
   "outputs": [
    {
     "data": {
      "text/plain": [
       "(array([0.70712464, 0.67456527]), -0.23034857438407427, 0.0068641890429808105)"
      ]
     },
     "execution_count": 33,
     "metadata": {},
     "output_type": "execute_result"
    }
   ],
   "source": [
    "w,b,cost"
   ]
  },
  {
   "cell_type": "markdown",
   "id": "bdb6c353",
   "metadata": {},
   "source": [
    "#### Doing plotting"
   ]
  },
  {
   "cell_type": "code",
   "execution_count": 34,
   "id": "7d254168",
   "metadata": {},
   "outputs": [
    {
     "data": {
      "image/png": "[encoded data removed]",
      "text/plain": [
       "<Figure size 640x480 with 1 Axes>"
      ]
     },
     "metadata": {},
     "output_type": "display_data"
    }
   ],
   "source": [
    "plt.plot(epoch_list_sgd,cost_list_sgd)\n",
    "plt.xlabel(\"epoch\")\n",
    "plt.ylabel(\"cost\")\n",
    "plt.title(\"Cost at each epoch\")\n",
    "plt.show()"
   ]
  },
  {
   "cell_type": "code",
   "execution_count": 35,
   "id": "49bc80cc",
   "metadata": {},
   "outputs": [
    {
     "data": {
      "text/plain": [
       "128.49925817504777"
      ]
     },
     "execution_count": 35,
     "metadata": {},
     "output_type": "execute_result"
    }
   ],
   "source": [
    "# Let's predicting with 4 bedroom and 2600 sqft area\n",
    "\n",
    "predict(2600, 4, w_sgd, b_sgd)"
   ]
  },
  {
   "cell_type": "code",
   "execution_count": 36,
   "id": "2e1b0b99",
   "metadata": {},
   "outputs": [
    {
     "data": {
      "text/plain": [
       "30.046443091443198"
      ]
     },
     "execution_count": 36,
     "metadata": {},
     "output_type": "execute_result"
    }
   ],
   "source": [
    "predict(1000,2,w_sgd, b_sgd)"
   ]
  },
  {
   "cell_type": "code",
   "execution_count": null,
   "id": "1dfe27c2",
   "metadata": {},
   "outputs": [],
   "source": []
  }
 ],
 "metadata": {
  "kernelspec": {
   "display_name": "Python 3 (ipykernel)",
   "language": "python",
   "name": "python3"
  },
  "language_info": {
   "codemirror_mode": {
    "name": "ipython",
    "version": 3
   },
   "file_extension": ".py",
   "mimetype": "text/x-python",
   "name": "python",
   "nbconvert_exporter": "python",
   "pygments_lexer": "ipython3",
   "version": "3.9.15"
  }
 },
 "nbformat": 4,
 "nbformat_minor": 5
}
