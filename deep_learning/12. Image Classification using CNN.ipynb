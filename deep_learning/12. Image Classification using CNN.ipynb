{
 "cells": [
  {
   "cell_type": "markdown",
   "id": "35826fb4",
   "metadata": {},
   "source": [
    "### Small Image Classification Using Convolutional Neural Network (CNN)\n",
    "\n",
    "\n",
    "- In this notebook, we will classify small images `cifar10` dataset from `tensorflow keras` datasets. \n",
    "- There are total `10` classes as shown below. \n",
    "\n",
    "<img src=\"images/cnn/cifar.png\" width=800>\n",
    "\n",
    "- The dataset has `60000` images of `32 X 32` in `10` classes, with `6000` images per class. There are `50000` training and `10000` test images.\n",
    "- We will use `CNN` for classification.\n",
    "- The dataset is divided into five training batches, and one test batch each with `10000` images. The test batch contains exactly `1000` randomly selected images from each class.\n",
    "- The training batches contain images in random order but some training batches may contain more images from one class than another. Between them the training batches contain exactly `5000` images from each class.\n",
    "\n",
    "<hr style=\"border:2px solid black\">"
   ]
  },
  {
   "cell_type": "code",
   "execution_count": 42,
   "id": "10dc226f",
   "metadata": {},
   "outputs": [],
   "source": [
    "# Importing the libraries\n",
    "\n",
    "import tensorflow as tf\n",
    "from tensorflow.keras import datasets, layers, models\n",
    "import matplotlib.pyplot as plt\n",
    "%matplotlib inline\n",
    "import numpy as np\n",
    "\n",
    "import warnings\n",
    "warnings.filterwarnings(\"ignore\")"
   ]
  },
  {
   "cell_type": "markdown",
   "id": "921484fa",
   "metadata": {},
   "source": [
    "**Loading the dataset**"
   ]
  },
  {
   "cell_type": "code",
   "execution_count": 2,
   "id": "02581f39",
   "metadata": {},
   "outputs": [
    {
     "name": "stdout",
     "output_type": "stream",
     "text": [
      "Downloading data from https://www.cs.toronto.edu/~kriz/cifar-10-python.tar.gz\n",
      "170498071/170498071 [==============================] - 17s 0us/step\n"
     ]
    },
    {
     "data": {
      "text/plain": [
       "((50000, 32, 32, 3), (10000, 32, 32, 3))"
      ]
     },
     "execution_count": 2,
     "metadata": {},
     "output_type": "execute_result"
    }
   ],
   "source": [
    "# The \"load_data()\" returns the training and test set\n",
    "# (50000, 32, 32, 3) means there are 50000 images of 32X32 pixels and each image and 3 is for rgb channels\n",
    "\n",
    "(X_train, y_train), (X_test,y_test) = datasets.cifar10.load_data()\n",
    "X_train.shape, X_test.shape"
   ]
  },
  {
   "cell_type": "code",
   "execution_count": 3,
   "id": "205b8fbb",
   "metadata": {},
   "outputs": [
    {
     "data": {
      "text/plain": [
       "array([[[ 59,  62,  63],\n",
       "        [ 43,  46,  45],\n",
       "        [ 50,  48,  43],\n",
       "        ...,\n",
       "        [158, 132, 108],\n",
       "        [152, 125, 102],\n",
       "        [148, 124, 103]],\n",
       "\n",
       "       [[ 16,  20,  20],\n",
       "        [  0,   0,   0],\n",
       "        [ 18,   8,   0],\n",
       "        ...,\n",
       "        [123,  88,  55],\n",
       "        [119,  83,  50],\n",
       "        [122,  87,  57]],\n",
       "\n",
       "       [[ 25,  24,  21],\n",
       "        [ 16,   7,   0],\n",
       "        [ 49,  27,   8],\n",
       "        ...,\n",
       "        [118,  84,  50],\n",
       "        [120,  84,  50],\n",
       "        [109,  73,  42]],\n",
       "\n",
       "       ...,\n",
       "\n",
       "       [[208, 170,  96],\n",
       "        [201, 153,  34],\n",
       "        [198, 161,  26],\n",
       "        ...,\n",
       "        [160, 133,  70],\n",
       "        [ 56,  31,   7],\n",
       "        [ 53,  34,  20]],\n",
       "\n",
       "       [[180, 139,  96],\n",
       "        [173, 123,  42],\n",
       "        [186, 144,  30],\n",
       "        ...,\n",
       "        [184, 148,  94],\n",
       "        [ 97,  62,  34],\n",
       "        [ 83,  53,  34]],\n",
       "\n",
       "       [[177, 144, 116],\n",
       "        [168, 129,  94],\n",
       "        [179, 142,  87],\n",
       "        ...,\n",
       "        [216, 184, 140],\n",
       "        [151, 118,  84],\n",
       "        [123,  92,  72]]], dtype=uint8)"
      ]
     },
     "execution_count": 3,
     "metadata": {},
     "output_type": "execute_result"
    }
   ],
   "source": [
    "# Checking the training sample of 0th index\n",
    "\n",
    "X_train[0]"
   ]
  },
  {
   "cell_type": "code",
   "execution_count": 6,
   "id": "c681efc3",
   "metadata": {},
   "outputs": [
    {
     "data": {
      "text/plain": [
       "array([[6],\n",
       "       [9],\n",
       "       [9],\n",
       "       [4],\n",
       "       [1]], dtype=uint8)"
      ]
     },
     "execution_count": 6,
     "metadata": {},
     "output_type": "execute_result"
    }
   ],
   "source": [
    "# Checking the values(categories) from the y\n",
    "# Here we are getting 2d arrays but we need just the category\n",
    "\n",
    "y_train[:5]"
   ]
  },
  {
   "cell_type": "code",
   "execution_count": 7,
   "id": "1b301995",
   "metadata": {},
   "outputs": [
    {
     "data": {
      "text/plain": [
       "array([6, 9, 9, 4, 1], dtype=uint8)"
      ]
     },
     "execution_count": 7,
     "metadata": {},
     "output_type": "execute_result"
    }
   ],
   "source": [
    "# So reshaping the y_train\n",
    "# The way we are reshaping is that keeping the 1st dimension (i.e. 10000) as it is so we use \"-1\"\n",
    "# We want to flatten the 2nd dimension so leaving it blank\n",
    "\n",
    "y_train = y_train.reshape(-1, )\n",
    "\n",
    "# Now again checking the first 5 categories\n",
    "# Now we can see an 1d array\n",
    "\n",
    "y_train[:5]"
   ]
  },
  {
   "cell_type": "code",
   "execution_count": 8,
   "id": "bf5bbdf6",
   "metadata": {},
   "outputs": [],
   "source": [
    "# Creating the labels of the classes\n",
    "classes = [\"airplane\",\"automobile\",\"bird\",\"cat\",\"deer\",\"dog\",\"frog\",\"horse\",\"ship\",\"truck\"]"
   ]
  },
  {
   "cell_type": "code",
   "execution_count": 9,
   "id": "0845ccc1",
   "metadata": {},
   "outputs": [
    {
     "data": {
      "text/plain": [
       "'truck'"
      ]
     },
     "execution_count": 9,
     "metadata": {},
     "output_type": "execute_result"
    }
   ],
   "source": [
    "# Now if we pass the array number of the category\n",
    "\n",
    "classes[9]"
   ]
  },
  {
   "cell_type": "code",
   "execution_count": 30,
   "id": "a79abd6a",
   "metadata": {},
   "outputs": [],
   "source": [
    "# Plotting the image\n",
    "# Using the \"imshow()\" of matplotlib for that\n",
    "# Creating a function for that\n",
    "\n",
    "\n",
    "\n",
    "def plot_sample(X, y, index):\n",
    "    plt.figure(figsize=(15,2))\n",
    "    plt.imshow(X[index])\n",
    "    plt.xlabel(classes[y[index]])\n",
    "    plt.show()"
   ]
  },
  {
   "cell_type": "code",
   "execution_count": 31,
   "id": "12745415",
   "metadata": {},
   "outputs": [
    {
     "data": {
      "image/png": "[encoded data removed]",
      "text/plain": [
       "<Figure size 1500x200 with 1 Axes>"
      ]
     },
     "metadata": {},
     "output_type": "display_data"
    }
   ],
   "source": [
    "# Now getting the image of the 0th index of the training sample\n",
    "\n",
    "plot_sample(X_train, y_train, 0)"
   ]
  },
  {
   "cell_type": "code",
   "execution_count": 32,
   "id": "892ee5cc",
   "metadata": {},
   "outputs": [
    {
     "data": {
      "image/png": "[encoded data removed]",
      "text/plain": [
       "<Figure size 1500x200 with 1 Axes>"
      ]
     },
     "metadata": {},
     "output_type": "display_data"
    }
   ],
   "source": [
    "plot_sample(X_train, y_train, 34)"
   ]
  },
  {
   "cell_type": "code",
   "execution_count": 33,
   "id": "b1654950",
   "metadata": {},
   "outputs": [
    {
     "data": {
      "image/png": "[encoded data removed]",
      "text/plain": [
       "<Figure size 1500x200 with 1 Axes>"
      ]
     },
     "metadata": {},
     "output_type": "display_data"
    }
   ],
   "source": [
    "plot_sample(X_train, y_train, 5)"
   ]
  },
  {
   "cell_type": "markdown",
   "id": "7f1d6172",
   "metadata": {},
   "source": [
    "**Normalizing the data**\n",
    "\n",
    "- That is dividing the pixel sizes between `0` to `1` range"
   ]
  },
  {
   "cell_type": "code",
   "execution_count": 19,
   "id": "0db53339",
   "metadata": {},
   "outputs": [],
   "source": [
    "X_train = X_train / 255.0\n",
    "X_test = X_test / 255.0"
   ]
  },
  {
   "cell_type": "markdown",
   "id": "35787945",
   "metadata": {},
   "source": [
    "**Building simple artificial neural network for image classification**\n",
    "\n",
    "- Here we want to check the performance of the `ANN`."
   ]
  },
  {
   "cell_type": "code",
   "execution_count": 20,
   "id": "5307d2e1",
   "metadata": {},
   "outputs": [
    {
     "name": "stdout",
     "output_type": "stream",
     "text": [
      "Epoch 1/5\n",
      "1563/1563 [==============================] - 134s 85ms/step - loss: 1.8158 - accuracy: 0.3542\n",
      "Epoch 2/5\n",
      "1563/1563 [==============================] - 123s 78ms/step - loss: 1.6238 - accuracy: 0.4271\n",
      "Epoch 3/5\n",
      "1563/1563 [==============================] - 117s 75ms/step - loss: 1.5424 - accuracy: 0.4550\n",
      "Epoch 4/5\n",
      "1563/1563 [==============================] - 108s 69ms/step - loss: 1.4824 - accuracy: 0.4800\n",
      "Epoch 5/5\n",
      "1563/1563 [==============================] - 107s 68ms/step - loss: 1.4321 - accuracy: 0.4955\n"
     ]
    },
    {
     "data": {
      "text/plain": [
       "<keras.callbacks.History at 0x25ee0a85910>"
      ]
     },
     "execution_count": 20,
     "metadata": {},
     "output_type": "execute_result"
    }
   ],
   "source": [
    "# Here the input layer is a flatten layer\n",
    "# Then we have 2 hidden layers having 3000 and 1000 neurons respectively\n",
    "# Finaly we have the output layer with 10 categories\n",
    "\n",
    "ann = models.Sequential([\n",
    "        layers.Flatten(input_shape=(32,32,3)),\n",
    "        layers.Dense(3000, activation='relu'),\n",
    "        layers.Dense(1000, activation='relu'),\n",
    "        layers.Dense(10, activation='softmax')    \n",
    "    ])\n",
    "\n",
    "ann.compile(optimizer='SGD',\n",
    "              loss='sparse_categorical_crossentropy',\n",
    "              metrics=['accuracy'])\n",
    "\n",
    "ann.fit(X_train, y_train, epochs=5)"
   ]
  },
  {
   "cell_type": "markdown",
   "id": "33b1b51b",
   "metadata": {},
   "source": [
    "**Here we have used `sparse_categorical_crossentropy` as `loss`**\n",
    "\n",
    "- The difference between this and the `categorical_crossentropy` is:\n",
    "\n",
    "<img src=\"images\\cnn\\loss.png\" width=800>\n",
    "\n",
    "- Whenever we have the variable `y` as `One Hot Encoded` vector as here the image of `ship` which is indexed at `9` and the output `y` is `One Hot Encoded` so we need to use the `categorical_crossentropy`.\n",
    "- But if `y` is directly a value like number `8` as in this case we need to use `sparse_categorical_crossentropy`.\n",
    "\n",
    "\n",
    "<hr style=\"border:2px solid black\">"
   ]
  },
  {
   "cell_type": "code",
   "execution_count": 22,
   "id": "99e57521",
   "metadata": {},
   "outputs": [
    {
     "name": "stdout",
     "output_type": "stream",
     "text": [
      "313/313 [==============================] - 5s 15ms/step - loss: 1.4620 - accuracy: 0.4827\n"
     ]
    },
    {
     "data": {
      "text/plain": [
       "[1.4619860649108887, 0.482699990272522]"
      ]
     },
     "execution_count": 22,
     "metadata": {},
     "output_type": "execute_result"
    }
   ],
   "source": [
    "# Evaluating the model\n",
    "\n",
    "ann.evaluate(X_test,y_test)"
   ]
  },
  {
   "cell_type": "markdown",
   "id": "1535968b",
   "metadata": {},
   "source": [
    "**We can see that at the end of 5 epochs, accuracy is at around `49%` for the training set and `47%` for the test set.**\n",
    "\n",
    "- So the performance of `ANN` on this dataset is really bad."
   ]
  },
  {
   "cell_type": "code",
   "execution_count": 21,
   "id": "7f557469",
   "metadata": {},
   "outputs": [
    {
     "name": "stdout",
     "output_type": "stream",
     "text": [
      "313/313 [==============================] - 5s 17ms/step\n",
      "Classification Report: \n",
      "               precision    recall  f1-score   support\n",
      "\n",
      "           0       0.68      0.43      0.52      1000\n",
      "           1       0.61      0.59      0.60      1000\n",
      "           2       0.44      0.23      0.30      1000\n",
      "           3       0.44      0.18      0.25      1000\n",
      "           4       0.37      0.47      0.41      1000\n",
      "           5       0.49      0.28      0.36      1000\n",
      "           6       0.45      0.66      0.54      1000\n",
      "           7       0.41      0.71      0.52      1000\n",
      "           8       0.61      0.62      0.62      1000\n",
      "           9       0.47      0.67      0.55      1000\n",
      "\n",
      "    accuracy                           0.48     10000\n",
      "   macro avg       0.50      0.48      0.47     10000\n",
      "weighted avg       0.50      0.48      0.47     10000\n",
      "\n"
     ]
    }
   ],
   "source": [
    "# Printing the classification report\n",
    "\n",
    "from sklearn.metrics import confusion_matrix , classification_report\n",
    "\n",
    "y_pred = ann.predict(X_test)\n",
    "y_pred_classes = [np.argmax(element) for element in y_pred]\n",
    "\n",
    "print(\"Classification Report: \\n\", classification_report(y_test, y_pred_classes))"
   ]
  },
  {
   "cell_type": "markdown",
   "id": "8db3dbc1",
   "metadata": {},
   "source": [
    "**Now let us build a convolutional neural network to train our images**"
   ]
  },
  {
   "cell_type": "code",
   "execution_count": 23,
   "id": "fed6fd37",
   "metadata": {},
   "outputs": [],
   "source": [
    "# Here we will have couple of layers \"Convolutional + ReLU\" and \"Pooling\" for Feature Extraction.\n",
    "# Then we will have a Dense Layer for Classification.\n",
    "# Here the 1st cnn layer \"Conv2D()\" is for convolutional layer and the \"MaxPooling()\" is for Pooling layer.\n",
    "# Here we have 32 filters with a filter size of 3X3 used \"kernel_size()\" for that.\n",
    "# The input shape is 32X32X3.\n",
    "# The 2nd cnn layer don't need the input shape as it will detect it itself.\n",
    "# Here the dense layer is the \"Dense()\"\n",
    "# It has 10 as the categories\n",
    "\n",
    "cnn = models.Sequential([\n",
    "    layers.Conv2D(filters=32, kernel_size=(3, 3), activation='relu', input_shape=(32, 32, 3)),\n",
    "    layers.MaxPooling2D((2, 2)),\n",
    "    \n",
    "    layers.Conv2D(filters=64, kernel_size=(3, 3), activation='relu'),\n",
    "    layers.MaxPooling2D((2, 2)),\n",
    "    \n",
    "    layers.Flatten(),\n",
    "    layers.Dense(64, activation='relu'),\n",
    "    layers.Dense(10, activation='softmax')\n",
    "])"
   ]
  },
  {
   "cell_type": "code",
   "execution_count": 24,
   "id": "67aba3df",
   "metadata": {},
   "outputs": [],
   "source": [
    "# Here we use \"adam\" as optimizer and \"sparse_categorical_crossentropy\" as loss\n",
    "\n",
    "cnn.compile(optimizer='adam',\n",
    "              loss='sparse_categorical_crossentropy',\n",
    "              metrics=['accuracy'])"
   ]
  },
  {
   "cell_type": "code",
   "execution_count": 25,
   "id": "453142db",
   "metadata": {},
   "outputs": [
    {
     "name": "stdout",
     "output_type": "stream",
     "text": [
      "Epoch 1/10\n",
      "1563/1563 [==============================] - 48s 30ms/step - loss: 1.4340 - accuracy: 0.4871\n",
      "Epoch 2/10\n",
      "1563/1563 [==============================] - 59s 38ms/step - loss: 1.0985 - accuracy: 0.6177\n",
      "Epoch 3/10\n",
      "1563/1563 [==============================] - 52s 33ms/step - loss: 0.9752 - accuracy: 0.6595\n",
      "Epoch 4/10\n",
      "1563/1563 [==============================] - 49s 31ms/step - loss: 0.8938 - accuracy: 0.6902\n",
      "Epoch 5/10\n",
      "1563/1563 [==============================] - 49s 31ms/step - loss: 0.8322 - accuracy: 0.7113\n",
      "Epoch 6/10\n",
      "1563/1563 [==============================] - 49s 31ms/step - loss: 0.7797 - accuracy: 0.7288\n",
      "Epoch 7/10\n",
      "1563/1563 [==============================] - 51s 32ms/step - loss: 0.7320 - accuracy: 0.7454\n",
      "Epoch 8/10\n",
      "1563/1563 [==============================] - 51s 33ms/step - loss: 0.6867 - accuracy: 0.7629\n",
      "Epoch 9/10\n",
      "1563/1563 [==============================] - 50s 32ms/step - loss: 0.6511 - accuracy: 0.7735\n",
      "Epoch 10/10\n",
      "1563/1563 [==============================] - 51s 33ms/step - loss: 0.6146 - accuracy: 0.7860\n"
     ]
    },
    {
     "data": {
      "text/plain": [
       "<keras.callbacks.History at 0x25ee0fc3220>"
      ]
     },
     "execution_count": 25,
     "metadata": {},
     "output_type": "execute_result"
    }
   ],
   "source": [
    "cnn.fit(X_train, y_train, epochs=10)"
   ]
  },
  {
   "cell_type": "markdown",
   "id": "11377444",
   "metadata": {},
   "source": [
    "**With CNN, at the end 5 epochs, accuracy was at around `71%` which is a significant improvement over `ANN`. At the end of 10 epochs the accuracy is `78%`. CNN's are best for image classification and gives superb accuracy. Also computation is much less compared to simple `ANN` as `maxpooling` reduces the image dimensions while still preserving the features.**"
   ]
  },
  {
   "cell_type": "code",
   "execution_count": 26,
   "id": "8ece0e99",
   "metadata": {},
   "outputs": [
    {
     "name": "stdout",
     "output_type": "stream",
     "text": [
      "313/313 [==============================] - 3s 9ms/step - loss: 0.9426 - accuracy: 0.6918\n"
     ]
    },
    {
     "data": {
      "text/plain": [
       "[0.9425991177558899, 0.6917999982833862]"
      ]
     },
     "execution_count": 26,
     "metadata": {},
     "output_type": "execute_result"
    }
   ],
   "source": [
    "# Evaluating the model\n",
    "\n",
    "cnn.evaluate(X_test,y_test)"
   ]
  },
  {
   "cell_type": "markdown",
   "id": "b1f8428c",
   "metadata": {},
   "source": [
    "**Here for the test data we get around `69%` accuracy instead of the `47%` of the `ANN` model.**"
   ]
  },
  {
   "cell_type": "code",
   "execution_count": 28,
   "id": "c625af4a",
   "metadata": {},
   "outputs": [
    {
     "data": {
      "text/plain": [
       "array([3, 8, 8, 0, 6], dtype=uint8)"
      ]
     },
     "execution_count": 28,
     "metadata": {},
     "output_type": "execute_result"
    }
   ],
   "source": [
    "# We need to reshape our y_test dataset as well\n",
    "\n",
    "y_test = y_test.reshape(-1,)\n",
    "y_test[:5]"
   ]
  },
  {
   "cell_type": "code",
   "execution_count": 34,
   "id": "f56ac458",
   "metadata": {},
   "outputs": [
    {
     "data": {
      "image/png": "[encoded data removed]",
      "text/plain": [
       "<Figure size 1500x200 with 1 Axes>"
      ]
     },
     "metadata": {},
     "output_type": "display_data"
    }
   ],
   "source": [
    "# Getting the 1st indexed image of the test dataset\n",
    "\n",
    "plot_sample(X_test, y_test, 1)"
   ]
  },
  {
   "cell_type": "code",
   "execution_count": 35,
   "id": "102a6e51",
   "metadata": {},
   "outputs": [
    {
     "name": "stdout",
     "output_type": "stream",
     "text": [
      "313/313 [==============================] - 3s 8ms/step\n"
     ]
    },
    {
     "data": {
      "text/plain": [
       "array([[3.2841030e-04, 1.7049543e-04, 8.9553714e-04, 8.2090563e-01,\n",
       "        2.2317973e-04, 9.6516922e-02, 4.3192765e-04, 5.9637066e-04,\n",
       "        7.9721346e-02, 2.1014680e-04],\n",
       "       [7.2050281e-03, 5.4927510e-01, 5.3997783e-06, 3.0849467e-05,\n",
       "        2.1965009e-06, 2.4462504e-06, 7.6415255e-08, 1.2168582e-06,\n",
       "        4.4224414e-01, 1.2335428e-03],\n",
       "       [5.9051692e-01, 1.7502813e-01, 1.7881464e-02, 3.8793996e-02,\n",
       "        2.1729825e-02, 1.2050871e-02, 6.9569977e-04, 9.0739513e-03,\n",
       "        7.4592613e-02, 5.9636496e-02],\n",
       "       [6.1472505e-01, 9.1431148e-02, 1.4112883e-02, 3.3837941e-03,\n",
       "        4.3785833e-03, 2.5295021e-04, 1.7992887e-04, 8.9581103e-05,\n",
       "        2.7127838e-01, 1.6766114e-04],\n",
       "       [3.5038155e-08, 9.6021813e-06, 1.3746957e-03, 2.6052276e-02,\n",
       "        9.4670862e-01, 1.8053850e-03, 2.4029231e-02, 1.8671368e-05,\n",
       "        5.1112949e-07, 1.0904729e-06]], dtype=float32)"
      ]
     },
     "execution_count": 35,
     "metadata": {},
     "output_type": "execute_result"
    }
   ],
   "source": [
    "# Predicting all the test samples and then getting the 1st 5 values\n",
    "\n",
    "y_pred = cnn.predict(X_test)\n",
    "y_pred[:5]"
   ]
  },
  {
   "cell_type": "code",
   "execution_count": 38,
   "id": "d1feb38c",
   "metadata": {},
   "outputs": [
    {
     "data": {
      "text/plain": [
       "[3, 1, 0, 0, 4]"
      ]
     },
     "execution_count": 38,
     "metadata": {},
     "output_type": "execute_result"
    }
   ],
   "source": [
    "# Now as we have used 'softmax' as the final activation function in CNN model so all the values are between 0 and 1\n",
    "# So now we need to use the argmax() to find which index has the highest value\n",
    "\n",
    "y_classes = [np.argmax(element) for element in y_pred]\n",
    "y_classes[:5]"
   ]
  },
  {
   "cell_type": "code",
   "execution_count": 37,
   "id": "d36fd656",
   "metadata": {},
   "outputs": [
    {
     "data": {
      "text/plain": [
       "array([3, 8, 8, 0, 6], dtype=uint8)"
      ]
     },
     "execution_count": 37,
     "metadata": {},
     "output_type": "execute_result"
    }
   ],
   "source": [
    "# Checking the actual categories from test dataset\n",
    "\n",
    "y_test[:5]"
   ]
  },
  {
   "cell_type": "markdown",
   "id": "a91077df",
   "metadata": {},
   "source": [
    "- It will make some errors as the accuracy is of `70%`."
   ]
  },
  {
   "cell_type": "code",
   "execution_count": 39,
   "id": "6991e4e0",
   "metadata": {},
   "outputs": [
    {
     "data": {
      "image/png": "[encoded data removed]",
      "text/plain": [
       "<Figure size 1500x200 with 1 Axes>"
      ]
     },
     "metadata": {},
     "output_type": "display_data"
    }
   ],
   "source": [
    "# Getting the actual image of 3rd\n",
    "\n",
    "plot_sample(X_test, y_test, 3)"
   ]
  },
  {
   "cell_type": "code",
   "execution_count": 41,
   "id": "349567d2",
   "metadata": {},
   "outputs": [
    {
     "data": {
      "text/plain": [
       "'airplane'"
      ]
     },
     "execution_count": 41,
     "metadata": {},
     "output_type": "execute_result"
    }
   ],
   "source": [
    "# Checking the predicted value of the same eliment\n",
    "\n",
    "classes[y_classes[3]]"
   ]
  },
  {
   "cell_type": "code",
   "execution_count": 43,
   "id": "fc855d35",
   "metadata": {},
   "outputs": [
    {
     "name": "stdout",
     "output_type": "stream",
     "text": [
      "Classification Report: \n",
      "               precision    recall  f1-score   support\n",
      "\n",
      "           0       0.74      0.71      0.72      1000\n",
      "           1       0.73      0.88      0.80      1000\n",
      "           2       0.64      0.53      0.58      1000\n",
      "           3       0.46      0.56      0.51      1000\n",
      "           4       0.63      0.68      0.65      1000\n",
      "           5       0.57      0.63      0.60      1000\n",
      "           6       0.84      0.67      0.75      1000\n",
      "           7       0.79      0.72      0.75      1000\n",
      "           8       0.82      0.78      0.80      1000\n",
      "           9       0.79      0.76      0.77      1000\n",
      "\n",
      "    accuracy                           0.69     10000\n",
      "   macro avg       0.70      0.69      0.69     10000\n",
      "weighted avg       0.70      0.69      0.69     10000\n",
      "\n"
     ]
    }
   ],
   "source": [
    "# Printing classification report for cnn\n",
    "\n",
    "print(\"Classification Report: \\n\", classification_report(y_test, y_classes))"
   ]
  },
  {
   "cell_type": "code",
   "execution_count": null,
   "id": "80993fac",
   "metadata": {},
   "outputs": [],
   "source": []
  }
 ],
 "metadata": {
  "kernelspec": {
   "display_name": "Python 3 (ipykernel)",
   "language": "python",
   "name": "python3"
  },
  "language_info": {
   "codemirror_mode": {
    "name": "ipython",
    "version": 3
   },
   "file_extension": ".py",
   "mimetype": "text/x-python",
   "name": "python",
   "nbconvert_exporter": "python",
   "pygments_lexer": "ipython3",
   "version": "3.9.15"
  }
 },
 "nbformat": 4,
 "nbformat_minor": 5
}
