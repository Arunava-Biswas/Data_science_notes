{
 "cells": [
  {
   "cell_type": "markdown",
   "id": "1253c791",
   "metadata": {},
   "source": [
    "### Activation Functions\n",
    "\n",
    "\n",
    "- We can have **Activation Function** in normal neuron network like the following\n",
    "\n",
    "<img src=\"images/activation1.png\" width=800>\n",
    "\n",
    "\n",
    "- We can also have **Activation Function** in neuron network with **hidden layer** like the following\n",
    "\n",
    "<img src=\"images/activation2.png\" width=800>\n",
    "\n",
    "\n",
    "- Now if we remove the **Activation Function** from both the **hidden layer** and **output layer**, then we will get a **Linear Equation** where the output is just a **Weighted Sum** of the input features.\n",
    "\n",
    "<img src=\"images/activation3.png\" width=800>\n",
    "\n",
    "\n",
    "- Now in real life we know that complex problems cannot always be solved using **Linear Equations**.\n",
    "- So to solve this problem we need **Non Linear Equations**.\n",
    "- And **Activation Functions** help in building these **Non Linear Equations**.\n",
    "\n",
    "- In **sigmoid** function we get a smooth curve, it gives a range between 0 to 1.\n",
    "\n",
    "<img src=\"images/activation4.png\" width=800>\n",
    "\n",
    "- There is another function named **tanh**, but instead of giving a range between 0 to 1 it gives a range between -1 to 1.\n",
    "\n",
    "\n",
    "<img src=\"images/activation5.png\" width=800>\n",
    "\n",
    "\n",
    "- **Best practice is use *sigmoid* in output layer and in all other places use *tanh*.** In all other places **tanh** is better than **sigmoid** as it ***calculates the mean of zero*** and ***it centers the data***."
   ]
  },
  {
   "cell_type": "markdown",
   "id": "650cd3f5",
   "metadata": {},
   "source": [
    "- Now the problem with **sigmoid** and **tanh** is when we have **derivative** which represents the slope, and **Non Linear** function at each step where the slope gets changed. The **derivative** tells how much the output changes for a given input.\n",
    "\n",
    "<img src=\"images/activation6.png\" width=800>\n",
    "\n",
    "- So here for higher values like `4` or `-4` the changes in slope for **y** is negligible. This creates a problem in learning process. As if the **derivatives** become close to zero the learning becomes very slow during **Back Propagation**, this is called **Vanishing Gradients** problem.\n",
    "- So remember **sigmoid** and **tanh** has this **Vanishing Gradients** problem as a result the learning process becomes very slow.\n",
    "- To overcome this problem a new **Activation Function** gets created named **ReLU**. Here is the value is less than zero then output is zero and if it is greater than zero then the maximum value (same value) will be taken as output.\n",
    "\n",
    "<img src=\"images/activation7.png\" width=800>\n",
    "\n",
    "- **Remember for hidden layers when not sure about which *Activation Function* to be used set *ReLU* as the default choice**.\n",
    "- It also has the **Vanishing Gradients** problem where the value is less than zero. To overcome this there is another flavor of ***ReLU*** named ***Leaky ReLU***. Here instead of `0` it multiples the close to zero number with `.1`.\n",
    "\n",
    "\n",
    "<img src=\"images/activation8.png\" width=800>\n",
    "\n",
    "\n",
    "\n",
    "**Summary of all the *Activation Functions*:**\n",
    "\n",
    "<img src=\"images/activation9.png\" width=1000>\n",
    "\n",
    "\n",
    "- So it based on the situation which ***Activation Function*** to be used as if which gives the best output."
   ]
  },
  {
   "cell_type": "markdown",
   "id": "ea5c5a2e",
   "metadata": {},
   "source": [
    "### *`sigmoid function`*\n",
    "\n",
    "- It transforms any number in the range between `0` and `1`."
   ]
  },
  {
   "cell_type": "code",
   "execution_count": 1,
   "id": "608f4c36",
   "metadata": {},
   "outputs": [],
   "source": [
    "import math\n",
    "\n",
    "def sigmoid(x):\n",
    "  return 1 / (1 + math.exp(-x))"
   ]
  },
  {
   "cell_type": "code",
   "execution_count": 2,
   "id": "b88028e5",
   "metadata": {},
   "outputs": [
    {
     "data": {
      "text/plain": [
       "1.0"
      ]
     },
     "execution_count": 2,
     "metadata": {},
     "output_type": "execute_result"
    }
   ],
   "source": [
    "# let's check with value 100\n",
    "\n",
    "sigmoid(100)"
   ]
  },
  {
   "cell_type": "code",
   "execution_count": 3,
   "id": "8812ff69",
   "metadata": {},
   "outputs": [
    {
     "data": {
      "text/plain": [
       "0.7310585786300049"
      ]
     },
     "execution_count": 3,
     "metadata": {},
     "output_type": "execute_result"
    }
   ],
   "source": [
    "# let's check with value 1\n",
    "\n",
    "sigmoid(1)"
   ]
  },
  {
   "cell_type": "code",
   "execution_count": 4,
   "id": "6e7f0c11",
   "metadata": {},
   "outputs": [
    {
     "data": {
      "text/plain": [
       "4.780892883885469e-25"
      ]
     },
     "execution_count": 4,
     "metadata": {},
     "output_type": "execute_result"
    }
   ],
   "source": [
    "# let's check with value -56\n",
    "\n",
    "sigmoid(-56)"
   ]
  },
  {
   "cell_type": "markdown",
   "id": "c5b9d871",
   "metadata": {},
   "source": [
    "### *`tanh`*\n",
    "\n",
    "- Here it transforms the value into a range between `-1` and `1`."
   ]
  },
  {
   "cell_type": "code",
   "execution_count": 5,
   "id": "8d134ff3",
   "metadata": {},
   "outputs": [],
   "source": [
    "def tanh(x):\n",
    "  return (math.exp(x) - math.exp(-x)) / (math.exp(x) + math.exp(-x))"
   ]
  },
  {
   "cell_type": "code",
   "execution_count": 6,
   "id": "93033f46",
   "metadata": {},
   "outputs": [
    {
     "data": {
      "text/plain": [
       "1.0"
      ]
     },
     "execution_count": 6,
     "metadata": {},
     "output_type": "execute_result"
    }
   ],
   "source": [
    "# let's check with value 100\n",
    "\n",
    "tanh(100)"
   ]
  },
  {
   "cell_type": "code",
   "execution_count": 7,
   "id": "7c9f327e",
   "metadata": {},
   "outputs": [
    {
     "data": {
      "text/plain": [
       "0.7615941559557649"
      ]
     },
     "execution_count": 7,
     "metadata": {},
     "output_type": "execute_result"
    }
   ],
   "source": [
    "# let's check with value 1\n",
    "\n",
    "tanh(1)"
   ]
  },
  {
   "cell_type": "code",
   "execution_count": 8,
   "id": "463f5f12",
   "metadata": {},
   "outputs": [
    {
     "data": {
      "text/plain": [
       "-1.0"
      ]
     },
     "execution_count": 8,
     "metadata": {},
     "output_type": "execute_result"
    }
   ],
   "source": [
    "# let's check with value -56\n",
    "\n",
    "tanh(-56)"
   ]
  },
  {
   "cell_type": "markdown",
   "id": "ff7c4936",
   "metadata": {},
   "source": [
    "### *`ReLU`*"
   ]
  },
  {
   "cell_type": "code",
   "execution_count": 9,
   "id": "7f32f17e",
   "metadata": {},
   "outputs": [],
   "source": [
    "def relu(x):\n",
    "    return max(0,x)"
   ]
  },
  {
   "cell_type": "code",
   "execution_count": 10,
   "id": "e89304dc",
   "metadata": {},
   "outputs": [
    {
     "data": {
      "text/plain": [
       "100"
      ]
     },
     "execution_count": 10,
     "metadata": {},
     "output_type": "execute_result"
    }
   ],
   "source": [
    "# let's check with value 100\n",
    "\n",
    "relu(100)"
   ]
  },
  {
   "cell_type": "code",
   "execution_count": 11,
   "id": "85c3f63f",
   "metadata": {},
   "outputs": [
    {
     "data": {
      "text/plain": [
       "0"
      ]
     },
     "execution_count": 11,
     "metadata": {},
     "output_type": "execute_result"
    }
   ],
   "source": [
    "# let's check with value -56\n",
    "\n",
    "relu(-56)"
   ]
  },
  {
   "cell_type": "markdown",
   "id": "01ec47c8",
   "metadata": {},
   "source": [
    "### *`Leaky ReLU`*"
   ]
  },
  {
   "cell_type": "code",
   "execution_count": 12,
   "id": "404781e0",
   "metadata": {},
   "outputs": [],
   "source": [
    "def leaky_relu(x):\n",
    "    return max(0.1*x,x)"
   ]
  },
  {
   "cell_type": "code",
   "execution_count": 13,
   "id": "1677a428",
   "metadata": {},
   "outputs": [
    {
     "data": {
      "text/plain": [
       "-10.0"
      ]
     },
     "execution_count": 13,
     "metadata": {},
     "output_type": "execute_result"
    }
   ],
   "source": [
    "# let's check with value -100\n",
    "\n",
    "leaky_relu(-100)"
   ]
  },
  {
   "cell_type": "code",
   "execution_count": 14,
   "id": "f4212ba1",
   "metadata": {},
   "outputs": [
    {
     "data": {
      "text/plain": [
       "8"
      ]
     },
     "execution_count": 14,
     "metadata": {},
     "output_type": "execute_result"
    }
   ],
   "source": [
    "# let's check with value 8\n",
    "\n",
    "leaky_relu(8)"
   ]
  },
  {
   "cell_type": "code",
   "execution_count": null,
   "id": "f485862d",
   "metadata": {},
   "outputs": [],
   "source": []
  }
 ],
 "metadata": {
  "kernelspec": {
   "display_name": "Python 3 (ipykernel)",
   "language": "python",
   "name": "python3"
  },
  "language_info": {
   "codemirror_mode": {
    "name": "ipython",
    "version": 3
   },
   "file_extension": ".py",
   "mimetype": "text/x-python",
   "name": "python",
   "nbconvert_exporter": "python",
   "pygments_lexer": "ipython3",
   "version": "3.9.15"
  },
  "vscode": {
   "interpreter": {
    "hash": "d88adccef03874119331ce636d70485cdda6873ea69091405abee672c4491c25"
   }
  }
 },
 "nbformat": 4,
 "nbformat_minor": 5
}
