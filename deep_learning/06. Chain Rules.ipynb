{
 "cells": [
  {
   "cell_type": "markdown",
   "id": "3e148fc1",
   "metadata": {},
   "source": [
    "### Chain Rule\n",
    "\n",
    "- Here we will use the home pricing set:\n",
    "\n",
    "<img src=\"images/cr1.png\" width=600>\n",
    "\n",
    "- The neural network for the above problem is like the following:\n",
    "\n",
    "<img src=\"images/cr2.png\" width=800>\n",
    "\n",
    "- During training we get the **predicted value** using a sample, then we ffind the **error** and we squared it.\n",
    "\n",
    "<img src=\"images/cr3.png\" width=800>\n",
    "\n",
    "- We do the same for all the samples. Then we get the total squared error and then calculate the **loss**.\n",
    "\n",
    "<img src=\"images/cr4.png\" width=800>\n",
    "\n",
    "- So upto here we are doing the **Forward Pass**. In **Forward Pass** we get the value for **loss**. \n",
    "\n",
    "<img src=\"images/cr5.png\" width=600>\n",
    "\n",
    "- So in short upto here we do the following:\n",
    "\n",
    "<img src=\"images/cr6.png\" width=800>\n",
    "\n",
    "- Then we **Back Propagate** to adjust the **weights** and **bias**.\n",
    "\n",
    "<img src=\"images/cr7.png\" width=800>\n",
    "\n",
    "- Then after one **epoch** we get the following:\n",
    "\n",
    "<img src=\"images/cr8.png\" width=800>\n",
    "\n",
    "- After this we keep going for **epochs** until we reach the **global minima** or the optimal **loss** i.e. minimal **loss** value."
   ]
  },
  {
   "cell_type": "markdown",
   "id": "e2320f76",
   "metadata": {},
   "source": [
    "- So here we are taking a partial derivative of loss with respect to `e`. The derivative of loss with respect to `e` is `2e`.\n",
    "- And the the partial derivative with respect to predicted y **(y-hat)** is `-1`.\n",
    "- Then the partial derivative of **(y-hat)** with respect to **weight1 (w1)** i.e. **area**.\n",
    "\n",
    "<img src=\"images/cr9.png\" width=800>\n",
    "\n",
    "- Now we need to find out the partial derivative of loss with respect to **w1**. As here we are trying to find that **for a given change in w1 what is the change in loss?**\n",
    "- To predict this we do multiplication of all the partial derivatives.\n",
    "\n",
    "<img src=\"images/cr10.png\" width=800>\n",
    "\n",
    "- Here all we are doing is taking the partial derivative in each step and then **Back Propagating** and then multiplying the partial derivative in the second step. So the final outcome will be the **Chain Rule**.\n",
    "\n",
    "<img src=\"images/cr11.png\" width=800>"
   ]
  },
  {
   "cell_type": "markdown",
   "id": "3d3eac28",
   "metadata": {},
   "source": [
    "- We might also have multi layer neural networks like the following:\n",
    "\n",
    "\n",
    "<img src=\"images/cr12.png\" width=800>\n",
    "\n",
    "- Here **w5**, **w7** with respect to **Awareness** and **w2**, **w4** with respect to **Affordability** might be `0` as they may not have any relation between them.\n",
    "- Now say we want to present this neural network in generic way, in terms of mathematics it may be represented as following:\n",
    "\n",
    "<img src=\"images/cr13.png\" width=800>\n",
    "\n",
    "- Here we are having mathematical equations at each step.\n",
    "- This is called **Computation Graph**, i.e. solving these samll problems to solve the actual problem.\n",
    "- Here we want to find for a given change in **x** how much the **z** is changing and that is the partial derivative of **z** with respect to **x**.\n",
    "\n",
    "<img src=\"images/cr14.png\" width=800>\n",
    "\n",
    "- Then we need to find out for a given change in **a** how much the **x** is changing and that is the partial derivative of **x** with respect to **a**.\n",
    "\n",
    "<img src=\"images/cr15.png\" width=800>\n",
    "\n",
    "- So now the partial derivative of **z** with respect to **a** is the **chain rule**.\n",
    "\n",
    "<img src=\"images/cr16.png\" width=800>\n",
    "\n",
    "- Same can be done for **b**, **c** and **d**."
   ]
  },
  {
   "cell_type": "code",
   "execution_count": null,
   "id": "3d2206e2",
   "metadata": {},
   "outputs": [],
   "source": []
  }
 ],
 "metadata": {
  "kernelspec": {
   "display_name": "Python 3 (ipykernel)",
   "language": "python",
   "name": "python3"
  },
  "language_info": {
   "codemirror_mode": {
    "name": "ipython",
    "version": 3
   },
   "file_extension": ".py",
   "mimetype": "text/x-python",
   "name": "python",
   "nbconvert_exporter": "python",
   "pygments_lexer": "ipython3",
   "version": "3.9.15"
  }
 },
 "nbformat": 4,
 "nbformat_minor": 5
}
